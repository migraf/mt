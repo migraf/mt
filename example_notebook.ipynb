{
 "cells": [
  {
   "cell_type": "markdown",
   "metadata": {},
   "source": [
    "# Test Notebook for hyothesis tool\n",
    "\n",
    "### Structure\n",
    "Explanations for the use of the code cells is displayed as text above them. \n",
    "### Executing Code \n",
    "To run a cell either press the play button at the top navigation bar or ctrl + Enter when the cell is selected (shown by an outline around the cell), once variables or parameters are changed the cell needs to be run again"
   ]
  },
  {
   "cell_type": "markdown",
   "metadata": {},
   "source": [
    "### Import all necessary functions"
   ]
  },
  {
   "cell_type": "code",
   "execution_count": 1,
   "metadata": {},
   "outputs": [],
   "source": [
    "%load_ext autoreload\n",
    "%autoreload 2"
   ]
  },
  {
   "cell_type": "code",
   "execution_count": 2,
   "metadata": {
    "pycharm": {
     "is_executing": false
    }
   },
   "outputs": [],
   "source": [
    "import sys\n",
    "import os\n",
    "sys.path.insert(0, os.path.abspath('./analysis'))\n"
   ]
  },
  {
   "cell_type": "code",
   "execution_count": 3,
   "metadata": {},
   "outputs": [
    {
     "name": "stderr",
     "output_type": "stream",
     "text": [
      "C:\\Users\\micha\\Anaconda3\\envs\\CoronaDataDash\\lib\\site-packages\\umap\\spectral.py:4: NumbaDeprecationWarning:\n",
      "\n",
      "\u001b[1mNo direct replacement for 'numba.targets' available. Visit https://gitter.im/numba/numba-dev to request help. Thanks!\u001b[0m\n",
      "\n"
     ]
    }
   ],
   "source": [
    "from analysis import *\n",
    "from analysis import scatter_correlation_plot"
   ]
  },
  {
   "cell_type": "markdown",
   "metadata": {},
   "source": [
    "Load an  excel sheet as data, based on absolute path, replace the file path \"D:\\\\hypothesis\\\\...\" with path to new sars excel sheet"
   ]
  },
  {
   "cell_type": "code",
   "execution_count": 4,
   "metadata": {
    "pycharm": {
     "is_executing": false
    }
   },
   "outputs": [],
   "source": [
    "df_sars = load_data(\"15052020SARS-CoV-2_final.xlsx\",\n",
    "                              two_sheets=False)"
   ]
  },
  {
   "cell_type": "code",
   "execution_count": 27,
   "metadata": {},
   "outputs": [
    {
     "data": {
      "text/plain": [
       "Kohorte B                                          Int64\n",
       "Patienten-ID                                      string\n",
       "Eingabedatum                                      string\n",
       "Zeit von Symptombeginn bis sample collection 2     Int64\n",
       "Zeit von Test bis Sample collection 2              Int64\n",
       "                                                   ...  \n",
       "NMI 229E S1                                        Int64\n",
       "NMI NL63 N                                         Int64\n",
       "NMI NL63 S1                                        Int64\n",
       "NMI OC43 N                                         Int64\n",
       "NMI OC43 S1                                        Int64\n",
       "Length: 372, dtype: object"
      ]
     },
     "execution_count": 27,
     "metadata": {},
     "output_type": "execute_result"
    }
   ],
   "source": [
    "df_sars.dtypes"
   ]
  },
  {
   "cell_type": "markdown",
   "metadata": {},
   "source": [
    "## $\\color{red}{\\text{All cells above this need to be executed before starting to analyze}}$"
   ]
  },
  {
   "cell_type": "markdown",
   "metadata": {},
   "source": [
    "## Statisitical Tests"
   ]
  },
  {
   "cell_type": "markdown",
   "metadata": {},
   "source": [
    "### Test Battery  \n",
    "Define a list of variables of interest, perform appropriate tests for all combinations of variables in this list, generates a file called output.txt in the same directory as the notebook"
   ]
  },
  {
   "cell_type": "code",
   "execution_count": 24,
   "metadata": {
    "pycharm": {
     "is_executing": false
    }
   },
   "outputs": [],
   "source": [
    "variables = ['VII.1A', 'VII.1B', 'VII.1C', 'VII.2A', 'VII.2B', 'VII.2C', 'Geschlecht', 'III.6',\n",
    "             'III.7', 'III.8', 'III.10', 'III.11', 'III.12', 'IX.1A', 'IX.2A', 'IX.1B', 'IX.2B', 'IX.1C', 'IX.2C' ]"
   ]
  },
  {
   "cell_type": "code",
   "execution_count": 25,
   "metadata": {
    "pycharm": {
     "is_executing": false
    }
   },
   "outputs": [
    {
     "name": "stdout",
     "output_type": "stream",
     "text": [
      "H-Value: 0.007930451384254644, p-Value: 0.9290397244524612\n",
      "H-Value: 13.378828063765463, p-Value: 0.0038850396714162575\n",
      "                    Mäßig      Sehr     Wenig  Überhaupt nicht\n",
      "Mäßig           -1.000000  0.202970  0.250681         1.000000\n",
      "Sehr             0.202970 -1.000000  0.001972         1.000000\n",
      "Wenig            0.250681  0.001972 -1.000000         0.385225\n",
      "Überhaupt nicht  1.000000  1.000000  0.385225        -1.000000\n",
      "H-Value: 2.8606884907681938, p-Value: 0.41360670319022497\n",
      "H-Value: 8.124016772491942, p-Value: 0.04351699331606912\n",
      "                    Mäßig      Sehr     Wenig  Überhaupt nicht\n",
      "Mäßig           -1.000000  1.000000  1.000000         0.540161\n",
      "Sehr             1.000000 -1.000000  0.772625         0.038062\n",
      "Wenig            1.000000  0.772625 -1.000000         1.000000\n",
      "Überhaupt nicht  0.540161  0.038062  1.000000        -1.000000\n",
      "H-Value: 3.677999856924045, p-Value: 0.2983992616796254\n",
      "H-Value: 6.349057732000164, p-Value: 0.09580919446797496\n",
      "H-Value: 0.7974034504191354, p-Value: 0.8500879925365775\n",
      "H-Value: 2.8578240733721465, p-Value: 0.942960374502745\n",
      "H-Value: 14.196621399255482, p-Value: 0.43516771222000905\n",
      "H-Value: nan, p-Value: nan\n",
      "H-Value: nan, p-Value: nan\n",
      "H-Value: nan, p-Value: nan\n",
      "H-Value: 7.515590701145381, p-Value: 0.6760366628491599\n",
      "H-Value: 0.000979004959419238, p-Value: 0.9750390190235376\n",
      "H-Value: 9.925656917504014, p-Value: 0.019208765434004762\n",
      "                    Mäßig      Sehr     Wenig  Überhaupt nicht\n",
      "Mäßig           -1.000000  0.183049  0.911565              1.0\n",
      "Sehr             0.183049 -1.000000  0.012449              1.0\n",
      "Wenig            0.911565  0.012449 -1.000000              1.0\n",
      "Überhaupt nicht  1.000000  1.000000  1.000000             -1.0\n",
      "H-Value: 3.783985584285184, p-Value: 0.2857543791235015\n",
      "H-Value: 11.142914406397056, p-Value: 0.0109776595046743\n",
      "                    Mäßig      Sehr     Wenig  Überhaupt nicht\n",
      "Mäßig           -1.000000  0.427996  1.000000         0.433119\n",
      "Sehr             0.427996 -1.000000  0.259793         0.006707\n",
      "Wenig            1.000000  0.259793 -1.000000         1.000000\n",
      "Überhaupt nicht  0.433119  0.006707  1.000000        -1.000000\n",
      "H-Value: 2.7192907349699733, p-Value: 0.43695898420125745\n",
      "H-Value: 5.436369521221448, p-Value: 0.14249434741039504\n",
      "H-Value: 2.3944224981117044, p-Value: 0.49467371742548827\n",
      "H-Value: 4.568306196582252, p-Value: 0.8025610233388811\n",
      "H-Value: 17.680104033257035, p-Value: 0.2217411161939629\n",
      "H-Value: nan, p-Value: nan\n",
      "H-Value: nan, p-Value: nan\n",
      "H-Value: nan, p-Value: nan\n",
      "H-Value: 8.914869961379193, p-Value: 0.5402013906663771\n",
      "H-Value: 0.6346264029382611, p-Value: 0.42566337973775425\n",
      "H-Value: 17.493243170844156, p-Value: 0.0005594312167539935\n",
      "                    Mäßig      Sehr     Wenig  Überhaupt nicht\n",
      "Mäßig           -1.000000  0.011383  0.844716          1.00000\n",
      "Sehr             0.011383 -1.000000  0.000597          0.15001\n",
      "Wenig            0.844716  0.000597 -1.000000          1.00000\n",
      "Überhaupt nicht  1.000000  0.150010  1.000000         -1.00000\n",
      "H-Value: 3.6175936040674017, p-Value: 0.3058278193170321\n",
      "H-Value: 26.092010366997865, p-Value: 9.123564977429998e-06\n",
      "                    Mäßig      Sehr     Wenig  Überhaupt nicht\n",
      "Mäßig           -1.000000  1.000000  0.684683         0.000127\n",
      "Sehr             1.000000 -1.000000  0.248010         0.000228\n",
      "Wenig            0.684683  0.248010 -1.000000         0.169626\n",
      "Überhaupt nicht  0.000127  0.000228  0.169626        -1.000000\n",
      "H-Value: 2.278666274531465, p-Value: 0.5166201980633585\n",
      "H-Value: 12.699822669864085, p-Value: 0.005332842098549022\n",
      "                    Mäßig      Sehr     Wenig  Überhaupt nicht\n",
      "Mäßig           -1.000000  0.010117  1.000000         1.000000\n",
      "Sehr             0.010117 -1.000000  0.312113         0.014855\n",
      "Wenig            1.000000  0.312113 -1.000000         1.000000\n",
      "Überhaupt nicht  1.000000  0.014855  1.000000        -1.000000\n",
      "H-Value: 3.509720980039506, p-Value: 0.3195035291489136\n",
      "H-Value: 5.9118731246379586, p-Value: 0.6571028683690742\n",
      "H-Value: 10.522764764170747, p-Value: 0.7230523714562404\n",
      "H-Value: nan, p-Value: nan\n",
      "H-Value: nan, p-Value: nan\n",
      "H-Value: nan, p-Value: nan\n",
      "H-Value: 5.952873887412806, p-Value: 0.8192069059399236\n",
      "H-Value: 2.0099129427991183, p-Value: 0.15627428545096161\n",
      "H-Value: 2.760702194028955, p-Value: 0.43000995736767056\n",
      "H-Value: 3.0028849583517787, p-Value: 0.3911805862800577\n",
      "H-Value: 4.081216489012862, p-Value: 0.25282671151227054\n",
      "H-Value: 2.6663375662313173, p-Value: 0.4459782162494308\n",
      "H-Value: 2.3533740531028338, p-Value: 0.5023730346772861\n",
      "H-Value: 0.8441711732676223, p-Value: 0.8388752719864857\n",
      "H-Value: 5.960792950734084, p-Value: 0.6516238038027081\n",
      "H-Value: 22.01763466555455, p-Value: 0.07825275307908007\n",
      "H-Value: nan, p-Value: nan\n",
      "H-Value: nan, p-Value: nan\n",
      "H-Value: nan, p-Value: nan\n",
      "H-Value: 6.796089171450237, p-Value: 0.7445449486000226\n",
      "H-Value: 1.2258959788238943, p-Value: 0.2682066596517914\n",
      "H-Value: 1.0577750088550377, p-Value: 0.7872758753262437\n",
      "H-Value: 5.222956970099966, p-Value: 0.15618044676995782\n",
      "H-Value: 3.250308778327685, p-Value: 0.35461883307129094\n",
      "H-Value: 3.970358979347955, p-Value: 0.2646826643975451\n",
      "H-Value: 1.6019996326899435, p-Value: 0.658936501433951\n",
      "H-Value: 1.2283584577851476, p-Value: 0.7462111244643571\n",
      "H-Value: 5.96647852274461, p-Value: 0.6509869361934034\n",
      "H-Value: 19.313729048047296, p-Value: 0.15330445657201242\n",
      "H-Value: nan, p-Value: nan\n",
      "H-Value: nan, p-Value: nan\n",
      "H-Value: nan, p-Value: nan\n",
      "H-Value: 8.514624433164013, p-Value: 0.5787007332546692\n",
      "H-Value: 3.5155878780389807, p-Value: 0.06079408540352988\n",
      "H-Value: 1.3416255834002482, p-Value: 0.7192731957076379\n",
      "H-Value: 2.302191596395333, p-Value: 0.5121011853112147\n",
      "H-Value: 2.560939235965293, p-Value: 0.4643785888844302\n",
      "H-Value: 2.4040006978739803, p-Value: 0.4928903285620445\n",
      "H-Value: 0.7402916913895031, p-Value: 0.8636884648563783\n",
      "H-Value: 3.7777786677446965, p-Value: 0.2864814462156389\n",
      "H-Value: 6.02927965290239, p-Value: 0.6439519945588101\n",
      "H-Value: 17.184810260798304, p-Value: 0.2464630337790441\n",
      "H-Value: nan, p-Value: nan\n",
      "H-Value: nan, p-Value: nan\n",
      "H-Value: nan, p-Value: nan\n",
      "H-Value: 6.90664019181547, p-Value: 0.7342283235875505\n",
      "Chi2: 3.8808809749933535, p-Value: 0.27461744661312987, DoF: 3\n",
      "Chi2: 3.7737898515027255, p-Value: 0.2869495655465382, DoF: 3\n",
      "Chi2: 0.10973468831425352, p-Value: 0.99064416712782, DoF: 3\n",
      "Chi2: 6.3545856203189475, p-Value: 0.09557711430866074, DoF: 3\n",
      "Chi2: 6.494540543168931, p-Value: 0.08987806030062036, DoF: 3\n",
      "Chi2: 4.358434401419476, p-Value: 0.22527056816969046, DoF: 3\n",
      "Chi2: 8.49682688485945, p-Value: 0.3865011774266221, DoF: 8\n",
      "Chi2: 13.68605250958192, p-Value: 0.4733527124315309, DoF: 14\n",
      "Chi2: 16.655648786612154, p-Value: 0.3398629169255761, DoF: 15\n",
      "Chi2: 20.930867015930357, p-Value: 0.5250141788912945, DoF: 22\n",
      "Chi2: 5.488530241355208, p-Value: 0.7043104139323697, DoF: 8\n",
      "Chi2: 12.681407039334783, p-Value: 0.24203413773136426, DoF: 10\n",
      "Chi2: 33.38449876851459, p-Value: 0.00011445148089983774, DoF: 9\n",
      "Chi2: 147.7659886009513, p-Value: 2.558959938462466e-27, DoF: 9\n",
      "Chi2: 15.348965647917588, p-Value: 0.0817857603348553, DoF: 9\n",
      "Chi2: 51.659507404406625, p-Value: 5.242349745945492e-08, DoF: 9\n",
      "Chi2: 16.75301477784269, p-Value: 0.052727179403213524, DoF: 9\n",
      "Chi2: 29.52567724856126, p-Value: 0.20097275770396422, DoF: 24\n",
      "Chi2: 42.68480665315772, p-Value: 0.3156977334810117, DoF: 39\n",
      "Chi2: 42.42614879199519, p-Value: 0.5815945418067963, DoF: 45\n",
      "Chi2: 74.0779044191676, p-Value: 0.23153703737400688, DoF: 66\n",
      "Chi2: 27.290855716452015, p-Value: 0.16143201272001206, DoF: 21\n",
      "Chi2: 30.94641312358277, p-Value: 0.41804501746743394, DoF: 30\n",
      "Chi2: 31.045337090656027, p-Value: 0.0002907769201855959, DoF: 9\n",
      "Chi2: 35.15282841475113, p-Value: 5.599577972177432e-05, DoF: 9\n",
      "Chi2: 12.456952894966875, p-Value: 0.1887565810949771, DoF: 9\n",
      "Chi2: 6.783774019957852, p-Value: 0.6596200860546293, DoF: 9\n",
      "Chi2: 19.827856195332252, p-Value: 0.706522318208088, DoF: 24\n",
      "Chi2: 24.019266965016964, p-Value: 0.9714324097501288, DoF: 39\n",
      "Chi2: 39.99376753332294, p-Value: 0.6835436912243994, DoF: 45\n",
      "Chi2: 64.56988447449984, p-Value: 0.5267941089224752, DoF: 66\n",
      "Chi2: 12.42539923431644, p-Value: 0.9274153959836113, DoF: 21\n",
      "Chi2: 25.95011487159666, p-Value: 0.677675379483913, DoF: 30\n",
      "Chi2: 17.406600586850086, p-Value: 0.0427165678105461, DoF: 9\n",
      "Chi2: 18.08247874688012, p-Value: 0.03422860876262083, DoF: 9\n",
      "Chi2: 20.065833651825262, p-Value: 0.017510439410883948, DoF: 9\n",
      "Chi2: 24.72122330464053, p-Value: 0.4210341371568495, DoF: 24\n",
      "Chi2: 30.789427780944237, p-Value: 0.8231217703310773, DoF: 39\n",
      "Chi2: 52.04700479265321, p-Value: 0.2186629457410419, DoF: 45\n",
      "Chi2: 61.56767678436851, p-Value: 0.6317066895186679, DoF: 66\n",
      "Chi2: 16.721652531399677, p-Value: 0.7278348742115759, DoF: 21\n",
      "Chi2: 31.545729233549253, p-Value: 0.38894724801100866, DoF: 30\n",
      "Chi2: 7.008408306675333, p-Value: 0.6362439369082526, DoF: 9\n",
      "Chi2: 7.6317318672141905, p-Value: 0.5716415394590681, DoF: 9\n",
      "Chi2: 20.184678410684608, p-Value: 0.6862268247504424, DoF: 24\n",
      "Chi2: 39.20219578740587, p-Value: 0.46080797605295837, DoF: 39\n",
      "Chi2: 32.84949567918608, p-Value: 0.9109197335881221, DoF: 45\n",
      "Chi2: 83.01070495447853, p-Value: 0.07685353165319829, DoF: 66\n",
      "Chi2: 23.575822869940517, p-Value: 0.31406144901940636, DoF: 21\n",
      "Chi2: 30.37262923762695, p-Value: 0.4466932119611318, DoF: 30\n"
     ]
    },
    {
     "name": "stdout",
     "output_type": "stream",
     "text": [
      "Chi2: 28.4262324408546, p-Value: 0.0008093246740518938, DoF: 9\n",
      "Chi2: 22.857251277383124, p-Value: 0.5282376469787935, DoF: 24\n",
      "Chi2: 30.036296023000567, p-Value: 0.848029320228605, DoF: 39\n",
      "Chi2: 45.094019129769634, p-Value: 0.46802404011887033, DoF: 45\n",
      "Chi2: 57.870661268556, p-Value: 0.7518169072927764, DoF: 66\n",
      "Chi2: 26.799010461966855, p-Value: 0.17760537964785536, DoF: 21\n",
      "Chi2: 39.14708948060241, p-Value: 0.12246750255730694, DoF: 30\n",
      "Chi2: 14.04084851520749, p-Value: 0.9457223989531827, DoF: 24\n",
      "Chi2: 32.24345029685205, p-Value: 0.7696121399513824, DoF: 39\n",
      "Chi2: 43.60902215839715, p-Value: 0.5309396936585412, DoF: 45\n",
      "Chi2: 71.32786452394724, p-Value: 0.3052018452868949, DoF: 66\n",
      "Chi2: 22.610074979626262, p-Value: 0.3651152474090889, DoF: 21\n",
      "Chi2: 22.696674987199177, p-Value: 0.8275212046605249, DoF: 30\n",
      "Chi2: 191.66933839498597, p-Value: 4.142919705290473e-06, DoF: 112\n",
      "Chi2: 201.13668447293446, p-Value: 4.9819666970866e-06, DoF: 120\n",
      "Chi2: 175.8039437098528, p-Value: 0.4899905119751861, DoF: 176\n",
      "Chi2: 128.5026449991345, p-Value: 3.166128959946811e-06, DoF: 64\n",
      "Chi2: 97.09494805076912, p-Value: 0.09383037460584888, DoF: 80\n",
      "Chi2: 266.9060807897363, p-Value: 0.004781827243150028, DoF: 210\n",
      "Chi2: 389.34289458207525, p-Value: 0.0011334483070262926, DoF: 308\n",
      "Chi2: 194.18876212710578, p-Value: 2.373134926629253e-06, DoF: 112\n",
      "Chi2: 169.60114627303912, p-Value: 0.001954838392409067, DoF: 120\n",
      "Chi2: 348.95435064935066, p-Value: 0.05383702058087003, DoF: 308\n",
      "Chi2: 236.0228062374411, p-Value: 1.39288749585077e-09, DoF: 120\n",
      "Chi2: 367.34368782522193, p-Value: 2.6323053507100816e-22, DoF: 140\n",
      "Chi2: 346.4160861745909, p-Value: 7.58499410895307e-17, DoF: 154\n",
      "Chi2: 256.25282235651554, p-Value: 0.00016263093307314404, DoF: 180\n",
      "Chi2: 82.52395673910826, p-Value: 0.028525432286084614, DoF: 60\n"
     ]
    }
   ],
   "source": [
    "output = test_battery(df_sars, sars_dict, variables, save=True)"
   ]
  },
  {
   "cell_type": "markdown",
   "metadata": {},
   "source": [
    "### Individual Tests\n",
    "Perform individual tests for selected variables"
   ]
  },
  {
   "cell_type": "code",
   "execution_count": 26,
   "metadata": {},
   "outputs": [
    {
     "name": "stdout",
     "output_type": "stream",
     "text": [
      "H-Value: 8.124016772491942, p-Value: 0.04351699331606912\n",
      "                    Mäßig      Sehr     Wenig  Überhaupt nicht\n",
      "Mäßig           -1.000000  1.000000  1.000000         0.540161\n",
      "Sehr             1.000000 -1.000000  0.772625         0.038062\n",
      "Wenig            1.000000  0.772625 -1.000000         1.000000\n",
      "Überhaupt nicht  0.540161  0.038062  1.000000        -1.000000\n"
     ]
    }
   ],
   "source": [
    "kw_result = kruskal_wallis(df_sars, cat_col='III.8', num_col='VII.1A')"
   ]
  },
  {
   "cell_type": "code",
   "execution_count": 27,
   "metadata": {},
   "outputs": [
    {
     "name": "stdout",
     "output_type": "stream",
     "text": [
      "Chi2: 17.406600586850086, p-Value: 0.0427165678105461, DoF: 9\n"
     ]
    }
   ],
   "source": [
    "chi2_result = chi_2(df_sars, 'III.8', 'III.10')"
   ]
  },
  {
   "cell_type": "code",
   "execution_count": 28,
   "metadata": {},
   "outputs": [
    {
     "data": {
      "text/plain": [
       "'Test: Spearman Correlation \\nSpearman Rho: 0.8617975612074316, p-Value: 2.9927999153339284e-39 \\n'"
      ]
     },
     "execution_count": 28,
     "metadata": {},
     "output_type": "execute_result"
    }
   ],
   "source": [
    "numerical_correlation(df_sars, \"VII.1A\", 'VII.1B')"
   ]
  },
  {
   "cell_type": "markdown",
   "metadata": {},
   "source": [
    "## Train Models"
   ]
  },
  {
   "cell_type": "markdown",
   "metadata": {},
   "source": [
    "### Define data included in training the models"
   ]
  },
  {
   "cell_type": "markdown",
   "metadata": {},
   "source": [
    "Iterate over all variables in the data and separate by variable type (categorical, numeric, datetime) and filter out variables with less than the desired number of entries. Includes all categorical and numerical variables if there are enough values available and if they are not specified to be excluded"
   ]
  },
  {
   "cell_type": "code",
   "execution_count": 7,
   "metadata": {
    "pycharm": {
     "is_executing": false
    }
   },
   "outputs": [],
   "source": [
    "# Exclude id and incorrectly identified datetime variable \n",
    "excluded_categorical_columns = ['Patienten-ID', 'III.4b: wenn ja, seit wann(Datum)?', \n",
    "                               'III.2Wann wurde der Abstrich durchgeführt(Datum)?', \"Eingabedatum\",\n",
    "                               'III.18: Bis ungefähr wann hatten Sie Symptome(Datum)?']"
   ]
  },
  {
   "cell_type": "code",
   "execution_count": 25,
   "metadata": {
    "pycharm": {
     "is_executing": false
    }
   },
   "outputs": [],
   "source": [
    "excluded_numerical_columns = [\"Spalte 25\", 'III.8: Hatten Sie Fieber?', 'III.9: Wenn ja, bis zu welcher maximalenTemperatur?']"
   ]
  },
  {
   "cell_type": "code",
   "execution_count": 9,
   "metadata": {
    "pycharm": {
     "is_executing": false
    }
   },
   "outputs": [],
   "source": [
    "# Minimum number of entries for a variable\n",
    "min_available = 20"
   ]
  },
  {
   "cell_type": "markdown",
   "metadata": {},
   "source": [
    "Show the variables included in computation"
   ]
  },
  {
   "cell_type": "code",
   "execution_count": 26,
   "metadata": {},
   "outputs": [
    {
     "name": "stdout",
     "output_type": "stream",
     "text": [
      "Included numerical variables:\n",
      "\n",
      " ['Kohorte B', 'Zeit von Symptombeginn bis sample collection 2', 'Zeit von Test bis Sample collection 2', 'Symptomfreiheit bis Test 2', 'Alter', 'Altersgruppen; 40 Jahre', 'Altersgruppen; 30 Jahre', 'Altersgruppen; 50 Jahre', 'Altersgruppenverteilung 30, 30-49, 50', 'III.6: Haben Sie sich krank gefühlt?', 'III.6: gar nicht vs rest', 'III6: gar nicht/wenig vs. mäßig/sehr', 'III.7: Hatten Sie Husten? 2 2', 'III.7: gar nicht vs rest', 'III7: gar nicht/wenig vs. mäßig/sehr', 'III.8: gar nicht vs rest', 'III.8: gar nicht/wenig vs rest', 'Temp >38.5°C', 'Spalte 26', 'III.10: Hatten Sie Halsschmerzen? 2 2', 'III.10: gar nicht vs rest', 'III.10: gar nicht/wenig vs rest', 'III.11: Hatten Sie Kopfschmerzen? 2 2', 'III.11: gar nicht vs rest', 'III.11: gar nicht/wenig vs rest', 'III.12: Hatten Sie Geruchs- oderGeschmacksstörungen? 2 2', 'III.12: gar nicht vs rest', 'III.12: gar nicht/wenig vs rest', 'III.13: Hatten Sie Luftnot?', 'III.13: gar nicht vs rest', 'III.13: gar nicht/wenig vs rest 2', 'III.14: Litten Sie unterMüdigkeit/Leistungsminderung? 2 2', 'III.14: gar nicht vs rest', 'III.14: gar nicht/wenig vs rest', 'Dauer der Symptome 2', 'VII.1A: OD IgG RBD Peptid rekombinant', 'VII.1B: OD IgG Spike 1 Protein rekombinant', 'VII.1C: OD IgG Nucleocapsid Protein rekombinant', 'VII.2A: OD IgM RBD Peptid rekombinant', 'VII.2B: OD IgM Spike 1 Protein rekombinant', 'VII.2C: OD IgM Nucleocapsid Protein rekombinant', 'VII.3A: OD IgA RBD Peptid rekombinant', 'VII.3B: OD IgA Spike 1 Protein rekombinant', 'VII.3C: OD IgA Nucleocapsid Protein rekombinant', 'VIII.1A: Bewertung IgG RBD Peptid rekombinant', 'VIII.1B: Bewertung IgG Spike 1 Protein rekombinant', 'VIII.1C: Bewertung IgG Nucleocapsid Protein rekombinant', 'VIII.2A: Bewertung IgM RBD Peptid rekombinant', 'VIII.2B: Bewertung IgM Spike 1 Protein rekombinant', 'VIII.2C: Bewertung IgM Nucleocapsid Protein rekombinant', 'VIII.3A: Bewertung IgA RBD Peptid rekombinant', 'VIII.3B: Bewertung IgA Spike 1 Protein rekombinant', 'VIII.3C: Bewertung IgA Nucleocapsid Protein rekombinant', 'Überhaput Antikörperantwort 0=nein', 'X.1 Größe', 'X.2 Gewicht', 'X.3 BMI 2', 'BMI <25, 25-29, 30', 'Result ES total (0 = neg, 1 = pos.)', '# of positive peptides total', '# of tested peptides total', 'frequency of positive peptides total_new 2', 'Result ES class I (0 = neg, 1 = pos.)', '# of positive peptides class I', '# of tested peptides class I', 'frequency of positive peptides class I_new 2', 'Result ES class II (0 = neg, 1 = pos.)', '# of positive peptides class II', '# of tested peptides class II', 'frequency of positive peptides class II_new 2', 'Result cocktail specific total (0 = neg, 1 = pos.)', 'Result cocktail specific class I (0 = neg, 1 = pos.)', 'Result cocktail specific class II (0 = neg, 1 = pos.)', 'Result cocktail unspecific total (0 = neg, 1 = pos.)', 'Result cocktail unspecific class I (0 = neg, 1 = pos.)', 'Result cocktail unspecific class II (0 = neg, 1 = pos.)', 'DR_P01 (0 = neg., 1 = pos.)', 'DR_P02 (0 = neg., 1 = pos.)', 'DR_P03 (0 = neg., 1 = pos.)', 'DR_P04 (0 = neg., 1 = pos.)', 'DR_P05 (0 = neg., 1 = pos.)', 'DR_P06 (0 = neg., 1 = pos.)', 'DR_P07 (0 = neg., 1 = pos.)', 'DR_P08 (0 = neg., 1 = pos.)', 'DR_P09 (0 = neg., 1 = pos.)', 'DR_P10 (0 = neg., 1 = pos.)', 'DR_P11 (0 = neg., 1 = pos.)', 'DR_P12 (0 = neg., 1 = pos.)', 'DR_P13 (0 = neg., 1 = pos.)', 'DR_P14 (0 = neg., 1 = pos.)', 'DR_P15 (0 = neg., 1 = pos.)', 'DR_P16 (0 = neg., 1 = pos.)', 'DR_P17 (0 = neg., 1 = pos.)', 'DR_P18 (0 = neg., 1 = pos.)', 'DR_P19 (0 = neg., 1 = pos.)', 'DR_P20 (0 = neg., 1 = pos.)', 'DR_P01 mean calc spot count', 'DR_P16 mean calc spot count', 'cocktail specific class I mean calc spot count', 'cocktail specific class II mean calc spot count', 'cocktail unspecific class I mean calc spot count', 'cocktail unspecific class II mean calc spot count', 'cocktail class I combined', 'Coktail class II combined', 'HLA A01', 'HLA A02', 'HLA A03', 'HLA A11', 'HLA A23', 'HLA A24', 'HLA A25', 'HLA A26', 'HLA A29', 'HLA A30', 'HLA A31', 'HLA A32', 'HLA A68', 'HLA A33', 'HLA B07', 'HLA B08', 'HLA B13', 'HLA B14', 'HLA B15', 'HLA B18', 'HLA B27', 'HLA B35', 'HLA B37', 'HLA B38', 'HLA B39', 'HLA B40', 'HLA B41', 'HLA B44', 'HLA B49', 'HLA B50', 'HLA B51', 'HLA B55', 'HLA B47', 'HLA B52', 'HLA B56', 'HLA B57', 'HLA B58', 'HLA B53', 'HLA B45', 'HLA C01', 'HLA C02', 'HLA C03', 'HLA C04', 'HLA C05', 'HLA C06', 'HLA C07', 'HLA C08', 'HLA C12', 'HLA C14', 'HLA C15', 'HLA C16', 'HLA C17', 'SARS-CoV-2 Ak roche', 'Bewertung SARS-CoV-2 Ak roche 2', 'SARS-CoV-2 IgA Euroimmun', 'Bewertung SARS-CoV-2 IgA Euroimmun 2', 'SARS-CoV-2 IgG Euroimmun', 'Bewertung SARS-CoV-2 IgG Euroimmun 2', 'AK negativ in beiden', 'NMI 229E N', 'NMI 229E S1', 'NMI NL63 N', 'NMI NL63 S1', 'NMI OC43 N', 'NMI OC43 S1']\n",
      "\n",
      "\n",
      "Included categorical variables:\n",
      "\n",
      " ['Geschlecht', 'Ethnische Herkunft', 'III.1 Wurden Sie positiv auf SARS-CoV-2getestet?', 'III.3a Wurden Sie vorher negativ auf SARS-CoV-2getestet? 2 2', 'III.4a Hatten Sie während der SARS-CoV-2-Infektion Symptome? 2', 'III.15: Hatten Sie andere Symptome?', 'III.16a: Mussten Sie zur Behandlung stationär imKrankenhaus aufgenommen werden? 2', 'III.17: Mussten Sie beatmet werden? 2', 'IV.1: Wurden Sie in dieser Saison gegen Grippegeimpft? 2', 'IV.2: Sind Sie gegen Masern geimpft? 2', 'IV.3: Wurden Sie gegen Pneumokokken geimpft? 2', 'IV.4a: Haben Sie eine Autoimmunerkrankung (bspw.Asthma, Rheuma)? 2', 'IV.5: Nehmen Sie eine Immunsuppression ein (z.B.Kortison)?', 'IV.6a: Gibt es in ihrer FamilieAutoimmunerkrankungen?', 'IV.6b: Wenn ja, welcheund wer?', 'IV.7: Haben Sie Bluthochdruck? 2', 'IV.8: Haben Sie andere Herzkreislauferkrankungen(z.B. Herzinfarkt)? 2', 'IV.9: Haben Sie eine Blutzuckererkrankung? 2', 'IV.10: Haben Sie eine chronischeLungenerkrankung? 2', 'IV.11: Haben Sie eine chronische Lebererkrankung? 2', 'IV.12a: Haben/Hatten Sie jemals eineKrebserkrankung?', 'IV.13a: Leiden Sie an anderen chronischenErkrankungen?', 'IV.13b: Wenn ja, an welcher?', 'IV.14a: Neben Sie regelmäßig Medikamente ein ? 2', 'IV14b: wenn ja, welche?', 'IV.15: Sind Sie oder waren Sie vor kurzemschwanger? 2', 'IV.16a: Rauchen Sie? Wenn ja, wie viele Zigarettenpro Tag? 2', 'IV.16b:  und seit wie vielen Jahren?', 'V.1a: Waren Sie in den letzten 6 Monaten imAusland? 2', 'V.1b: wenn ja, wo?', 'V.2a: Waren Sie jemals in Asien? 2', 'V.2b: Wenn ja, wo undwann?', 'VI.1a: Sind Sie berufstätig? 2', 'VI.1b: Wenn ja, was machenSie beruflich?', 'VI.2: Sind Arbeitskollegen von Ihnen positiv aufSARS-CoV-2 getestet worden? 2', 'VI.3: Leben Sie allein? 2', 'VI.4: Sind Mitbewohner von Ihnen positiv aufSARS-CoV-2 getestet worden? 2', 'VI.5: Sind Familienmitglieder erkrankt? 2', 'IX.1A HLA', 'IX.2A HLA', 'IX.1B HLA', 'IX.2B HLA', 'IX.1C HLA', 'IX.2C HLA']\n"
     ]
    }
   ],
   "source": [
    "num_columns, cat_columns = find_variables(df_sars,\n",
    "                                          excluded_categorical_columns,\n",
    "                                          excluded_numerical_columns,\n",
    "                                          min_available=20,\n",
    "                                          display=True\n",
    "                                         )"
   ]
  },
  {
   "cell_type": "markdown",
   "metadata": {},
   "source": [
    "## Classifier  \n",
    "Train a classifier on a categorical variable with all the data (multi label and binary), calling the following function will use the previously selected data to train a classifier to classify the selected target. After training results will be displayed below.  \n",
    "Setting ```tune_parameter = True``` will likely cause this to run for a long time on typical pc.  \n",
    "Training a classifier to predict a categorical variable and output feature importances can be done in two ways.  \n",
    "  \n",
    "### Example 1:\n",
    "Simply set the target and train a simple version of the model"
   ]
  },
  {
   "cell_type": "code",
   "execution_count": 28,
   "metadata": {},
   "outputs": [
    {
     "name": "stdout",
     "output_type": "stream",
     "text": [
      "0:\tlearn: 0.3144021\ttotal: 5.46ms\tremaining: 213ms\n",
      "1:\tlearn: 0.2442751\ttotal: 36.6ms\tremaining: 696ms\n",
      "2:\tlearn: 0.2346676\ttotal: 64.8ms\tremaining: 799ms\n",
      "3:\tlearn: 0.1706022\ttotal: 95.4ms\tremaining: 858ms\n",
      "4:\tlearn: 0.1679097\ttotal: 103ms\tremaining: 718ms\n",
      "5:\tlearn: 0.1565096\ttotal: 130ms\tremaining: 736ms\n",
      "6:\tlearn: 0.1474928\ttotal: 159ms\tremaining: 749ms\n",
      "7:\tlearn: 0.1194546\ttotal: 188ms\tremaining: 752ms\n",
      "8:\tlearn: 0.1056326\ttotal: 219ms\tremaining: 753ms\n",
      "9:\tlearn: 0.0976430\ttotal: 251ms\tremaining: 753ms\n",
      "10:\tlearn: 0.0904891\ttotal: 281ms\tremaining: 741ms\n",
      "11:\tlearn: 0.0855047\ttotal: 313ms\tremaining: 731ms\n",
      "12:\tlearn: 0.0802027\ttotal: 344ms\tremaining: 715ms\n",
      "13:\tlearn: 0.0766063\ttotal: 378ms\tremaining: 701ms\n",
      "14:\tlearn: 0.0728123\ttotal: 412ms\tremaining: 686ms\n",
      "15:\tlearn: 0.0705267\ttotal: 442ms\tremaining: 663ms\n",
      "16:\tlearn: 0.0666258\ttotal: 472ms\tremaining: 639ms\n",
      "17:\tlearn: 0.0638958\ttotal: 503ms\tremaining: 614ms\n",
      "18:\tlearn: 0.0606237\ttotal: 532ms\tremaining: 588ms\n",
      "19:\tlearn: 0.0562634\ttotal: 562ms\tremaining: 562ms\n",
      "20:\tlearn: 0.0543928\ttotal: 593ms\tremaining: 537ms\n",
      "21:\tlearn: 0.0519679\ttotal: 625ms\tremaining: 511ms\n",
      "22:\tlearn: 0.0500635\ttotal: 654ms\tremaining: 483ms\n",
      "23:\tlearn: 0.0494056\ttotal: 683ms\tremaining: 455ms\n",
      "24:\tlearn: 0.0480786\ttotal: 712ms\tremaining: 427ms\n",
      "25:\tlearn: 0.0456219\ttotal: 741ms\tremaining: 399ms\n",
      "26:\tlearn: 0.0418412\ttotal: 773ms\tremaining: 372ms\n",
      "27:\tlearn: 0.0405819\ttotal: 804ms\tremaining: 345ms\n",
      "28:\tlearn: 0.0401165\ttotal: 834ms\tremaining: 316ms\n",
      "29:\tlearn: 0.0388377\ttotal: 865ms\tremaining: 288ms\n",
      "30:\tlearn: 0.0381944\ttotal: 894ms\tremaining: 259ms\n",
      "31:\tlearn: 0.0367984\ttotal: 924ms\tremaining: 231ms\n",
      "32:\tlearn: 0.0364557\ttotal: 953ms\tremaining: 202ms\n",
      "33:\tlearn: 0.0355978\ttotal: 984ms\tremaining: 174ms\n",
      "34:\tlearn: 0.0344463\ttotal: 1.01s\tremaining: 145ms\n",
      "35:\tlearn: 0.0332126\ttotal: 1.04s\tremaining: 116ms\n",
      "36:\tlearn: 0.0322457\ttotal: 1.07s\tremaining: 87.2ms\n",
      "37:\tlearn: 0.0310349\ttotal: 1.11s\tremaining: 58.2ms\n",
      "38:\tlearn: 0.0297729\ttotal: 1.14s\tremaining: 29.1ms\n",
      "39:\tlearn: 0.0289599\ttotal: 1.16s\tremaining: 0us\n"
     ]
    },
    {
     "name": "stderr",
     "output_type": "stream",
     "text": [
      "Setting feature_perturbation = \"tree_path_dependent\" because no background data was given.\n"
     ]
    },
    {
     "name": "stdout",
     "output_type": "stream",
     "text": [
      "{'learn': {'MultiClassOneVsAll': 0.028959877728794714}}\n"
     ]
    },
    {
     "data": {
      "image/png": "[encoded data removed]",
      "text/plain": [
       "<Figure size 576x684 with 1 Axes>"
      ]
     },
     "metadata": {
      "needs_background": "light"
     },
     "output_type": "display_data"
    },
    {
     "name": "stdout",
     "output_type": "stream",
     "text": [
      "{'AUC:type=Mu': [0.8333333333333334, 0.8902116402116401, 0.9047619047619048, 0.8955026455026456, 0.8955026455026456, 0.9140211640211641, 0.917989417989418, 0.9444444444444445, 0.9576719576719577, 0.9656084656084656, 0.9576719576719577, 0.9497354497354498, 0.9708994708994708, 0.9708994708994708, 0.955026455026455, 0.9444444444444445, 0.9444444444444445, 0.9523809523809524, 0.955026455026455, 0.9603174603174603, 0.955026455026455, 0.9470899470899471, 0.9391534391534391, 0.9417989417989419, 0.9338624338624338, 0.9391534391534391, 0.9417989417989419, 0.9417989417989419, 0.9417989417989419, 0.9417989417989419, 0.9365079365079364, 0.9391534391534391, 0.9391534391534391, 0.9391534391534391, 0.9338624338624338, 0.9312169312169312, 0.9391534391534391, 0.9365079365079364, 0.9444444444444445, 0.9391534391534391]}\n"
     ]
    },
    {
     "name": "stderr",
     "output_type": "stream",
     "text": [
      "invalid value encountered in true_divide\n"
     ]
    },
    {
     "data": {
      "application/vnd.plotly.v1+json": {
       "config": {
        "plotlyServerURL": "https://plot.ly"
       },
       "data": [
        {
         "type": "heatmap",
         "x": [
          "Class 0",
          "Class 1",
          "Class 2",
          "Class 3"
         ],
         "y": [
          "Class 0",
          "Class 1",
          "Class 2",
          "Class 3"
         ],
         "z": [
          [
           1,
           0,
           null,
           0
          ],
          [
           0,
           1,
           null,
           0
          ],
          [
           0,
           0,
           null,
           0.125
          ],
          [
           0,
           0,
           null,
           0.875
          ]
         ]
        }
       ],
       "layout": {
        "template": {
         "data": {
          "bar": [
           {
            "error_x": {
             "color": "#2a3f5f"
            },
            "error_y": {
             "color": "#2a3f5f"
            },
            "marker": {
             "line": {
              "color": "#E5ECF6",
              "width": 0.5
             }
            },
            "type": "bar"
           }
          ],
          "barpolar": [
           {
            "marker": {
             "line": {
              "color": "#E5ECF6",
              "width": 0.5
             }
            },
            "type": "barpolar"
           }
          ],
          "carpet": [
           {
            "aaxis": {
             "endlinecolor": "#2a3f5f",
             "gridcolor": "white",
             "linecolor": "white",
             "minorgridcolor": "white",
             "startlinecolor": "#2a3f5f"
            },
            "baxis": {
             "endlinecolor": "#2a3f5f",
             "gridcolor": "white",
             "linecolor": "white",
             "minorgridcolor": "white",
             "startlinecolor": "#2a3f5f"
            },
            "type": "carpet"
           }
          ],
          "choropleth": [
           {
            "colorbar": {
             "outlinewidth": 0,
             "ticks": ""
            },
            "type": "choropleth"
           }
          ],
          "contour": [
           {
            "colorbar": {
             "outlinewidth": 0,
             "ticks": ""
            },
            "colorscale": [
             [
              0,
              "#0d0887"
             ],
             [
              0.1111111111111111,
              "#46039f"
             ],
             [
              0.2222222222222222,
              "#7201a8"
             ],
             [
              0.3333333333333333,
              "#9c179e"
             ],
             [
              0.4444444444444444,
              "#bd3786"
             ],
             [
              0.5555555555555556,
              "#d8576b"
             ],
             [
              0.6666666666666666,
              "#ed7953"
             ],
             [
              0.7777777777777778,
              "#fb9f3a"
             ],
             [
              0.8888888888888888,
              "#fdca26"
             ],
             [
              1,
              "#f0f921"
             ]
            ],
            "type": "contour"
           }
          ],
          "contourcarpet": [
           {
            "colorbar": {
             "outlinewidth": 0,
             "ticks": ""
            },
            "type": "contourcarpet"
           }
          ],
          "heatmap": [
           {
            "colorbar": {
             "outlinewidth": 0,
             "ticks": ""
            },
            "colorscale": [
             [
              0,
              "#0d0887"
             ],
             [
              0.1111111111111111,
              "#46039f"
             ],
             [
              0.2222222222222222,
              "#7201a8"
             ],
             [
              0.3333333333333333,
              "#9c179e"
             ],
             [
              0.4444444444444444,
              "#bd3786"
             ],
             [
              0.5555555555555556,
              "#d8576b"
             ],
             [
              0.6666666666666666,
              "#ed7953"
             ],
             [
              0.7777777777777778,
              "#fb9f3a"
             ],
             [
              0.8888888888888888,
              "#fdca26"
             ],
             [
              1,
              "#f0f921"
             ]
            ],
            "type": "heatmap"
           }
          ],
          "heatmapgl": [
           {
            "colorbar": {
             "outlinewidth": 0,
             "ticks": ""
            },
            "colorscale": [
             [
              0,
              "#0d0887"
             ],
             [
              0.1111111111111111,
              "#46039f"
             ],
             [
              0.2222222222222222,
              "#7201a8"
             ],
             [
              0.3333333333333333,
              "#9c179e"
             ],
             [
              0.4444444444444444,
              "#bd3786"
             ],
             [
              0.5555555555555556,
              "#d8576b"
             ],
             [
              0.6666666666666666,
              "#ed7953"
             ],
             [
              0.7777777777777778,
              "#fb9f3a"
             ],
             [
              0.8888888888888888,
              "#fdca26"
             ],
             [
              1,
              "#f0f921"
             ]
            ],
            "type": "heatmapgl"
           }
          ],
          "histogram": [
           {
            "marker": {
             "colorbar": {
              "outlinewidth": 0,
              "ticks": ""
             }
            },
            "type": "histogram"
           }
          ],
          "histogram2d": [
           {
            "colorbar": {
             "outlinewidth": 0,
             "ticks": ""
            },
            "colorscale": [
             [
              0,
              "#0d0887"
             ],
             [
              0.1111111111111111,
              "#46039f"
             ],
             [
              0.2222222222222222,
              "#7201a8"
             ],
             [
              0.3333333333333333,
              "#9c179e"
             ],
             [
              0.4444444444444444,
              "#bd3786"
             ],
             [
              0.5555555555555556,
              "#d8576b"
             ],
             [
              0.6666666666666666,
              "#ed7953"
             ],
             [
              0.7777777777777778,
              "#fb9f3a"
             ],
             [
              0.8888888888888888,
              "#fdca26"
             ],
             [
              1,
              "#f0f921"
             ]
            ],
            "type": "histogram2d"
           }
          ],
          "histogram2dcontour": [
           {
            "colorbar": {
             "outlinewidth": 0,
             "ticks": ""
            },
            "colorscale": [
             [
              0,
              "#0d0887"
             ],
             [
              0.1111111111111111,
              "#46039f"
             ],
             [
              0.2222222222222222,
              "#7201a8"
             ],
             [
              0.3333333333333333,
              "#9c179e"
             ],
             [
              0.4444444444444444,
              "#bd3786"
             ],
             [
              0.5555555555555556,
              "#d8576b"
             ],
             [
              0.6666666666666666,
              "#ed7953"
             ],
             [
              0.7777777777777778,
              "#fb9f3a"
             ],
             [
              0.8888888888888888,
              "#fdca26"
             ],
             [
              1,
              "#f0f921"
             ]
            ],
            "type": "histogram2dcontour"
           }
          ],
          "mesh3d": [
           {
            "colorbar": {
             "outlinewidth": 0,
             "ticks": ""
            },
            "type": "mesh3d"
           }
          ],
          "parcoords": [
           {
            "line": {
             "colorbar": {
              "outlinewidth": 0,
              "ticks": ""
             }
            },
            "type": "parcoords"
           }
          ],
          "pie": [
           {
            "automargin": true,
            "type": "pie"
           }
          ],
          "scatter": [
           {
            "marker": {
             "colorbar": {
              "outlinewidth": 0,
              "ticks": ""
             }
            },
            "type": "scatter"
           }
          ],
          "scatter3d": [
           {
            "line": {
             "colorbar": {
              "outlinewidth": 0,
              "ticks": ""
             }
            },
            "marker": {
             "colorbar": {
              "outlinewidth": 0,
              "ticks": ""
             }
            },
            "type": "scatter3d"
           }
          ],
          "scattercarpet": [
           {
            "marker": {
             "colorbar": {
              "outlinewidth": 0,
              "ticks": ""
             }
            },
            "type": "scattercarpet"
           }
          ],
          "scattergeo": [
           {
            "marker": {
             "colorbar": {
              "outlinewidth": 0,
              "ticks": ""
             }
            },
            "type": "scattergeo"
           }
          ],
          "scattergl": [
           {
            "marker": {
             "colorbar": {
              "outlinewidth": 0,
              "ticks": ""
             }
            },
            "type": "scattergl"
           }
          ],
          "scattermapbox": [
           {
            "marker": {
             "colorbar": {
              "outlinewidth": 0,
              "ticks": ""
             }
            },
            "type": "scattermapbox"
           }
          ],
          "scatterpolar": [
           {
            "marker": {
             "colorbar": {
              "outlinewidth": 0,
              "ticks": ""
             }
            },
            "type": "scatterpolar"
           }
          ],
          "scatterpolargl": [
           {
            "marker": {
             "colorbar": {
              "outlinewidth": 0,
              "ticks": ""
             }
            },
            "type": "scatterpolargl"
           }
          ],
          "scatterternary": [
           {
            "marker": {
             "colorbar": {
              "outlinewidth": 0,
              "ticks": ""
             }
            },
            "type": "scatterternary"
           }
          ],
          "surface": [
           {
            "colorbar": {
             "outlinewidth": 0,
             "ticks": ""
            },
            "colorscale": [
             [
              0,
              "#0d0887"
             ],
             [
              0.1111111111111111,
              "#46039f"
             ],
             [
              0.2222222222222222,
              "#7201a8"
             ],
             [
              0.3333333333333333,
              "#9c179e"
             ],
             [
              0.4444444444444444,
              "#bd3786"
             ],
             [
              0.5555555555555556,
              "#d8576b"
             ],
             [
              0.6666666666666666,
              "#ed7953"
             ],
             [
              0.7777777777777778,
              "#fb9f3a"
             ],
             [
              0.8888888888888888,
              "#fdca26"
             ],
             [
              1,
              "#f0f921"
             ]
            ],
            "type": "surface"
           }
          ],
          "table": [
           {
            "cells": {
             "fill": {
              "color": "#EBF0F8"
             },
             "line": {
              "color": "white"
             }
            },
            "header": {
             "fill": {
              "color": "#C8D4E3"
             },
             "line": {
              "color": "white"
             }
            },
            "type": "table"
           }
          ]
         },
         "layout": {
          "annotationdefaults": {
           "arrowcolor": "#2a3f5f",
           "arrowhead": 0,
           "arrowwidth": 1
          },
          "coloraxis": {
           "colorbar": {
            "outlinewidth": 0,
            "ticks": ""
           }
          },
          "colorscale": {
           "diverging": [
            [
             0,
             "#8e0152"
            ],
            [
             0.1,
             "#c51b7d"
            ],
            [
             0.2,
             "#de77ae"
            ],
            [
             0.3,
             "#f1b6da"
            ],
            [
             0.4,
             "#fde0ef"
            ],
            [
             0.5,
             "#f7f7f7"
            ],
            [
             0.6,
             "#e6f5d0"
            ],
            [
             0.7,
             "#b8e186"
            ],
            [
             0.8,
             "#7fbc41"
            ],
            [
             0.9,
             "#4d9221"
            ],
            [
             1,
             "#276419"
            ]
           ],
           "sequential": [
            [
             0,
             "#0d0887"
            ],
            [
             0.1111111111111111,
             "#46039f"
            ],
            [
             0.2222222222222222,
             "#7201a8"
            ],
            [
             0.3333333333333333,
             "#9c179e"
            ],
            [
             0.4444444444444444,
             "#bd3786"
            ],
            [
             0.5555555555555556,
             "#d8576b"
            ],
            [
             0.6666666666666666,
             "#ed7953"
            ],
            [
             0.7777777777777778,
             "#fb9f3a"
            ],
            [
             0.8888888888888888,
             "#fdca26"
            ],
            [
             1,
             "#f0f921"
            ]
           ],
           "sequentialminus": [
            [
             0,
             "#0d0887"
            ],
            [
             0.1111111111111111,
             "#46039f"
            ],
            [
             0.2222222222222222,
             "#7201a8"
            ],
            [
             0.3333333333333333,
             "#9c179e"
            ],
            [
             0.4444444444444444,
             "#bd3786"
            ],
            [
             0.5555555555555556,
             "#d8576b"
            ],
            [
             0.6666666666666666,
             "#ed7953"
            ],
            [
             0.7777777777777778,
             "#fb9f3a"
            ],
            [
             0.8888888888888888,
             "#fdca26"
            ],
            [
             1,
             "#f0f921"
            ]
           ]
          },
          "colorway": [
           "#636efa",
           "#EF553B",
           "#00cc96",
           "#ab63fa",
           "#FFA15A",
           "#19d3f3",
           "#FF6692",
           "#B6E880",
           "#FF97FF",
           "#FECB52"
          ],
          "font": {
           "color": "#2a3f5f"
          },
          "geo": {
           "bgcolor": "white",
           "lakecolor": "white",
           "landcolor": "#E5ECF6",
           "showlakes": true,
           "showland": true,
           "subunitcolor": "white"
          },
          "hoverlabel": {
           "align": "left"
          },
          "hovermode": "closest",
          "mapbox": {
           "style": "light"
          },
          "paper_bgcolor": "white",
          "plot_bgcolor": "#E5ECF6",
          "polar": {
           "angularaxis": {
            "gridcolor": "white",
            "linecolor": "white",
            "ticks": ""
           },
           "bgcolor": "#E5ECF6",
           "radialaxis": {
            "gridcolor": "white",
            "linecolor": "white",
            "ticks": ""
           }
          },
          "scene": {
           "xaxis": {
            "backgroundcolor": "#E5ECF6",
            "gridcolor": "white",
            "gridwidth": 2,
            "linecolor": "white",
            "showbackground": true,
            "ticks": "",
            "zerolinecolor": "white"
           },
           "yaxis": {
            "backgroundcolor": "#E5ECF6",
            "gridcolor": "white",
            "gridwidth": 2,
            "linecolor": "white",
            "showbackground": true,
            "ticks": "",
            "zerolinecolor": "white"
           },
           "zaxis": {
            "backgroundcolor": "#E5ECF6",
            "gridcolor": "white",
            "gridwidth": 2,
            "linecolor": "white",
            "showbackground": true,
            "ticks": "",
            "zerolinecolor": "white"
           }
          },
          "shapedefaults": {
           "line": {
            "color": "#2a3f5f"
           }
          },
          "ternary": {
           "aaxis": {
            "gridcolor": "white",
            "linecolor": "white",
            "ticks": ""
           },
           "baxis": {
            "gridcolor": "white",
            "linecolor": "white",
            "ticks": ""
           },
           "bgcolor": "#E5ECF6",
           "caxis": {
            "gridcolor": "white",
            "linecolor": "white",
            "ticks": ""
           }
          },
          "title": {
           "x": 0.05
          },
          "xaxis": {
           "automargin": true,
           "gridcolor": "white",
           "linecolor": "white",
           "ticks": "",
           "title": {
            "standoff": 15
           },
           "zerolinecolor": "white",
           "zerolinewidth": 2
          },
          "yaxis": {
           "automargin": true,
           "gridcolor": "white",
           "linecolor": "white",
           "ticks": "",
           "title": {
            "standoff": 15
           },
           "zerolinecolor": "white",
           "zerolinewidth": 2
          }
         }
        }
       }
      },
      "text/html": [
       "<div>\n",
       "        \n",
       "        \n",
       "            <div id=\"94d05bf1-54b5-46d3-b4b0-cdbe530aadd5\" class=\"plotly-graph-div\" style=\"height:525px; width:100%;\"></div>\n",
       "            <script type=\"text/javascript\">\n",
       "                require([\"plotly\"], function(Plotly) {\n",
       "                    window.PLOTLYENV=window.PLOTLYENV || {};\n",
       "                    \n",
       "                if (document.getElementById(\"94d05bf1-54b5-46d3-b4b0-cdbe530aadd5\")) {\n",
       "                    Plotly.newPlot(\n",
       "                        '94d05bf1-54b5-46d3-b4b0-cdbe530aadd5',\n",
       "                        [{\"type\": \"heatmap\", \"x\": [\"Class 0\", \"Class 1\", \"Class 2\", \"Class 3\"], \"y\": [\"Class 0\", \"Class 1\", \"Class 2\", \"Class 3\"], \"z\": [[1.0, 0.0, null, 0.0], [0.0, 1.0, null, 0.0], [0.0, 0.0, null, 0.125], [0.0, 0.0, null, 0.875]]}],\n",
       "                        {\"template\": {\"data\": {\"bar\": [{\"error_x\": {\"color\": \"#2a3f5f\"}, \"error_y\": {\"color\": \"#2a3f5f\"}, \"marker\": {\"line\": {\"color\": \"#E5ECF6\", \"width\": 0.5}}, \"type\": \"bar\"}], \"barpolar\": [{\"marker\": {\"line\": {\"color\": \"#E5ECF6\", \"width\": 0.5}}, \"type\": \"barpolar\"}], \"carpet\": [{\"aaxis\": {\"endlinecolor\": \"#2a3f5f\", \"gridcolor\": \"white\", \"linecolor\": \"white\", \"minorgridcolor\": \"white\", \"startlinecolor\": \"#2a3f5f\"}, \"baxis\": {\"endlinecolor\": \"#2a3f5f\", \"gridcolor\": \"white\", \"linecolor\": \"white\", \"minorgridcolor\": \"white\", \"startlinecolor\": \"#2a3f5f\"}, \"type\": \"carpet\"}], \"choropleth\": [{\"colorbar\": {\"outlinewidth\": 0, \"ticks\": \"\"}, \"type\": \"choropleth\"}], \"contour\": [{\"colorbar\": {\"outlinewidth\": 0, \"ticks\": \"\"}, \"colorscale\": [[0.0, \"#0d0887\"], [0.1111111111111111, \"#46039f\"], [0.2222222222222222, \"#7201a8\"], [0.3333333333333333, \"#9c179e\"], [0.4444444444444444, \"#bd3786\"], [0.5555555555555556, \"#d8576b\"], [0.6666666666666666, \"#ed7953\"], [0.7777777777777778, \"#fb9f3a\"], [0.8888888888888888, \"#fdca26\"], [1.0, \"#f0f921\"]], \"type\": \"contour\"}], \"contourcarpet\": [{\"colorbar\": {\"outlinewidth\": 0, \"ticks\": \"\"}, \"type\": \"contourcarpet\"}], \"heatmap\": [{\"colorbar\": {\"outlinewidth\": 0, \"ticks\": \"\"}, \"colorscale\": [[0.0, \"#0d0887\"], [0.1111111111111111, \"#46039f\"], [0.2222222222222222, \"#7201a8\"], [0.3333333333333333, \"#9c179e\"], [0.4444444444444444, \"#bd3786\"], [0.5555555555555556, \"#d8576b\"], [0.6666666666666666, \"#ed7953\"], [0.7777777777777778, \"#fb9f3a\"], [0.8888888888888888, \"#fdca26\"], [1.0, \"#f0f921\"]], \"type\": \"heatmap\"}], \"heatmapgl\": [{\"colorbar\": {\"outlinewidth\": 0, \"ticks\": \"\"}, \"colorscale\": [[0.0, \"#0d0887\"], [0.1111111111111111, \"#46039f\"], [0.2222222222222222, \"#7201a8\"], [0.3333333333333333, \"#9c179e\"], [0.4444444444444444, \"#bd3786\"], [0.5555555555555556, \"#d8576b\"], [0.6666666666666666, \"#ed7953\"], [0.7777777777777778, \"#fb9f3a\"], [0.8888888888888888, \"#fdca26\"], [1.0, \"#f0f921\"]], \"type\": \"heatmapgl\"}], \"histogram\": [{\"marker\": {\"colorbar\": {\"outlinewidth\": 0, \"ticks\": \"\"}}, \"type\": \"histogram\"}], \"histogram2d\": [{\"colorbar\": {\"outlinewidth\": 0, \"ticks\": \"\"}, \"colorscale\": [[0.0, \"#0d0887\"], [0.1111111111111111, \"#46039f\"], [0.2222222222222222, \"#7201a8\"], [0.3333333333333333, \"#9c179e\"], [0.4444444444444444, \"#bd3786\"], [0.5555555555555556, \"#d8576b\"], [0.6666666666666666, \"#ed7953\"], [0.7777777777777778, \"#fb9f3a\"], [0.8888888888888888, \"#fdca26\"], [1.0, \"#f0f921\"]], \"type\": \"histogram2d\"}], \"histogram2dcontour\": [{\"colorbar\": {\"outlinewidth\": 0, \"ticks\": \"\"}, \"colorscale\": [[0.0, \"#0d0887\"], [0.1111111111111111, \"#46039f\"], [0.2222222222222222, \"#7201a8\"], [0.3333333333333333, \"#9c179e\"], [0.4444444444444444, \"#bd3786\"], [0.5555555555555556, \"#d8576b\"], [0.6666666666666666, \"#ed7953\"], [0.7777777777777778, \"#fb9f3a\"], [0.8888888888888888, \"#fdca26\"], [1.0, \"#f0f921\"]], \"type\": \"histogram2dcontour\"}], \"mesh3d\": [{\"colorbar\": {\"outlinewidth\": 0, \"ticks\": \"\"}, \"type\": \"mesh3d\"}], \"parcoords\": [{\"line\": {\"colorbar\": {\"outlinewidth\": 0, \"ticks\": \"\"}}, \"type\": \"parcoords\"}], \"pie\": [{\"automargin\": true, \"type\": \"pie\"}], \"scatter\": [{\"marker\": {\"colorbar\": {\"outlinewidth\": 0, \"ticks\": \"\"}}, \"type\": \"scatter\"}], \"scatter3d\": [{\"line\": {\"colorbar\": {\"outlinewidth\": 0, \"ticks\": \"\"}}, \"marker\": {\"colorbar\": {\"outlinewidth\": 0, \"ticks\": \"\"}}, \"type\": \"scatter3d\"}], \"scattercarpet\": [{\"marker\": {\"colorbar\": {\"outlinewidth\": 0, \"ticks\": \"\"}}, \"type\": \"scattercarpet\"}], \"scattergeo\": [{\"marker\": {\"colorbar\": {\"outlinewidth\": 0, \"ticks\": \"\"}}, \"type\": \"scattergeo\"}], \"scattergl\": [{\"marker\": {\"colorbar\": {\"outlinewidth\": 0, \"ticks\": \"\"}}, \"type\": \"scattergl\"}], \"scattermapbox\": [{\"marker\": {\"colorbar\": {\"outlinewidth\": 0, \"ticks\": \"\"}}, \"type\": \"scattermapbox\"}], \"scatterpolar\": [{\"marker\": {\"colorbar\": {\"outlinewidth\": 0, \"ticks\": \"\"}}, \"type\": \"scatterpolar\"}], \"scatterpolargl\": [{\"marker\": {\"colorbar\": {\"outlinewidth\": 0, \"ticks\": \"\"}}, \"type\": \"scatterpolargl\"}], \"scatterternary\": [{\"marker\": {\"colorbar\": {\"outlinewidth\": 0, \"ticks\": \"\"}}, \"type\": \"scatterternary\"}], \"surface\": [{\"colorbar\": {\"outlinewidth\": 0, \"ticks\": \"\"}, \"colorscale\": [[0.0, \"#0d0887\"], [0.1111111111111111, \"#46039f\"], [0.2222222222222222, \"#7201a8\"], [0.3333333333333333, \"#9c179e\"], [0.4444444444444444, \"#bd3786\"], [0.5555555555555556, \"#d8576b\"], [0.6666666666666666, \"#ed7953\"], [0.7777777777777778, \"#fb9f3a\"], [0.8888888888888888, \"#fdca26\"], [1.0, \"#f0f921\"]], \"type\": \"surface\"}], \"table\": [{\"cells\": {\"fill\": {\"color\": \"#EBF0F8\"}, \"line\": {\"color\": \"white\"}}, \"header\": {\"fill\": {\"color\": \"#C8D4E3\"}, \"line\": {\"color\": \"white\"}}, \"type\": \"table\"}]}, \"layout\": {\"annotationdefaults\": {\"arrowcolor\": \"#2a3f5f\", \"arrowhead\": 0, \"arrowwidth\": 1}, \"coloraxis\": {\"colorbar\": {\"outlinewidth\": 0, \"ticks\": \"\"}}, \"colorscale\": {\"diverging\": [[0, \"#8e0152\"], [0.1, \"#c51b7d\"], [0.2, \"#de77ae\"], [0.3, \"#f1b6da\"], [0.4, \"#fde0ef\"], [0.5, \"#f7f7f7\"], [0.6, \"#e6f5d0\"], [0.7, \"#b8e186\"], [0.8, \"#7fbc41\"], [0.9, \"#4d9221\"], [1, \"#276419\"]], \"sequential\": [[0.0, \"#0d0887\"], [0.1111111111111111, \"#46039f\"], [0.2222222222222222, \"#7201a8\"], [0.3333333333333333, \"#9c179e\"], [0.4444444444444444, \"#bd3786\"], [0.5555555555555556, \"#d8576b\"], [0.6666666666666666, \"#ed7953\"], [0.7777777777777778, \"#fb9f3a\"], [0.8888888888888888, \"#fdca26\"], [1.0, \"#f0f921\"]], \"sequentialminus\": [[0.0, \"#0d0887\"], [0.1111111111111111, \"#46039f\"], [0.2222222222222222, \"#7201a8\"], [0.3333333333333333, \"#9c179e\"], [0.4444444444444444, \"#bd3786\"], [0.5555555555555556, \"#d8576b\"], [0.6666666666666666, \"#ed7953\"], [0.7777777777777778, \"#fb9f3a\"], [0.8888888888888888, \"#fdca26\"], [1.0, \"#f0f921\"]]}, \"colorway\": [\"#636efa\", \"#EF553B\", \"#00cc96\", \"#ab63fa\", \"#FFA15A\", \"#19d3f3\", \"#FF6692\", \"#B6E880\", \"#FF97FF\", \"#FECB52\"], \"font\": {\"color\": \"#2a3f5f\"}, \"geo\": {\"bgcolor\": \"white\", \"lakecolor\": \"white\", \"landcolor\": \"#E5ECF6\", \"showlakes\": true, \"showland\": true, \"subunitcolor\": \"white\"}, \"hoverlabel\": {\"align\": \"left\"}, \"hovermode\": \"closest\", \"mapbox\": {\"style\": \"light\"}, \"paper_bgcolor\": \"white\", \"plot_bgcolor\": \"#E5ECF6\", \"polar\": {\"angularaxis\": {\"gridcolor\": \"white\", \"linecolor\": \"white\", \"ticks\": \"\"}, \"bgcolor\": \"#E5ECF6\", \"radialaxis\": {\"gridcolor\": \"white\", \"linecolor\": \"white\", \"ticks\": \"\"}}, \"scene\": {\"xaxis\": {\"backgroundcolor\": \"#E5ECF6\", \"gridcolor\": \"white\", \"gridwidth\": 2, \"linecolor\": \"white\", \"showbackground\": true, \"ticks\": \"\", \"zerolinecolor\": \"white\"}, \"yaxis\": {\"backgroundcolor\": \"#E5ECF6\", \"gridcolor\": \"white\", \"gridwidth\": 2, \"linecolor\": \"white\", \"showbackground\": true, \"ticks\": \"\", \"zerolinecolor\": \"white\"}, \"zaxis\": {\"backgroundcolor\": \"#E5ECF6\", \"gridcolor\": \"white\", \"gridwidth\": 2, \"linecolor\": \"white\", \"showbackground\": true, \"ticks\": \"\", \"zerolinecolor\": \"white\"}}, \"shapedefaults\": {\"line\": {\"color\": \"#2a3f5f\"}}, \"ternary\": {\"aaxis\": {\"gridcolor\": \"white\", \"linecolor\": \"white\", \"ticks\": \"\"}, \"baxis\": {\"gridcolor\": \"white\", \"linecolor\": \"white\", \"ticks\": \"\"}, \"bgcolor\": \"#E5ECF6\", \"caxis\": {\"gridcolor\": \"white\", \"linecolor\": \"white\", \"ticks\": \"\"}}, \"title\": {\"x\": 0.05}, \"xaxis\": {\"automargin\": true, \"gridcolor\": \"white\", \"linecolor\": \"white\", \"ticks\": \"\", \"title\": {\"standoff\": 15}, \"zerolinecolor\": \"white\", \"zerolinewidth\": 2}, \"yaxis\": {\"automargin\": true, \"gridcolor\": \"white\", \"linecolor\": \"white\", \"ticks\": \"\", \"title\": {\"standoff\": 15}, \"zerolinecolor\": \"white\", \"zerolinewidth\": 2}}}},\n",
       "                        {\"responsive\": true}\n",
       "                    ).then(function(){\n",
       "                            \n",
       "var gd = document.getElementById('94d05bf1-54b5-46d3-b4b0-cdbe530aadd5');\n",
       "var x = new MutationObserver(function (mutations, observer) {{\n",
       "        var display = window.getComputedStyle(gd).display;\n",
       "        if (!display || display === 'none') {{\n",
       "            console.log([gd, 'removed!']);\n",
       "            Plotly.purge(gd);\n",
       "            observer.disconnect();\n",
       "        }}\n",
       "}});\n",
       "\n",
       "// Listen for the removal of the full notebook cells\n",
       "var notebookContainer = gd.closest('#notebook-container');\n",
       "if (notebookContainer) {{\n",
       "    x.observe(notebookContainer, {childList: true});\n",
       "}}\n",
       "\n",
       "// Listen for the clearing of the current output cell\n",
       "var outputEl = gd.closest('.output');\n",
       "if (outputEl) {{\n",
       "    x.observe(outputEl, {childList: true});\n",
       "}}\n",
       "\n",
       "                        })\n",
       "                };\n",
       "                });\n",
       "            </script>\n",
       "        </div>"
      ]
     },
     "metadata": {},
     "output_type": "display_data"
    }
   ],
   "source": [
    "classififier = gradient_boosting_classifier(df_sars,\n",
    "                                            excluded_numerical_columns,\n",
    "                                            excluded_categorical_columns,\n",
    "                                            target='III.12: Hatten Sie Geruchs- oderGeschmacksstörungen? 2 2',\n",
    "                                            tune_parameters=False)"
   ]
  },
  {
   "cell_type": "markdown",
   "metadata": {},
   "source": [
    "### Example 2:\n",
    "Binary Classifier using catboost models "
   ]
  },
  {
   "cell_type": "code",
   "execution_count": 27,
   "metadata": {
    "scrolled": true
   },
   "outputs": [
    {
     "name": "stdout",
     "output_type": "stream",
     "text": [
      "0:\tlearn: 0.3408533\ttotal: 20.4ms\tremaining: 794ms\n",
      "1:\tlearn: 0.2608006\ttotal: 46.6ms\tremaining: 885ms\n",
      "2:\tlearn: 0.1544155\ttotal: 69.2ms\tremaining: 853ms\n",
      "3:\tlearn: 0.0890205\ttotal: 93.7ms\tremaining: 843ms\n",
      "4:\tlearn: 0.0747622\ttotal: 115ms\tremaining: 808ms\n",
      "5:\tlearn: 0.0564113\ttotal: 136ms\tremaining: 773ms\n",
      "6:\tlearn: 0.0505602\ttotal: 158ms\tremaining: 744ms\n",
      "7:\tlearn: 0.0388904\ttotal: 182ms\tremaining: 730ms\n",
      "8:\tlearn: 0.0317685\ttotal: 203ms\tremaining: 700ms\n",
      "9:\tlearn: 0.0272200\ttotal: 224ms\tremaining: 671ms\n",
      "10:\tlearn: 0.0236253\ttotal: 245ms\tremaining: 645ms\n",
      "11:\tlearn: 0.0200548\ttotal: 264ms\tremaining: 616ms\n",
      "12:\tlearn: 0.0185714\ttotal: 288ms\tremaining: 598ms\n",
      "13:\tlearn: 0.0163917\ttotal: 309ms\tremaining: 573ms\n",
      "14:\tlearn: 0.0144793\ttotal: 329ms\tremaining: 549ms\n",
      "15:\tlearn: 0.0135201\ttotal: 350ms\tremaining: 525ms\n",
      "16:\tlearn: 0.0120960\ttotal: 372ms\tremaining: 503ms\n",
      "17:\tlearn: 0.0113222\ttotal: 392ms\tremaining: 479ms\n",
      "18:\tlearn: 0.0107178\ttotal: 414ms\tremaining: 458ms\n",
      "19:\tlearn: 0.0101284\ttotal: 435ms\tremaining: 435ms\n",
      "20:\tlearn: 0.0090499\ttotal: 458ms\tremaining: 414ms\n",
      "21:\tlearn: 0.0083220\ttotal: 477ms\tremaining: 390ms\n",
      "22:\tlearn: 0.0078352\ttotal: 497ms\tremaining: 367ms\n",
      "23:\tlearn: 0.0076158\ttotal: 517ms\tremaining: 345ms\n",
      "24:\tlearn: 0.0070363\ttotal: 539ms\tremaining: 323ms\n",
      "25:\tlearn: 0.0067600\ttotal: 561ms\tremaining: 302ms\n",
      "26:\tlearn: 0.0064664\ttotal: 579ms\tremaining: 279ms\n",
      "27:\tlearn: 0.0063997\ttotal: 600ms\tremaining: 257ms\n",
      "28:\tlearn: 0.0061921\ttotal: 624ms\tremaining: 237ms\n",
      "29:\tlearn: 0.0059696\ttotal: 647ms\tremaining: 216ms\n",
      "30:\tlearn: 0.0058336\ttotal: 671ms\tremaining: 195ms\n",
      "31:\tlearn: 0.0055994\ttotal: 693ms\tremaining: 173ms\n",
      "32:\tlearn: 0.0053980\ttotal: 715ms\tremaining: 152ms\n",
      "33:\tlearn: 0.0051383\ttotal: 737ms\tremaining: 130ms\n",
      "34:\tlearn: 0.0049280\ttotal: 759ms\tremaining: 108ms\n",
      "35:\tlearn: 0.0047904\ttotal: 779ms\tremaining: 86.5ms\n",
      "36:\tlearn: 0.0046276\ttotal: 801ms\tremaining: 65ms\n",
      "37:\tlearn: 0.0044784\ttotal: 821ms\tremaining: 43.2ms\n",
      "38:\tlearn: 0.0043643\ttotal: 841ms\tremaining: 21.6ms\n",
      "39:\tlearn: 0.0042229\ttotal: 859ms\tremaining: 0us\n",
      "{'learn': {'Logloss': 0.004222873430371451}}\n"
     ]
    },
    {
     "name": "stderr",
     "output_type": "stream",
     "text": [
      "Setting feature_perturbation = \"tree_path_dependent\" because no background data was given.\n",
      "invalid value encountered in greater\n",
      "invalid value encountered in less\n"
     ]
    },
    {
     "data": {
      "image/png": "[encoded data removed]",
      "text/plain": [
       "<Figure size 576x684 with 2 Axes>"
      ]
     },
     "metadata": {
      "needs_background": "light"
     },
     "output_type": "display_data"
    },
    {
     "name": "stdout",
     "output_type": "stream",
     "text": [
      "{'AUC': [0.5885416666666666, 0.6536458333333334, 0.5911458333333334, 0.6614583333333334, 0.6666666666666666, 0.625, 0.6197916666666666, 0.6354166666666666, 0.6302083333333334, 0.6458333333333334, 0.65625, 0.65625, 0.6614583333333334, 0.6875, 0.6979166666666666, 0.6822916666666666, 0.7135416666666666, 0.7135416666666666, 0.7239583333333334, 0.7135416666666666, 0.71875, 0.7447916666666666, 0.75, 0.75, 0.7708333333333334, 0.7708333333333334, 0.7760416666666666, 0.7760416666666666, 0.7760416666666666, 0.78125, 0.7864583333333334, 0.78125, 0.78125, 0.78125, 0.78125, 0.7864583333333334, 0.7760416666666666, 0.78125, 0.7864583333333334, 0.7864583333333334]}\n"
     ]
    },
    {
     "data": {
      "image/png": "[encoded data removed]",
      "text/plain": [
       "<Figure size 1152x576 with 1 Axes>"
      ]
     },
     "metadata": {
      "needs_background": "light"
     },
     "output_type": "display_data"
    }
   ],
   "source": [
    "classifier = gradient_boosting_classifier(df_sars, excluded_numerical_columns, excluded_categorical_columns, 'Temp >38.5°C',\n",
    "                                 tune_parameters=False)"
   ]
  },
  {
   "cell_type": "markdown",
   "metadata": {},
   "source": [
    "## Regressor  \n",
    "To train a model to predict a numerical variable in the data use this function, with the last entry of function paramters setting the target variable\n",
    "### Example 1: Catboost"
   ]
  },
  {
   "cell_type": "code",
   "execution_count": 29,
   "metadata": {},
   "outputs": [
    {
     "ename": "ValueError",
     "evalue": "list.remove(x): x not in list",
     "output_type": "error",
     "traceback": [
      "\u001b[1;31m---------------------------------------------------------------------------\u001b[0m",
      "\u001b[1;31mValueError\u001b[0m                                Traceback (most recent call last)",
      "\u001b[1;32m<ipython-input-29-52d63192d622>\u001b[0m in \u001b[0;36m<module>\u001b[1;34m\u001b[0m\n\u001b[0;32m      3\u001b[0m                             \u001b[0mexcluded_categorical_columns\u001b[0m\u001b[1;33m,\u001b[0m\u001b[1;33m\u001b[0m\u001b[1;33m\u001b[0m\u001b[0m\n\u001b[0;32m      4\u001b[0m                             \u001b[0mtarget\u001b[0m\u001b[1;33m=\u001b[0m\u001b[1;34m'III.9: Wenn ja, bis zu welcher maximalenTemperatur?'\u001b[0m\u001b[1;33m,\u001b[0m\u001b[1;33m\u001b[0m\u001b[1;33m\u001b[0m\u001b[0m\n\u001b[1;32m----> 5\u001b[1;33m                             tune_parameters=False)\n\u001b[0m",
      "\u001b[1;32mC:\\hypothesis\\repositories\\server\\walzLabBackend\\notebook\\analysis\\analysis\\gradient_boosting.py\u001b[0m in \u001b[0;36mgradient_boosting_regressor\u001b[1;34m(data, excluded_num_cols, excluded_cat_cols, target, tune_parameters, test_data)\u001b[0m\n\u001b[0;32m     30\u001b[0m         train_pool, test_pool, x_train, y_train, y_test = create_boost_training_data(data,\n\u001b[0;32m     31\u001b[0m                                                                                      \u001b[0mexcluded_num_cols\u001b[0m\u001b[1;33m,\u001b[0m\u001b[1;33m\u001b[0m\u001b[1;33m\u001b[0m\u001b[0m\n\u001b[1;32m---> 32\u001b[1;33m                                                                                      excluded_cat_cols, target)\n\u001b[0m\u001b[0;32m     33\u001b[0m         \u001b[0mmodel\u001b[0m \u001b[1;33m=\u001b[0m \u001b[0mCatBoostRegressor\u001b[0m\u001b[1;33m(\u001b[0m\u001b[0miterations\u001b[0m\u001b[1;33m=\u001b[0m\u001b[1;36m20\u001b[0m\u001b[1;33m,\u001b[0m \u001b[0mdepth\u001b[0m\u001b[1;33m=\u001b[0m\u001b[1;36m4\u001b[0m\u001b[1;33m,\u001b[0m \u001b[0mlearning_rate\u001b[0m\u001b[1;33m=\u001b[0m\u001b[1;36m1\u001b[0m\u001b[1;33m,\u001b[0m \u001b[0mverbose\u001b[0m\u001b[1;33m=\u001b[0m\u001b[1;32mTrue\u001b[0m\u001b[1;33m)\u001b[0m\u001b[1;33m\u001b[0m\u001b[1;33m\u001b[0m\u001b[0m\n\u001b[0;32m     34\u001b[0m         \u001b[0mmodel\u001b[0m\u001b[1;33m.\u001b[0m\u001b[0mfit\u001b[0m\u001b[1;33m(\u001b[0m\u001b[0mtrain_pool\u001b[0m\u001b[1;33m)\u001b[0m\u001b[1;33m\u001b[0m\u001b[1;33m\u001b[0m\u001b[0m\n",
      "\u001b[1;32mC:\\hypothesis\\repositories\\server\\walzLabBackend\\notebook\\analysis\\analysis\\gradient_boosting.py\u001b[0m in \u001b[0;36mcreate_boost_training_data\u001b[1;34m(data, excluded_numerical_columns, excluded_categorical_columns, target, target_cat, test)\u001b[0m\n\u001b[0;32m    214\u001b[0m \u001b[1;33m\u001b[0m\u001b[0m\n\u001b[0;32m    215\u001b[0m     \u001b[0mselected_cols\u001b[0m \u001b[1;33m=\u001b[0m \u001b[0mnumerical_columns\u001b[0m \u001b[1;33m+\u001b[0m \u001b[0mcategorical_columns\u001b[0m\u001b[1;33m\u001b[0m\u001b[1;33m\u001b[0m\u001b[0m\n\u001b[1;32m--> 216\u001b[1;33m     \u001b[0mselected_cols\u001b[0m\u001b[1;33m.\u001b[0m\u001b[0mremove\u001b[0m\u001b[1;33m(\u001b[0m\u001b[0mtarget\u001b[0m\u001b[1;33m)\u001b[0m\u001b[1;33m\u001b[0m\u001b[1;33m\u001b[0m\u001b[0m\n\u001b[0m\u001b[0;32m    217\u001b[0m     \u001b[1;31m# TODO clean this up to not remove the column from in memory list\u001b[0m\u001b[1;33m\u001b[0m\u001b[1;33m\u001b[0m\u001b[1;33m\u001b[0m\u001b[0m\n\u001b[0;32m    218\u001b[0m \u001b[1;33m\u001b[0m\u001b[0m\n",
      "\u001b[1;31mValueError\u001b[0m: list.remove(x): x not in list"
     ]
    }
   ],
   "source": [
    "cb_regr = gradient_boosting_regressor(df_sars,\n",
    "                            excluded_numerical_columns,\n",
    "                            excluded_categorical_columns,\n",
    "                            target='III.9: Wenn ja, bis zu welcher maximalenTemperatur?',\n",
    "                            tune_parameters=False)"
   ]
  },
  {
   "cell_type": "markdown",
   "metadata": {},
   "source": [
    "### Example 2: Random Forest"
   ]
  },
  {
   "cell_type": "code",
   "execution_count": null,
   "metadata": {},
   "outputs": [],
   "source": [
    "rf_regr = "
   ]
  },
  {
   "cell_type": "markdown",
   "metadata": {},
   "source": [
    "## Clustering\n",
    "\n",
    "Group patients in high dimensional space based on all available data"
   ]
  },
  {
   "cell_type": "markdown",
   "metadata": {},
   "source": [
    "### K-Means  \n",
    "Standard K-Means attempts to cluster points based on n-dimensional euclidean distance"
   ]
  },
  {
   "cell_type": "code",
   "execution_count": 11,
   "metadata": {},
   "outputs": [],
   "source": [
    "# Generate cluster data\n",
    "cluster_data = create_cluster_data(df_sars, num_columns, cat_columns)"
   ]
  },
  {
   "cell_type": "code",
   "execution_count": 39,
   "metadata": {},
   "outputs": [
    {
     "data": {
      "application/vnd.plotly.v1+json": {
       "config": {
        "plotlyServerURL": "https://plot.ly"
       },
       "data": [
        {
         "marker": {
          "size": 4
         },
         "mode": "markers",
         "name": "Cluster 1",
         "type": "scatter3d",
         "x": [
          14947.272684101225,
          10922.073083387972,
          -15785.5440512826,
          4982.325255219757,
          4152.091112587364,
          10402.461413334953,
          1164.6000258592135,
          9842.843854220879,
          530.7940382796477,
          -8693.42207032223,
          20033.251261560425,
          2876.6672368536883,
          470.1519319071357,
          3515.6927722686437,
          70.58030899263119,
          16286.756576995833,
          8669.7076577437,
          11672.860417292617,
          843.9718677723198,
          2686.4115146161903,
          291.44597608711376
         ],
         "y": [
          18815.056790953873,
          14449.2215687112,
          12291.133975505081,
          3884.252619390388,
          14284.87176498404,
          19478.506503185406,
          9018.353297969752,
          14198.77105001397,
          16772.301382425117,
          26460.67713124945,
          19344.131771401084,
          18551.195785114673,
          -6581.5193467756135,
          7908.755334949596,
          15591.498562328288,
          19896.7477155749,
          14043.443819811771,
          3683.00761641922,
          15194.270488561024,
          10334.509509260948,
          15429.04925303073
         ],
         "z": [
          5681.1712833216025,
          -312.03448676828873,
          -8113.894559081598,
          -2474.042193281668,
          -5605.962988113479,
          2701.4638207084026,
          -1964.3362804230542,
          -558.4724444994249,
          -6504.485819589374,
          -169.75436747461254,
          -396.5479551189171,
          1285.7540493146012,
          -3183.2539905728268,
          -2647.5517075581633,
          10968.839964001107,
          6546.155105535337,
          -2818.9021291892327,
          52.21693534857451,
          -4328.011408945636,
          -5934.59537707871,
          -4408.456997412255
         ]
        },
        {
         "marker": {
          "size": 4
         },
         "mode": "markers",
         "name": "Cluster 2",
         "type": "scatter3d",
         "x": [
          5305.4605934826795,
          -17239.15846269375,
          5305.646471776757,
          5301.226196011036,
          -18955.845468875665,
          -18025.34131919599,
          5304.335843687595,
          5305.615768574228,
          5299.891454701587,
          5305.798576303692,
          5305.0864285970965,
          5305.512421719658,
          5305.692109356388,
          -18205.510545080353,
          5305.67402066825,
          5305.710950088113,
          5305.778382772665,
          5305.559933180143,
          5305.774098596207,
          5305.773065032811,
          5305.829339602863,
          5305.175938610264,
          5305.828866147734,
          5305.652336166412,
          5305.739176982401,
          -17837.014462612104,
          5304.737528606105,
          -17785.045239174415,
          5304.81787865398,
          5305.744670413483,
          5305.769746900376,
          -15294.682121581327,
          5305.680616993244,
          5305.746606650203,
          -19763.51370358192,
          5305.725114091177,
          5305.7414185045545,
          5305.777634767011,
          5305.716153118863,
          5305.705998939443,
          5305.50556743728,
          5305.648490438431,
          5305.674644191744,
          5305.741120924855,
          5305.750333049951,
          -18128.485447097548,
          5305.69696382862,
          5305.762111150327,
          5305.720195259253
         ],
         "y": [
          -179.5873666178722,
          -2365.3918119820187,
          -179.60519945723166,
          -179.18071701760155,
          -6637.966861735764,
          -1653.5505757723604,
          -179.4793163282401,
          -179.60224648728968,
          -179.0524686595527,
          -179.61980691878034,
          -179.5514088225566,
          -179.59232993278195,
          -179.6095930661578,
          -7137.590548083843,
          -179.60785650606965,
          -179.61140149374378,
          -179.61787493257248,
          -179.59688877826193,
          -179.61746296960231,
          -179.61736371201988,
          -179.62276487869735,
          -179.56000726345815,
          -179.62271925934692,
          -179.60577403922946,
          -179.6141040974254,
          -4162.1831252768125,
          -179.51789851466776,
          -6963.241799650089,
          -179.5256230981219,
          -179.61463837749184,
          -179.61704550107504,
          -7280.553835644969,
          -179.60848989227247,
          -179.61482419162058,
          -2153.420818375148,
          -179.6127609166662,
          -179.6143264340468,
          -179.6178030214761,
          -179.61190131389773,
          -179.6109260628256,
          -179.591677325908,
          -179.6054055996372,
          -179.60791594856425,
          -179.61429759636488,
          -179.61518219865894,
          -4027.116500162686,
          -179.61005878405615,
          -179.61631247942563,
          -179.61228884521537
         ],
         "z": [
          -1672.4796903879337,
          -4774.140877726349,
          -1672.6796357931305,
          -1667.918803665829,
          -4325.9694928616245,
          -4241.224311620839,
          -1671.26769919631,
          -1672.6465004201502,
          -1666.4801638661024,
          -1672.8434701284846,
          -1672.0763078786083,
          -1672.5353081970084,
          -1672.7289517658282,
          -3561.8234055779512,
          -1672.7094769803236,
          -1672.749231343289,
          -1672.8218272560598,
          -1672.5864253023256,
          -1672.817204890304,
          -1672.8160916422587,
          -1672.87665870435,
          -1672.1727543446832,
          -1672.8761465116936,
          -1672.6861205216608,
          -1672.7795142180776,
          -2825.635129916846,
          -1671.7004507957454,
          -3049.405067729437,
          -1671.7871168771833,
          -1672.78553037136,
          -1672.8125242386668,
          -255.04808717051725,
          -1672.7165805707432,
          -1672.787613951764,
          -5014.706690054016,
          -1672.7644754294115,
          -1672.7820329360404,
          -1672.821020447157,
          -1672.7548377327923,
          -1672.7438992045618,
          -1672.5280086894443,
          -1672.6819913186798,
          -1672.71014212555,
          -1672.7817085805673,
          -1672.791629780002,
          -2987.760491146966,
          -1672.7341734483418,
          -1672.8043038171634,
          -1672.7591818758413
         ]
        },
        {
         "marker": {
          "size": 4
         },
         "mode": "markers",
         "name": "Cluster 3",
         "type": "scatter3d",
         "x": [
          10643.091947943274,
          3788.6277765935097,
          -7198.561820221875,
          4742.710125687865,
          -2594.972891387626,
          -2357.573804355504,
          4491.414627015709,
          4755.000601343767,
          -8503.264654604065,
          -3639.226930328108,
          9211.491130820852,
          2145.6634543416767,
          1269.23392025189,
          2515.97651022677,
          7298.128217062822,
          5223.130541083646,
          3046.264600583364,
          -962.1956189335648,
          2857.9833308089496,
          -3517.128732125824,
          463.9333418215597,
          1120.2910633689562,
          -3110.331734814516,
          1995.4370444395267,
          5438.589830367651,
          -894.331670349925,
          7947.06428365978,
          60.66271664361898,
          -7121.167731737766,
          5027.576924712745,
          9684.94573295723,
          -346.8715025374815,
          2285.7298707288464,
          -3041.104607476197,
          9811.688274904835,
          7072.598131018177,
          -282.44228257414187,
          1784.6307030914713,
          1495.933207478859,
          4497.019882339662,
          7996.885226767967,
          4580.005166715206,
          5960.2085663752805,
          -7026.272267519989,
          3221.581840727111,
          2984.8981029003085,
          -7084.718281061858,
          -5983.091852013617,
          3208.886587800598,
          5154.67436903515,
          6154.497459855296,
          -1668.5485820730523,
          -1377.385376388897,
          -7346.393716958947,
          -9670.004662278641,
          5317.6779659129525,
          173.6398886883054,
          -3507.109327335027,
          8503.538209047576,
          -6050.8538623475315,
          61.73619528997328,
          -5402.063735595905
         ],
         "y": [
          -7825.909790070274,
          4669.0350986709545,
          -3562.949161421072,
          -7500.288027502925,
          -12368.454899864724,
          -5629.383283063655,
          5456.710151726637,
          3421.955280607694,
          -4424.161772460421,
          -3996.414853217227,
          -10250.164461807242,
          -11822.84100759173,
          -11847.733014284808,
          -4021.740310227805,
          8517.240901995641,
          -8817.5906305549,
          -9413.170735701833,
          -9123.97599927195,
          8440.189905537134,
          -7447.951116860791,
          -1431.5031159240764,
          2562.606524760741,
          -6242.941230328191,
          3741.1867885206934,
          -2829.4323066171332,
          -10908.66050370108,
          -11014.954565451255,
          -10686.956944199075,
          2318.949532541319,
          9605.45062569258,
          11121.000633535337,
          152.80988344798067,
          3376.138598619233,
          1471.8254184985922,
          7879.9912315798265,
          -11252.510621550142,
          -7689.276631701507,
          8244.299658011643,
          4942.534355595039,
          -7894.967389261351,
          -5258.2086476151535,
          -8700.852780195804,
          -437.94187136923813,
          3793.880736199098,
          7792.799490458178,
          4775.804315815814,
          4647.555952025702,
          611.6269565551431,
          11825.931208735321,
          8807.690574455639,
          7132.67627866321,
          -3917.412518862734,
          -7181.8602435640905,
          -6550.730154032057,
          -349.58087407481645,
          -9110.492162712104,
          8830.74576278396,
          -8211.00424830999,
          9782.005150022898,
          -4121.2851164607955,
          -1967.3469387348716,
          2087.1097998261203
         ],
         "z": [
          2872.209467565617,
          -2810.6847936568884,
          11251.600727753059,
          -593.1436446927087,
          -9066.57889480857,
          610.9159004358198,
          -2499.375286240404,
          -1749.405146333341,
          9494.53439167421,
          3610.5231260856744,
          -1532.9303731037367,
          10506.78862070492,
          11844.954867147548,
          21370.039298141295,
          -4106.845928710189,
          5318.277696049216,
          -2968.994676250378,
          3366.0216743420265,
          -232.28071067558145,
          10237.599493222344,
          3045.9214591560617,
          -2532.494291561713,
          5678.95964524706,
          15322.568981799926,
          -2731.810747824833,
          6950.166848569821,
          -230.21047967922652,
          14112.326062899458,
          12479.517126924313,
          -1261.3670066862912,
          2224.154205870676,
          -1787.0387582992848,
          -6805.964690434457,
          17638.15627003973,
          -1037.812959369728,
          5904.933343162532,
          14910.077301016334,
          10301.514142637925,
          19716.664658362584,
          595.4410392982825,
          2332.582219290409,
          1693.0188215554738,
          21890.776445447944,
          8428.542452967105,
          18525.064315018455,
          28141.253541562288,
          4339.535833631307,
          8323.62149593246,
          5.983711128710972,
          457.32919565171625,
          -667.7437211496136,
          -839.5295726110623,
          1753.7017642891556,
          11477.2970294242,
          11277.651350448203,
          -2015.461258577784,
          2932.98181684886,
          8591.111442024492,
          5867.439498367416,
          5105.479090384646,
          17901.154395554175,
          9111.67608651462
         ]
        },
        {
         "marker": {
          "size": 4
         },
         "mode": "markers",
         "name": "Cluster 4",
         "type": "scatter3d",
         "x": [
          10774.38622286806,
          19499.470818219765,
          26513.066978268085,
          34727.5009471771,
          30965.168400914703,
          5844.037876005801,
          34889.91646943255,
          11361.39035765532,
          28778.15020561978,
          26190.51793271732,
          27267.803986033687,
          18037.311107441208,
          28699.047918948996,
          19572.299114202007,
          27577.837329081325,
          24655.646078195554,
          15439.669560907601,
          11354.318149264649,
          39922.837607233596,
          30938.601262462314,
          36849.77764218141,
          21347.735339111572,
          34701.1749169277,
          31992.122549908872,
          34230.374703064954,
          23610.754241619732
         ],
         "y": [
          -5503.926804815195,
          -13093.870498310533,
          -15612.23882333287,
          4759.312823383929,
          -13647.991098382101,
          -18583.655959518866,
          -7278.089150199543,
          -6874.959917724508,
          16649.96182269373,
          -6033.395765072144,
          -12107.604812325764,
          10199.92193780982,
          -11292.465892209035,
          13897.207349224005,
          -2947.367147621479,
          -3738.680047787714,
          -3341.168349251612,
          -17620.143507637742,
          -7738.668083741166,
          -11321.046095969356,
          -12564.185386448851,
          6893.173808118689,
          -9838.413091338056,
          -4151.132649597779,
          3775.1379305510955,
          13208.598145615519
         ],
         "z": [
          15735.006233393025,
          -1000.0334008817547,
          -9939.77757423374,
          -3223.0397754387923,
          -4273.990289704892,
          -7900.558674900443,
          -5155.235246602123,
          23151.014837059753,
          2665.130232462927,
          -4826.8611600708455,
          -15856.371155024779,
          1.4664878392834453,
          -14233.547030601329,
          4020.366903840177,
          22439.306188781495,
          -1849.1980936762325,
          -2489.163031202323,
          -7369.7925015261035,
          -7118.945125995342,
          -3710.356902068642,
          -8745.064624084851,
          -3928.1634861012667,
          -8544.033960657945,
          -6600.961762730583,
          -10254.043124164698,
          3139.8288595061563
         ]
        },
        {
         "marker": {
          "size": 4
         },
         "mode": "markers",
         "name": "Cluster 5",
         "type": "scatter3d",
         "x": [
          -15476.001363769008,
          -15753.771739604423,
          -14160.666467594627,
          -11005.764398055277,
          -8520.081361861685,
          -1720.9597434861303,
          -6369.417623933252,
          6014.573393706557,
          -15098.672014384303,
          -15271.194166341333,
          -14879.222356938453,
          -17339.922699698116,
          -13655.923156607563,
          -14864.404201962512,
          -10091.087567119035,
          -6026.327356663597,
          -15781.162563923479,
          -8695.376558478814,
          -16782.015338229532,
          -12031.040621631528,
          -17346.844872128822,
          -14578.761965760867,
          -15586.29396070872,
          -12025.568867294385,
          -7917.310274004255,
          -8550.88493279132,
          -13672.458937724245,
          -11278.057345309868,
          -3537.677911579298,
          -15183.414233777172,
          -14701.103971724198,
          -10356.562141822462,
          -5822.635384850754,
          -10208.450915073201,
          -12333.954768651605,
          -13610.451227081072,
          -6086.437766242359,
          -9345.945214212079,
          -18003.86602065358,
          -13110.949887437553,
          -15372.22311842921,
          -10909.54500227204,
          -11424.994689472253,
          -15554.017840270251,
          -10085.62198687673,
          -14831.572429538137,
          -16423.505565127547,
          -14833.540098673693,
          -14349.83730064907,
          -6673.009139031338,
          -12141.80075700643,
          -14092.486023166397,
          -17382.893963538227,
          -14962.216780201754,
          -7268.436224132,
          -8678.593690996217,
          -9265.24277453507,
          -15083.202968757432,
          -13029.565131748155,
          -10222.871321410636,
          -7894.675340351283,
          -14174.909279802121,
          -16242.5935468316,
          -13189.503364441454,
          -10281.216703571847,
          -14294.308322643794,
          -11158.26585766361,
          -8342.019458638279,
          -4883.301146582784,
          -11495.390702301182,
          -10326.884057504887,
          -9748.060637204308,
          -12791.232984609758,
          -12129.196435824324,
          -11607.367155209513
         ],
         "y": [
          -6280.845579381186,
          1822.64661032118,
          -4608.217116784144,
          3535.9217812296074,
          -8241.737172145697,
          2149.8619299108013,
          7958.917758507113,
          -563.475635419193,
          9206.967681787297,
          -7304.306979671348,
          13004.928386720432,
          4313.588824755168,
          -5883.956454549269,
          -2013.4467445322084,
          -149.7286316273104,
          -8680.542777434674,
          -2626.903661054216,
          617.2360426874064,
          1160.3842873573149,
          -940.3540931754478,
          -4611.684083285862,
          -7038.92842530083,
          910.1608597882517,
          5159.558883747624,
          2276.1601936755214,
          -7317.5211033807,
          -3521.5722438769885,
          13781.892585775771,
          6194.938693491742,
          4657.554230886852,
          2365.383846313702,
          -3146.1692849810997,
          2623.8581212586623,
          5546.696908058592,
          3956.5132374675777,
          1853.0729219148343,
          6916.879939018031,
          -1765.1331855501107,
          1408.6271244380775,
          -5208.837641397102,
          -2457.269094783896,
          -557.9739953330433,
          683.737481652631,
          -655.2034001272688,
          3140.8708382504506,
          1070.4148215334267,
          -7687.531073343664,
          -3280.3150766048047,
          1018.7607642110152,
          -6705.349303615225,
          352.5257580025314,
          -1113.5598269905781,
          3165.5923927872886,
          -6628.288115524063,
          1441.4743202057975,
          -5.335687118814462,
          -4491.260930456669,
          3188.255465767115,
          1202.9342946335355,
          -10148.405827850302,
          2529.5650488839465,
          3843.0492844583355,
          -4679.3528268482205,
          -1704.7468709696761,
          -3787.693222300972,
          -4632.583218660693,
          2297.0345001327014,
          -7641.938828032489,
          -8987.866389739786,
          8357.391666059857,
          -8039.0654138950395,
          -3755.897742400963,
          240.89966230078153,
          -1246.6399771324323,
          2377.760194816506
         ],
         "z": [
          -2462.148794449002,
          -6792.510776006651,
          -440.72298233632137,
          -5829.006299755494,
          -6754.7876495134315,
          -5295.565532819351,
          -4409.044288655058,
          -865.6987946627546,
          -5815.488070212347,
          -852.3003970892865,
          -12331.540659497905,
          -7850.501337365145,
          8539.231515899171,
          -3633.832532720248,
          7263.3381743037535,
          -6986.054972101452,
          -733.5383813293199,
          7276.580932176084,
          -5168.602219340738,
          462.60373831559616,
          -4516.121137676358,
          -1697.8889614761529,
          -5548.097119063105,
          -3296.085660174614,
          3317.821697390225,
          -5349.478548182173,
          5755.220236970095,
          -4497.708191702147,
          -11563.64893865237,
          -6964.410688026317,
          -9161.620205289964,
          3549.749638407842,
          -8476.674353180384,
          -3431.047519537485,
          -12483.530315098735,
          -1890.9703486214653,
          1146.7273228645045,
          1658.7356759571326,
          -3088.6846562801193,
          1635.2332527135159,
          1652.3946030987252,
          4002.7084892136563,
          5090.115955536112,
          -2169.47792948744,
          4375.01148222271,
          -1923.498018013342,
          -5654.98206854873,
          -5157.554237897955,
          -7858.624994259004,
          2263.6790262808768,
          1187.8009592862586,
          2272.6284917327307,
          -10964.148782564896,
          -5746.840106808231,
          -7989.586909262565,
          5516.5991946597915,
          3891.912119231072,
          -8103.557192348082,
          -2224.991306381778,
          -4401.7123712676785,
          -7089.542620061172,
          -6575.978803975875,
          -97.30295906677375,
          2950.4035918721765,
          2630.099085570437,
          1511.8944009055936,
          2166.4971302586973,
          2314.486109034251,
          -3686.3674579454555,
          -9119.449644337814,
          -5789.286853695102,
          4501.721517868948,
          -6332.298141049914,
          4168.141107471297,
          1902.0088477357895
         ]
        }
       ],
       "layout": {
        "template": {
         "data": {
          "bar": [
           {
            "error_x": {
             "color": "#2a3f5f"
            },
            "error_y": {
             "color": "#2a3f5f"
            },
            "marker": {
             "line": {
              "color": "#E5ECF6",
              "width": 0.5
             }
            },
            "type": "bar"
           }
          ],
          "barpolar": [
           {
            "marker": {
             "line": {
              "color": "#E5ECF6",
              "width": 0.5
             }
            },
            "type": "barpolar"
           }
          ],
          "carpet": [
           {
            "aaxis": {
             "endlinecolor": "#2a3f5f",
             "gridcolor": "white",
             "linecolor": "white",
             "minorgridcolor": "white",
             "startlinecolor": "#2a3f5f"
            },
            "baxis": {
             "endlinecolor": "#2a3f5f",
             "gridcolor": "white",
             "linecolor": "white",
             "minorgridcolor": "white",
             "startlinecolor": "#2a3f5f"
            },
            "type": "carpet"
           }
          ],
          "choropleth": [
           {
            "colorbar": {
             "outlinewidth": 0,
             "ticks": ""
            },
            "type": "choropleth"
           }
          ],
          "contour": [
           {
            "colorbar": {
             "outlinewidth": 0,
             "ticks": ""
            },
            "colorscale": [
             [
              0,
              "#0d0887"
             ],
             [
              0.1111111111111111,
              "#46039f"
             ],
             [
              0.2222222222222222,
              "#7201a8"
             ],
             [
              0.3333333333333333,
              "#9c179e"
             ],
             [
              0.4444444444444444,
              "#bd3786"
             ],
             [
              0.5555555555555556,
              "#d8576b"
             ],
             [
              0.6666666666666666,
              "#ed7953"
             ],
             [
              0.7777777777777778,
              "#fb9f3a"
             ],
             [
              0.8888888888888888,
              "#fdca26"
             ],
             [
              1,
              "#f0f921"
             ]
            ],
            "type": "contour"
           }
          ],
          "contourcarpet": [
           {
            "colorbar": {
             "outlinewidth": 0,
             "ticks": ""
            },
            "type": "contourcarpet"
           }
          ],
          "heatmap": [
           {
            "colorbar": {
             "outlinewidth": 0,
             "ticks": ""
            },
            "colorscale": [
             [
              0,
              "#0d0887"
             ],
             [
              0.1111111111111111,
              "#46039f"
             ],
             [
              0.2222222222222222,
              "#7201a8"
             ],
             [
              0.3333333333333333,
              "#9c179e"
             ],
             [
              0.4444444444444444,
              "#bd3786"
             ],
             [
              0.5555555555555556,
              "#d8576b"
             ],
             [
              0.6666666666666666,
              "#ed7953"
             ],
             [
              0.7777777777777778,
              "#fb9f3a"
             ],
             [
              0.8888888888888888,
              "#fdca26"
             ],
             [
              1,
              "#f0f921"
             ]
            ],
            "type": "heatmap"
           }
          ],
          "heatmapgl": [
           {
            "colorbar": {
             "outlinewidth": 0,
             "ticks": ""
            },
            "colorscale": [
             [
              0,
              "#0d0887"
             ],
             [
              0.1111111111111111,
              "#46039f"
             ],
             [
              0.2222222222222222,
              "#7201a8"
             ],
             [
              0.3333333333333333,
              "#9c179e"
             ],
             [
              0.4444444444444444,
              "#bd3786"
             ],
             [
              0.5555555555555556,
              "#d8576b"
             ],
             [
              0.6666666666666666,
              "#ed7953"
             ],
             [
              0.7777777777777778,
              "#fb9f3a"
             ],
             [
              0.8888888888888888,
              "#fdca26"
             ],
             [
              1,
              "#f0f921"
             ]
            ],
            "type": "heatmapgl"
           }
          ],
          "histogram": [
           {
            "marker": {
             "colorbar": {
              "outlinewidth": 0,
              "ticks": ""
             }
            },
            "type": "histogram"
           }
          ],
          "histogram2d": [
           {
            "colorbar": {
             "outlinewidth": 0,
             "ticks": ""
            },
            "colorscale": [
             [
              0,
              "#0d0887"
             ],
             [
              0.1111111111111111,
              "#46039f"
             ],
             [
              0.2222222222222222,
              "#7201a8"
             ],
             [
              0.3333333333333333,
              "#9c179e"
             ],
             [
              0.4444444444444444,
              "#bd3786"
             ],
             [
              0.5555555555555556,
              "#d8576b"
             ],
             [
              0.6666666666666666,
              "#ed7953"
             ],
             [
              0.7777777777777778,
              "#fb9f3a"
             ],
             [
              0.8888888888888888,
              "#fdca26"
             ],
             [
              1,
              "#f0f921"
             ]
            ],
            "type": "histogram2d"
           }
          ],
          "histogram2dcontour": [
           {
            "colorbar": {
             "outlinewidth": 0,
             "ticks": ""
            },
            "colorscale": [
             [
              0,
              "#0d0887"
             ],
             [
              0.1111111111111111,
              "#46039f"
             ],
             [
              0.2222222222222222,
              "#7201a8"
             ],
             [
              0.3333333333333333,
              "#9c179e"
             ],
             [
              0.4444444444444444,
              "#bd3786"
             ],
             [
              0.5555555555555556,
              "#d8576b"
             ],
             [
              0.6666666666666666,
              "#ed7953"
             ],
             [
              0.7777777777777778,
              "#fb9f3a"
             ],
             [
              0.8888888888888888,
              "#fdca26"
             ],
             [
              1,
              "#f0f921"
             ]
            ],
            "type": "histogram2dcontour"
           }
          ],
          "mesh3d": [
           {
            "colorbar": {
             "outlinewidth": 0,
             "ticks": ""
            },
            "type": "mesh3d"
           }
          ],
          "parcoords": [
           {
            "line": {
             "colorbar": {
              "outlinewidth": 0,
              "ticks": ""
             }
            },
            "type": "parcoords"
           }
          ],
          "pie": [
           {
            "automargin": true,
            "type": "pie"
           }
          ],
          "scatter": [
           {
            "marker": {
             "colorbar": {
              "outlinewidth": 0,
              "ticks": ""
             }
            },
            "type": "scatter"
           }
          ],
          "scatter3d": [
           {
            "line": {
             "colorbar": {
              "outlinewidth": 0,
              "ticks": ""
             }
            },
            "marker": {
             "colorbar": {
              "outlinewidth": 0,
              "ticks": ""
             }
            },
            "type": "scatter3d"
           }
          ],
          "scattercarpet": [
           {
            "marker": {
             "colorbar": {
              "outlinewidth": 0,
              "ticks": ""
             }
            },
            "type": "scattercarpet"
           }
          ],
          "scattergeo": [
           {
            "marker": {
             "colorbar": {
              "outlinewidth": 0,
              "ticks": ""
             }
            },
            "type": "scattergeo"
           }
          ],
          "scattergl": [
           {
            "marker": {
             "colorbar": {
              "outlinewidth": 0,
              "ticks": ""
             }
            },
            "type": "scattergl"
           }
          ],
          "scattermapbox": [
           {
            "marker": {
             "colorbar": {
              "outlinewidth": 0,
              "ticks": ""
             }
            },
            "type": "scattermapbox"
           }
          ],
          "scatterpolar": [
           {
            "marker": {
             "colorbar": {
              "outlinewidth": 0,
              "ticks": ""
             }
            },
            "type": "scatterpolar"
           }
          ],
          "scatterpolargl": [
           {
            "marker": {
             "colorbar": {
              "outlinewidth": 0,
              "ticks": ""
             }
            },
            "type": "scatterpolargl"
           }
          ],
          "scatterternary": [
           {
            "marker": {
             "colorbar": {
              "outlinewidth": 0,
              "ticks": ""
             }
            },
            "type": "scatterternary"
           }
          ],
          "surface": [
           {
            "colorbar": {
             "outlinewidth": 0,
             "ticks": ""
            },
            "colorscale": [
             [
              0,
              "#0d0887"
             ],
             [
              0.1111111111111111,
              "#46039f"
             ],
             [
              0.2222222222222222,
              "#7201a8"
             ],
             [
              0.3333333333333333,
              "#9c179e"
             ],
             [
              0.4444444444444444,
              "#bd3786"
             ],
             [
              0.5555555555555556,
              "#d8576b"
             ],
             [
              0.6666666666666666,
              "#ed7953"
             ],
             [
              0.7777777777777778,
              "#fb9f3a"
             ],
             [
              0.8888888888888888,
              "#fdca26"
             ],
             [
              1,
              "#f0f921"
             ]
            ],
            "type": "surface"
           }
          ],
          "table": [
           {
            "cells": {
             "fill": {
              "color": "#EBF0F8"
             },
             "line": {
              "color": "white"
             }
            },
            "header": {
             "fill": {
              "color": "#C8D4E3"
             },
             "line": {
              "color": "white"
             }
            },
            "type": "table"
           }
          ]
         },
         "layout": {
          "annotationdefaults": {
           "arrowcolor": "#2a3f5f",
           "arrowhead": 0,
           "arrowwidth": 1
          },
          "coloraxis": {
           "colorbar": {
            "outlinewidth": 0,
            "ticks": ""
           }
          },
          "colorscale": {
           "diverging": [
            [
             0,
             "#8e0152"
            ],
            [
             0.1,
             "#c51b7d"
            ],
            [
             0.2,
             "#de77ae"
            ],
            [
             0.3,
             "#f1b6da"
            ],
            [
             0.4,
             "#fde0ef"
            ],
            [
             0.5,
             "#f7f7f7"
            ],
            [
             0.6,
             "#e6f5d0"
            ],
            [
             0.7,
             "#b8e186"
            ],
            [
             0.8,
             "#7fbc41"
            ],
            [
             0.9,
             "#4d9221"
            ],
            [
             1,
             "#276419"
            ]
           ],
           "sequential": [
            [
             0,
             "#0d0887"
            ],
            [
             0.1111111111111111,
             "#46039f"
            ],
            [
             0.2222222222222222,
             "#7201a8"
            ],
            [
             0.3333333333333333,
             "#9c179e"
            ],
            [
             0.4444444444444444,
             "#bd3786"
            ],
            [
             0.5555555555555556,
             "#d8576b"
            ],
            [
             0.6666666666666666,
             "#ed7953"
            ],
            [
             0.7777777777777778,
             "#fb9f3a"
            ],
            [
             0.8888888888888888,
             "#fdca26"
            ],
            [
             1,
             "#f0f921"
            ]
           ],
           "sequentialminus": [
            [
             0,
             "#0d0887"
            ],
            [
             0.1111111111111111,
             "#46039f"
            ],
            [
             0.2222222222222222,
             "#7201a8"
            ],
            [
             0.3333333333333333,
             "#9c179e"
            ],
            [
             0.4444444444444444,
             "#bd3786"
            ],
            [
             0.5555555555555556,
             "#d8576b"
            ],
            [
             0.6666666666666666,
             "#ed7953"
            ],
            [
             0.7777777777777778,
             "#fb9f3a"
            ],
            [
             0.8888888888888888,
             "#fdca26"
            ],
            [
             1,
             "#f0f921"
            ]
           ]
          },
          "colorway": [
           "#636efa",
           "#EF553B",
           "#00cc96",
           "#ab63fa",
           "#FFA15A",
           "#19d3f3",
           "#FF6692",
           "#B6E880",
           "#FF97FF",
           "#FECB52"
          ],
          "font": {
           "color": "#2a3f5f"
          },
          "geo": {
           "bgcolor": "white",
           "lakecolor": "white",
           "landcolor": "#E5ECF6",
           "showlakes": true,
           "showland": true,
           "subunitcolor": "white"
          },
          "hoverlabel": {
           "align": "left"
          },
          "hovermode": "closest",
          "mapbox": {
           "style": "light"
          },
          "paper_bgcolor": "white",
          "plot_bgcolor": "#E5ECF6",
          "polar": {
           "angularaxis": {
            "gridcolor": "white",
            "linecolor": "white",
            "ticks": ""
           },
           "bgcolor": "#E5ECF6",
           "radialaxis": {
            "gridcolor": "white",
            "linecolor": "white",
            "ticks": ""
           }
          },
          "scene": {
           "xaxis": {
            "backgroundcolor": "#E5ECF6",
            "gridcolor": "white",
            "gridwidth": 2,
            "linecolor": "white",
            "showbackground": true,
            "ticks": "",
            "zerolinecolor": "white"
           },
           "yaxis": {
            "backgroundcolor": "#E5ECF6",
            "gridcolor": "white",
            "gridwidth": 2,
            "linecolor": "white",
            "showbackground": true,
            "ticks": "",
            "zerolinecolor": "white"
           },
           "zaxis": {
            "backgroundcolor": "#E5ECF6",
            "gridcolor": "white",
            "gridwidth": 2,
            "linecolor": "white",
            "showbackground": true,
            "ticks": "",
            "zerolinecolor": "white"
           }
          },
          "shapedefaults": {
           "line": {
            "color": "#2a3f5f"
           }
          },
          "ternary": {
           "aaxis": {
            "gridcolor": "white",
            "linecolor": "white",
            "ticks": ""
           },
           "baxis": {
            "gridcolor": "white",
            "linecolor": "white",
            "ticks": ""
           },
           "bgcolor": "#E5ECF6",
           "caxis": {
            "gridcolor": "white",
            "linecolor": "white",
            "ticks": ""
           }
          },
          "title": {
           "x": 0.05
          },
          "xaxis": {
           "automargin": true,
           "gridcolor": "white",
           "linecolor": "white",
           "ticks": "",
           "title": {
            "standoff": 15
           },
           "zerolinecolor": "white",
           "zerolinewidth": 2
          },
          "yaxis": {
           "automargin": true,
           "gridcolor": "white",
           "linecolor": "white",
           "ticks": "",
           "title": {
            "standoff": 15
           },
           "zerolinecolor": "white",
           "zerolinewidth": 2
          }
         }
        }
       }
      },
      "text/html": [
       "<div>\n",
       "        \n",
       "        \n",
       "            <div id=\"70f54427-a01d-4140-b99b-0ef6515dcc51\" class=\"plotly-graph-div\" style=\"height:525px; width:100%;\"></div>\n",
       "            <script type=\"text/javascript\">\n",
       "                require([\"plotly\"], function(Plotly) {\n",
       "                    window.PLOTLYENV=window.PLOTLYENV || {};\n",
       "                    \n",
       "                if (document.getElementById(\"70f54427-a01d-4140-b99b-0ef6515dcc51\")) {\n",
       "                    Plotly.newPlot(\n",
       "                        '70f54427-a01d-4140-b99b-0ef6515dcc51',\n",
       "                        [{\"marker\": {\"size\": 4}, \"mode\": \"markers\", \"name\": \"Cluster 1\", \"type\": \"scatter3d\", \"x\": [14947.272684101225, 10922.073083387972, -15785.5440512826, 4982.325255219757, 4152.091112587364, 10402.461413334953, 1164.6000258592135, 9842.843854220879, 530.7940382796477, -8693.42207032223, 20033.251261560425, 2876.6672368536883, 470.1519319071357, 3515.6927722686437, 70.58030899263119, 16286.756576995833, 8669.7076577437, 11672.860417292617, 843.9718677723198, 2686.4115146161903, 291.44597608711376], \"y\": [18815.056790953873, 14449.2215687112, 12291.133975505081, 3884.252619390388, 14284.87176498404, 19478.506503185406, 9018.353297969752, 14198.77105001397, 16772.301382425117, 26460.67713124945, 19344.131771401084, 18551.195785114673, -6581.5193467756135, 7908.755334949596, 15591.498562328288, 19896.7477155749, 14043.443819811771, 3683.00761641922, 15194.270488561024, 10334.509509260948, 15429.04925303073], \"z\": [5681.1712833216025, -312.03448676828873, -8113.894559081598, -2474.042193281668, -5605.962988113479, 2701.4638207084026, -1964.3362804230542, -558.4724444994249, -6504.485819589374, -169.75436747461254, -396.5479551189171, 1285.7540493146012, -3183.2539905728268, -2647.5517075581633, 10968.839964001107, 6546.155105535337, -2818.9021291892327, 52.21693534857451, -4328.011408945636, -5934.59537707871, -4408.456997412255]}, {\"marker\": {\"size\": 4}, \"mode\": \"markers\", \"name\": \"Cluster 2\", \"type\": \"scatter3d\", \"x\": [5305.4605934826795, -17239.15846269375, 5305.646471776757, 5301.226196011036, -18955.845468875665, -18025.34131919599, 5304.335843687595, 5305.615768574228, 5299.891454701587, 5305.798576303692, 5305.0864285970965, 5305.512421719658, 5305.692109356388, -18205.510545080353, 5305.67402066825, 5305.710950088113, 5305.778382772665, 5305.559933180143, 5305.774098596207, 5305.773065032811, 5305.829339602863, 5305.175938610264, 5305.828866147734, 5305.652336166412, 5305.739176982401, -17837.014462612104, 5304.737528606105, -17785.045239174415, 5304.81787865398, 5305.744670413483, 5305.769746900376, -15294.682121581327, 5305.680616993244, 5305.746606650203, -19763.51370358192, 5305.725114091177, 5305.7414185045545, 5305.777634767011, 5305.716153118863, 5305.705998939443, 5305.50556743728, 5305.648490438431, 5305.674644191744, 5305.741120924855, 5305.750333049951, -18128.485447097548, 5305.69696382862, 5305.762111150327, 5305.720195259253], \"y\": [-179.5873666178722, -2365.3918119820187, -179.60519945723166, -179.18071701760155, -6637.966861735764, -1653.5505757723604, -179.4793163282401, -179.60224648728968, -179.0524686595527, -179.61980691878034, -179.5514088225566, -179.59232993278195, -179.6095930661578, -7137.590548083843, -179.60785650606965, -179.61140149374378, -179.61787493257248, -179.59688877826193, -179.61746296960231, -179.61736371201988, -179.62276487869735, -179.56000726345815, -179.62271925934692, -179.60577403922946, -179.6141040974254, -4162.1831252768125, -179.51789851466776, -6963.241799650089, -179.5256230981219, -179.61463837749184, -179.61704550107504, -7280.553835644969, -179.60848989227247, -179.61482419162058, -2153.420818375148, -179.6127609166662, -179.6143264340468, -179.6178030214761, -179.61190131389773, -179.6109260628256, -179.591677325908, -179.6054055996372, -179.60791594856425, -179.61429759636488, -179.61518219865894, -4027.116500162686, -179.61005878405615, -179.61631247942563, -179.61228884521537], \"z\": [-1672.4796903879337, -4774.140877726349, -1672.6796357931305, -1667.918803665829, -4325.9694928616245, -4241.224311620839, -1671.26769919631, -1672.6465004201502, -1666.4801638661024, -1672.8434701284846, -1672.0763078786083, -1672.5353081970084, -1672.7289517658282, -3561.8234055779512, -1672.7094769803236, -1672.749231343289, -1672.8218272560598, -1672.5864253023256, -1672.817204890304, -1672.8160916422587, -1672.87665870435, -1672.1727543446832, -1672.8761465116936, -1672.6861205216608, -1672.7795142180776, -2825.635129916846, -1671.7004507957454, -3049.405067729437, -1671.7871168771833, -1672.78553037136, -1672.8125242386668, -255.04808717051725, -1672.7165805707432, -1672.787613951764, -5014.706690054016, -1672.7644754294115, -1672.7820329360404, -1672.821020447157, -1672.7548377327923, -1672.7438992045618, -1672.5280086894443, -1672.6819913186798, -1672.71014212555, -1672.7817085805673, -1672.791629780002, -2987.760491146966, -1672.7341734483418, -1672.8043038171634, -1672.7591818758413]}, {\"marker\": {\"size\": 4}, \"mode\": \"markers\", \"name\": \"Cluster 3\", \"type\": \"scatter3d\", \"x\": [10643.091947943274, 3788.6277765935097, -7198.561820221875, 4742.710125687865, -2594.972891387626, -2357.573804355504, 4491.414627015709, 4755.000601343767, -8503.264654604065, -3639.226930328108, 9211.491130820852, 2145.6634543416767, 1269.23392025189, 2515.97651022677, 7298.128217062822, 5223.130541083646, 3046.264600583364, -962.1956189335648, 2857.9833308089496, -3517.128732125824, 463.9333418215597, 1120.2910633689562, -3110.331734814516, 1995.4370444395267, 5438.589830367651, -894.331670349925, 7947.06428365978, 60.66271664361898, -7121.167731737766, 5027.576924712745, 9684.94573295723, -346.8715025374815, 2285.7298707288464, -3041.104607476197, 9811.688274904835, 7072.598131018177, -282.44228257414187, 1784.6307030914713, 1495.933207478859, 4497.019882339662, 7996.885226767967, 4580.005166715206, 5960.2085663752805, -7026.272267519989, 3221.581840727111, 2984.8981029003085, -7084.718281061858, -5983.091852013617, 3208.886587800598, 5154.67436903515, 6154.497459855296, -1668.5485820730523, -1377.385376388897, -7346.393716958947, -9670.004662278641, 5317.6779659129525, 173.6398886883054, -3507.109327335027, 8503.538209047576, -6050.8538623475315, 61.73619528997328, -5402.063735595905], \"y\": [-7825.909790070274, 4669.0350986709545, -3562.949161421072, -7500.288027502925, -12368.454899864724, -5629.383283063655, 5456.710151726637, 3421.955280607694, -4424.161772460421, -3996.414853217227, -10250.164461807242, -11822.84100759173, -11847.733014284808, -4021.740310227805, 8517.240901995641, -8817.5906305549, -9413.170735701833, -9123.97599927195, 8440.189905537134, -7447.951116860791, -1431.5031159240764, 2562.606524760741, -6242.941230328191, 3741.1867885206934, -2829.4323066171332, -10908.66050370108, -11014.954565451255, -10686.956944199075, 2318.949532541319, 9605.45062569258, 11121.000633535337, 152.80988344798067, 3376.138598619233, 1471.8254184985922, 7879.9912315798265, -11252.510621550142, -7689.276631701507, 8244.299658011643, 4942.534355595039, -7894.967389261351, -5258.2086476151535, -8700.852780195804, -437.94187136923813, 3793.880736199098, 7792.799490458178, 4775.804315815814, 4647.555952025702, 611.6269565551431, 11825.931208735321, 8807.690574455639, 7132.67627866321, -3917.412518862734, -7181.8602435640905, -6550.730154032057, -349.58087407481645, -9110.492162712104, 8830.74576278396, -8211.00424830999, 9782.005150022898, -4121.2851164607955, -1967.3469387348716, 2087.1097998261203], \"z\": [2872.209467565617, -2810.6847936568884, 11251.600727753059, -593.1436446927087, -9066.57889480857, 610.9159004358198, -2499.375286240404, -1749.405146333341, 9494.53439167421, 3610.5231260856744, -1532.9303731037367, 10506.78862070492, 11844.954867147548, 21370.039298141295, -4106.845928710189, 5318.277696049216, -2968.994676250378, 3366.0216743420265, -232.28071067558145, 10237.599493222344, 3045.9214591560617, -2532.494291561713, 5678.95964524706, 15322.568981799926, -2731.810747824833, 6950.166848569821, -230.21047967922652, 14112.326062899458, 12479.517126924313, -1261.3670066862912, 2224.154205870676, -1787.0387582992848, -6805.964690434457, 17638.15627003973, -1037.812959369728, 5904.933343162532, 14910.077301016334, 10301.514142637925, 19716.664658362584, 595.4410392982825, 2332.582219290409, 1693.0188215554738, 21890.776445447944, 8428.542452967105, 18525.064315018455, 28141.253541562288, 4339.535833631307, 8323.62149593246, 5.983711128710972, 457.32919565171625, -667.7437211496136, -839.5295726110623, 1753.7017642891556, 11477.2970294242, 11277.651350448203, -2015.461258577784, 2932.98181684886, 8591.111442024492, 5867.439498367416, 5105.479090384646, 17901.154395554175, 9111.67608651462]}, {\"marker\": {\"size\": 4}, \"mode\": \"markers\", \"name\": \"Cluster 4\", \"type\": \"scatter3d\", \"x\": [10774.38622286806, 19499.470818219765, 26513.066978268085, 34727.5009471771, 30965.168400914703, 5844.037876005801, 34889.91646943255, 11361.39035765532, 28778.15020561978, 26190.51793271732, 27267.803986033687, 18037.311107441208, 28699.047918948996, 19572.299114202007, 27577.837329081325, 24655.646078195554, 15439.669560907601, 11354.318149264649, 39922.837607233596, 30938.601262462314, 36849.77764218141, 21347.735339111572, 34701.1749169277, 31992.122549908872, 34230.374703064954, 23610.754241619732], \"y\": [-5503.926804815195, -13093.870498310533, -15612.23882333287, 4759.312823383929, -13647.991098382101, -18583.655959518866, -7278.089150199543, -6874.959917724508, 16649.96182269373, -6033.395765072144, -12107.604812325764, 10199.92193780982, -11292.465892209035, 13897.207349224005, -2947.367147621479, -3738.680047787714, -3341.168349251612, -17620.143507637742, -7738.668083741166, -11321.046095969356, -12564.185386448851, 6893.173808118689, -9838.413091338056, -4151.132649597779, 3775.1379305510955, 13208.598145615519], \"z\": [15735.006233393025, -1000.0334008817547, -9939.77757423374, -3223.0397754387923, -4273.990289704892, -7900.558674900443, -5155.235246602123, 23151.014837059753, 2665.130232462927, -4826.8611600708455, -15856.371155024779, 1.4664878392834453, -14233.547030601329, 4020.366903840177, 22439.306188781495, -1849.1980936762325, -2489.163031202323, -7369.7925015261035, -7118.945125995342, -3710.356902068642, -8745.064624084851, -3928.1634861012667, -8544.033960657945, -6600.961762730583, -10254.043124164698, 3139.8288595061563]}, {\"marker\": {\"size\": 4}, \"mode\": \"markers\", \"name\": \"Cluster 5\", \"type\": \"scatter3d\", \"x\": [-15476.001363769008, -15753.771739604423, -14160.666467594627, -11005.764398055277, -8520.081361861685, -1720.9597434861303, -6369.417623933252, 6014.573393706557, -15098.672014384303, -15271.194166341333, -14879.222356938453, -17339.922699698116, -13655.923156607563, -14864.404201962512, -10091.087567119035, -6026.327356663597, -15781.162563923479, -8695.376558478814, -16782.015338229532, -12031.040621631528, -17346.844872128822, -14578.761965760867, -15586.29396070872, -12025.568867294385, -7917.310274004255, -8550.88493279132, -13672.458937724245, -11278.057345309868, -3537.677911579298, -15183.414233777172, -14701.103971724198, -10356.562141822462, -5822.635384850754, -10208.450915073201, -12333.954768651605, -13610.451227081072, -6086.437766242359, -9345.945214212079, -18003.86602065358, -13110.949887437553, -15372.22311842921, -10909.54500227204, -11424.994689472253, -15554.017840270251, -10085.62198687673, -14831.572429538137, -16423.505565127547, -14833.540098673693, -14349.83730064907, -6673.009139031338, -12141.80075700643, -14092.486023166397, -17382.893963538227, -14962.216780201754, -7268.436224132, -8678.593690996217, -9265.24277453507, -15083.202968757432, -13029.565131748155, -10222.871321410636, -7894.675340351283, -14174.909279802121, -16242.5935468316, -13189.503364441454, -10281.216703571847, -14294.308322643794, -11158.26585766361, -8342.019458638279, -4883.301146582784, -11495.390702301182, -10326.884057504887, -9748.060637204308, -12791.232984609758, -12129.196435824324, -11607.367155209513], \"y\": [-6280.845579381186, 1822.64661032118, -4608.217116784144, 3535.9217812296074, -8241.737172145697, 2149.8619299108013, 7958.917758507113, -563.475635419193, 9206.967681787297, -7304.306979671348, 13004.928386720432, 4313.588824755168, -5883.956454549269, -2013.4467445322084, -149.7286316273104, -8680.542777434674, -2626.903661054216, 617.2360426874064, 1160.3842873573149, -940.3540931754478, -4611.684083285862, -7038.92842530083, 910.1608597882517, 5159.558883747624, 2276.1601936755214, -7317.5211033807, -3521.5722438769885, 13781.892585775771, 6194.938693491742, 4657.554230886852, 2365.383846313702, -3146.1692849810997, 2623.8581212586623, 5546.696908058592, 3956.5132374675777, 1853.0729219148343, 6916.879939018031, -1765.1331855501107, 1408.6271244380775, -5208.837641397102, -2457.269094783896, -557.9739953330433, 683.737481652631, -655.2034001272688, 3140.8708382504506, 1070.4148215334267, -7687.531073343664, -3280.3150766048047, 1018.7607642110152, -6705.349303615225, 352.5257580025314, -1113.5598269905781, 3165.5923927872886, -6628.288115524063, 1441.4743202057975, -5.335687118814462, -4491.260930456669, 3188.255465767115, 1202.9342946335355, -10148.405827850302, 2529.5650488839465, 3843.0492844583355, -4679.3528268482205, -1704.7468709696761, -3787.693222300972, -4632.583218660693, 2297.0345001327014, -7641.938828032489, -8987.866389739786, 8357.391666059857, -8039.0654138950395, -3755.897742400963, 240.89966230078153, -1246.6399771324323, 2377.760194816506], \"z\": [-2462.148794449002, -6792.510776006651, -440.72298233632137, -5829.006299755494, -6754.7876495134315, -5295.565532819351, -4409.044288655058, -865.6987946627546, -5815.488070212347, -852.3003970892865, -12331.540659497905, -7850.501337365145, 8539.231515899171, -3633.832532720248, 7263.3381743037535, -6986.054972101452, -733.5383813293199, 7276.580932176084, -5168.602219340738, 462.60373831559616, -4516.121137676358, -1697.8889614761529, -5548.097119063105, -3296.085660174614, 3317.821697390225, -5349.478548182173, 5755.220236970095, -4497.708191702147, -11563.64893865237, -6964.410688026317, -9161.620205289964, 3549.749638407842, -8476.674353180384, -3431.047519537485, -12483.530315098735, -1890.9703486214653, 1146.7273228645045, 1658.7356759571326, -3088.6846562801193, 1635.2332527135159, 1652.3946030987252, 4002.7084892136563, 5090.115955536112, -2169.47792948744, 4375.01148222271, -1923.498018013342, -5654.98206854873, -5157.554237897955, -7858.624994259004, 2263.6790262808768, 1187.8009592862586, 2272.6284917327307, -10964.148782564896, -5746.840106808231, -7989.586909262565, 5516.5991946597915, 3891.912119231072, -8103.557192348082, -2224.991306381778, -4401.7123712676785, -7089.542620061172, -6575.978803975875, -97.30295906677375, 2950.4035918721765, 2630.099085570437, 1511.8944009055936, 2166.4971302586973, 2314.486109034251, -3686.3674579454555, -9119.449644337814, -5789.286853695102, 4501.721517868948, -6332.298141049914, 4168.141107471297, 1902.0088477357895]}],\n",
       "                        {\"template\": {\"data\": {\"bar\": [{\"error_x\": {\"color\": \"#2a3f5f\"}, \"error_y\": {\"color\": \"#2a3f5f\"}, \"marker\": {\"line\": {\"color\": \"#E5ECF6\", \"width\": 0.5}}, \"type\": \"bar\"}], \"barpolar\": [{\"marker\": {\"line\": {\"color\": \"#E5ECF6\", \"width\": 0.5}}, \"type\": \"barpolar\"}], \"carpet\": [{\"aaxis\": {\"endlinecolor\": \"#2a3f5f\", \"gridcolor\": \"white\", \"linecolor\": \"white\", \"minorgridcolor\": \"white\", \"startlinecolor\": \"#2a3f5f\"}, \"baxis\": {\"endlinecolor\": \"#2a3f5f\", \"gridcolor\": \"white\", \"linecolor\": \"white\", \"minorgridcolor\": \"white\", \"startlinecolor\": \"#2a3f5f\"}, \"type\": \"carpet\"}], \"choropleth\": [{\"colorbar\": {\"outlinewidth\": 0, \"ticks\": \"\"}, \"type\": \"choropleth\"}], \"contour\": [{\"colorbar\": {\"outlinewidth\": 0, \"ticks\": \"\"}, \"colorscale\": [[0.0, \"#0d0887\"], [0.1111111111111111, \"#46039f\"], [0.2222222222222222, \"#7201a8\"], [0.3333333333333333, \"#9c179e\"], [0.4444444444444444, \"#bd3786\"], [0.5555555555555556, \"#d8576b\"], [0.6666666666666666, \"#ed7953\"], [0.7777777777777778, \"#fb9f3a\"], [0.8888888888888888, \"#fdca26\"], [1.0, \"#f0f921\"]], \"type\": \"contour\"}], \"contourcarpet\": [{\"colorbar\": {\"outlinewidth\": 0, \"ticks\": \"\"}, \"type\": \"contourcarpet\"}], \"heatmap\": [{\"colorbar\": {\"outlinewidth\": 0, \"ticks\": \"\"}, \"colorscale\": [[0.0, \"#0d0887\"], [0.1111111111111111, \"#46039f\"], [0.2222222222222222, \"#7201a8\"], [0.3333333333333333, \"#9c179e\"], [0.4444444444444444, \"#bd3786\"], [0.5555555555555556, \"#d8576b\"], [0.6666666666666666, \"#ed7953\"], [0.7777777777777778, \"#fb9f3a\"], [0.8888888888888888, \"#fdca26\"], [1.0, \"#f0f921\"]], \"type\": \"heatmap\"}], \"heatmapgl\": [{\"colorbar\": {\"outlinewidth\": 0, \"ticks\": \"\"}, \"colorscale\": [[0.0, \"#0d0887\"], [0.1111111111111111, \"#46039f\"], [0.2222222222222222, \"#7201a8\"], [0.3333333333333333, \"#9c179e\"], [0.4444444444444444, \"#bd3786\"], [0.5555555555555556, \"#d8576b\"], [0.6666666666666666, \"#ed7953\"], [0.7777777777777778, \"#fb9f3a\"], [0.8888888888888888, \"#fdca26\"], [1.0, \"#f0f921\"]], \"type\": \"heatmapgl\"}], \"histogram\": [{\"marker\": {\"colorbar\": {\"outlinewidth\": 0, \"ticks\": \"\"}}, \"type\": \"histogram\"}], \"histogram2d\": [{\"colorbar\": {\"outlinewidth\": 0, \"ticks\": \"\"}, \"colorscale\": [[0.0, \"#0d0887\"], [0.1111111111111111, \"#46039f\"], [0.2222222222222222, \"#7201a8\"], [0.3333333333333333, \"#9c179e\"], [0.4444444444444444, \"#bd3786\"], [0.5555555555555556, \"#d8576b\"], [0.6666666666666666, \"#ed7953\"], [0.7777777777777778, \"#fb9f3a\"], [0.8888888888888888, \"#fdca26\"], [1.0, \"#f0f921\"]], \"type\": \"histogram2d\"}], \"histogram2dcontour\": [{\"colorbar\": {\"outlinewidth\": 0, \"ticks\": \"\"}, \"colorscale\": [[0.0, \"#0d0887\"], [0.1111111111111111, \"#46039f\"], [0.2222222222222222, \"#7201a8\"], [0.3333333333333333, \"#9c179e\"], [0.4444444444444444, \"#bd3786\"], [0.5555555555555556, \"#d8576b\"], [0.6666666666666666, \"#ed7953\"], [0.7777777777777778, \"#fb9f3a\"], [0.8888888888888888, \"#fdca26\"], [1.0, \"#f0f921\"]], \"type\": \"histogram2dcontour\"}], \"mesh3d\": [{\"colorbar\": {\"outlinewidth\": 0, \"ticks\": \"\"}, \"type\": \"mesh3d\"}], \"parcoords\": [{\"line\": {\"colorbar\": {\"outlinewidth\": 0, \"ticks\": \"\"}}, \"type\": \"parcoords\"}], \"pie\": [{\"automargin\": true, \"type\": \"pie\"}], \"scatter\": [{\"marker\": {\"colorbar\": {\"outlinewidth\": 0, \"ticks\": \"\"}}, \"type\": \"scatter\"}], \"scatter3d\": [{\"line\": {\"colorbar\": {\"outlinewidth\": 0, \"ticks\": \"\"}}, \"marker\": {\"colorbar\": {\"outlinewidth\": 0, \"ticks\": \"\"}}, \"type\": \"scatter3d\"}], \"scattercarpet\": [{\"marker\": {\"colorbar\": {\"outlinewidth\": 0, \"ticks\": \"\"}}, \"type\": \"scattercarpet\"}], \"scattergeo\": [{\"marker\": {\"colorbar\": {\"outlinewidth\": 0, \"ticks\": \"\"}}, \"type\": \"scattergeo\"}], \"scattergl\": [{\"marker\": {\"colorbar\": {\"outlinewidth\": 0, \"ticks\": \"\"}}, \"type\": \"scattergl\"}], \"scattermapbox\": [{\"marker\": {\"colorbar\": {\"outlinewidth\": 0, \"ticks\": \"\"}}, \"type\": \"scattermapbox\"}], \"scatterpolar\": [{\"marker\": {\"colorbar\": {\"outlinewidth\": 0, \"ticks\": \"\"}}, \"type\": \"scatterpolar\"}], \"scatterpolargl\": [{\"marker\": {\"colorbar\": {\"outlinewidth\": 0, \"ticks\": \"\"}}, \"type\": \"scatterpolargl\"}], \"scatterternary\": [{\"marker\": {\"colorbar\": {\"outlinewidth\": 0, \"ticks\": \"\"}}, \"type\": \"scatterternary\"}], \"surface\": [{\"colorbar\": {\"outlinewidth\": 0, \"ticks\": \"\"}, \"colorscale\": [[0.0, \"#0d0887\"], [0.1111111111111111, \"#46039f\"], [0.2222222222222222, \"#7201a8\"], [0.3333333333333333, \"#9c179e\"], [0.4444444444444444, \"#bd3786\"], [0.5555555555555556, \"#d8576b\"], [0.6666666666666666, \"#ed7953\"], [0.7777777777777778, \"#fb9f3a\"], [0.8888888888888888, \"#fdca26\"], [1.0, \"#f0f921\"]], \"type\": \"surface\"}], \"table\": [{\"cells\": {\"fill\": {\"color\": \"#EBF0F8\"}, \"line\": {\"color\": \"white\"}}, \"header\": {\"fill\": {\"color\": \"#C8D4E3\"}, \"line\": {\"color\": \"white\"}}, \"type\": \"table\"}]}, \"layout\": {\"annotationdefaults\": {\"arrowcolor\": \"#2a3f5f\", \"arrowhead\": 0, \"arrowwidth\": 1}, \"coloraxis\": {\"colorbar\": {\"outlinewidth\": 0, \"ticks\": \"\"}}, \"colorscale\": {\"diverging\": [[0, \"#8e0152\"], [0.1, \"#c51b7d\"], [0.2, \"#de77ae\"], [0.3, \"#f1b6da\"], [0.4, \"#fde0ef\"], [0.5, \"#f7f7f7\"], [0.6, \"#e6f5d0\"], [0.7, \"#b8e186\"], [0.8, \"#7fbc41\"], [0.9, \"#4d9221\"], [1, \"#276419\"]], \"sequential\": [[0.0, \"#0d0887\"], [0.1111111111111111, \"#46039f\"], [0.2222222222222222, \"#7201a8\"], [0.3333333333333333, \"#9c179e\"], [0.4444444444444444, \"#bd3786\"], [0.5555555555555556, \"#d8576b\"], [0.6666666666666666, \"#ed7953\"], [0.7777777777777778, \"#fb9f3a\"], [0.8888888888888888, \"#fdca26\"], [1.0, \"#f0f921\"]], \"sequentialminus\": [[0.0, \"#0d0887\"], [0.1111111111111111, \"#46039f\"], [0.2222222222222222, \"#7201a8\"], [0.3333333333333333, \"#9c179e\"], [0.4444444444444444, \"#bd3786\"], [0.5555555555555556, \"#d8576b\"], [0.6666666666666666, \"#ed7953\"], [0.7777777777777778, \"#fb9f3a\"], [0.8888888888888888, \"#fdca26\"], [1.0, \"#f0f921\"]]}, \"colorway\": [\"#636efa\", \"#EF553B\", \"#00cc96\", \"#ab63fa\", \"#FFA15A\", \"#19d3f3\", \"#FF6692\", \"#B6E880\", \"#FF97FF\", \"#FECB52\"], \"font\": {\"color\": \"#2a3f5f\"}, \"geo\": {\"bgcolor\": \"white\", \"lakecolor\": \"white\", \"landcolor\": \"#E5ECF6\", \"showlakes\": true, \"showland\": true, \"subunitcolor\": \"white\"}, \"hoverlabel\": {\"align\": \"left\"}, \"hovermode\": \"closest\", \"mapbox\": {\"style\": \"light\"}, \"paper_bgcolor\": \"white\", \"plot_bgcolor\": \"#E5ECF6\", \"polar\": {\"angularaxis\": {\"gridcolor\": \"white\", \"linecolor\": \"white\", \"ticks\": \"\"}, \"bgcolor\": \"#E5ECF6\", \"radialaxis\": {\"gridcolor\": \"white\", \"linecolor\": \"white\", \"ticks\": \"\"}}, \"scene\": {\"xaxis\": {\"backgroundcolor\": \"#E5ECF6\", \"gridcolor\": \"white\", \"gridwidth\": 2, \"linecolor\": \"white\", \"showbackground\": true, \"ticks\": \"\", \"zerolinecolor\": \"white\"}, \"yaxis\": {\"backgroundcolor\": \"#E5ECF6\", \"gridcolor\": \"white\", \"gridwidth\": 2, \"linecolor\": \"white\", \"showbackground\": true, \"ticks\": \"\", \"zerolinecolor\": \"white\"}, \"zaxis\": {\"backgroundcolor\": \"#E5ECF6\", \"gridcolor\": \"white\", \"gridwidth\": 2, \"linecolor\": \"white\", \"showbackground\": true, \"ticks\": \"\", \"zerolinecolor\": \"white\"}}, \"shapedefaults\": {\"line\": {\"color\": \"#2a3f5f\"}}, \"ternary\": {\"aaxis\": {\"gridcolor\": \"white\", \"linecolor\": \"white\", \"ticks\": \"\"}, \"baxis\": {\"gridcolor\": \"white\", \"linecolor\": \"white\", \"ticks\": \"\"}, \"bgcolor\": \"#E5ECF6\", \"caxis\": {\"gridcolor\": \"white\", \"linecolor\": \"white\", \"ticks\": \"\"}}, \"title\": {\"x\": 0.05}, \"xaxis\": {\"automargin\": true, \"gridcolor\": \"white\", \"linecolor\": \"white\", \"ticks\": \"\", \"title\": {\"standoff\": 15}, \"zerolinecolor\": \"white\", \"zerolinewidth\": 2}, \"yaxis\": {\"automargin\": true, \"gridcolor\": \"white\", \"linecolor\": \"white\", \"ticks\": \"\", \"title\": {\"standoff\": 15}, \"zerolinecolor\": \"white\", \"zerolinewidth\": 2}}}},\n",
       "                        {\"responsive\": true}\n",
       "                    ).then(function(){\n",
       "                            \n",
       "var gd = document.getElementById('70f54427-a01d-4140-b99b-0ef6515dcc51');\n",
       "var x = new MutationObserver(function (mutations, observer) {{\n",
       "        var display = window.getComputedStyle(gd).display;\n",
       "        if (!display || display === 'none') {{\n",
       "            console.log([gd, 'removed!']);\n",
       "            Plotly.purge(gd);\n",
       "            observer.disconnect();\n",
       "        }}\n",
       "}});\n",
       "\n",
       "// Listen for the removal of the full notebook cells\n",
       "var notebookContainer = gd.closest('#notebook-container');\n",
       "if (notebookContainer) {{\n",
       "    x.observe(notebookContainer, {childList: true});\n",
       "}}\n",
       "\n",
       "// Listen for the clearing of the current output cell\n",
       "var outputEl = gd.closest('.output');\n",
       "if (outputEl) {{\n",
       "    x.observe(outputEl, {childList: true});\n",
       "}}\n",
       "\n",
       "                        })\n",
       "                };\n",
       "                });\n",
       "            </script>\n",
       "        </div>"
      ]
     },
     "metadata": {},
     "output_type": "display_data"
    }
   ],
   "source": [
    "k_means_clusters = k_means_cluster(cluster_data, n_clusters=5)"
   ]
  },
  {
   "cell_type": "markdown",
   "metadata": {},
   "source": [
    "### Clustering Based on Gaussian Mixture Models\n",
    "Create clusters by attempting to fit a mixture of high dimensional gaussian models to the data"
   ]
  },
  {
   "cell_type": "code",
   "execution_count": 40,
   "metadata": {},
   "outputs": [
    {
     "data": {
      "application/vnd.plotly.v1+json": {
       "config": {
        "plotlyServerURL": "https://plot.ly"
       },
       "data": [
        {
         "marker": {
          "size": 4
         },
         "mode": "markers",
         "name": "Cluster 1",
         "type": "scatter3d",
         "x": [
          -15476.001363769008,
          5305.460593482677,
          -17239.15846269375,
          5305.646471776753,
          5301.226196011033,
          -18955.84546887566,
          -17346.844872128826,
          -18025.34131919599,
          5304.3358436875915,
          5305.6157685742255,
          5299.891454701582,
          5305.7985763036895,
          5305.086428597092,
          5305.512421719654,
          5305.692109356383,
          -18205.510545080353,
          5305.674020668246,
          5305.71095008811,
          5305.778382772662,
          5305.5599331801395,
          5305.774098596204,
          5305.773065032807,
          5305.829339602859,
          5305.17593861026,
          5305.828866147731,
          5305.652336166409,
          5305.739176982398,
          -17837.0144626121,
          5304.7375286061015,
          -17785.045239174415,
          5304.817878653977,
          5305.74467041348,
          5305.7697469003715,
          -15294.682121581327,
          5305.680616993241,
          5305.746606650198,
          -19763.513703581924,
          -16242.593546831598,
          5305.725114091174,
          5305.741418504549,
          5305.777634767007,
          5305.7161531188585,
          5305.70599893944,
          5305.505567437276,
          5305.648490438427,
          5305.674644191741,
          5305.741120924851,
          5305.750333049948,
          -18128.485447097548,
          5305.6969638286155,
          5305.762111150323,
          5305.7201952592495
         ],
         "y": [
          -6280.8455793811845,
          -179.58736661788396,
          -2365.391811982019,
          -179.6051994572428,
          -179.18071701761247,
          -6637.966861735762,
          -4611.684083285861,
          -1653.5505757723586,
          -179.47931632825146,
          -179.6022464873007,
          -179.05246865956406,
          -179.61980691879214,
          -179.55140882256774,
          -179.5923299327939,
          -179.6095930661699,
          -7137.590548083843,
          -179.60785650608142,
          -179.61140149375524,
          -179.61787493258322,
          -179.5968887782738,
          -179.61746296961346,
          -179.61736371203187,
          -179.6227648787085,
          -179.56000726346946,
          -179.622719259358,
          -179.60577403924037,
          -179.61410409743695,
          -4162.183125276809,
          -179.5178985146786,
          -6963.241799650085,
          -179.52562309813413,
          -179.61463837750316,
          -179.61704550108607,
          -7280.5538356449615,
          -179.6084898922834,
          -179.61482419163195,
          -2153.420818375146,
          -4679.352826848211,
          -179.6127609166777,
          -179.61432643405834,
          -179.61780302148713,
          -179.61190131390958,
          -179.610926062837,
          -179.59167732591908,
          -179.60540559964917,
          -179.6079159485745,
          -179.6142975963763,
          -179.61518219867048,
          -4027.1165001626814,
          -179.61005878406775,
          -179.6163124794374,
          -179.61228884522723
         ],
         "z": [
          -2462.1487944490063,
          -1672.4796903879237,
          -4774.140877726361,
          -1672.6796357931198,
          -1667.918803665819,
          -4325.969492861628,
          -4516.1211376763595,
          -4241.224311620853,
          -1671.2676991963012,
          -1672.64650042014,
          -1666.4801638660922,
          -1672.843470128474,
          -1672.0763078785994,
          -1672.5353081969986,
          -1672.7289517658182,
          -3561.8234055779553,
          -1672.7094769803143,
          -1672.74923134328,
          -1672.8218272560498,
          -1672.5864253023153,
          -1672.817204890294,
          -1672.8160916422494,
          -1672.8766587043403,
          -1672.172754344674,
          -1672.876146511684,
          -1672.686120521652,
          -1672.779514218068,
          -2825.6351299168514,
          -1671.7004507957356,
          -3049.405067729442,
          -1671.7871168771742,
          -1672.78553037135,
          -1672.8125242386577,
          -255.04808717051344,
          -1672.716580570733,
          -1672.787613951754,
          -5014.706690054031,
          -97.30295906677438,
          -1672.7644754294017,
          -1672.7820329360306,
          -1672.8210204471477,
          -1672.7548377327826,
          -1672.7438992045525,
          -1672.528008689435,
          -1672.68199131867,
          -1672.710142125541,
          -1672.781708580558,
          -1672.791629779993,
          -2987.7604911469707,
          -1672.7341734483311,
          -1672.8043038171536,
          -1672.7591818758312
         ]
        },
        {
         "marker": {
          "size": 4
         },
         "mode": "markers",
         "name": "Cluster 2",
         "type": "scatter3d",
         "x": [
          19499.470818219765,
          26513.06697826808,
          34727.5009471771,
          30965.1684009147,
          5844.037876005797,
          34889.916469432545,
          26190.517932717317,
          27267.803986033683,
          18037.311107441208,
          28699.04791894899,
          27577.837329081325,
          24655.646078195554,
          11354.318149264645,
          39922.837607233596,
          30938.601262462318,
          36849.777642181405,
          21347.735339111572,
          34701.1749169277,
          31992.122549908872,
          34230.37470306495
         ],
         "y": [
          -13093.870498310542,
          -15612.238823332904,
          4759.312823383915,
          -13647.991098382125,
          -18583.65595951889,
          -7278.089150199563,
          -6033.395765072165,
          -12107.604812325802,
          10199.921937809817,
          -11292.465892209073,
          -2947.3671476214363,
          -3738.680047787728,
          -17620.143507637767,
          -7738.668083741189,
          -11321.04609596937,
          -12564.18538644888,
          6893.17380811867,
          -9838.413091338087,
          -4151.132649597806,
          3775.1379305510636
         ],
         "z": [
          -1000.0334008817044,
          -9939.777574233718,
          -3223.039775438798,
          -4273.990289704845,
          -7900.558674900423,
          -5155.2352466021,
          -4826.861160070833,
          -15856.371155024797,
          1.4664878392545688,
          -14233.547030601345,
          22439.30618878156,
          -1849.198093676217,
          -7369.79250152608,
          -7118.945125995326,
          -3710.356902068599,
          -8745.06462408482,
          -3928.163486101291,
          -8544.033960657925,
          -6600.9617627305815,
          -10254.043124164727
         ]
        },
        {
         "marker": {
          "size": 4
         },
         "mode": "markers",
         "name": "Cluster 3",
         "type": "scatter3d",
         "x": [
          10643.091947943274,
          14947.272684101228,
          10774.386222868063,
          10922.073083387972,
          4742.710125687865,
          4982.325255219757,
          4491.414627015709,
          4755.000601343767,
          9211.491130820852,
          2145.663454341677,
          1269.2339202518901,
          2515.976510226774,
          7298.128217062822,
          5223.130541083646,
          3046.2646005833644,
          2857.983330808952,
          463.93334182155985,
          1995.437044439529,
          5438.5898303676495,
          11361.390357655322,
          4152.091112587367,
          28778.15020561978,
          10402.461413334957,
          1164.6000258592137,
          9842.84385422088,
          60.66271664362068,
          5027.576924712745,
          9684.94573295723,
          530.7940382796497,
          2285.729870728847,
          -3041.104607476194,
          9811.688274904833,
          7072.598131018177,
          -282.4422825741406,
          -8693.422070322225,
          20033.251261560425,
          19572.299114202007,
          2876.6672368536906,
          1784.6307030914736,
          1495.9332074788626,
          7996.885226767966,
          4580.005166715206,
          5960.208566375284,
          15439.669560907601,
          3221.5818407271154,
          2984.8981029003157,
          470.1519319071356,
          3515.6927722686437,
          70.58030899263565,
          16286.756576995836,
          3208.886587800601,
          5154.674369035151,
          6154.497459855297,
          8669.7076577437,
          11672.860417292617,
          843.9718677723215,
          173.6398886883071,
          2686.4115146161907,
          8503.538209047576,
          291.4459760871151,
          23610.754241619736,
          61.736195289975434
         ],
         "y": [
          -7825.909790070275,
          18815.056790953895,
          -5503.926804815166,
          14449.221568711197,
          -7500.288027502932,
          3884.2526193903764,
          5456.710151726627,
          3421.9552806076854,
          -10250.16446180725,
          -11822.841007591713,
          -11847.73301428479,
          -4021.7403102277594,
          8517.240901995629,
          -8817.590630554898,
          -9413.170735701842,
          8440.189905537136,
          -1431.5031159240725,
          3741.18678852073,
          -2829.432306617145,
          -6874.959917724459,
          14284.871764984044,
          16649.961822693735,
          19478.506503185414,
          9018.353297969745,
          14198.771050013967,
          -10686.95694419905,
          9605.450625692576,
          11121.000633535337,
          16772.301382425107,
          3376.1385986192167,
          1471.8254184986347,
          7879.991231579819,
          -11252.51062155014,
          -7689.276631701478,
          26460.677131249475,
          19344.13177140108,
          13897.207349224012,
          18551.195785114684,
          8244.299658011669,
          4942.534355595086,
          -5258.208647615159,
          -8700.852780195808,
          -437.9418713691902,
          -3341.1683492516277,
          7792.79949045822,
          4775.804315815884,
          -6581.519346775618,
          7908.7553349495865,
          15591.498562328321,
          19896.74771557493,
          11825.93120873533,
          8807.690574455639,
          7132.676278663206,
          14043.443819811764,
          3683.0076164192124,
          15194.270488561022,
          8830.74576278397,
          10334.509509260934,
          9782.005150022907,
          15429.049253030722,
          13208.598145615519,
          -1967.346938734833
         ],
         "z": [
          2872.209467565649,
          5681.171283321596,
          15735.006233393087,
          -312.03448676832113,
          -593.143644692693,
          -2474.0421932816794,
          -2499.3752862404235,
          -1749.4051463333587,
          -1532.9303731036994,
          10506.788620704967,
          11844.954867147595,
          21370.039298141342,
          -4106.845928710225,
          5318.277696049251,
          -2968.9946762503464,
          -232.28071067562064,
          3045.921459156058,
          15322.56898179994,
          -2731.8107478248357,
          23151.01483705982,
          -5605.962988113489,
          2665.130232462905,
          2701.4638207083813,
          -1964.3362804230792,
          -558.4724444994446,
          14112.326062899509,
          -1261.3670066863176,
          2224.15420587065,
          -6504.485819589424,
          -6805.964690434479,
          17638.15627003975,
          -1037.8129593697518,
          5904.933343162569,
          14910.077301016381,
          -169.75436747465892,
          -396.5479551189493,
          4020.3669038401604,
          1285.7540493145702,
          10301.514142637925,
          19716.664658362606,
          2332.5822192904316,
          1693.018821555501,
          21890.776445447995,
          -2489.163031202318,
          18525.064315018477,
          28141.253541562324,
          -3183.253990572795,
          -2647.5517075581897,
          10968.839964001108,
          6546.155105535336,
          5.98371112866279,
          457.32919565169465,
          -667.7437211496466,
          -2818.902129189275,
          52.21693534858076,
          -4328.011408945677,
          2932.9818168488337,
          -5934.595377078744,
          5867.439498367399,
          -4408.456997412299,
          3139.8288595061435,
          17901.154395554215
         ]
        },
        {
         "marker": {
          "size": 4
         },
         "mode": "markers",
         "name": "Cluster 4",
         "type": "scatter3d",
         "x": [
          -15753.771739604419,
          -14160.666467594625,
          -11005.764398055278,
          3788.6277765935097,
          -8520.081361861687,
          -1720.959743486131,
          -6369.417623933251,
          6014.573393706558,
          -15098.6720143843,
          -7198.561820221874,
          -15271.19416634133,
          -14879.22235693845,
          -17339.92269969811,
          -15785.544051282599,
          -2594.9728913876293,
          -2357.573804355505,
          -13655.92315660756,
          -8503.264654604065,
          -3639.2269303281073,
          -14864.404201962512,
          -10091.087567119033,
          -6026.327356663599,
          -15781.162563923477,
          -8695.376558478813,
          -16782.015338229532,
          -12031.040621631526,
          -962.1956189335651,
          -14578.761965760867,
          -15586.293960708716,
          -3517.1287321258233,
          1120.2910633689562,
          -12025.568867294383,
          -3110.3317348145156,
          -7917.310274004253,
          -8550.884932791318,
          -13672.458937724241,
          -11278.057345309866,
          -3537.6779115792974,
          -15183.414233777168,
          -894.331670349925,
          -14701.103971724195,
          7947.064283659782,
          -10356.562141822462,
          -5822.635384850755,
          -7121.1677317377635,
          -10208.450915073203,
          -12333.954768651605,
          -13610.45122708107,
          -6086.437766242358,
          -346.8715025374821,
          -9345.945214212075,
          -18003.86602065358,
          4497.019882339662,
          -13110.949887437555,
          -15372.22311842921,
          -10909.545002272038,
          -11424.99468947225,
          -7026.2722675199875,
          -15554.017840270248,
          -10085.62198687673,
          -14831.572429538137,
          -16423.505565127543,
          -14833.540098673691,
          -14349.83730064907,
          -7084.718281061856,
          -6673.009139031338,
          -5983.091852013615,
          -12141.80075700643,
          -14092.486023166397,
          -17382.893963538227,
          -14962.216780201754,
          -7268.436224131999,
          -8678.593690996215,
          -9265.24277453507,
          -1668.5485820730523,
          -15083.202968757434,
          -13029.565131748155,
          -10222.871321410637,
          -7894.675340351281,
          -1377.3853763888974,
          -14174.90927980212,
          -7346.393716958946,
          -13189.503364441453,
          -10281.216703571848,
          -9670.00466227864,
          5317.6779659129525,
          -14294.308322643794,
          -11158.265857663608,
          -3507.109327335026,
          -8342.019458638279,
          -4883.301146582786,
          -11495.390702301182,
          -10326.884057504889,
          -9748.060637204306,
          -6050.853862347531,
          -5402.063735595903,
          -12791.232984609758,
          -12129.19643582432,
          -11607.36715520951
         ],
         "y": [
          1822.6466103211735,
          -4608.217116784139,
          3535.921781229601,
          4669.035098670944,
          -8241.737172145713,
          2149.8619299107904,
          7958.917758507108,
          -563.4756354192021,
          9206.967681787297,
          -3562.949161421047,
          -7304.306979671343,
          13004.928386720425,
          4313.588824755162,
          12291.13397550508,
          -12368.454899864753,
          -5629.3832830636575,
          -5883.956454549242,
          -4424.1617724604,
          -3996.4148532172203,
          -2013.4467445322068,
          -149.72863162728845,
          -8680.542777434694,
          -2626.9036610542094,
          617.236042687426,
          1160.3842873573128,
          -940.3540931754432,
          -9123.97599927195,
          -7038.928425300826,
          910.16085978825,
          -7447.951116860774,
          2562.606524760734,
          5159.558883747624,
          -6242.941230328181,
          2276.160193675537,
          -7317.521103380704,
          -3521.572243876969,
          13781.892585775773,
          6194.93869349172,
          4657.554230886845,
          -10908.660503701072,
          2365.3838463136917,
          -11014.954565451262,
          -3146.1692849810893,
          2623.858121258646,
          2318.949532541354,
          5546.696908058591,
          3956.5132374675604,
          1853.0729219148348,
          6916.879939018038,
          152.80988344797404,
          -1765.1331855501016,
          1408.627124438082,
          -7894.967389261356,
          -5208.837641397092,
          -2457.269094783882,
          -557.9739953330277,
          683.7374816526495,
          3793.8807361991226,
          -655.2034001272643,
          3140.870838250468,
          1070.4148215334294,
          -7687.531073343662,
          -3280.3150766048075,
          1018.7607642110071,
          4647.555952025718,
          -6705.349303615221,
          611.6269565551645,
          352.5257580025407,
          -1113.5598269905647,
          3165.5923927872786,
          -6628.2881155240675,
          1441.4743202057837,
          -5.335687118799797,
          -4491.260930456657,
          -3917.4125188627377,
          3188.2554657671058,
          1202.934294633538,
          -10148.40582785031,
          2529.5650488839374,
          -7181.860243564092,
          3843.049284458329,
          -6550.730154032032,
          -1704.7468709696618,
          -3787.6932223009617,
          -349.5808740747867,
          -9110.492162712115,
          -4632.58321866068,
          2297.034500132712,
          -8211.004248309973,
          -7641.938828032486,
          -8987.866389739796,
          8357.391666059848,
          -8039.065413895047,
          -3755.897742400953,
          -4121.285116460785,
          2087.109799826144,
          240.89966230077252,
          -1246.6399771324172,
          2377.7601948165197
         ],
         "z": [
          -6792.5107760066785,
          -440.7229823363256,
          -5829.006299755516,
          -2810.6847936569084,
          -6754.787649513441,
          -5295.5655328193825,
          -4409.04428865509,
          -865.6987946627547,
          -5815.488070212388,
          11251.600727753084,
          -852.3003970892823,
          -12331.540659497961,
          -7850.501337365184,
          -8113.894559081644,
          -9066.578894808581,
          610.9159004358185,
          8539.231515899193,
          9494.534391674235,
          3610.5231260856744,
          -3633.8325327202483,
          7263.338174303757,
          -6986.054972101466,
          -733.5383813293206,
          7276.5809321760935,
          -5168.602219340759,
          462.60373831559946,
          3366.0216743420574,
          -1697.888961476147,
          -5548.097119063137,
          10237.599493222377,
          -2532.494291561744,
          -3296.08566017464,
          5678.959645247078,
          3317.821697390242,
          -5349.478548182151,
          5755.220236970108,
          -4497.7081917021915,
          -11563.648938652412,
          -6964.410688026353,
          6950.166848569846,
          -9161.620205290012,
          -230.21047967919674,
          3549.7496384078486,
          -8476.674353180411,
          12479.517126924322,
          -3431.047519537514,
          -12483.530315098771,
          -1890.970348621478,
          1146.7273228644865,
          -1787.0387582993035,
          1658.7356759571508,
          -3088.6846562801356,
          595.4410392983046,
          1635.2332527135213,
          1652.3946030987252,
          4002.708489213652,
          5090.115955536107,
          8428.542452967104,
          -2169.4779294874565,
          4375.011482222714,
          -1923.498018013359,
          -5654.982068548722,
          -5157.554237897957,
          -7858.624994259029,
          4339.535833631292,
          2263.679026280886,
          8323.621495932475,
          1187.800959286247,
          2272.6284917327375,
          -10964.148782564944,
          -5746.840106808229,
          -7989.586909262604,
          5516.599194659802,
          3891.912119231077,
          -839.5295726110735,
          -8103.557192348121,
          -2224.9913063817808,
          -4401.712371267681,
          -7089.54262006119,
          1753.7017642891628,
          -6575.978803975906,
          11477.29702942423,
          2950.4035918721784,
          2630.0990855704413,
          11277.651350448215,
          -2015.4612585777631,
          1511.8944009055979,
          2166.497130258691,
          8591.111442024518,
          2314.4861090342624,
          -3686.367457945458,
          -9119.449644337856,
          -5789.2868536951055,
          4501.721517868962,
          5105.479090384667,
          9111.676086514632,
          -6332.2981410499315,
          4168.141107471306,
          1902.0088477357956
         ]
        }
       ],
       "layout": {
        "template": {
         "data": {
          "bar": [
           {
            "error_x": {
             "color": "#2a3f5f"
            },
            "error_y": {
             "color": "#2a3f5f"
            },
            "marker": {
             "line": {
              "color": "#E5ECF6",
              "width": 0.5
             }
            },
            "type": "bar"
           }
          ],
          "barpolar": [
           {
            "marker": {
             "line": {
              "color": "#E5ECF6",
              "width": 0.5
             }
            },
            "type": "barpolar"
           }
          ],
          "carpet": [
           {
            "aaxis": {
             "endlinecolor": "#2a3f5f",
             "gridcolor": "white",
             "linecolor": "white",
             "minorgridcolor": "white",
             "startlinecolor": "#2a3f5f"
            },
            "baxis": {
             "endlinecolor": "#2a3f5f",
             "gridcolor": "white",
             "linecolor": "white",
             "minorgridcolor": "white",
             "startlinecolor": "#2a3f5f"
            },
            "type": "carpet"
           }
          ],
          "choropleth": [
           {
            "colorbar": {
             "outlinewidth": 0,
             "ticks": ""
            },
            "type": "choropleth"
           }
          ],
          "contour": [
           {
            "colorbar": {
             "outlinewidth": 0,
             "ticks": ""
            },
            "colorscale": [
             [
              0,
              "#0d0887"
             ],
             [
              0.1111111111111111,
              "#46039f"
             ],
             [
              0.2222222222222222,
              "#7201a8"
             ],
             [
              0.3333333333333333,
              "#9c179e"
             ],
             [
              0.4444444444444444,
              "#bd3786"
             ],
             [
              0.5555555555555556,
              "#d8576b"
             ],
             [
              0.6666666666666666,
              "#ed7953"
             ],
             [
              0.7777777777777778,
              "#fb9f3a"
             ],
             [
              0.8888888888888888,
              "#fdca26"
             ],
             [
              1,
              "#f0f921"
             ]
            ],
            "type": "contour"
           }
          ],
          "contourcarpet": [
           {
            "colorbar": {
             "outlinewidth": 0,
             "ticks": ""
            },
            "type": "contourcarpet"
           }
          ],
          "heatmap": [
           {
            "colorbar": {
             "outlinewidth": 0,
             "ticks": ""
            },
            "colorscale": [
             [
              0,
              "#0d0887"
             ],
             [
              0.1111111111111111,
              "#46039f"
             ],
             [
              0.2222222222222222,
              "#7201a8"
             ],
             [
              0.3333333333333333,
              "#9c179e"
             ],
             [
              0.4444444444444444,
              "#bd3786"
             ],
             [
              0.5555555555555556,
              "#d8576b"
             ],
             [
              0.6666666666666666,
              "#ed7953"
             ],
             [
              0.7777777777777778,
              "#fb9f3a"
             ],
             [
              0.8888888888888888,
              "#fdca26"
             ],
             [
              1,
              "#f0f921"
             ]
            ],
            "type": "heatmap"
           }
          ],
          "heatmapgl": [
           {
            "colorbar": {
             "outlinewidth": 0,
             "ticks": ""
            },
            "colorscale": [
             [
              0,
              "#0d0887"
             ],
             [
              0.1111111111111111,
              "#46039f"
             ],
             [
              0.2222222222222222,
              "#7201a8"
             ],
             [
              0.3333333333333333,
              "#9c179e"
             ],
             [
              0.4444444444444444,
              "#bd3786"
             ],
             [
              0.5555555555555556,
              "#d8576b"
             ],
             [
              0.6666666666666666,
              "#ed7953"
             ],
             [
              0.7777777777777778,
              "#fb9f3a"
             ],
             [
              0.8888888888888888,
              "#fdca26"
             ],
             [
              1,
              "#f0f921"
             ]
            ],
            "type": "heatmapgl"
           }
          ],
          "histogram": [
           {
            "marker": {
             "colorbar": {
              "outlinewidth": 0,
              "ticks": ""
             }
            },
            "type": "histogram"
           }
          ],
          "histogram2d": [
           {
            "colorbar": {
             "outlinewidth": 0,
             "ticks": ""
            },
            "colorscale": [
             [
              0,
              "#0d0887"
             ],
             [
              0.1111111111111111,
              "#46039f"
             ],
             [
              0.2222222222222222,
              "#7201a8"
             ],
             [
              0.3333333333333333,
              "#9c179e"
             ],
             [
              0.4444444444444444,
              "#bd3786"
             ],
             [
              0.5555555555555556,
              "#d8576b"
             ],
             [
              0.6666666666666666,
              "#ed7953"
             ],
             [
              0.7777777777777778,
              "#fb9f3a"
             ],
             [
              0.8888888888888888,
              "#fdca26"
             ],
             [
              1,
              "#f0f921"
             ]
            ],
            "type": "histogram2d"
           }
          ],
          "histogram2dcontour": [
           {
            "colorbar": {
             "outlinewidth": 0,
             "ticks": ""
            },
            "colorscale": [
             [
              0,
              "#0d0887"
             ],
             [
              0.1111111111111111,
              "#46039f"
             ],
             [
              0.2222222222222222,
              "#7201a8"
             ],
             [
              0.3333333333333333,
              "#9c179e"
             ],
             [
              0.4444444444444444,
              "#bd3786"
             ],
             [
              0.5555555555555556,
              "#d8576b"
             ],
             [
              0.6666666666666666,
              "#ed7953"
             ],
             [
              0.7777777777777778,
              "#fb9f3a"
             ],
             [
              0.8888888888888888,
              "#fdca26"
             ],
             [
              1,
              "#f0f921"
             ]
            ],
            "type": "histogram2dcontour"
           }
          ],
          "mesh3d": [
           {
            "colorbar": {
             "outlinewidth": 0,
             "ticks": ""
            },
            "type": "mesh3d"
           }
          ],
          "parcoords": [
           {
            "line": {
             "colorbar": {
              "outlinewidth": 0,
              "ticks": ""
             }
            },
            "type": "parcoords"
           }
          ],
          "pie": [
           {
            "automargin": true,
            "type": "pie"
           }
          ],
          "scatter": [
           {
            "marker": {
             "colorbar": {
              "outlinewidth": 0,
              "ticks": ""
             }
            },
            "type": "scatter"
           }
          ],
          "scatter3d": [
           {
            "line": {
             "colorbar": {
              "outlinewidth": 0,
              "ticks": ""
             }
            },
            "marker": {
             "colorbar": {
              "outlinewidth": 0,
              "ticks": ""
             }
            },
            "type": "scatter3d"
           }
          ],
          "scattercarpet": [
           {
            "marker": {
             "colorbar": {
              "outlinewidth": 0,
              "ticks": ""
             }
            },
            "type": "scattercarpet"
           }
          ],
          "scattergeo": [
           {
            "marker": {
             "colorbar": {
              "outlinewidth": 0,
              "ticks": ""
             }
            },
            "type": "scattergeo"
           }
          ],
          "scattergl": [
           {
            "marker": {
             "colorbar": {
              "outlinewidth": 0,
              "ticks": ""
             }
            },
            "type": "scattergl"
           }
          ],
          "scattermapbox": [
           {
            "marker": {
             "colorbar": {
              "outlinewidth": 0,
              "ticks": ""
             }
            },
            "type": "scattermapbox"
           }
          ],
          "scatterpolar": [
           {
            "marker": {
             "colorbar": {
              "outlinewidth": 0,
              "ticks": ""
             }
            },
            "type": "scatterpolar"
           }
          ],
          "scatterpolargl": [
           {
            "marker": {
             "colorbar": {
              "outlinewidth": 0,
              "ticks": ""
             }
            },
            "type": "scatterpolargl"
           }
          ],
          "scatterternary": [
           {
            "marker": {
             "colorbar": {
              "outlinewidth": 0,
              "ticks": ""
             }
            },
            "type": "scatterternary"
           }
          ],
          "surface": [
           {
            "colorbar": {
             "outlinewidth": 0,
             "ticks": ""
            },
            "colorscale": [
             [
              0,
              "#0d0887"
             ],
             [
              0.1111111111111111,
              "#46039f"
             ],
             [
              0.2222222222222222,
              "#7201a8"
             ],
             [
              0.3333333333333333,
              "#9c179e"
             ],
             [
              0.4444444444444444,
              "#bd3786"
             ],
             [
              0.5555555555555556,
              "#d8576b"
             ],
             [
              0.6666666666666666,
              "#ed7953"
             ],
             [
              0.7777777777777778,
              "#fb9f3a"
             ],
             [
              0.8888888888888888,
              "#fdca26"
             ],
             [
              1,
              "#f0f921"
             ]
            ],
            "type": "surface"
           }
          ],
          "table": [
           {
            "cells": {
             "fill": {
              "color": "#EBF0F8"
             },
             "line": {
              "color": "white"
             }
            },
            "header": {
             "fill": {
              "color": "#C8D4E3"
             },
             "line": {
              "color": "white"
             }
            },
            "type": "table"
           }
          ]
         },
         "layout": {
          "annotationdefaults": {
           "arrowcolor": "#2a3f5f",
           "arrowhead": 0,
           "arrowwidth": 1
          },
          "coloraxis": {
           "colorbar": {
            "outlinewidth": 0,
            "ticks": ""
           }
          },
          "colorscale": {
           "diverging": [
            [
             0,
             "#8e0152"
            ],
            [
             0.1,
             "#c51b7d"
            ],
            [
             0.2,
             "#de77ae"
            ],
            [
             0.3,
             "#f1b6da"
            ],
            [
             0.4,
             "#fde0ef"
            ],
            [
             0.5,
             "#f7f7f7"
            ],
            [
             0.6,
             "#e6f5d0"
            ],
            [
             0.7,
             "#b8e186"
            ],
            [
             0.8,
             "#7fbc41"
            ],
            [
             0.9,
             "#4d9221"
            ],
            [
             1,
             "#276419"
            ]
           ],
           "sequential": [
            [
             0,
             "#0d0887"
            ],
            [
             0.1111111111111111,
             "#46039f"
            ],
            [
             0.2222222222222222,
             "#7201a8"
            ],
            [
             0.3333333333333333,
             "#9c179e"
            ],
            [
             0.4444444444444444,
             "#bd3786"
            ],
            [
             0.5555555555555556,
             "#d8576b"
            ],
            [
             0.6666666666666666,
             "#ed7953"
            ],
            [
             0.7777777777777778,
             "#fb9f3a"
            ],
            [
             0.8888888888888888,
             "#fdca26"
            ],
            [
             1,
             "#f0f921"
            ]
           ],
           "sequentialminus": [
            [
             0,
             "#0d0887"
            ],
            [
             0.1111111111111111,
             "#46039f"
            ],
            [
             0.2222222222222222,
             "#7201a8"
            ],
            [
             0.3333333333333333,
             "#9c179e"
            ],
            [
             0.4444444444444444,
             "#bd3786"
            ],
            [
             0.5555555555555556,
             "#d8576b"
            ],
            [
             0.6666666666666666,
             "#ed7953"
            ],
            [
             0.7777777777777778,
             "#fb9f3a"
            ],
            [
             0.8888888888888888,
             "#fdca26"
            ],
            [
             1,
             "#f0f921"
            ]
           ]
          },
          "colorway": [
           "#636efa",
           "#EF553B",
           "#00cc96",
           "#ab63fa",
           "#FFA15A",
           "#19d3f3",
           "#FF6692",
           "#B6E880",
           "#FF97FF",
           "#FECB52"
          ],
          "font": {
           "color": "#2a3f5f"
          },
          "geo": {
           "bgcolor": "white",
           "lakecolor": "white",
           "landcolor": "#E5ECF6",
           "showlakes": true,
           "showland": true,
           "subunitcolor": "white"
          },
          "hoverlabel": {
           "align": "left"
          },
          "hovermode": "closest",
          "mapbox": {
           "style": "light"
          },
          "paper_bgcolor": "white",
          "plot_bgcolor": "#E5ECF6",
          "polar": {
           "angularaxis": {
            "gridcolor": "white",
            "linecolor": "white",
            "ticks": ""
           },
           "bgcolor": "#E5ECF6",
           "radialaxis": {
            "gridcolor": "white",
            "linecolor": "white",
            "ticks": ""
           }
          },
          "scene": {
           "xaxis": {
            "backgroundcolor": "#E5ECF6",
            "gridcolor": "white",
            "gridwidth": 2,
            "linecolor": "white",
            "showbackground": true,
            "ticks": "",
            "zerolinecolor": "white"
           },
           "yaxis": {
            "backgroundcolor": "#E5ECF6",
            "gridcolor": "white",
            "gridwidth": 2,
            "linecolor": "white",
            "showbackground": true,
            "ticks": "",
            "zerolinecolor": "white"
           },
           "zaxis": {
            "backgroundcolor": "#E5ECF6",
            "gridcolor": "white",
            "gridwidth": 2,
            "linecolor": "white",
            "showbackground": true,
            "ticks": "",
            "zerolinecolor": "white"
           }
          },
          "shapedefaults": {
           "line": {
            "color": "#2a3f5f"
           }
          },
          "ternary": {
           "aaxis": {
            "gridcolor": "white",
            "linecolor": "white",
            "ticks": ""
           },
           "baxis": {
            "gridcolor": "white",
            "linecolor": "white",
            "ticks": ""
           },
           "bgcolor": "#E5ECF6",
           "caxis": {
            "gridcolor": "white",
            "linecolor": "white",
            "ticks": ""
           }
          },
          "title": {
           "x": 0.05
          },
          "xaxis": {
           "automargin": true,
           "gridcolor": "white",
           "linecolor": "white",
           "ticks": "",
           "title": {
            "standoff": 15
           },
           "zerolinecolor": "white",
           "zerolinewidth": 2
          },
          "yaxis": {
           "automargin": true,
           "gridcolor": "white",
           "linecolor": "white",
           "ticks": "",
           "title": {
            "standoff": 15
           },
           "zerolinecolor": "white",
           "zerolinewidth": 2
          }
         }
        }
       }
      },
      "text/html": [
       "<div>\n",
       "        \n",
       "        \n",
       "            <div id=\"0cdc7062-b226-427e-939a-7f6285c9738b\" class=\"plotly-graph-div\" style=\"height:525px; width:100%;\"></div>\n",
       "            <script type=\"text/javascript\">\n",
       "                require([\"plotly\"], function(Plotly) {\n",
       "                    window.PLOTLYENV=window.PLOTLYENV || {};\n",
       "                    \n",
       "                if (document.getElementById(\"0cdc7062-b226-427e-939a-7f6285c9738b\")) {\n",
       "                    Plotly.newPlot(\n",
       "                        '0cdc7062-b226-427e-939a-7f6285c9738b',\n",
       "                        [{\"marker\": {\"size\": 4}, \"mode\": \"markers\", \"name\": \"Cluster 1\", \"type\": \"scatter3d\", \"x\": [-15476.001363769008, 5305.460593482677, -17239.15846269375, 5305.646471776753, 5301.226196011033, -18955.84546887566, -17346.844872128826, -18025.34131919599, 5304.3358436875915, 5305.6157685742255, 5299.891454701582, 5305.7985763036895, 5305.086428597092, 5305.512421719654, 5305.692109356383, -18205.510545080353, 5305.674020668246, 5305.71095008811, 5305.778382772662, 5305.5599331801395, 5305.774098596204, 5305.773065032807, 5305.829339602859, 5305.17593861026, 5305.828866147731, 5305.652336166409, 5305.739176982398, -17837.0144626121, 5304.7375286061015, -17785.045239174415, 5304.817878653977, 5305.74467041348, 5305.7697469003715, -15294.682121581327, 5305.680616993241, 5305.746606650198, -19763.513703581924, -16242.593546831598, 5305.725114091174, 5305.741418504549, 5305.777634767007, 5305.7161531188585, 5305.70599893944, 5305.505567437276, 5305.648490438427, 5305.674644191741, 5305.741120924851, 5305.750333049948, -18128.485447097548, 5305.6969638286155, 5305.762111150323, 5305.7201952592495], \"y\": [-6280.8455793811845, -179.58736661788396, -2365.391811982019, -179.6051994572428, -179.18071701761247, -6637.966861735762, -4611.684083285861, -1653.5505757723586, -179.47931632825146, -179.6022464873007, -179.05246865956406, -179.61980691879214, -179.55140882256774, -179.5923299327939, -179.6095930661699, -7137.590548083843, -179.60785650608142, -179.61140149375524, -179.61787493258322, -179.5968887782738, -179.61746296961346, -179.61736371203187, -179.6227648787085, -179.56000726346946, -179.622719259358, -179.60577403924037, -179.61410409743695, -4162.183125276809, -179.5178985146786, -6963.241799650085, -179.52562309813413, -179.61463837750316, -179.61704550108607, -7280.5538356449615, -179.6084898922834, -179.61482419163195, -2153.420818375146, -4679.352826848211, -179.6127609166777, -179.61432643405834, -179.61780302148713, -179.61190131390958, -179.610926062837, -179.59167732591908, -179.60540559964917, -179.6079159485745, -179.6142975963763, -179.61518219867048, -4027.1165001626814, -179.61005878406775, -179.6163124794374, -179.61228884522723], \"z\": [-2462.1487944490063, -1672.4796903879237, -4774.140877726361, -1672.6796357931198, -1667.918803665819, -4325.969492861628, -4516.1211376763595, -4241.224311620853, -1671.2676991963012, -1672.64650042014, -1666.4801638660922, -1672.843470128474, -1672.0763078785994, -1672.5353081969986, -1672.7289517658182, -3561.8234055779553, -1672.7094769803143, -1672.74923134328, -1672.8218272560498, -1672.5864253023153, -1672.817204890294, -1672.8160916422494, -1672.8766587043403, -1672.172754344674, -1672.876146511684, -1672.686120521652, -1672.779514218068, -2825.6351299168514, -1671.7004507957356, -3049.405067729442, -1671.7871168771742, -1672.78553037135, -1672.8125242386577, -255.04808717051344, -1672.716580570733, -1672.787613951754, -5014.706690054031, -97.30295906677438, -1672.7644754294017, -1672.7820329360306, -1672.8210204471477, -1672.7548377327826, -1672.7438992045525, -1672.528008689435, -1672.68199131867, -1672.710142125541, -1672.781708580558, -1672.791629779993, -2987.7604911469707, -1672.7341734483311, -1672.8043038171536, -1672.7591818758312]}, {\"marker\": {\"size\": 4}, \"mode\": \"markers\", \"name\": \"Cluster 2\", \"type\": \"scatter3d\", \"x\": [19499.470818219765, 26513.06697826808, 34727.5009471771, 30965.1684009147, 5844.037876005797, 34889.916469432545, 26190.517932717317, 27267.803986033683, 18037.311107441208, 28699.04791894899, 27577.837329081325, 24655.646078195554, 11354.318149264645, 39922.837607233596, 30938.601262462318, 36849.777642181405, 21347.735339111572, 34701.1749169277, 31992.122549908872, 34230.37470306495], \"y\": [-13093.870498310542, -15612.238823332904, 4759.312823383915, -13647.991098382125, -18583.65595951889, -7278.089150199563, -6033.395765072165, -12107.604812325802, 10199.921937809817, -11292.465892209073, -2947.3671476214363, -3738.680047787728, -17620.143507637767, -7738.668083741189, -11321.04609596937, -12564.18538644888, 6893.17380811867, -9838.413091338087, -4151.132649597806, 3775.1379305510636], \"z\": [-1000.0334008817044, -9939.777574233718, -3223.039775438798, -4273.990289704845, -7900.558674900423, -5155.2352466021, -4826.861160070833, -15856.371155024797, 1.4664878392545688, -14233.547030601345, 22439.30618878156, -1849.198093676217, -7369.79250152608, -7118.945125995326, -3710.356902068599, -8745.06462408482, -3928.163486101291, -8544.033960657925, -6600.9617627305815, -10254.043124164727]}, {\"marker\": {\"size\": 4}, \"mode\": \"markers\", \"name\": \"Cluster 3\", \"type\": \"scatter3d\", \"x\": [10643.091947943274, 14947.272684101228, 10774.386222868063, 10922.073083387972, 4742.710125687865, 4982.325255219757, 4491.414627015709, 4755.000601343767, 9211.491130820852, 2145.663454341677, 1269.2339202518901, 2515.976510226774, 7298.128217062822, 5223.130541083646, 3046.2646005833644, 2857.983330808952, 463.93334182155985, 1995.437044439529, 5438.5898303676495, 11361.390357655322, 4152.091112587367, 28778.15020561978, 10402.461413334957, 1164.6000258592137, 9842.84385422088, 60.66271664362068, 5027.576924712745, 9684.94573295723, 530.7940382796497, 2285.729870728847, -3041.104607476194, 9811.688274904833, 7072.598131018177, -282.4422825741406, -8693.422070322225, 20033.251261560425, 19572.299114202007, 2876.6672368536906, 1784.6307030914736, 1495.9332074788626, 7996.885226767966, 4580.005166715206, 5960.208566375284, 15439.669560907601, 3221.5818407271154, 2984.8981029003157, 470.1519319071356, 3515.6927722686437, 70.58030899263565, 16286.756576995836, 3208.886587800601, 5154.674369035151, 6154.497459855297, 8669.7076577437, 11672.860417292617, 843.9718677723215, 173.6398886883071, 2686.4115146161907, 8503.538209047576, 291.4459760871151, 23610.754241619736, 61.736195289975434], \"y\": [-7825.909790070275, 18815.056790953895, -5503.926804815166, 14449.221568711197, -7500.288027502932, 3884.2526193903764, 5456.710151726627, 3421.9552806076854, -10250.16446180725, -11822.841007591713, -11847.73301428479, -4021.7403102277594, 8517.240901995629, -8817.590630554898, -9413.170735701842, 8440.189905537136, -1431.5031159240725, 3741.18678852073, -2829.432306617145, -6874.959917724459, 14284.871764984044, 16649.961822693735, 19478.506503185414, 9018.353297969745, 14198.771050013967, -10686.95694419905, 9605.450625692576, 11121.000633535337, 16772.301382425107, 3376.1385986192167, 1471.8254184986347, 7879.991231579819, -11252.51062155014, -7689.276631701478, 26460.677131249475, 19344.13177140108, 13897.207349224012, 18551.195785114684, 8244.299658011669, 4942.534355595086, -5258.208647615159, -8700.852780195808, -437.9418713691902, -3341.1683492516277, 7792.79949045822, 4775.804315815884, -6581.519346775618, 7908.7553349495865, 15591.498562328321, 19896.74771557493, 11825.93120873533, 8807.690574455639, 7132.676278663206, 14043.443819811764, 3683.0076164192124, 15194.270488561022, 8830.74576278397, 10334.509509260934, 9782.005150022907, 15429.049253030722, 13208.598145615519, -1967.346938734833], \"z\": [2872.209467565649, 5681.171283321596, 15735.006233393087, -312.03448676832113, -593.143644692693, -2474.0421932816794, -2499.3752862404235, -1749.4051463333587, -1532.9303731036994, 10506.788620704967, 11844.954867147595, 21370.039298141342, -4106.845928710225, 5318.277696049251, -2968.9946762503464, -232.28071067562064, 3045.921459156058, 15322.56898179994, -2731.8107478248357, 23151.01483705982, -5605.962988113489, 2665.130232462905, 2701.4638207083813, -1964.3362804230792, -558.4724444994446, 14112.326062899509, -1261.3670066863176, 2224.15420587065, -6504.485819589424, -6805.964690434479, 17638.15627003975, -1037.8129593697518, 5904.933343162569, 14910.077301016381, -169.75436747465892, -396.5479551189493, 4020.3669038401604, 1285.7540493145702, 10301.514142637925, 19716.664658362606, 2332.5822192904316, 1693.018821555501, 21890.776445447995, -2489.163031202318, 18525.064315018477, 28141.253541562324, -3183.253990572795, -2647.5517075581897, 10968.839964001108, 6546.155105535336, 5.98371112866279, 457.32919565169465, -667.7437211496466, -2818.902129189275, 52.21693534858076, -4328.011408945677, 2932.9818168488337, -5934.595377078744, 5867.439498367399, -4408.456997412299, 3139.8288595061435, 17901.154395554215]}, {\"marker\": {\"size\": 4}, \"mode\": \"markers\", \"name\": \"Cluster 4\", \"type\": \"scatter3d\", \"x\": [-15753.771739604419, -14160.666467594625, -11005.764398055278, 3788.6277765935097, -8520.081361861687, -1720.959743486131, -6369.417623933251, 6014.573393706558, -15098.6720143843, -7198.561820221874, -15271.19416634133, -14879.22235693845, -17339.92269969811, -15785.544051282599, -2594.9728913876293, -2357.573804355505, -13655.92315660756, -8503.264654604065, -3639.2269303281073, -14864.404201962512, -10091.087567119033, -6026.327356663599, -15781.162563923477, -8695.376558478813, -16782.015338229532, -12031.040621631526, -962.1956189335651, -14578.761965760867, -15586.293960708716, -3517.1287321258233, 1120.2910633689562, -12025.568867294383, -3110.3317348145156, -7917.310274004253, -8550.884932791318, -13672.458937724241, -11278.057345309866, -3537.6779115792974, -15183.414233777168, -894.331670349925, -14701.103971724195, 7947.064283659782, -10356.562141822462, -5822.635384850755, -7121.1677317377635, -10208.450915073203, -12333.954768651605, -13610.45122708107, -6086.437766242358, -346.8715025374821, -9345.945214212075, -18003.86602065358, 4497.019882339662, -13110.949887437555, -15372.22311842921, -10909.545002272038, -11424.99468947225, -7026.2722675199875, -15554.017840270248, -10085.62198687673, -14831.572429538137, -16423.505565127543, -14833.540098673691, -14349.83730064907, -7084.718281061856, -6673.009139031338, -5983.091852013615, -12141.80075700643, -14092.486023166397, -17382.893963538227, -14962.216780201754, -7268.436224131999, -8678.593690996215, -9265.24277453507, -1668.5485820730523, -15083.202968757434, -13029.565131748155, -10222.871321410637, -7894.675340351281, -1377.3853763888974, -14174.90927980212, -7346.393716958946, -13189.503364441453, -10281.216703571848, -9670.00466227864, 5317.6779659129525, -14294.308322643794, -11158.265857663608, -3507.109327335026, -8342.019458638279, -4883.301146582786, -11495.390702301182, -10326.884057504889, -9748.060637204306, -6050.853862347531, -5402.063735595903, -12791.232984609758, -12129.19643582432, -11607.36715520951], \"y\": [1822.6466103211735, -4608.217116784139, 3535.921781229601, 4669.035098670944, -8241.737172145713, 2149.8619299107904, 7958.917758507108, -563.4756354192021, 9206.967681787297, -3562.949161421047, -7304.306979671343, 13004.928386720425, 4313.588824755162, 12291.13397550508, -12368.454899864753, -5629.3832830636575, -5883.956454549242, -4424.1617724604, -3996.4148532172203, -2013.4467445322068, -149.72863162728845, -8680.542777434694, -2626.9036610542094, 617.236042687426, 1160.3842873573128, -940.3540931754432, -9123.97599927195, -7038.928425300826, 910.16085978825, -7447.951116860774, 2562.606524760734, 5159.558883747624, -6242.941230328181, 2276.160193675537, -7317.521103380704, -3521.572243876969, 13781.892585775773, 6194.93869349172, 4657.554230886845, -10908.660503701072, 2365.3838463136917, -11014.954565451262, -3146.1692849810893, 2623.858121258646, 2318.949532541354, 5546.696908058591, 3956.5132374675604, 1853.0729219148348, 6916.879939018038, 152.80988344797404, -1765.1331855501016, 1408.627124438082, -7894.967389261356, -5208.837641397092, -2457.269094783882, -557.9739953330277, 683.7374816526495, 3793.8807361991226, -655.2034001272643, 3140.870838250468, 1070.4148215334294, -7687.531073343662, -3280.3150766048075, 1018.7607642110071, 4647.555952025718, -6705.349303615221, 611.6269565551645, 352.5257580025407, -1113.5598269905647, 3165.5923927872786, -6628.2881155240675, 1441.4743202057837, -5.335687118799797, -4491.260930456657, -3917.4125188627377, 3188.2554657671058, 1202.934294633538, -10148.40582785031, 2529.5650488839374, -7181.860243564092, 3843.049284458329, -6550.730154032032, -1704.7468709696618, -3787.6932223009617, -349.5808740747867, -9110.492162712115, -4632.58321866068, 2297.034500132712, -8211.004248309973, -7641.938828032486, -8987.866389739796, 8357.391666059848, -8039.065413895047, -3755.897742400953, -4121.285116460785, 2087.109799826144, 240.89966230077252, -1246.6399771324172, 2377.7601948165197], \"z\": [-6792.5107760066785, -440.7229823363256, -5829.006299755516, -2810.6847936569084, -6754.787649513441, -5295.5655328193825, -4409.04428865509, -865.6987946627547, -5815.488070212388, 11251.600727753084, -852.3003970892823, -12331.540659497961, -7850.501337365184, -8113.894559081644, -9066.578894808581, 610.9159004358185, 8539.231515899193, 9494.534391674235, 3610.5231260856744, -3633.8325327202483, 7263.338174303757, -6986.054972101466, -733.5383813293206, 7276.5809321760935, -5168.602219340759, 462.60373831559946, 3366.0216743420574, -1697.888961476147, -5548.097119063137, 10237.599493222377, -2532.494291561744, -3296.08566017464, 5678.959645247078, 3317.821697390242, -5349.478548182151, 5755.220236970108, -4497.7081917021915, -11563.648938652412, -6964.410688026353, 6950.166848569846, -9161.620205290012, -230.21047967919674, 3549.7496384078486, -8476.674353180411, 12479.517126924322, -3431.047519537514, -12483.530315098771, -1890.970348621478, 1146.7273228644865, -1787.0387582993035, 1658.7356759571508, -3088.6846562801356, 595.4410392983046, 1635.2332527135213, 1652.3946030987252, 4002.708489213652, 5090.115955536107, 8428.542452967104, -2169.4779294874565, 4375.011482222714, -1923.498018013359, -5654.982068548722, -5157.554237897957, -7858.624994259029, 4339.535833631292, 2263.679026280886, 8323.621495932475, 1187.800959286247, 2272.6284917327375, -10964.148782564944, -5746.840106808229, -7989.586909262604, 5516.599194659802, 3891.912119231077, -839.5295726110735, -8103.557192348121, -2224.9913063817808, -4401.712371267681, -7089.54262006119, 1753.7017642891628, -6575.978803975906, 11477.29702942423, 2950.4035918721784, 2630.0990855704413, 11277.651350448215, -2015.4612585777631, 1511.8944009055979, 2166.497130258691, 8591.111442024518, 2314.4861090342624, -3686.367457945458, -9119.449644337856, -5789.2868536951055, 4501.721517868962, 5105.479090384667, 9111.676086514632, -6332.2981410499315, 4168.141107471306, 1902.0088477357956]}],\n",
       "                        {\"template\": {\"data\": {\"bar\": [{\"error_x\": {\"color\": \"#2a3f5f\"}, \"error_y\": {\"color\": \"#2a3f5f\"}, \"marker\": {\"line\": {\"color\": \"#E5ECF6\", \"width\": 0.5}}, \"type\": \"bar\"}], \"barpolar\": [{\"marker\": {\"line\": {\"color\": \"#E5ECF6\", \"width\": 0.5}}, \"type\": \"barpolar\"}], \"carpet\": [{\"aaxis\": {\"endlinecolor\": \"#2a3f5f\", \"gridcolor\": \"white\", \"linecolor\": \"white\", \"minorgridcolor\": \"white\", \"startlinecolor\": \"#2a3f5f\"}, \"baxis\": {\"endlinecolor\": \"#2a3f5f\", \"gridcolor\": \"white\", \"linecolor\": \"white\", \"minorgridcolor\": \"white\", \"startlinecolor\": \"#2a3f5f\"}, \"type\": \"carpet\"}], \"choropleth\": [{\"colorbar\": {\"outlinewidth\": 0, \"ticks\": \"\"}, \"type\": \"choropleth\"}], \"contour\": [{\"colorbar\": {\"outlinewidth\": 0, \"ticks\": \"\"}, \"colorscale\": [[0.0, \"#0d0887\"], [0.1111111111111111, \"#46039f\"], [0.2222222222222222, \"#7201a8\"], [0.3333333333333333, \"#9c179e\"], [0.4444444444444444, \"#bd3786\"], [0.5555555555555556, \"#d8576b\"], [0.6666666666666666, \"#ed7953\"], [0.7777777777777778, \"#fb9f3a\"], [0.8888888888888888, \"#fdca26\"], [1.0, \"#f0f921\"]], \"type\": \"contour\"}], \"contourcarpet\": [{\"colorbar\": {\"outlinewidth\": 0, \"ticks\": \"\"}, \"type\": \"contourcarpet\"}], \"heatmap\": [{\"colorbar\": {\"outlinewidth\": 0, \"ticks\": \"\"}, \"colorscale\": [[0.0, \"#0d0887\"], [0.1111111111111111, \"#46039f\"], [0.2222222222222222, \"#7201a8\"], [0.3333333333333333, \"#9c179e\"], [0.4444444444444444, \"#bd3786\"], [0.5555555555555556, \"#d8576b\"], [0.6666666666666666, \"#ed7953\"], [0.7777777777777778, \"#fb9f3a\"], [0.8888888888888888, \"#fdca26\"], [1.0, \"#f0f921\"]], \"type\": \"heatmap\"}], \"heatmapgl\": [{\"colorbar\": {\"outlinewidth\": 0, \"ticks\": \"\"}, \"colorscale\": [[0.0, \"#0d0887\"], [0.1111111111111111, \"#46039f\"], [0.2222222222222222, \"#7201a8\"], [0.3333333333333333, \"#9c179e\"], [0.4444444444444444, \"#bd3786\"], [0.5555555555555556, \"#d8576b\"], [0.6666666666666666, \"#ed7953\"], [0.7777777777777778, \"#fb9f3a\"], [0.8888888888888888, \"#fdca26\"], [1.0, \"#f0f921\"]], \"type\": \"heatmapgl\"}], \"histogram\": [{\"marker\": {\"colorbar\": {\"outlinewidth\": 0, \"ticks\": \"\"}}, \"type\": \"histogram\"}], \"histogram2d\": [{\"colorbar\": {\"outlinewidth\": 0, \"ticks\": \"\"}, \"colorscale\": [[0.0, \"#0d0887\"], [0.1111111111111111, \"#46039f\"], [0.2222222222222222, \"#7201a8\"], [0.3333333333333333, \"#9c179e\"], [0.4444444444444444, \"#bd3786\"], [0.5555555555555556, \"#d8576b\"], [0.6666666666666666, \"#ed7953\"], [0.7777777777777778, \"#fb9f3a\"], [0.8888888888888888, \"#fdca26\"], [1.0, \"#f0f921\"]], \"type\": \"histogram2d\"}], \"histogram2dcontour\": [{\"colorbar\": {\"outlinewidth\": 0, \"ticks\": \"\"}, \"colorscale\": [[0.0, \"#0d0887\"], [0.1111111111111111, \"#46039f\"], [0.2222222222222222, \"#7201a8\"], [0.3333333333333333, \"#9c179e\"], [0.4444444444444444, \"#bd3786\"], [0.5555555555555556, \"#d8576b\"], [0.6666666666666666, \"#ed7953\"], [0.7777777777777778, \"#fb9f3a\"], [0.8888888888888888, \"#fdca26\"], [1.0, \"#f0f921\"]], \"type\": \"histogram2dcontour\"}], \"mesh3d\": [{\"colorbar\": {\"outlinewidth\": 0, \"ticks\": \"\"}, \"type\": \"mesh3d\"}], \"parcoords\": [{\"line\": {\"colorbar\": {\"outlinewidth\": 0, \"ticks\": \"\"}}, \"type\": \"parcoords\"}], \"pie\": [{\"automargin\": true, \"type\": \"pie\"}], \"scatter\": [{\"marker\": {\"colorbar\": {\"outlinewidth\": 0, \"ticks\": \"\"}}, \"type\": \"scatter\"}], \"scatter3d\": [{\"line\": {\"colorbar\": {\"outlinewidth\": 0, \"ticks\": \"\"}}, \"marker\": {\"colorbar\": {\"outlinewidth\": 0, \"ticks\": \"\"}}, \"type\": \"scatter3d\"}], \"scattercarpet\": [{\"marker\": {\"colorbar\": {\"outlinewidth\": 0, \"ticks\": \"\"}}, \"type\": \"scattercarpet\"}], \"scattergeo\": [{\"marker\": {\"colorbar\": {\"outlinewidth\": 0, \"ticks\": \"\"}}, \"type\": \"scattergeo\"}], \"scattergl\": [{\"marker\": {\"colorbar\": {\"outlinewidth\": 0, \"ticks\": \"\"}}, \"type\": \"scattergl\"}], \"scattermapbox\": [{\"marker\": {\"colorbar\": {\"outlinewidth\": 0, \"ticks\": \"\"}}, \"type\": \"scattermapbox\"}], \"scatterpolar\": [{\"marker\": {\"colorbar\": {\"outlinewidth\": 0, \"ticks\": \"\"}}, \"type\": \"scatterpolar\"}], \"scatterpolargl\": [{\"marker\": {\"colorbar\": {\"outlinewidth\": 0, \"ticks\": \"\"}}, \"type\": \"scatterpolargl\"}], \"scatterternary\": [{\"marker\": {\"colorbar\": {\"outlinewidth\": 0, \"ticks\": \"\"}}, \"type\": \"scatterternary\"}], \"surface\": [{\"colorbar\": {\"outlinewidth\": 0, \"ticks\": \"\"}, \"colorscale\": [[0.0, \"#0d0887\"], [0.1111111111111111, \"#46039f\"], [0.2222222222222222, \"#7201a8\"], [0.3333333333333333, \"#9c179e\"], [0.4444444444444444, \"#bd3786\"], [0.5555555555555556, \"#d8576b\"], [0.6666666666666666, \"#ed7953\"], [0.7777777777777778, \"#fb9f3a\"], [0.8888888888888888, \"#fdca26\"], [1.0, \"#f0f921\"]], \"type\": \"surface\"}], \"table\": [{\"cells\": {\"fill\": {\"color\": \"#EBF0F8\"}, \"line\": {\"color\": \"white\"}}, \"header\": {\"fill\": {\"color\": \"#C8D4E3\"}, \"line\": {\"color\": \"white\"}}, \"type\": \"table\"}]}, \"layout\": {\"annotationdefaults\": {\"arrowcolor\": \"#2a3f5f\", \"arrowhead\": 0, \"arrowwidth\": 1}, \"coloraxis\": {\"colorbar\": {\"outlinewidth\": 0, \"ticks\": \"\"}}, \"colorscale\": {\"diverging\": [[0, \"#8e0152\"], [0.1, \"#c51b7d\"], [0.2, \"#de77ae\"], [0.3, \"#f1b6da\"], [0.4, \"#fde0ef\"], [0.5, \"#f7f7f7\"], [0.6, \"#e6f5d0\"], [0.7, \"#b8e186\"], [0.8, \"#7fbc41\"], [0.9, \"#4d9221\"], [1, \"#276419\"]], \"sequential\": [[0.0, \"#0d0887\"], [0.1111111111111111, \"#46039f\"], [0.2222222222222222, \"#7201a8\"], [0.3333333333333333, \"#9c179e\"], [0.4444444444444444, \"#bd3786\"], [0.5555555555555556, \"#d8576b\"], [0.6666666666666666, \"#ed7953\"], [0.7777777777777778, \"#fb9f3a\"], [0.8888888888888888, \"#fdca26\"], [1.0, \"#f0f921\"]], \"sequentialminus\": [[0.0, \"#0d0887\"], [0.1111111111111111, \"#46039f\"], [0.2222222222222222, \"#7201a8\"], [0.3333333333333333, \"#9c179e\"], [0.4444444444444444, \"#bd3786\"], [0.5555555555555556, \"#d8576b\"], [0.6666666666666666, \"#ed7953\"], [0.7777777777777778, \"#fb9f3a\"], [0.8888888888888888, \"#fdca26\"], [1.0, \"#f0f921\"]]}, \"colorway\": [\"#636efa\", \"#EF553B\", \"#00cc96\", \"#ab63fa\", \"#FFA15A\", \"#19d3f3\", \"#FF6692\", \"#B6E880\", \"#FF97FF\", \"#FECB52\"], \"font\": {\"color\": \"#2a3f5f\"}, \"geo\": {\"bgcolor\": \"white\", \"lakecolor\": \"white\", \"landcolor\": \"#E5ECF6\", \"showlakes\": true, \"showland\": true, \"subunitcolor\": \"white\"}, \"hoverlabel\": {\"align\": \"left\"}, \"hovermode\": \"closest\", \"mapbox\": {\"style\": \"light\"}, \"paper_bgcolor\": \"white\", \"plot_bgcolor\": \"#E5ECF6\", \"polar\": {\"angularaxis\": {\"gridcolor\": \"white\", \"linecolor\": \"white\", \"ticks\": \"\"}, \"bgcolor\": \"#E5ECF6\", \"radialaxis\": {\"gridcolor\": \"white\", \"linecolor\": \"white\", \"ticks\": \"\"}}, \"scene\": {\"xaxis\": {\"backgroundcolor\": \"#E5ECF6\", \"gridcolor\": \"white\", \"gridwidth\": 2, \"linecolor\": \"white\", \"showbackground\": true, \"ticks\": \"\", \"zerolinecolor\": \"white\"}, \"yaxis\": {\"backgroundcolor\": \"#E5ECF6\", \"gridcolor\": \"white\", \"gridwidth\": 2, \"linecolor\": \"white\", \"showbackground\": true, \"ticks\": \"\", \"zerolinecolor\": \"white\"}, \"zaxis\": {\"backgroundcolor\": \"#E5ECF6\", \"gridcolor\": \"white\", \"gridwidth\": 2, \"linecolor\": \"white\", \"showbackground\": true, \"ticks\": \"\", \"zerolinecolor\": \"white\"}}, \"shapedefaults\": {\"line\": {\"color\": \"#2a3f5f\"}}, \"ternary\": {\"aaxis\": {\"gridcolor\": \"white\", \"linecolor\": \"white\", \"ticks\": \"\"}, \"baxis\": {\"gridcolor\": \"white\", \"linecolor\": \"white\", \"ticks\": \"\"}, \"bgcolor\": \"#E5ECF6\", \"caxis\": {\"gridcolor\": \"white\", \"linecolor\": \"white\", \"ticks\": \"\"}}, \"title\": {\"x\": 0.05}, \"xaxis\": {\"automargin\": true, \"gridcolor\": \"white\", \"linecolor\": \"white\", \"ticks\": \"\", \"title\": {\"standoff\": 15}, \"zerolinecolor\": \"white\", \"zerolinewidth\": 2}, \"yaxis\": {\"automargin\": true, \"gridcolor\": \"white\", \"linecolor\": \"white\", \"ticks\": \"\", \"title\": {\"standoff\": 15}, \"zerolinecolor\": \"white\", \"zerolinewidth\": 2}}}},\n",
       "                        {\"responsive\": true}\n",
       "                    ).then(function(){\n",
       "                            \n",
       "var gd = document.getElementById('0cdc7062-b226-427e-939a-7f6285c9738b');\n",
       "var x = new MutationObserver(function (mutations, observer) {{\n",
       "        var display = window.getComputedStyle(gd).display;\n",
       "        if (!display || display === 'none') {{\n",
       "            console.log([gd, 'removed!']);\n",
       "            Plotly.purge(gd);\n",
       "            observer.disconnect();\n",
       "        }}\n",
       "}});\n",
       "\n",
       "// Listen for the removal of the full notebook cells\n",
       "var notebookContainer = gd.closest('#notebook-container');\n",
       "if (notebookContainer) {{\n",
       "    x.observe(notebookContainer, {childList: true});\n",
       "}}\n",
       "\n",
       "// Listen for the clearing of the current output cell\n",
       "var outputEl = gd.closest('.output');\n",
       "if (outputEl) {{\n",
       "    x.observe(outputEl, {childList: true});\n",
       "}}\n",
       "\n",
       "                        })\n",
       "                };\n",
       "                });\n",
       "            </script>\n",
       "        </div>"
      ]
     },
     "metadata": {},
     "output_type": "display_data"
    }
   ],
   "source": [
    "gmm_clusters = gmm_cluster(cluster_data, n_models=4)"
   ]
  },
  {
   "cell_type": "markdown",
   "metadata": {},
   "source": [
    "### Clustering with variational bayesian Gaussian Mixture models\n",
    "Using this algorithm one still has to set a number of clusters, but the model can ignore this number if the priors belonging to certain clusters are below a defined threshold"
   ]
  },
  {
   "cell_type": "code",
   "execution_count": 42,
   "metadata": {},
   "outputs": [
    {
     "data": {
      "application/vnd.plotly.v1+json": {
       "config": {
        "plotlyServerURL": "https://plot.ly"
       },
       "data": [
        {
         "marker": {
          "size": 4
         },
         "mode": "markers",
         "name": "Cluster 1",
         "type": "scatter3d",
         "x": [
          14947.27268410122,
          10922.073083387968,
          28778.15020561977,
          10402.461413334951,
          9842.843854220873,
          20033.25126156042,
          19572.299114202,
          70.58030899262948,
          16286.756576995827,
          23610.75424161973
         ],
         "y": [
          18815.056790953888,
          14449.221568711208,
          16649.961822693745,
          19478.50650318542,
          14198.771050013982,
          19344.131771401102,
          13897.20734922401,
          15591.498562328292,
          19896.747715574922,
          13208.598145615526
         ],
         "z": [
          5681.171283321653,
          -312.0344867682685,
          2665.130232462954,
          2701.4638207084545,
          -558.4724444993768,
          -396.5479551188802,
          4020.366903840195,
          10968.839964001156,
          6546.1551055353975,
          3139.8288595061795
         ]
        },
        {
         "marker": {
          "size": 4
         },
         "mode": "markers",
         "name": "Cluster 2",
         "type": "scatter3d",
         "x": [
          -6369.41762393325,
          -15098.672014384298,
          -14879.222356938446,
          -15785.544051282595,
          4152.091112587364,
          -7917.310274004252,
          -11278.057345309866,
          -3537.677911579296,
          1164.6000258592126,
          -5822.635384850753,
          -12333.954768651602,
          -6086.437766242359,
          530.7940382796475,
          -8693.422070322229,
          2876.6672368536865,
          843.9718677723192,
          2686.41151461619,
          291.4459760871132,
          -11495.39070230118
         ],
         "y": [
          7958.917758507122,
          9206.967681787311,
          13004.92838672046,
          12291.133975505103,
          14284.871764984073,
          2276.1601936755283,
          13781.892585775788,
          6194.93869349176,
          9018.353297969756,
          2623.85812125867,
          3956.5132374675954,
          6916.879939018036,
          16772.301382425136,
          26460.677131249475,
          18551.195785114687,
          15194.27048856104,
          10334.509509260959,
          15429.04925303074,
          8357.391666059875
         ],
         "z": [
          -4409.04428865505,
          -5815.488070212341,
          -12331.540659497883,
          -8113.894559081577,
          -5605.962988113399,
          3317.821697390253,
          -4497.708191702129,
          -11563.64893865236,
          -1964.3362804230378,
          -8476.67435318038,
          -12483.530315098727,
          1146.7273228645136,
          -6504.485819589344,
          -169.75436747454955,
          1285.7540493146455,
          -4328.011408945605,
          -5934.595377078685,
          -4408.456997412226,
          -9119.4496443378
         ]
        },
        {
         "marker": {
          "size": 4
         },
         "mode": "markers",
         "name": "Cluster 3",
         "type": "scatter3d",
         "x": [
          5305.460593482679,
          5305.646471776756,
          5301.226196011035,
          -18955.845468875657,
          -18025.341319195984,
          5304.335843687594,
          5305.615768574227,
          5299.891454701584,
          5305.798576303691,
          5305.086428597095,
          5305.512421719656,
          5305.692109356386,
          -18205.51054508035,
          5305.674020668249,
          5305.7109500881115,
          5305.7783827726635,
          5305.559933180142,
          5305.7740985962055,
          5305.77306503281,
          5305.829339602861,
          5305.175938610262,
          5305.828866147733,
          5305.652336166411,
          5305.7391769824,
          -17837.014462612096,
          5304.737528606103,
          5304.817878653979,
          5305.744670413481,
          5305.769746900373,
          5305.680616993242,
          5305.746606650201,
          5305.725114091177,
          5305.741418504552,
          5305.77763476701,
          5305.716153118861,
          5305.705998939442,
          5305.50556743728,
          5305.64849043843,
          5305.674644191743,
          5305.741120924853,
          5305.750333049949,
          -18128.485447097544,
          5305.696963828618,
          5305.762111150325,
          5305.720195259252
         ],
         "y": [
          -179.58736661787475,
          -179.6051994572341,
          -179.180717017604,
          -6637.966861735761,
          -1653.5505757723558,
          -179.47931632824236,
          -179.6022464872924,
          -179.05246865955496,
          -179.6198069187825,
          -179.55140882255876,
          -179.59232993278417,
          -179.60959306616047,
          -7137.590548083843,
          -179.60785650607238,
          -179.61140149374626,
          -179.6178749325744,
          -179.59688877826505,
          -179.6174629696043,
          -179.61736371202278,
          -179.62276487869985,
          -179.56000726346042,
          -179.62271925934937,
          -179.60577403923196,
          -179.61410409742768,
          -4162.183125276811,
          -179.51789851466978,
          -179.52562309812447,
          -179.61463837749457,
          -179.6170455010768,
          -179.60848989227452,
          -179.61482419162178,
          -179.61276091666872,
          -179.61432643404976,
          -179.61780302147793,
          -179.61190131390094,
          -179.61092606282776,
          -179.59167732591055,
          -179.60540559963997,
          -179.60791594856602,
          -179.61429759636715,
          -179.6151821986614,
          -4027.1165001626814,
          -179.61005878405803,
          -179.6163124794279,
          -179.61228884521807
         ],
         "z": [
          -1672.4796903879255,
          -1672.679635793123,
          -1667.9188036658213,
          -4325.969492861648,
          -4241.224311620854,
          -1671.267699196304,
          -1672.6465004201432,
          -1666.4801638660947,
          -1672.8434701284773,
          -1672.0763078786013,
          -1672.535308197001,
          -1672.7289517658214,
          -3561.82340557798,
          -1672.709476980317,
          -1672.749231343282,
          -1672.8218272560525,
          -1672.5864253023183,
          -1672.8172048902968,
          -1672.8160916422516,
          -1672.8766587043424,
          -1672.172754344676,
          -1672.8761465116863,
          -1672.6861205216542,
          -1672.7795142180703,
          -2825.6351299168637,
          -1671.700450795738,
          -1671.7871168771771,
          -1672.7855303713523,
          -1672.8125242386595,
          -1672.7165805707355,
          -1672.787613951757,
          -1672.7644754294045,
          -1672.7820329360336,
          -1672.8210204471502,
          -1672.7548377327844,
          -1672.743899204554,
          -1672.5280086894372,
          -1672.6819913186723,
          -1672.710142125543,
          -1672.7817085805607,
          -1672.791629779995,
          -2987.7604911469825,
          -1672.734173448334,
          -1672.8043038171559,
          -1672.759181875834
         ]
        },
        {
         "marker": {
          "size": 4
         },
         "mode": "markers",
         "name": "Cluster 4",
         "type": "scatter3d",
         "x": [
          10643.091947943272,
          6014.573393706555,
          4742.710125687863,
          19499.470818219757,
          9211.49113082085,
          5223.130541083643,
          3046.2646005833644,
          -8550.884932791316,
          7947.064283659778,
          7072.598131018174,
          4497.01988233966,
          7996.885226767965,
          4580.005166715205,
          470.1519319071365,
          5317.677965912952
         ],
         "y": [
          -7825.909790070282,
          -563.475635419195,
          -7500.288027502929,
          -13093.870498310533,
          -10250.164461807242,
          -8817.590630554914,
          -9413.170735701831,
          -7317.521103380689,
          -11014.954565451259,
          -11252.51062155016,
          -7894.967389261358,
          -5258.208647615163,
          -8700.852780195815,
          -6581.519346775605,
          -9110.492162712104
         ],
         "z": [
          2872.2094675656253,
          -865.6987946627439,
          -593.1436446927089,
          -1000.0334008817401,
          -1532.9303731037216,
          5318.277696049217,
          -2968.9946762503614,
          -5349.4785481821555,
          -230.21047967922516,
          5904.933343162524,
          595.4410392982842,
          2332.5822192904175,
          1693.018821555475,
          -3183.2539905728013,
          -2015.4612585777809
         ]
        },
        {
         "marker": {
          "size": 4
         },
         "mode": "markers",
         "name": "Cluster 5",
         "type": "scatter3d",
         "x": [
          2515.9765102267665,
          1995.4370444395245,
          11361.390357655315,
          1495.9332074788556,
          27577.837329081314,
          5960.208566375277,
          3221.5818407271076,
          2984.898102900304,
          61.73619528997067
         ],
         "y": [
          -4021.740310227831,
          3741.1867885206807,
          -6874.959917724532,
          4942.534355595022,
          -2947.3671476214977,
          -437.9418713692589,
          7792.7994904581665,
          4775.804315815793,
          -1967.3469387348925
         ],
         "z": [
          21370.039298141288,
          15322.568981799917,
          23151.01483705975,
          19716.664658362584,
          22439.30618878151,
          21890.77644544795,
          18525.06431501848,
          28141.25354156228,
          17901.15439555417
         ]
        },
        {
         "marker": {
          "size": 4
         },
         "mode": "markers",
         "name": "Cluster 6",
         "type": "scatter3d",
         "x": [
          10774.386222868055,
          5844.037876005802,
          27267.803986033687,
          28699.047918948992,
          11354.318149264647,
          21347.73533911157,
          11672.860417292615,
          34230.37470306494
         ],
         "y": [
          -5503.9268048152135,
          -18583.655959518874,
          -12107.604812325755,
          -11292.465892209024,
          -17620.143507637742,
          6893.173808118696,
          3683.007616419222,
          3775.1379305511127
         ],
         "z": [
          15735.00623339305,
          -7900.5586749004815,
          -15856.371155024837,
          -14233.547030601381,
          -7369.792501526137,
          -3928.163486101264,
          52.2169353486091,
          -10254.043124164706
         ]
        },
        {
         "marker": {
          "size": 4
         },
         "mode": "markers",
         "name": "Cluster 7",
         "type": "scatter3d",
         "x": [
          26513.066978268085,
          34727.50094717709,
          30965.168400914696,
          34889.916469432545,
          26190.517932717317,
          24655.646078195547,
          15439.669560907596,
          39922.83760723358,
          30938.601262462307,
          36849.7776421814,
          34701.174916927695,
          31992.12254990887
         ],
         "y": [
          -15612.238823332867,
          4759.3128233839425,
          -13647.991098382097,
          -7278.08915019953,
          -6033.395765072141,
          -3738.6800477877123,
          -3341.168349251613,
          -7738.6680837411495,
          -11321.046095969348,
          -12564.185386448837,
          -9838.413091338047,
          -4151.132649597771
         ],
         "z": [
          -9939.777574233769,
          -3223.039775438784,
          -4273.990289704881,
          -5155.235246602122,
          -4826.861160070854,
          -1849.198093676232,
          -2489.1630312023267,
          -7118.94512599535,
          -3710.3569020686327,
          -8745.064624084851,
          -8544.033960657953,
          -6600.961762730594
         ]
        },
        {
         "marker": {
          "size": 4
         },
         "mode": "markers",
         "name": "Cluster 8",
         "type": "scatter3d",
         "x": [
          -7198.561820221875,
          -2594.9728913876243,
          -2357.573804355504,
          -8503.264654604065,
          -3639.226930328108,
          2145.663454341675,
          -10091.087567119033,
          1269.2339202518876,
          -8695.376558478813,
          -962.1956189335652,
          -3517.128732125825,
          463.93334182155854,
          -3110.3317348145156,
          -894.3316703499262,
          60.66271664361773,
          -7121.167731737766,
          -3041.104607476199,
          -282.44228257414375,
          1784.630703091469,
          -7026.27226751999,
          -5983.091852013616,
          -8678.593690996215,
          -1377.385376388897,
          -7346.393716958948,
          -9670.004662278641,
          -3507.1093273350275,
          -6050.85386234753,
          -5402.063735595906
         ],
         "y": [
          -3562.9491614210874,
          -12368.454899864733,
          -5629.383283063666,
          -4424.161772460436,
          -3996.414853217237,
          -11822.841007591753,
          -149.72863162731664,
          -11847.733014284833,
          617.2360426874001,
          -9123.975999271963,
          -7447.951116860811,
          -1431.5031159240846,
          -6242.941230328204,
          -10908.660503701101,
          -10686.9569441991,
          2318.94953254131,
          1471.8254184985753,
          -7689.276631701529,
          8244.29965801164,
          3793.880736199094,
          611.6269565551365,
          -5.335687118820033,
          -7181.8602435641005,
          -6550.730154032075,
          -349.58087407482753,
          -8211.004248310008,
          -4121.285116460803,
          2087.109799826115
         ],
         "z": [
          11251.60072775305,
          -9066.578894808621,
          610.9159004357942,
          9494.534391674202,
          3610.5231260856544,
          10506.788620704909,
          7263.338174303745,
          11844.954867147533,
          7276.580932176086,
          3366.0216743420237,
          10237.599493222331,
          3045.921459156048,
          5678.959645247045,
          6950.166848569792,
          14112.326062899447,
          12479.517126924307,
          17638.15627003972,
          14910.077301016327,
          10301.51414263794,
          8428.542452967102,
          8323.621495932468,
          5516.599194659799,
          1753.701764289132,
          11477.297029424186,
          11277.651350448199,
          8591.111442024472,
          5105.479090384647,
          9111.676086514628
         ]
        },
        {
         "marker": {
          "size": 4
         },
         "mode": "markers",
         "name": "Cluster 9",
         "type": "scatter3d",
         "x": [
          -15476.001363769,
          -15753.771739604417,
          -14160.666467594621,
          -11005.764398055275,
          -17239.158462693744,
          -8520.081361861683,
          -15271.194166341327,
          -17339.92269969811,
          -13655.92315660756,
          -14864.404201962507,
          -6026.327356663594,
          -15781.162563923477,
          -16782.015338229525,
          -12031.040621631524,
          -17346.84487212882,
          -14578.761965760861,
          -15586.293960708716,
          -12025.568867294383,
          -13672.458937724241,
          -15183.414233777166,
          -14701.103971724193,
          -10356.56214182246,
          -10208.4509150732,
          -13610.45122708107,
          -9345.945214212075,
          -18003.86602065358,
          -13110.94988743755,
          -15372.223118429207,
          -10909.545002272036,
          -11424.994689472249,
          -15554.017840270244,
          -10085.62198687673,
          -14831.572429538133,
          -16423.50556512754,
          -14833.540098673686,
          -14349.837300649066,
          -6673.009139031337,
          -12141.800757006427,
          -14092.486023166393,
          -17382.89396353822,
          -14962.21678020175,
          -7268.436224131997,
          -9265.242774535069,
          -17785.045239174407,
          -15083.202968757429,
          -13029.565131748153,
          -10222.87132141063,
          -15294.682121581322,
          -7894.67534035128,
          -14174.909279802117,
          -19763.51370358192,
          -16242.593546831595,
          -13189.50336444145,
          -10281.216703571845,
          -14294.30832264379,
          -11158.265857663608,
          -8342.019458638275,
          -4883.301146582782,
          -10326.884057504883,
          -9748.060637204304,
          -12791.232984609755,
          -12129.19643582432,
          -11607.36715520951
         ],
         "y": [
          -6280.845579381188,
          1822.6466103211867,
          -4608.217116784147,
          3535.9217812296156,
          -2365.3918119820146,
          -8241.737172145702,
          -7304.306979671351,
          4313.588824755178,
          -5883.95645454928,
          -2013.4467445322002,
          -8680.542777434683,
          -2626.903661054214,
          1160.3842873573226,
          -940.3540931754486,
          -4611.684083285855,
          -7038.928425300831,
          910.1608597882573,
          5159.558883747629,
          -3521.5722438769944,
          4657.554230886862,
          2365.3838463137126,
          -3146.169284981106,
          5546.696908058596,
          1853.0729219148361,
          -1765.133185550107,
          1408.6271244380853,
          -5208.8376413971055,
          -2457.269094783896,
          -557.973995333047,
          683.7374816526279,
          -655.2034001272661,
          3140.8708382504524,
          1070.4148215334271,
          -7687.531073343651,
          -3280.3150766047975,
          1018.7607642110247,
          -6705.349303615236,
          352.52575800253044,
          -1113.5598269905763,
          3165.5923927873046,
          -6628.288115524059,
          1441.4743202058037,
          -4491.260930456677,
          -6963.241799650087,
          3188.255465767124,
          1202.9342946335416,
          -10148.405827850309,
          -7280.553835644972,
          2529.565048883959,
          3843.0492844583437,
          -2153.4208183751416,
          -4679.352826848222,
          -1704.746870969678,
          -3787.693222300978,
          -4632.583218660695,
          2297.0345001326996,
          -7641.938828032502,
          -8987.866389739793,
          -8039.0654138950395,
          -3755.8977424009718,
          240.89966230078568,
          -1246.639977132436,
          2377.7601948165125
         ],
         "z": [
          -2462.1487944490286,
          -6792.510776006662,
          -440.72298233634524,
          -5829.0062997554905,
          -4774.140877726366,
          -6754.787649513462,
          -852.3003970893105,
          -7850.501337365153,
          8539.231515899155,
          -3633.832532720244,
          -6986.054972101492,
          -733.5383813293294,
          -5168.602219340745,
          462.6037383155985,
          -4516.121137676369,
          -1697.888961476172,
          -5548.097119063126,
          -3296.085660174613,
          5755.220236970085,
          -6964.410688026322,
          -9161.62020528999,
          3549.7496384078318,
          -3431.0475195374856,
          -1890.9703486214655,
          1658.7356759571496,
          -3088.6846562801234,
          1635.2332527134968,
          1652.3946030987104,
          4002.7084892136386,
          5090.115955536098,
          -2169.477929487457,
          4375.011482222725,
          -1923.4980180133512,
          -5654.982068548734,
          -5157.554237897961,
          -7858.624994259009,
          2263.6790262808536,
          1187.8009592862438,
          2272.6284917327303,
          -10964.148782564911,
          -5746.840106808244,
          -7989.586909262586,
          3891.91211923105,
          -3049.405067729468,
          -8103.557192348096,
          -2224.991306381766,
          -4401.712371267717,
          -255.04808717054408,
          -7089.542620061159,
          -6575.9788039758805,
          -5014.706690054033,
          -97.30295906679677,
          2950.4035918721656,
          2630.0990855704213,
          1511.8944009055776,
          2166.497130258699,
          2314.4861090342274,
          -3686.367457945489,
          -5789.286853695129,
          4501.721517868942,
          -6332.2981410499215,
          4168.141107471299,
          1902.00884773581
         ]
        },
        {
         "marker": {
          "size": 4
         },
         "mode": "markers",
         "name": "Cluster 10",
         "type": "scatter3d",
         "x": [
          3788.6277765935083,
          -1720.9597434861298,
          4982.3252552197555,
          4491.414627015707,
          4755.000601343766,
          7298.128217062819,
          2857.98333080895,
          1120.291063368956,
          5438.589830367649,
          18037.311107441208,
          5027.576924712743,
          9684.945732957227,
          -346.8715025374818,
          2285.7298707288464,
          9811.68827490483,
          3515.692772268642,
          -7084.718281061856,
          3208.8865878005968,
          5154.674369035149,
          6154.497459855295,
          -1668.5485820730519,
          8669.707657743698,
          173.63988868830484,
          8503.538209047572
         ],
         "y": [
          4669.035098670957,
          2149.8619299108054,
          3884.252619390389,
          5456.71015172664,
          3421.9552806076945,
          8517.240901995649,
          8440.189905537138,
          2562.606524760741,
          -2829.4323066171346,
          10199.921937809828,
          9605.450625692583,
          11121.000633535341,
          152.8098834479778,
          3376.1385986192427,
          7879.99123157983,
          7908.7553349496,
          4647.555952025702,
          11825.93120873533,
          8807.690574455642,
          7132.676278663212,
          -3917.412518862741,
          14043.443819811782,
          8830.745762783961,
          9782.005150022896
         ],
         "z": [
          -2810.6847936568824,
          -5295.565532819365,
          -2474.0421932816507,
          -2499.375286240395,
          -1749.4051463333412,
          -4106.845928710184,
          -232.28071067559443,
          -2532.4942915617303,
          -2731.8107478248385,
          1.4664878392836727,
          -1261.3670066862776,
          2224.154205870685,
          -1787.0387582993008,
          -6805.964690434448,
          -1037.8129593697233,
          -2647.5517075581492,
          4339.5358336313,
          5.983711128704471,
          457.3291956517273,
          -667.7437211496258,
          -839.5295726110875,
          -2818.902129189218,
          2932.9818168488596,
          5867.439498367418
         ]
        }
       ],
       "layout": {
        "template": {
         "data": {
          "bar": [
           {
            "error_x": {
             "color": "#2a3f5f"
            },
            "error_y": {
             "color": "#2a3f5f"
            },
            "marker": {
             "line": {
              "color": "#E5ECF6",
              "width": 0.5
             }
            },
            "type": "bar"
           }
          ],
          "barpolar": [
           {
            "marker": {
             "line": {
              "color": "#E5ECF6",
              "width": 0.5
             }
            },
            "type": "barpolar"
           }
          ],
          "carpet": [
           {
            "aaxis": {
             "endlinecolor": "#2a3f5f",
             "gridcolor": "white",
             "linecolor": "white",
             "minorgridcolor": "white",
             "startlinecolor": "#2a3f5f"
            },
            "baxis": {
             "endlinecolor": "#2a3f5f",
             "gridcolor": "white",
             "linecolor": "white",
             "minorgridcolor": "white",
             "startlinecolor": "#2a3f5f"
            },
            "type": "carpet"
           }
          ],
          "choropleth": [
           {
            "colorbar": {
             "outlinewidth": 0,
             "ticks": ""
            },
            "type": "choropleth"
           }
          ],
          "contour": [
           {
            "colorbar": {
             "outlinewidth": 0,
             "ticks": ""
            },
            "colorscale": [
             [
              0,
              "#0d0887"
             ],
             [
              0.1111111111111111,
              "#46039f"
             ],
             [
              0.2222222222222222,
              "#7201a8"
             ],
             [
              0.3333333333333333,
              "#9c179e"
             ],
             [
              0.4444444444444444,
              "#bd3786"
             ],
             [
              0.5555555555555556,
              "#d8576b"
             ],
             [
              0.6666666666666666,
              "#ed7953"
             ],
             [
              0.7777777777777778,
              "#fb9f3a"
             ],
             [
              0.8888888888888888,
              "#fdca26"
             ],
             [
              1,
              "#f0f921"
             ]
            ],
            "type": "contour"
           }
          ],
          "contourcarpet": [
           {
            "colorbar": {
             "outlinewidth": 0,
             "ticks": ""
            },
            "type": "contourcarpet"
           }
          ],
          "heatmap": [
           {
            "colorbar": {
             "outlinewidth": 0,
             "ticks": ""
            },
            "colorscale": [
             [
              0,
              "#0d0887"
             ],
             [
              0.1111111111111111,
              "#46039f"
             ],
             [
              0.2222222222222222,
              "#7201a8"
             ],
             [
              0.3333333333333333,
              "#9c179e"
             ],
             [
              0.4444444444444444,
              "#bd3786"
             ],
             [
              0.5555555555555556,
              "#d8576b"
             ],
             [
              0.6666666666666666,
              "#ed7953"
             ],
             [
              0.7777777777777778,
              "#fb9f3a"
             ],
             [
              0.8888888888888888,
              "#fdca26"
             ],
             [
              1,
              "#f0f921"
             ]
            ],
            "type": "heatmap"
           }
          ],
          "heatmapgl": [
           {
            "colorbar": {
             "outlinewidth": 0,
             "ticks": ""
            },
            "colorscale": [
             [
              0,
              "#0d0887"
             ],
             [
              0.1111111111111111,
              "#46039f"
             ],
             [
              0.2222222222222222,
              "#7201a8"
             ],
             [
              0.3333333333333333,
              "#9c179e"
             ],
             [
              0.4444444444444444,
              "#bd3786"
             ],
             [
              0.5555555555555556,
              "#d8576b"
             ],
             [
              0.6666666666666666,
              "#ed7953"
             ],
             [
              0.7777777777777778,
              "#fb9f3a"
             ],
             [
              0.8888888888888888,
              "#fdca26"
             ],
             [
              1,
              "#f0f921"
             ]
            ],
            "type": "heatmapgl"
           }
          ],
          "histogram": [
           {
            "marker": {
             "colorbar": {
              "outlinewidth": 0,
              "ticks": ""
             }
            },
            "type": "histogram"
           }
          ],
          "histogram2d": [
           {
            "colorbar": {
             "outlinewidth": 0,
             "ticks": ""
            },
            "colorscale": [
             [
              0,
              "#0d0887"
             ],
             [
              0.1111111111111111,
              "#46039f"
             ],
             [
              0.2222222222222222,
              "#7201a8"
             ],
             [
              0.3333333333333333,
              "#9c179e"
             ],
             [
              0.4444444444444444,
              "#bd3786"
             ],
             [
              0.5555555555555556,
              "#d8576b"
             ],
             [
              0.6666666666666666,
              "#ed7953"
             ],
             [
              0.7777777777777778,
              "#fb9f3a"
             ],
             [
              0.8888888888888888,
              "#fdca26"
             ],
             [
              1,
              "#f0f921"
             ]
            ],
            "type": "histogram2d"
           }
          ],
          "histogram2dcontour": [
           {
            "colorbar": {
             "outlinewidth": 0,
             "ticks": ""
            },
            "colorscale": [
             [
              0,
              "#0d0887"
             ],
             [
              0.1111111111111111,
              "#46039f"
             ],
             [
              0.2222222222222222,
              "#7201a8"
             ],
             [
              0.3333333333333333,
              "#9c179e"
             ],
             [
              0.4444444444444444,
              "#bd3786"
             ],
             [
              0.5555555555555556,
              "#d8576b"
             ],
             [
              0.6666666666666666,
              "#ed7953"
             ],
             [
              0.7777777777777778,
              "#fb9f3a"
             ],
             [
              0.8888888888888888,
              "#fdca26"
             ],
             [
              1,
              "#f0f921"
             ]
            ],
            "type": "histogram2dcontour"
           }
          ],
          "mesh3d": [
           {
            "colorbar": {
             "outlinewidth": 0,
             "ticks": ""
            },
            "type": "mesh3d"
           }
          ],
          "parcoords": [
           {
            "line": {
             "colorbar": {
              "outlinewidth": 0,
              "ticks": ""
             }
            },
            "type": "parcoords"
           }
          ],
          "pie": [
           {
            "automargin": true,
            "type": "pie"
           }
          ],
          "scatter": [
           {
            "marker": {
             "colorbar": {
              "outlinewidth": 0,
              "ticks": ""
             }
            },
            "type": "scatter"
           }
          ],
          "scatter3d": [
           {
            "line": {
             "colorbar": {
              "outlinewidth": 0,
              "ticks": ""
             }
            },
            "marker": {
             "colorbar": {
              "outlinewidth": 0,
              "ticks": ""
             }
            },
            "type": "scatter3d"
           }
          ],
          "scattercarpet": [
           {
            "marker": {
             "colorbar": {
              "outlinewidth": 0,
              "ticks": ""
             }
            },
            "type": "scattercarpet"
           }
          ],
          "scattergeo": [
           {
            "marker": {
             "colorbar": {
              "outlinewidth": 0,
              "ticks": ""
             }
            },
            "type": "scattergeo"
           }
          ],
          "scattergl": [
           {
            "marker": {
             "colorbar": {
              "outlinewidth": 0,
              "ticks": ""
             }
            },
            "type": "scattergl"
           }
          ],
          "scattermapbox": [
           {
            "marker": {
             "colorbar": {
              "outlinewidth": 0,
              "ticks": ""
             }
            },
            "type": "scattermapbox"
           }
          ],
          "scatterpolar": [
           {
            "marker": {
             "colorbar": {
              "outlinewidth": 0,
              "ticks": ""
             }
            },
            "type": "scatterpolar"
           }
          ],
          "scatterpolargl": [
           {
            "marker": {
             "colorbar": {
              "outlinewidth": 0,
              "ticks": ""
             }
            },
            "type": "scatterpolargl"
           }
          ],
          "scatterternary": [
           {
            "marker": {
             "colorbar": {
              "outlinewidth": 0,
              "ticks": ""
             }
            },
            "type": "scatterternary"
           }
          ],
          "surface": [
           {
            "colorbar": {
             "outlinewidth": 0,
             "ticks": ""
            },
            "colorscale": [
             [
              0,
              "#0d0887"
             ],
             [
              0.1111111111111111,
              "#46039f"
             ],
             [
              0.2222222222222222,
              "#7201a8"
             ],
             [
              0.3333333333333333,
              "#9c179e"
             ],
             [
              0.4444444444444444,
              "#bd3786"
             ],
             [
              0.5555555555555556,
              "#d8576b"
             ],
             [
              0.6666666666666666,
              "#ed7953"
             ],
             [
              0.7777777777777778,
              "#fb9f3a"
             ],
             [
              0.8888888888888888,
              "#fdca26"
             ],
             [
              1,
              "#f0f921"
             ]
            ],
            "type": "surface"
           }
          ],
          "table": [
           {
            "cells": {
             "fill": {
              "color": "#EBF0F8"
             },
             "line": {
              "color": "white"
             }
            },
            "header": {
             "fill": {
              "color": "#C8D4E3"
             },
             "line": {
              "color": "white"
             }
            },
            "type": "table"
           }
          ]
         },
         "layout": {
          "annotationdefaults": {
           "arrowcolor": "#2a3f5f",
           "arrowhead": 0,
           "arrowwidth": 1
          },
          "coloraxis": {
           "colorbar": {
            "outlinewidth": 0,
            "ticks": ""
           }
          },
          "colorscale": {
           "diverging": [
            [
             0,
             "#8e0152"
            ],
            [
             0.1,
             "#c51b7d"
            ],
            [
             0.2,
             "#de77ae"
            ],
            [
             0.3,
             "#f1b6da"
            ],
            [
             0.4,
             "#fde0ef"
            ],
            [
             0.5,
             "#f7f7f7"
            ],
            [
             0.6,
             "#e6f5d0"
            ],
            [
             0.7,
             "#b8e186"
            ],
            [
             0.8,
             "#7fbc41"
            ],
            [
             0.9,
             "#4d9221"
            ],
            [
             1,
             "#276419"
            ]
           ],
           "sequential": [
            [
             0,
             "#0d0887"
            ],
            [
             0.1111111111111111,
             "#46039f"
            ],
            [
             0.2222222222222222,
             "#7201a8"
            ],
            [
             0.3333333333333333,
             "#9c179e"
            ],
            [
             0.4444444444444444,
             "#bd3786"
            ],
            [
             0.5555555555555556,
             "#d8576b"
            ],
            [
             0.6666666666666666,
             "#ed7953"
            ],
            [
             0.7777777777777778,
             "#fb9f3a"
            ],
            [
             0.8888888888888888,
             "#fdca26"
            ],
            [
             1,
             "#f0f921"
            ]
           ],
           "sequentialminus": [
            [
             0,
             "#0d0887"
            ],
            [
             0.1111111111111111,
             "#46039f"
            ],
            [
             0.2222222222222222,
             "#7201a8"
            ],
            [
             0.3333333333333333,
             "#9c179e"
            ],
            [
             0.4444444444444444,
             "#bd3786"
            ],
            [
             0.5555555555555556,
             "#d8576b"
            ],
            [
             0.6666666666666666,
             "#ed7953"
            ],
            [
             0.7777777777777778,
             "#fb9f3a"
            ],
            [
             0.8888888888888888,
             "#fdca26"
            ],
            [
             1,
             "#f0f921"
            ]
           ]
          },
          "colorway": [
           "#636efa",
           "#EF553B",
           "#00cc96",
           "#ab63fa",
           "#FFA15A",
           "#19d3f3",
           "#FF6692",
           "#B6E880",
           "#FF97FF",
           "#FECB52"
          ],
          "font": {
           "color": "#2a3f5f"
          },
          "geo": {
           "bgcolor": "white",
           "lakecolor": "white",
           "landcolor": "#E5ECF6",
           "showlakes": true,
           "showland": true,
           "subunitcolor": "white"
          },
          "hoverlabel": {
           "align": "left"
          },
          "hovermode": "closest",
          "mapbox": {
           "style": "light"
          },
          "paper_bgcolor": "white",
          "plot_bgcolor": "#E5ECF6",
          "polar": {
           "angularaxis": {
            "gridcolor": "white",
            "linecolor": "white",
            "ticks": ""
           },
           "bgcolor": "#E5ECF6",
           "radialaxis": {
            "gridcolor": "white",
            "linecolor": "white",
            "ticks": ""
           }
          },
          "scene": {
           "xaxis": {
            "backgroundcolor": "#E5ECF6",
            "gridcolor": "white",
            "gridwidth": 2,
            "linecolor": "white",
            "showbackground": true,
            "ticks": "",
            "zerolinecolor": "white"
           },
           "yaxis": {
            "backgroundcolor": "#E5ECF6",
            "gridcolor": "white",
            "gridwidth": 2,
            "linecolor": "white",
            "showbackground": true,
            "ticks": "",
            "zerolinecolor": "white"
           },
           "zaxis": {
            "backgroundcolor": "#E5ECF6",
            "gridcolor": "white",
            "gridwidth": 2,
            "linecolor": "white",
            "showbackground": true,
            "ticks": "",
            "zerolinecolor": "white"
           }
          },
          "shapedefaults": {
           "line": {
            "color": "#2a3f5f"
           }
          },
          "ternary": {
           "aaxis": {
            "gridcolor": "white",
            "linecolor": "white",
            "ticks": ""
           },
           "baxis": {
            "gridcolor": "white",
            "linecolor": "white",
            "ticks": ""
           },
           "bgcolor": "#E5ECF6",
           "caxis": {
            "gridcolor": "white",
            "linecolor": "white",
            "ticks": ""
           }
          },
          "title": {
           "x": 0.05
          },
          "xaxis": {
           "automargin": true,
           "gridcolor": "white",
           "linecolor": "white",
           "ticks": "",
           "title": {
            "standoff": 15
           },
           "zerolinecolor": "white",
           "zerolinewidth": 2
          },
          "yaxis": {
           "automargin": true,
           "gridcolor": "white",
           "linecolor": "white",
           "ticks": "",
           "title": {
            "standoff": 15
           },
           "zerolinecolor": "white",
           "zerolinewidth": 2
          }
         }
        }
       }
      },
      "text/html": [
       "<div>\n",
       "        \n",
       "        \n",
       "            <div id=\"ffe15869-d05f-4ca3-8b77-c9ee1883d754\" class=\"plotly-graph-div\" style=\"height:525px; width:100%;\"></div>\n",
       "            <script type=\"text/javascript\">\n",
       "                require([\"plotly\"], function(Plotly) {\n",
       "                    window.PLOTLYENV=window.PLOTLYENV || {};\n",
       "                    \n",
       "                if (document.getElementById(\"ffe15869-d05f-4ca3-8b77-c9ee1883d754\")) {\n",
       "                    Plotly.newPlot(\n",
       "                        'ffe15869-d05f-4ca3-8b77-c9ee1883d754',\n",
       "                        [{\"marker\": {\"size\": 4}, \"mode\": \"markers\", \"name\": \"Cluster 1\", \"type\": \"scatter3d\", \"x\": [14947.27268410122, 10922.073083387968, 28778.15020561977, 10402.461413334951, 9842.843854220873, 20033.25126156042, 19572.299114202, 70.58030899262948, 16286.756576995827, 23610.75424161973], \"y\": [18815.056790953888, 14449.221568711208, 16649.961822693745, 19478.50650318542, 14198.771050013982, 19344.131771401102, 13897.20734922401, 15591.498562328292, 19896.747715574922, 13208.598145615526], \"z\": [5681.171283321653, -312.0344867682685, 2665.130232462954, 2701.4638207084545, -558.4724444993768, -396.5479551188802, 4020.366903840195, 10968.839964001156, 6546.1551055353975, 3139.8288595061795]}, {\"marker\": {\"size\": 4}, \"mode\": \"markers\", \"name\": \"Cluster 2\", \"type\": \"scatter3d\", \"x\": [-6369.41762393325, -15098.672014384298, -14879.222356938446, -15785.544051282595, 4152.091112587364, -7917.310274004252, -11278.057345309866, -3537.677911579296, 1164.6000258592126, -5822.635384850753, -12333.954768651602, -6086.437766242359, 530.7940382796475, -8693.422070322229, 2876.6672368536865, 843.9718677723192, 2686.41151461619, 291.4459760871132, -11495.39070230118], \"y\": [7958.917758507122, 9206.967681787311, 13004.92838672046, 12291.133975505103, 14284.871764984073, 2276.1601936755283, 13781.892585775788, 6194.93869349176, 9018.353297969756, 2623.85812125867, 3956.5132374675954, 6916.879939018036, 16772.301382425136, 26460.677131249475, 18551.195785114687, 15194.27048856104, 10334.509509260959, 15429.04925303074, 8357.391666059875], \"z\": [-4409.04428865505, -5815.488070212341, -12331.540659497883, -8113.894559081577, -5605.962988113399, 3317.821697390253, -4497.708191702129, -11563.64893865236, -1964.3362804230378, -8476.67435318038, -12483.530315098727, 1146.7273228645136, -6504.485819589344, -169.75436747454955, 1285.7540493146455, -4328.011408945605, -5934.595377078685, -4408.456997412226, -9119.4496443378]}, {\"marker\": {\"size\": 4}, \"mode\": \"markers\", \"name\": \"Cluster 3\", \"type\": \"scatter3d\", \"x\": [5305.460593482679, 5305.646471776756, 5301.226196011035, -18955.845468875657, -18025.341319195984, 5304.335843687594, 5305.615768574227, 5299.891454701584, 5305.798576303691, 5305.086428597095, 5305.512421719656, 5305.692109356386, -18205.51054508035, 5305.674020668249, 5305.7109500881115, 5305.7783827726635, 5305.559933180142, 5305.7740985962055, 5305.77306503281, 5305.829339602861, 5305.175938610262, 5305.828866147733, 5305.652336166411, 5305.7391769824, -17837.014462612096, 5304.737528606103, 5304.817878653979, 5305.744670413481, 5305.769746900373, 5305.680616993242, 5305.746606650201, 5305.725114091177, 5305.741418504552, 5305.77763476701, 5305.716153118861, 5305.705998939442, 5305.50556743728, 5305.64849043843, 5305.674644191743, 5305.741120924853, 5305.750333049949, -18128.485447097544, 5305.696963828618, 5305.762111150325, 5305.720195259252], \"y\": [-179.58736661787475, -179.6051994572341, -179.180717017604, -6637.966861735761, -1653.5505757723558, -179.47931632824236, -179.6022464872924, -179.05246865955496, -179.6198069187825, -179.55140882255876, -179.59232993278417, -179.60959306616047, -7137.590548083843, -179.60785650607238, -179.61140149374626, -179.6178749325744, -179.59688877826505, -179.6174629696043, -179.61736371202278, -179.62276487869985, -179.56000726346042, -179.62271925934937, -179.60577403923196, -179.61410409742768, -4162.183125276811, -179.51789851466978, -179.52562309812447, -179.61463837749457, -179.6170455010768, -179.60848989227452, -179.61482419162178, -179.61276091666872, -179.61432643404976, -179.61780302147793, -179.61190131390094, -179.61092606282776, -179.59167732591055, -179.60540559963997, -179.60791594856602, -179.61429759636715, -179.6151821986614, -4027.1165001626814, -179.61005878405803, -179.6163124794279, -179.61228884521807], \"z\": [-1672.4796903879255, -1672.679635793123, -1667.9188036658213, -4325.969492861648, -4241.224311620854, -1671.267699196304, -1672.6465004201432, -1666.4801638660947, -1672.8434701284773, -1672.0763078786013, -1672.535308197001, -1672.7289517658214, -3561.82340557798, -1672.709476980317, -1672.749231343282, -1672.8218272560525, -1672.5864253023183, -1672.8172048902968, -1672.8160916422516, -1672.8766587043424, -1672.172754344676, -1672.8761465116863, -1672.6861205216542, -1672.7795142180703, -2825.6351299168637, -1671.700450795738, -1671.7871168771771, -1672.7855303713523, -1672.8125242386595, -1672.7165805707355, -1672.787613951757, -1672.7644754294045, -1672.7820329360336, -1672.8210204471502, -1672.7548377327844, -1672.743899204554, -1672.5280086894372, -1672.6819913186723, -1672.710142125543, -1672.7817085805607, -1672.791629779995, -2987.7604911469825, -1672.734173448334, -1672.8043038171559, -1672.759181875834]}, {\"marker\": {\"size\": 4}, \"mode\": \"markers\", \"name\": \"Cluster 4\", \"type\": \"scatter3d\", \"x\": [10643.091947943272, 6014.573393706555, 4742.710125687863, 19499.470818219757, 9211.49113082085, 5223.130541083643, 3046.2646005833644, -8550.884932791316, 7947.064283659778, 7072.598131018174, 4497.01988233966, 7996.885226767965, 4580.005166715205, 470.1519319071365, 5317.677965912952], \"y\": [-7825.909790070282, -563.475635419195, -7500.288027502929, -13093.870498310533, -10250.164461807242, -8817.590630554914, -9413.170735701831, -7317.521103380689, -11014.954565451259, -11252.51062155016, -7894.967389261358, -5258.208647615163, -8700.852780195815, -6581.519346775605, -9110.492162712104], \"z\": [2872.2094675656253, -865.6987946627439, -593.1436446927089, -1000.0334008817401, -1532.9303731037216, 5318.277696049217, -2968.9946762503614, -5349.4785481821555, -230.21047967922516, 5904.933343162524, 595.4410392982842, 2332.5822192904175, 1693.018821555475, -3183.2539905728013, -2015.4612585777809]}, {\"marker\": {\"size\": 4}, \"mode\": \"markers\", \"name\": \"Cluster 5\", \"type\": \"scatter3d\", \"x\": [2515.9765102267665, 1995.4370444395245, 11361.390357655315, 1495.9332074788556, 27577.837329081314, 5960.208566375277, 3221.5818407271076, 2984.898102900304, 61.73619528997067], \"y\": [-4021.740310227831, 3741.1867885206807, -6874.959917724532, 4942.534355595022, -2947.3671476214977, -437.9418713692589, 7792.7994904581665, 4775.804315815793, -1967.3469387348925], \"z\": [21370.039298141288, 15322.568981799917, 23151.01483705975, 19716.664658362584, 22439.30618878151, 21890.77644544795, 18525.06431501848, 28141.25354156228, 17901.15439555417]}, {\"marker\": {\"size\": 4}, \"mode\": \"markers\", \"name\": \"Cluster 6\", \"type\": \"scatter3d\", \"x\": [10774.386222868055, 5844.037876005802, 27267.803986033687, 28699.047918948992, 11354.318149264647, 21347.73533911157, 11672.860417292615, 34230.37470306494], \"y\": [-5503.9268048152135, -18583.655959518874, -12107.604812325755, -11292.465892209024, -17620.143507637742, 6893.173808118696, 3683.007616419222, 3775.1379305511127], \"z\": [15735.00623339305, -7900.5586749004815, -15856.371155024837, -14233.547030601381, -7369.792501526137, -3928.163486101264, 52.2169353486091, -10254.043124164706]}, {\"marker\": {\"size\": 4}, \"mode\": \"markers\", \"name\": \"Cluster 7\", \"type\": \"scatter3d\", \"x\": [26513.066978268085, 34727.50094717709, 30965.168400914696, 34889.916469432545, 26190.517932717317, 24655.646078195547, 15439.669560907596, 39922.83760723358, 30938.601262462307, 36849.7776421814, 34701.174916927695, 31992.12254990887], \"y\": [-15612.238823332867, 4759.3128233839425, -13647.991098382097, -7278.08915019953, -6033.395765072141, -3738.6800477877123, -3341.168349251613, -7738.6680837411495, -11321.046095969348, -12564.185386448837, -9838.413091338047, -4151.132649597771], \"z\": [-9939.777574233769, -3223.039775438784, -4273.990289704881, -5155.235246602122, -4826.861160070854, -1849.198093676232, -2489.1630312023267, -7118.94512599535, -3710.3569020686327, -8745.064624084851, -8544.033960657953, -6600.961762730594]}, {\"marker\": {\"size\": 4}, \"mode\": \"markers\", \"name\": \"Cluster 8\", \"type\": \"scatter3d\", \"x\": [-7198.561820221875, -2594.9728913876243, -2357.573804355504, -8503.264654604065, -3639.226930328108, 2145.663454341675, -10091.087567119033, 1269.2339202518876, -8695.376558478813, -962.1956189335652, -3517.128732125825, 463.93334182155854, -3110.3317348145156, -894.3316703499262, 60.66271664361773, -7121.167731737766, -3041.104607476199, -282.44228257414375, 1784.630703091469, -7026.27226751999, -5983.091852013616, -8678.593690996215, -1377.385376388897, -7346.393716958948, -9670.004662278641, -3507.1093273350275, -6050.85386234753, -5402.063735595906], \"y\": [-3562.9491614210874, -12368.454899864733, -5629.383283063666, -4424.161772460436, -3996.414853217237, -11822.841007591753, -149.72863162731664, -11847.733014284833, 617.2360426874001, -9123.975999271963, -7447.951116860811, -1431.5031159240846, -6242.941230328204, -10908.660503701101, -10686.9569441991, 2318.94953254131, 1471.8254184985753, -7689.276631701529, 8244.29965801164, 3793.880736199094, 611.6269565551365, -5.335687118820033, -7181.8602435641005, -6550.730154032075, -349.58087407482753, -8211.004248310008, -4121.285116460803, 2087.109799826115], \"z\": [11251.60072775305, -9066.578894808621, 610.9159004357942, 9494.534391674202, 3610.5231260856544, 10506.788620704909, 7263.338174303745, 11844.954867147533, 7276.580932176086, 3366.0216743420237, 10237.599493222331, 3045.921459156048, 5678.959645247045, 6950.166848569792, 14112.326062899447, 12479.517126924307, 17638.15627003972, 14910.077301016327, 10301.51414263794, 8428.542452967102, 8323.621495932468, 5516.599194659799, 1753.701764289132, 11477.297029424186, 11277.651350448199, 8591.111442024472, 5105.479090384647, 9111.676086514628]}, {\"marker\": {\"size\": 4}, \"mode\": \"markers\", \"name\": \"Cluster 9\", \"type\": \"scatter3d\", \"x\": [-15476.001363769, -15753.771739604417, -14160.666467594621, -11005.764398055275, -17239.158462693744, -8520.081361861683, -15271.194166341327, -17339.92269969811, -13655.92315660756, -14864.404201962507, -6026.327356663594, -15781.162563923477, -16782.015338229525, -12031.040621631524, -17346.84487212882, -14578.761965760861, -15586.293960708716, -12025.568867294383, -13672.458937724241, -15183.414233777166, -14701.103971724193, -10356.56214182246, -10208.4509150732, -13610.45122708107, -9345.945214212075, -18003.86602065358, -13110.94988743755, -15372.223118429207, -10909.545002272036, -11424.994689472249, -15554.017840270244, -10085.62198687673, -14831.572429538133, -16423.50556512754, -14833.540098673686, -14349.837300649066, -6673.009139031337, -12141.800757006427, -14092.486023166393, -17382.89396353822, -14962.21678020175, -7268.436224131997, -9265.242774535069, -17785.045239174407, -15083.202968757429, -13029.565131748153, -10222.87132141063, -15294.682121581322, -7894.67534035128, -14174.909279802117, -19763.51370358192, -16242.593546831595, -13189.50336444145, -10281.216703571845, -14294.30832264379, -11158.265857663608, -8342.019458638275, -4883.301146582782, -10326.884057504883, -9748.060637204304, -12791.232984609755, -12129.19643582432, -11607.36715520951], \"y\": [-6280.845579381188, 1822.6466103211867, -4608.217116784147, 3535.9217812296156, -2365.3918119820146, -8241.737172145702, -7304.306979671351, 4313.588824755178, -5883.95645454928, -2013.4467445322002, -8680.542777434683, -2626.903661054214, 1160.3842873573226, -940.3540931754486, -4611.684083285855, -7038.928425300831, 910.1608597882573, 5159.558883747629, -3521.5722438769944, 4657.554230886862, 2365.3838463137126, -3146.169284981106, 5546.696908058596, 1853.0729219148361, -1765.133185550107, 1408.6271244380853, -5208.8376413971055, -2457.269094783896, -557.973995333047, 683.7374816526279, -655.2034001272661, 3140.8708382504524, 1070.4148215334271, -7687.531073343651, -3280.3150766047975, 1018.7607642110247, -6705.349303615236, 352.52575800253044, -1113.5598269905763, 3165.5923927873046, -6628.288115524059, 1441.4743202058037, -4491.260930456677, -6963.241799650087, 3188.255465767124, 1202.9342946335416, -10148.405827850309, -7280.553835644972, 2529.565048883959, 3843.0492844583437, -2153.4208183751416, -4679.352826848222, -1704.746870969678, -3787.693222300978, -4632.583218660695, 2297.0345001326996, -7641.938828032502, -8987.866389739793, -8039.0654138950395, -3755.8977424009718, 240.89966230078568, -1246.639977132436, 2377.7601948165125], \"z\": [-2462.1487944490286, -6792.510776006662, -440.72298233634524, -5829.0062997554905, -4774.140877726366, -6754.787649513462, -852.3003970893105, -7850.501337365153, 8539.231515899155, -3633.832532720244, -6986.054972101492, -733.5383813293294, -5168.602219340745, 462.6037383155985, -4516.121137676369, -1697.888961476172, -5548.097119063126, -3296.085660174613, 5755.220236970085, -6964.410688026322, -9161.62020528999, 3549.7496384078318, -3431.0475195374856, -1890.9703486214655, 1658.7356759571496, -3088.6846562801234, 1635.2332527134968, 1652.3946030987104, 4002.7084892136386, 5090.115955536098, -2169.477929487457, 4375.011482222725, -1923.4980180133512, -5654.982068548734, -5157.554237897961, -7858.624994259009, 2263.6790262808536, 1187.8009592862438, 2272.6284917327303, -10964.148782564911, -5746.840106808244, -7989.586909262586, 3891.91211923105, -3049.405067729468, -8103.557192348096, -2224.991306381766, -4401.712371267717, -255.04808717054408, -7089.542620061159, -6575.9788039758805, -5014.706690054033, -97.30295906679677, 2950.4035918721656, 2630.0990855704213, 1511.8944009055776, 2166.497130258699, 2314.4861090342274, -3686.367457945489, -5789.286853695129, 4501.721517868942, -6332.2981410499215, 4168.141107471299, 1902.00884773581]}, {\"marker\": {\"size\": 4}, \"mode\": \"markers\", \"name\": \"Cluster 10\", \"type\": \"scatter3d\", \"x\": [3788.6277765935083, -1720.9597434861298, 4982.3252552197555, 4491.414627015707, 4755.000601343766, 7298.128217062819, 2857.98333080895, 1120.291063368956, 5438.589830367649, 18037.311107441208, 5027.576924712743, 9684.945732957227, -346.8715025374818, 2285.7298707288464, 9811.68827490483, 3515.692772268642, -7084.718281061856, 3208.8865878005968, 5154.674369035149, 6154.497459855295, -1668.5485820730519, 8669.707657743698, 173.63988868830484, 8503.538209047572], \"y\": [4669.035098670957, 2149.8619299108054, 3884.252619390389, 5456.71015172664, 3421.9552806076945, 8517.240901995649, 8440.189905537138, 2562.606524760741, -2829.4323066171346, 10199.921937809828, 9605.450625692583, 11121.000633535341, 152.8098834479778, 3376.1385986192427, 7879.99123157983, 7908.7553349496, 4647.555952025702, 11825.93120873533, 8807.690574455642, 7132.676278663212, -3917.412518862741, 14043.443819811782, 8830.745762783961, 9782.005150022896], \"z\": [-2810.6847936568824, -5295.565532819365, -2474.0421932816507, -2499.375286240395, -1749.4051463333412, -4106.845928710184, -232.28071067559443, -2532.4942915617303, -2731.8107478248385, 1.4664878392836727, -1261.3670066862776, 2224.154205870685, -1787.0387582993008, -6805.964690434448, -1037.8129593697233, -2647.5517075581492, 4339.5358336313, 5.983711128704471, 457.3291956517273, -667.7437211496258, -839.5295726110875, -2818.902129189218, 2932.9818168488596, 5867.439498367418]}],\n",
       "                        {\"template\": {\"data\": {\"bar\": [{\"error_x\": {\"color\": \"#2a3f5f\"}, \"error_y\": {\"color\": \"#2a3f5f\"}, \"marker\": {\"line\": {\"color\": \"#E5ECF6\", \"width\": 0.5}}, \"type\": \"bar\"}], \"barpolar\": [{\"marker\": {\"line\": {\"color\": \"#E5ECF6\", \"width\": 0.5}}, \"type\": \"barpolar\"}], \"carpet\": [{\"aaxis\": {\"endlinecolor\": \"#2a3f5f\", \"gridcolor\": \"white\", \"linecolor\": \"white\", \"minorgridcolor\": \"white\", \"startlinecolor\": \"#2a3f5f\"}, \"baxis\": {\"endlinecolor\": \"#2a3f5f\", \"gridcolor\": \"white\", \"linecolor\": \"white\", \"minorgridcolor\": \"white\", \"startlinecolor\": \"#2a3f5f\"}, \"type\": \"carpet\"}], \"choropleth\": [{\"colorbar\": {\"outlinewidth\": 0, \"ticks\": \"\"}, \"type\": \"choropleth\"}], \"contour\": [{\"colorbar\": {\"outlinewidth\": 0, \"ticks\": \"\"}, \"colorscale\": [[0.0, \"#0d0887\"], [0.1111111111111111, \"#46039f\"], [0.2222222222222222, \"#7201a8\"], [0.3333333333333333, \"#9c179e\"], [0.4444444444444444, \"#bd3786\"], [0.5555555555555556, \"#d8576b\"], [0.6666666666666666, \"#ed7953\"], [0.7777777777777778, \"#fb9f3a\"], [0.8888888888888888, \"#fdca26\"], [1.0, \"#f0f921\"]], \"type\": \"contour\"}], \"contourcarpet\": [{\"colorbar\": {\"outlinewidth\": 0, \"ticks\": \"\"}, \"type\": \"contourcarpet\"}], \"heatmap\": [{\"colorbar\": {\"outlinewidth\": 0, \"ticks\": \"\"}, \"colorscale\": [[0.0, \"#0d0887\"], [0.1111111111111111, \"#46039f\"], [0.2222222222222222, \"#7201a8\"], [0.3333333333333333, \"#9c179e\"], [0.4444444444444444, \"#bd3786\"], [0.5555555555555556, \"#d8576b\"], [0.6666666666666666, \"#ed7953\"], [0.7777777777777778, \"#fb9f3a\"], [0.8888888888888888, \"#fdca26\"], [1.0, \"#f0f921\"]], \"type\": \"heatmap\"}], \"heatmapgl\": [{\"colorbar\": {\"outlinewidth\": 0, \"ticks\": \"\"}, \"colorscale\": [[0.0, \"#0d0887\"], [0.1111111111111111, \"#46039f\"], [0.2222222222222222, \"#7201a8\"], [0.3333333333333333, \"#9c179e\"], [0.4444444444444444, \"#bd3786\"], [0.5555555555555556, \"#d8576b\"], [0.6666666666666666, \"#ed7953\"], [0.7777777777777778, \"#fb9f3a\"], [0.8888888888888888, \"#fdca26\"], [1.0, \"#f0f921\"]], \"type\": \"heatmapgl\"}], \"histogram\": [{\"marker\": {\"colorbar\": {\"outlinewidth\": 0, \"ticks\": \"\"}}, \"type\": \"histogram\"}], \"histogram2d\": [{\"colorbar\": {\"outlinewidth\": 0, \"ticks\": \"\"}, \"colorscale\": [[0.0, \"#0d0887\"], [0.1111111111111111, \"#46039f\"], [0.2222222222222222, \"#7201a8\"], [0.3333333333333333, \"#9c179e\"], [0.4444444444444444, \"#bd3786\"], [0.5555555555555556, \"#d8576b\"], [0.6666666666666666, \"#ed7953\"], [0.7777777777777778, \"#fb9f3a\"], [0.8888888888888888, \"#fdca26\"], [1.0, \"#f0f921\"]], \"type\": \"histogram2d\"}], \"histogram2dcontour\": [{\"colorbar\": {\"outlinewidth\": 0, \"ticks\": \"\"}, \"colorscale\": [[0.0, \"#0d0887\"], [0.1111111111111111, \"#46039f\"], [0.2222222222222222, \"#7201a8\"], [0.3333333333333333, \"#9c179e\"], [0.4444444444444444, \"#bd3786\"], [0.5555555555555556, \"#d8576b\"], [0.6666666666666666, \"#ed7953\"], [0.7777777777777778, \"#fb9f3a\"], [0.8888888888888888, \"#fdca26\"], [1.0, \"#f0f921\"]], \"type\": \"histogram2dcontour\"}], \"mesh3d\": [{\"colorbar\": {\"outlinewidth\": 0, \"ticks\": \"\"}, \"type\": \"mesh3d\"}], \"parcoords\": [{\"line\": {\"colorbar\": {\"outlinewidth\": 0, \"ticks\": \"\"}}, \"type\": \"parcoords\"}], \"pie\": [{\"automargin\": true, \"type\": \"pie\"}], \"scatter\": [{\"marker\": {\"colorbar\": {\"outlinewidth\": 0, \"ticks\": \"\"}}, \"type\": \"scatter\"}], \"scatter3d\": [{\"line\": {\"colorbar\": {\"outlinewidth\": 0, \"ticks\": \"\"}}, \"marker\": {\"colorbar\": {\"outlinewidth\": 0, \"ticks\": \"\"}}, \"type\": \"scatter3d\"}], \"scattercarpet\": [{\"marker\": {\"colorbar\": {\"outlinewidth\": 0, \"ticks\": \"\"}}, \"type\": \"scattercarpet\"}], \"scattergeo\": [{\"marker\": {\"colorbar\": {\"outlinewidth\": 0, \"ticks\": \"\"}}, \"type\": \"scattergeo\"}], \"scattergl\": [{\"marker\": {\"colorbar\": {\"outlinewidth\": 0, \"ticks\": \"\"}}, \"type\": \"scattergl\"}], \"scattermapbox\": [{\"marker\": {\"colorbar\": {\"outlinewidth\": 0, \"ticks\": \"\"}}, \"type\": \"scattermapbox\"}], \"scatterpolar\": [{\"marker\": {\"colorbar\": {\"outlinewidth\": 0, \"ticks\": \"\"}}, \"type\": \"scatterpolar\"}], \"scatterpolargl\": [{\"marker\": {\"colorbar\": {\"outlinewidth\": 0, \"ticks\": \"\"}}, \"type\": \"scatterpolargl\"}], \"scatterternary\": [{\"marker\": {\"colorbar\": {\"outlinewidth\": 0, \"ticks\": \"\"}}, \"type\": \"scatterternary\"}], \"surface\": [{\"colorbar\": {\"outlinewidth\": 0, \"ticks\": \"\"}, \"colorscale\": [[0.0, \"#0d0887\"], [0.1111111111111111, \"#46039f\"], [0.2222222222222222, \"#7201a8\"], [0.3333333333333333, \"#9c179e\"], [0.4444444444444444, \"#bd3786\"], [0.5555555555555556, \"#d8576b\"], [0.6666666666666666, \"#ed7953\"], [0.7777777777777778, \"#fb9f3a\"], [0.8888888888888888, \"#fdca26\"], [1.0, \"#f0f921\"]], \"type\": \"surface\"}], \"table\": [{\"cells\": {\"fill\": {\"color\": \"#EBF0F8\"}, \"line\": {\"color\": \"white\"}}, \"header\": {\"fill\": {\"color\": \"#C8D4E3\"}, \"line\": {\"color\": \"white\"}}, \"type\": \"table\"}]}, \"layout\": {\"annotationdefaults\": {\"arrowcolor\": \"#2a3f5f\", \"arrowhead\": 0, \"arrowwidth\": 1}, \"coloraxis\": {\"colorbar\": {\"outlinewidth\": 0, \"ticks\": \"\"}}, \"colorscale\": {\"diverging\": [[0, \"#8e0152\"], [0.1, \"#c51b7d\"], [0.2, \"#de77ae\"], [0.3, \"#f1b6da\"], [0.4, \"#fde0ef\"], [0.5, \"#f7f7f7\"], [0.6, \"#e6f5d0\"], [0.7, \"#b8e186\"], [0.8, \"#7fbc41\"], [0.9, \"#4d9221\"], [1, \"#276419\"]], \"sequential\": [[0.0, \"#0d0887\"], [0.1111111111111111, \"#46039f\"], [0.2222222222222222, \"#7201a8\"], [0.3333333333333333, \"#9c179e\"], [0.4444444444444444, \"#bd3786\"], [0.5555555555555556, \"#d8576b\"], [0.6666666666666666, \"#ed7953\"], [0.7777777777777778, \"#fb9f3a\"], [0.8888888888888888, \"#fdca26\"], [1.0, \"#f0f921\"]], \"sequentialminus\": [[0.0, \"#0d0887\"], [0.1111111111111111, \"#46039f\"], [0.2222222222222222, \"#7201a8\"], [0.3333333333333333, \"#9c179e\"], [0.4444444444444444, \"#bd3786\"], [0.5555555555555556, \"#d8576b\"], [0.6666666666666666, \"#ed7953\"], [0.7777777777777778, \"#fb9f3a\"], [0.8888888888888888, \"#fdca26\"], [1.0, \"#f0f921\"]]}, \"colorway\": [\"#636efa\", \"#EF553B\", \"#00cc96\", \"#ab63fa\", \"#FFA15A\", \"#19d3f3\", \"#FF6692\", \"#B6E880\", \"#FF97FF\", \"#FECB52\"], \"font\": {\"color\": \"#2a3f5f\"}, \"geo\": {\"bgcolor\": \"white\", \"lakecolor\": \"white\", \"landcolor\": \"#E5ECF6\", \"showlakes\": true, \"showland\": true, \"subunitcolor\": \"white\"}, \"hoverlabel\": {\"align\": \"left\"}, \"hovermode\": \"closest\", \"mapbox\": {\"style\": \"light\"}, \"paper_bgcolor\": \"white\", \"plot_bgcolor\": \"#E5ECF6\", \"polar\": {\"angularaxis\": {\"gridcolor\": \"white\", \"linecolor\": \"white\", \"ticks\": \"\"}, \"bgcolor\": \"#E5ECF6\", \"radialaxis\": {\"gridcolor\": \"white\", \"linecolor\": \"white\", \"ticks\": \"\"}}, \"scene\": {\"xaxis\": {\"backgroundcolor\": \"#E5ECF6\", \"gridcolor\": \"white\", \"gridwidth\": 2, \"linecolor\": \"white\", \"showbackground\": true, \"ticks\": \"\", \"zerolinecolor\": \"white\"}, \"yaxis\": {\"backgroundcolor\": \"#E5ECF6\", \"gridcolor\": \"white\", \"gridwidth\": 2, \"linecolor\": \"white\", \"showbackground\": true, \"ticks\": \"\", \"zerolinecolor\": \"white\"}, \"zaxis\": {\"backgroundcolor\": \"#E5ECF6\", \"gridcolor\": \"white\", \"gridwidth\": 2, \"linecolor\": \"white\", \"showbackground\": true, \"ticks\": \"\", \"zerolinecolor\": \"white\"}}, \"shapedefaults\": {\"line\": {\"color\": \"#2a3f5f\"}}, \"ternary\": {\"aaxis\": {\"gridcolor\": \"white\", \"linecolor\": \"white\", \"ticks\": \"\"}, \"baxis\": {\"gridcolor\": \"white\", \"linecolor\": \"white\", \"ticks\": \"\"}, \"bgcolor\": \"#E5ECF6\", \"caxis\": {\"gridcolor\": \"white\", \"linecolor\": \"white\", \"ticks\": \"\"}}, \"title\": {\"x\": 0.05}, \"xaxis\": {\"automargin\": true, \"gridcolor\": \"white\", \"linecolor\": \"white\", \"ticks\": \"\", \"title\": {\"standoff\": 15}, \"zerolinecolor\": \"white\", \"zerolinewidth\": 2}, \"yaxis\": {\"automargin\": true, \"gridcolor\": \"white\", \"linecolor\": \"white\", \"ticks\": \"\", \"title\": {\"standoff\": 15}, \"zerolinecolor\": \"white\", \"zerolinewidth\": 2}}}},\n",
       "                        {\"responsive\": true}\n",
       "                    ).then(function(){\n",
       "                            \n",
       "var gd = document.getElementById('ffe15869-d05f-4ca3-8b77-c9ee1883d754');\n",
       "var x = new MutationObserver(function (mutations, observer) {{\n",
       "        var display = window.getComputedStyle(gd).display;\n",
       "        if (!display || display === 'none') {{\n",
       "            console.log([gd, 'removed!']);\n",
       "            Plotly.purge(gd);\n",
       "            observer.disconnect();\n",
       "        }}\n",
       "}});\n",
       "\n",
       "// Listen for the removal of the full notebook cells\n",
       "var notebookContainer = gd.closest('#notebook-container');\n",
       "if (notebookContainer) {{\n",
       "    x.observe(notebookContainer, {childList: true});\n",
       "}}\n",
       "\n",
       "// Listen for the clearing of the current output cell\n",
       "var outputEl = gd.closest('.output');\n",
       "if (outputEl) {{\n",
       "    x.observe(outputEl, {childList: true});\n",
       "}}\n",
       "\n",
       "                        })\n",
       "                };\n",
       "                });\n",
       "            </script>\n",
       "        </div>"
      ]
     },
     "metadata": {},
     "output_type": "display_data"
    }
   ],
   "source": [
    "vbgmm_clusters = vbgmm_cluster(cluster_data, n_models=10)"
   ]
  },
  {
   "cell_type": "markdown",
   "metadata": {},
   "source": [
    "### UMAP - HDB Scan clustering"
   ]
  },
  {
   "cell_type": "code",
   "execution_count": 19,
   "metadata": {},
   "outputs": [
    {
     "data": {
      "application/vnd.plotly.v1+json": {
       "config": {
        "plotlyServerURL": "https://plot.ly"
       },
       "data": [
        {
         "marker": {
          "color": [
           1,
           1,
           1,
           1,
           1,
           0,
           1,
           1,
           1,
           1,
           1,
           1,
           1,
           1,
           1,
           0,
           1,
           1,
           0,
           1,
           1,
           1,
           1,
           1,
           1,
           1,
           1,
           1,
           1,
           1,
           1,
           1,
           1,
           1,
           1,
           1,
           1,
           1,
           1,
           1,
           1,
           1,
           1,
           1,
           1,
           1,
           1,
           1,
           1,
           1,
           1,
           1,
           1,
           1,
           1,
           1,
           1,
           1,
           1,
           1,
           1,
           1,
           1,
           1,
           1,
           1,
           1,
           0,
           1,
           1,
           1,
           1,
           1,
           1,
           1,
           1,
           1,
           1,
           1,
           1,
           1,
           0,
           1,
           1,
           1,
           1,
           1,
           1,
           1,
           1,
           1,
           0,
           1,
           1,
           0,
           1,
           1,
           1,
           1,
           1,
           1,
           1,
           1,
           1,
           1,
           0,
           0,
           1,
           1,
           1,
           1,
           0,
           1,
           1,
           1,
           1,
           1,
           1,
           1,
           0,
           1,
           1,
           0,
           1,
           1,
           1,
           1,
           0,
           1,
           1,
           0,
           1,
           0,
           0,
           1,
           0,
           1,
           1,
           1,
           0,
           1,
           1,
           1,
           1,
           1,
           0,
           1,
           1,
           1,
           0,
           1,
           1,
           1,
           1,
           1,
           0,
           1,
           1,
           1,
           1,
           1,
           1,
           1,
           1,
           0,
           1,
           1,
           1,
           1,
           1,
           1,
           1,
           1,
           0,
           0,
           1,
           1,
           0,
           1,
           1,
           1,
           1,
           1,
           1,
           1,
           0,
           0,
           1,
           1,
           1,
           1,
           1,
           1,
           1,
           1,
           1,
           1,
           1,
           1,
           1,
           1,
           1,
           0,
           1,
           0,
           0,
           0,
           1,
           0,
           1,
           0,
           1,
           0,
           0,
           0,
           1,
           1,
           1,
           1,
           1,
           1,
           0,
           1,
           1,
           1,
           0,
           1,
           0,
           0,
           1,
           1,
           1,
           1
          ]
         },
         "mode": "markers",
         "name": "Umap HDB Scan clustering",
         "type": "scatter3d",
         "x": [
          5.509284019470215,
          3.217747211456299,
          4.876094341278076,
          4.9173455238342285,
          1.724585771560669,
          18.818525314331055,
          4.771130561828613,
          2.7564425468444824,
          5.606255531311035,
          3.959073066711426,
          2.906980276107788,
          2.6822855472564697,
          4.271172523498535,
          1.8241183757781982,
          3.5616977214813232,
          18.183500289916992,
          4.377379894256592,
          3.6160666942596436,
          18.696651458740234,
          3.348719835281372,
          5.4880571365356445,
          2.202910900115967,
          4.376353740692139,
          5.058112144470215,
          4.306386470794678,
          1.885240077972412,
          3.5570321083068848,
          3.3574862480163574,
          4.853377819061279,
          2.617462158203125,
          2.631913185119629,
          2.546804666519165,
          3.7582714557647705,
          3.006474733352661,
          3.282041311264038,
          5.540651798248291,
          2.9357287883758545,
          3.881094455718994,
          3.0884785652160645,
          2.686739444732666,
          3.7065205574035645,
          5.691677570343018,
          5.572345733642578,
          3.9771852493286133,
          4.597485065460205,
          2.333268642425537,
          4.745242595672607,
          3.309255599975586,
          3.4695262908935547,
          5.581923484802246,
          3.5077478885650635,
          2.0828428268432617,
          1.6555979251861572,
          5.41554069519043,
          4.585153579711914,
          3.331721544265747,
          3.03767728805542,
          2.5787947177886963,
          1.9893195629119873,
          4.585326194763184,
          3.1147732734680176,
          3.4244632720947266,
          2.751216411590576,
          1.787353277206421,
          2.641533374786377,
          5.6909356117248535,
          2.425644874572754,
          18.142162322998047,
          2.92240047454834,
          4.738858699798584,
          5.270033359527588,
          4.928916931152344,
          4.233753681182861,
          1.6476842164993286,
          1.6418347358703613,
          2.881330728530884,
          4.5701117515563965,
          1.9853966236114502,
          3.3478658199310303,
          2.438650369644165,
          4.566908359527588,
          18.26830291748047,
          2.289210319519043,
          3.4711999893188477,
          4.321630001068115,
          2.1078813076019287,
          4.123366832733154,
          2.9338724613189697,
          3.479501485824585,
          1.73073148727417,
          2.203087091445923,
          18.139137268066406,
          4.40338659286499,
          4.579922676086426,
          18.426076889038086,
          4.614138603210449,
          2.0363152027130127,
          4.123585224151611,
          2.0263864994049072,
          2.94242525100708,
          2.467247247695923,
          2.704900026321411,
          2.889230966567993,
          1.9705291986465454,
          3.197096347808838,
          18.199783325195312,
          18.4438419342041,
          4.900463581085205,
          2.95350980758667,
          4.0603179931640625,
          1.6030006408691406,
          18.56785011291504,
          5.686437129974365,
          1.6093170642852783,
          2.3051133155822754,
          4.852440357208252,
          2.3322577476501465,
          2.619788408279419,
          3.4480626583099365,
          18.344600677490234,
          2.1190412044525146,
          1.8609330654144287,
          18.495010375976562,
          5.186313152313232,
          3.241077423095703,
          3.4427738189697266,
          2.5153133869171143,
          18.470956802368164,
          5.117709636688232,
          3.9998676776885986,
          18.238344192504883,
          1.9369332790374756,
          18.68715476989746,
          18.878665924072266,
          3.9465014934539795,
          18.500286102294922,
          3.515566110610962,
          2.3384008407592773,
          2.5444531440734863,
          18.15831184387207,
          4.823891639709473,
          3.5655479431152344,
          4.585859298706055,
          5.446432113647461,
          2.2936086654663086,
          18.506336212158203,
          3.0581140518188477,
          5.648479461669922,
          5.5662946701049805,
          18.809720993041992,
          4.6388840675354,
          3.334357500076294,
          4.011489391326904,
          3.4902873039245605,
          3.969144582748413,
          18.44164276123047,
          4.804546356201172,
          1.9998589754104614,
          4.5913472175598145,
          5.665745258331299,
          4.202455997467041,
          5.562565326690674,
          1.8749490976333618,
          1.707916021347046,
          18.23663902282715,
          1.9197421073913574,
          1.795255422592163,
          4.230923175811768,
          2.0565528869628906,
          2.2927255630493164,
          2.1310739517211914,
          4.039516925811768,
          5.3537163734436035,
          18.29054832458496,
          18.71196746826172,
          2.9539759159088135,
          4.552531719207764,
          18.83062171936035,
          4.972651481628418,
          3.9981226921081543,
          5.364237308502197,
          1.8435763120651245,
          4.726276874542236,
          3.3020882606506348,
          4.6352386474609375,
          18.430255889892578,
          18.761442184448242,
          5.613869667053223,
          5.340628623962402,
          3.62834095954895,
          1.7692906856536865,
          2.0271124839782715,
          2.618299961090088,
          4.87303352355957,
          2.5130302906036377,
          4.169155120849609,
          3.69026255607605,
          3.464613914489746,
          5.375840663909912,
          2.2683794498443604,
          4.52961540222168,
          3.3660659790039062,
          18.84088897705078,
          1.808306336402893,
          18.84904670715332,
          18.64195442199707,
          18.60031509399414,
          3.852407217025757,
          18.600740432739258,
          1.8593382835388184,
          18.42991065979004,
          2.5484697818756104,
          18.441757202148438,
          18.49310302734375,
          18.652502059936523,
          1.9928207397460938,
          2.4323153495788574,
          3.715085506439209,
          4.588301181793213,
          5.35420036315918,
          4.296979904174805,
          18.581167221069336,
          1.6257104873657227,
          5.709840297698975,
          3.9087960720062256,
          18.646718978881836,
          2.7907063961029053,
          18.8309383392334,
          18.725847244262695,
          3.3829996585845947,
          4.719947338104248,
          4.487523078918457,
          4.727450370788574
         ],
         "y": [
          3.6796176433563232,
          6.8934807777404785,
          3.7636990547180176,
          3.658435821533203,
          5.86586332321167,
          7.997971534729004,
          4.287675380706787,
          5.0684814453125,
          3.65226149559021,
          5.419747352600098,
          4.653307914733887,
          6.429244518280029,
          4.604853630065918,
          5.429970741271973,
          6.48478364944458,
          8.577144622802734,
          4.251468181610107,
          5.249497890472412,
          7.96998405456543,
          6.820166110992432,
          4.217804431915283,
          7.181118488311768,
          4.536250114440918,
          3.8891801834106445,
          4.550923824310303,
          6.94690465927124,
          5.849525451660156,
          5.227238655090332,
          4.351163387298584,
          5.736382961273193,
          5.169003486633301,
          5.136683464050293,
          5.252324104309082,
          4.9241251945495605,
          6.979039669036865,
          4.414108753204346,
          6.1622114181518555,
          4.533816814422607,
          6.069463729858398,
          5.826323986053467,
          5.660125255584717,
          3.785245656967163,
          3.9343526363372803,
          4.798449993133545,
          3.6366498470306396,
          4.988032341003418,
          4.580341339111328,
          6.620396614074707,
          6.82987642288208,
          4.064585208892822,
          6.590061664581299,
          4.891042232513428,
          6.456831455230713,
          4.540820598602295,
          3.45778226852417,
          5.569128036499023,
          5.298546314239502,
          4.851336479187012,
          7.2219367027282715,
          3.9934606552124023,
          6.301442623138428,
          5.284480571746826,
          5.461749076843262,
          7.113149166107178,
          5.439670085906982,
          3.758136749267578,
          5.950089454650879,
          8.638010025024414,
          5.608270168304443,
          4.964662551879883,
          4.91389274597168,
          4.246205806732178,
          4.343634605407715,
          6.068951606750488,
          6.931088447570801,
          4.752720832824707,
          3.8616952896118164,
          5.798332691192627,
          5.628668308258057,
          5.217896461486816,
          3.5067903995513916,
          8.530477523803711,
          5.822009086608887,
          6.8817291259765625,
          4.474018096923828,
          6.416457176208496,
          4.745197296142578,
          6.124497413635254,
          4.885203838348389,
          6.233836650848389,
          5.214175701141357,
          8.615473747253418,
          4.530186176300049,
          4.3303985595703125,
          8.400442123413086,
          4.110620021820068,
          6.457973957061768,
          4.738901615142822,
          5.244598388671875,
          4.98200798034668,
          5.251337051391602,
          5.0136260986328125,
          5.4092183113098145,
          5.278783321380615,
          6.475688934326172,
          8.664718627929688,
          8.453255653381348,
          4.856210231781006,
          5.989461898803711,
          4.678557872772217,
          5.9662652015686035,
          7.750237464904785,
          3.7331535816192627,
          6.045347690582275,
          5.578949451446533,
          4.052940845489502,
          5.552237033843994,
          5.667433738708496,
          6.733515739440918,
          7.582076549530029,
          6.184605598449707,
          6.747724533081055,
          7.771644592285156,
          4.067622184753418,
          6.479832172393799,
          6.68122673034668,
          5.90019416809082,
          8.122715950012207,
          3.999178647994995,
          4.4027509689331055,
          8.596284866333008,
          6.688329219818115,
          8.174994468688965,
          8.100249290466309,
          4.4403462409973145,
          8.32844066619873,
          4.631439685821533,
          5.884023666381836,
          5.751911163330078,
          8.554980278015137,
          3.7167584896087646,
          6.669699192047119,
          4.856257438659668,
          3.6996729373931885,
          5.258258819580078,
          8.306683540344238,
          6.401947975158691,
          4.423829555511475,
          4.328586578369141,
          8.286943435668945,
          3.75661563873291,
          4.57800817489624,
          4.530772686004639,
          4.7555341720581055,
          4.216111660003662,
          8.40351390838623,
          4.341184139251709,
          5.773372173309326,
          3.6114752292633057,
          4.225931644439697,
          3.681522846221924,
          3.7625186443328857,
          7.17880392074585,
          5.893222808837891,
          8.629060745239258,
          7.171618938446045,
          7.122793674468994,
          4.902284622192383,
          4.9805402755737305,
          5.186495780944824,
          4.932314395904541,
          4.419071674346924,
          3.6983118057250977,
          8.56714153289795,
          8.19139575958252,
          4.932559967041016,
          3.586591958999634,
          8.240776062011719,
          4.430063724517822,
          5.365299224853516,
          3.8573951721191406,
          6.385178565979004,
          4.38476037979126,
          5.269876956939697,
          3.9062349796295166,
          7.644494533538818,
          8.232686996459961,
          3.650676965713501,
          3.877791404724121,
          5.3585429191589355,
          7.076996803283691,
          5.106374740600586,
          5.888454914093018,
          4.134118556976318,
          5.3235859870910645,
          4.4178853034973145,
          4.999175548553467,
          6.79526948928833,
          4.4108805656433105,
          4.873965740203857,
          4.386101722717285,
          5.4787821769714355,
          8.24162483215332,
          6.813754558563232,
          8.330314636230469,
          7.972079753875732,
          8.043083190917969,
          5.305336952209473,
          8.026856422424316,
          6.531186103820801,
          8.342737197875977,
          5.393038272857666,
          7.670233726501465,
          7.844155311584473,
          8.102453231811523,
          5.3642191886901855,
          5.337579250335693,
          5.516514301300049,
          4.503142833709717,
          4.660523414611816,
          4.720560550689697,
          8.031810760498047,
          6.085541725158691,
          3.854252815246582,
          5.10333776473999,
          8.205326080322266,
          5.819571495056152,
          8.282903671264648,
          8.139161109924316,
          4.876004219055176,
          4.204928398132324,
          4.735185623168945,
          4.886731147766113
         ],
         "z": [
          6.693358421325684,
          5.495175361633301,
          5.623931407928467,
          6.320228099822998,
          5.191894054412842,
          4.255329608917236,
          5.478533744812012,
          5.451900005340576,
          6.591864109039307,
          5.79218053817749,
          5.747908115386963,
          5.7663140296936035,
          5.477390289306641,
          5.447981834411621,
          5.394606113433838,
          3.5968031883239746,
          5.012519359588623,
          7.000572681427002,
          4.537471294403076,
          5.615712642669678,
          6.577061653137207,
          5.6308488845825195,
          5.078937530517578,
          5.641301155090332,
          5.056304931640625,
          5.615458965301514,
          5.810391902923584,
          5.931004524230957,
          6.81550407409668,
          5.0072784423828125,
          5.3697285652160645,
          5.477404594421387,
          6.933229923248291,
          6.196062088012695,
          5.475020885467529,
          6.135201930999756,
          6.325531482696533,
          6.964051246643066,
          6.360396862030029,
          6.783261775970459,
          5.7884626388549805,
          6.679511547088623,
          6.493975639343262,
          6.853818416595459,
          5.653374671936035,
          5.3601884841918945,
          5.713419437408447,
          5.671310901641846,
          5.45095682144165,
          6.528789520263672,
          5.762215614318848,
          5.548861503601074,
          5.462052345275879,
          6.450454235076904,
          5.762728691101074,
          6.754154682159424,
          6.091006278991699,
          5.669204235076904,
          5.588026523590088,
          5.379610538482666,
          5.648401737213135,
          6.242030143737793,
          6.927974700927734,
          5.73759126663208,
          5.524234771728516,
          6.466597080230713,
          6.650564670562744,
          3.728440523147583,
          4.766171455383301,
          5.868031978607178,
          5.888050556182861,
          6.713323593139648,
          5.107519149780273,
          5.298008918762207,
          5.513087272644043,
          5.177068710327148,
          5.414400577545166,
          5.007845401763916,
          6.499453544616699,
          5.053005695343018,
          5.736995220184326,
          3.5986225605010986,
          4.950387001037598,
          5.501832962036133,
          6.7826313972473145,
          5.440852165222168,
          5.429081916809082,
          6.483175277709961,
          7.0550336837768555,
          5.596144676208496,
          5.232316017150879,
          3.800968885421753,
          5.539183139801025,
          5.141713619232178,
          3.8748838901519775,
          5.749076843261719,
          5.503854751586914,
          6.163918495178223,
          5.668766498565674,
          5.812434673309326,
          4.8263983726501465,
          5.329870700836182,
          6.975553035736084,
          5.506951332092285,
          5.7421698570251465,
          3.667191743850708,
          3.813485860824585,
          5.812870502471924,
          6.633983612060547,
          4.942366600036621,
          5.2334418296813965,
          4.20248556137085,
          6.645694255828857,
          5.378519535064697,
          4.844056606292725,
          5.654492378234863,
          6.035029888153076,
          6.816915035247803,
          5.484303951263428,
          4.069584846496582,
          6.2272844314575195,
          5.517577648162842,
          4.314971923828125,
          6.678094863891602,
          5.447062969207764,
          5.453298568725586,
          6.658778667449951,
          4.5868706703186035,
          6.629539966583252,
          6.8677215576171875,
          3.6714882850646973,
          5.529109001159668,
          4.2971696853637695,
          4.314606666564941,
          6.950535297393799,
          4.012978553771973,
          6.860433578491211,
          6.21339225769043,
          6.766462326049805,
          3.555826425552368,
          6.18485689163208,
          5.2159647941589355,
          6.034302234649658,
          6.213191032409668,
          5.18579626083374,
          4.052183628082275,
          5.631237506866455,
          6.2474517822265625,
          6.350409030914307,
          4.434475898742676,
          5.452121734619141,
          6.737717628479004,
          6.589332580566406,
          6.633232116699219,
          6.6226091384887695,
          3.890265941619873,
          6.237112522125244,
          5.04952335357666,
          5.659801959991455,
          6.404086112976074,
          5.706703186035156,
          6.716053009033203,
          5.747279644012451,
          5.166695594787598,
          3.6196794509887695,
          5.635556221008301,
          5.733880519866943,
          6.406420707702637,
          5.526100158691406,
          5.493929862976074,
          5.56817626953125,
          6.779355525970459,
          6.642175197601318,
          3.6902048587799072,
          4.664897441864014,
          5.9240241050720215,
          5.6651434898376465,
          4.38420295715332,
          5.844456195831299,
          5.859039306640625,
          6.701287269592285,
          5.4445037841796875,
          5.231668472290039,
          6.0435028076171875,
          5.407259941101074,
          4.1621994972229,
          4.63845157623291,
          6.436093807220459,
          6.698217868804932,
          6.937912464141846,
          5.733461380004883,
          5.428627014160156,
          5.00274658203125,
          6.5184125900268555,
          4.76088809967041,
          6.770247936248779,
          6.958728313446045,
          5.533229827880859,
          6.429001331329346,
          5.639125347137451,
          5.975114345550537,
          6.6364359855651855,
          4.5210723876953125,
          5.555227756500244,
          4.59527063369751,
          4.5402679443359375,
          4.530254364013672,
          6.0741119384765625,
          4.537343978881836,
          5.5437517166137695,
          3.8033039569854736,
          4.784544467926025,
          4.178555011749268,
          4.347755432128906,
          4.613218784332275,
          5.700229167938232,
          4.814661979675293,
          5.887896537780762,
          5.307699203491211,
          6.294743061065674,
          6.554994583129883,
          4.568143844604492,
          5.515429496765137,
          6.58254861831665,
          6.6023125648498535,
          4.7140679359436035,
          6.728598117828369,
          4.462827682495117,
          4.53065299987793,
          6.802339553833008,
          5.555692195892334,
          6.332920074462891,
          5.92899751663208
         ]
        }
       ],
       "layout": {
        "template": {
         "data": {
          "bar": [
           {
            "error_x": {
             "color": "#2a3f5f"
            },
            "error_y": {
             "color": "#2a3f5f"
            },
            "marker": {
             "line": {
              "color": "#E5ECF6",
              "width": 0.5
             }
            },
            "type": "bar"
           }
          ],
          "barpolar": [
           {
            "marker": {
             "line": {
              "color": "#E5ECF6",
              "width": 0.5
             }
            },
            "type": "barpolar"
           }
          ],
          "carpet": [
           {
            "aaxis": {
             "endlinecolor": "#2a3f5f",
             "gridcolor": "white",
             "linecolor": "white",
             "minorgridcolor": "white",
             "startlinecolor": "#2a3f5f"
            },
            "baxis": {
             "endlinecolor": "#2a3f5f",
             "gridcolor": "white",
             "linecolor": "white",
             "minorgridcolor": "white",
             "startlinecolor": "#2a3f5f"
            },
            "type": "carpet"
           }
          ],
          "choropleth": [
           {
            "colorbar": {
             "outlinewidth": 0,
             "ticks": ""
            },
            "type": "choropleth"
           }
          ],
          "contour": [
           {
            "colorbar": {
             "outlinewidth": 0,
             "ticks": ""
            },
            "colorscale": [
             [
              0,
              "#0d0887"
             ],
             [
              0.1111111111111111,
              "#46039f"
             ],
             [
              0.2222222222222222,
              "#7201a8"
             ],
             [
              0.3333333333333333,
              "#9c179e"
             ],
             [
              0.4444444444444444,
              "#bd3786"
             ],
             [
              0.5555555555555556,
              "#d8576b"
             ],
             [
              0.6666666666666666,
              "#ed7953"
             ],
             [
              0.7777777777777778,
              "#fb9f3a"
             ],
             [
              0.8888888888888888,
              "#fdca26"
             ],
             [
              1,
              "#f0f921"
             ]
            ],
            "type": "contour"
           }
          ],
          "contourcarpet": [
           {
            "colorbar": {
             "outlinewidth": 0,
             "ticks": ""
            },
            "type": "contourcarpet"
           }
          ],
          "heatmap": [
           {
            "colorbar": {
             "outlinewidth": 0,
             "ticks": ""
            },
            "colorscale": [
             [
              0,
              "#0d0887"
             ],
             [
              0.1111111111111111,
              "#46039f"
             ],
             [
              0.2222222222222222,
              "#7201a8"
             ],
             [
              0.3333333333333333,
              "#9c179e"
             ],
             [
              0.4444444444444444,
              "#bd3786"
             ],
             [
              0.5555555555555556,
              "#d8576b"
             ],
             [
              0.6666666666666666,
              "#ed7953"
             ],
             [
              0.7777777777777778,
              "#fb9f3a"
             ],
             [
              0.8888888888888888,
              "#fdca26"
             ],
             [
              1,
              "#f0f921"
             ]
            ],
            "type": "heatmap"
           }
          ],
          "heatmapgl": [
           {
            "colorbar": {
             "outlinewidth": 0,
             "ticks": ""
            },
            "colorscale": [
             [
              0,
              "#0d0887"
             ],
             [
              0.1111111111111111,
              "#46039f"
             ],
             [
              0.2222222222222222,
              "#7201a8"
             ],
             [
              0.3333333333333333,
              "#9c179e"
             ],
             [
              0.4444444444444444,
              "#bd3786"
             ],
             [
              0.5555555555555556,
              "#d8576b"
             ],
             [
              0.6666666666666666,
              "#ed7953"
             ],
             [
              0.7777777777777778,
              "#fb9f3a"
             ],
             [
              0.8888888888888888,
              "#fdca26"
             ],
             [
              1,
              "#f0f921"
             ]
            ],
            "type": "heatmapgl"
           }
          ],
          "histogram": [
           {
            "marker": {
             "colorbar": {
              "outlinewidth": 0,
              "ticks": ""
             }
            },
            "type": "histogram"
           }
          ],
          "histogram2d": [
           {
            "colorbar": {
             "outlinewidth": 0,
             "ticks": ""
            },
            "colorscale": [
             [
              0,
              "#0d0887"
             ],
             [
              0.1111111111111111,
              "#46039f"
             ],
             [
              0.2222222222222222,
              "#7201a8"
             ],
             [
              0.3333333333333333,
              "#9c179e"
             ],
             [
              0.4444444444444444,
              "#bd3786"
             ],
             [
              0.5555555555555556,
              "#d8576b"
             ],
             [
              0.6666666666666666,
              "#ed7953"
             ],
             [
              0.7777777777777778,
              "#fb9f3a"
             ],
             [
              0.8888888888888888,
              "#fdca26"
             ],
             [
              1,
              "#f0f921"
             ]
            ],
            "type": "histogram2d"
           }
          ],
          "histogram2dcontour": [
           {
            "colorbar": {
             "outlinewidth": 0,
             "ticks": ""
            },
            "colorscale": [
             [
              0,
              "#0d0887"
             ],
             [
              0.1111111111111111,
              "#46039f"
             ],
             [
              0.2222222222222222,
              "#7201a8"
             ],
             [
              0.3333333333333333,
              "#9c179e"
             ],
             [
              0.4444444444444444,
              "#bd3786"
             ],
             [
              0.5555555555555556,
              "#d8576b"
             ],
             [
              0.6666666666666666,
              "#ed7953"
             ],
             [
              0.7777777777777778,
              "#fb9f3a"
             ],
             [
              0.8888888888888888,
              "#fdca26"
             ],
             [
              1,
              "#f0f921"
             ]
            ],
            "type": "histogram2dcontour"
           }
          ],
          "mesh3d": [
           {
            "colorbar": {
             "outlinewidth": 0,
             "ticks": ""
            },
            "type": "mesh3d"
           }
          ],
          "parcoords": [
           {
            "line": {
             "colorbar": {
              "outlinewidth": 0,
              "ticks": ""
             }
            },
            "type": "parcoords"
           }
          ],
          "pie": [
           {
            "automargin": true,
            "type": "pie"
           }
          ],
          "scatter": [
           {
            "marker": {
             "colorbar": {
              "outlinewidth": 0,
              "ticks": ""
             }
            },
            "type": "scatter"
           }
          ],
          "scatter3d": [
           {
            "line": {
             "colorbar": {
              "outlinewidth": 0,
              "ticks": ""
             }
            },
            "marker": {
             "colorbar": {
              "outlinewidth": 0,
              "ticks": ""
             }
            },
            "type": "scatter3d"
           }
          ],
          "scattercarpet": [
           {
            "marker": {
             "colorbar": {
              "outlinewidth": 0,
              "ticks": ""
             }
            },
            "type": "scattercarpet"
           }
          ],
          "scattergeo": [
           {
            "marker": {
             "colorbar": {
              "outlinewidth": 0,
              "ticks": ""
             }
            },
            "type": "scattergeo"
           }
          ],
          "scattergl": [
           {
            "marker": {
             "colorbar": {
              "outlinewidth": 0,
              "ticks": ""
             }
            },
            "type": "scattergl"
           }
          ],
          "scattermapbox": [
           {
            "marker": {
             "colorbar": {
              "outlinewidth": 0,
              "ticks": ""
             }
            },
            "type": "scattermapbox"
           }
          ],
          "scatterpolar": [
           {
            "marker": {
             "colorbar": {
              "outlinewidth": 0,
              "ticks": ""
             }
            },
            "type": "scatterpolar"
           }
          ],
          "scatterpolargl": [
           {
            "marker": {
             "colorbar": {
              "outlinewidth": 0,
              "ticks": ""
             }
            },
            "type": "scatterpolargl"
           }
          ],
          "scatterternary": [
           {
            "marker": {
             "colorbar": {
              "outlinewidth": 0,
              "ticks": ""
             }
            },
            "type": "scatterternary"
           }
          ],
          "surface": [
           {
            "colorbar": {
             "outlinewidth": 0,
             "ticks": ""
            },
            "colorscale": [
             [
              0,
              "#0d0887"
             ],
             [
              0.1111111111111111,
              "#46039f"
             ],
             [
              0.2222222222222222,
              "#7201a8"
             ],
             [
              0.3333333333333333,
              "#9c179e"
             ],
             [
              0.4444444444444444,
              "#bd3786"
             ],
             [
              0.5555555555555556,
              "#d8576b"
             ],
             [
              0.6666666666666666,
              "#ed7953"
             ],
             [
              0.7777777777777778,
              "#fb9f3a"
             ],
             [
              0.8888888888888888,
              "#fdca26"
             ],
             [
              1,
              "#f0f921"
             ]
            ],
            "type": "surface"
           }
          ],
          "table": [
           {
            "cells": {
             "fill": {
              "color": "#EBF0F8"
             },
             "line": {
              "color": "white"
             }
            },
            "header": {
             "fill": {
              "color": "#C8D4E3"
             },
             "line": {
              "color": "white"
             }
            },
            "type": "table"
           }
          ]
         },
         "layout": {
          "annotationdefaults": {
           "arrowcolor": "#2a3f5f",
           "arrowhead": 0,
           "arrowwidth": 1
          },
          "coloraxis": {
           "colorbar": {
            "outlinewidth": 0,
            "ticks": ""
           }
          },
          "colorscale": {
           "diverging": [
            [
             0,
             "#8e0152"
            ],
            [
             0.1,
             "#c51b7d"
            ],
            [
             0.2,
             "#de77ae"
            ],
            [
             0.3,
             "#f1b6da"
            ],
            [
             0.4,
             "#fde0ef"
            ],
            [
             0.5,
             "#f7f7f7"
            ],
            [
             0.6,
             "#e6f5d0"
            ],
            [
             0.7,
             "#b8e186"
            ],
            [
             0.8,
             "#7fbc41"
            ],
            [
             0.9,
             "#4d9221"
            ],
            [
             1,
             "#276419"
            ]
           ],
           "sequential": [
            [
             0,
             "#0d0887"
            ],
            [
             0.1111111111111111,
             "#46039f"
            ],
            [
             0.2222222222222222,
             "#7201a8"
            ],
            [
             0.3333333333333333,
             "#9c179e"
            ],
            [
             0.4444444444444444,
             "#bd3786"
            ],
            [
             0.5555555555555556,
             "#d8576b"
            ],
            [
             0.6666666666666666,
             "#ed7953"
            ],
            [
             0.7777777777777778,
             "#fb9f3a"
            ],
            [
             0.8888888888888888,
             "#fdca26"
            ],
            [
             1,
             "#f0f921"
            ]
           ],
           "sequentialminus": [
            [
             0,
             "#0d0887"
            ],
            [
             0.1111111111111111,
             "#46039f"
            ],
            [
             0.2222222222222222,
             "#7201a8"
            ],
            [
             0.3333333333333333,
             "#9c179e"
            ],
            [
             0.4444444444444444,
             "#bd3786"
            ],
            [
             0.5555555555555556,
             "#d8576b"
            ],
            [
             0.6666666666666666,
             "#ed7953"
            ],
            [
             0.7777777777777778,
             "#fb9f3a"
            ],
            [
             0.8888888888888888,
             "#fdca26"
            ],
            [
             1,
             "#f0f921"
            ]
           ]
          },
          "colorway": [
           "#636efa",
           "#EF553B",
           "#00cc96",
           "#ab63fa",
           "#FFA15A",
           "#19d3f3",
           "#FF6692",
           "#B6E880",
           "#FF97FF",
           "#FECB52"
          ],
          "font": {
           "color": "#2a3f5f"
          },
          "geo": {
           "bgcolor": "white",
           "lakecolor": "white",
           "landcolor": "#E5ECF6",
           "showlakes": true,
           "showland": true,
           "subunitcolor": "white"
          },
          "hoverlabel": {
           "align": "left"
          },
          "hovermode": "closest",
          "mapbox": {
           "style": "light"
          },
          "paper_bgcolor": "white",
          "plot_bgcolor": "#E5ECF6",
          "polar": {
           "angularaxis": {
            "gridcolor": "white",
            "linecolor": "white",
            "ticks": ""
           },
           "bgcolor": "#E5ECF6",
           "radialaxis": {
            "gridcolor": "white",
            "linecolor": "white",
            "ticks": ""
           }
          },
          "scene": {
           "xaxis": {
            "backgroundcolor": "#E5ECF6",
            "gridcolor": "white",
            "gridwidth": 2,
            "linecolor": "white",
            "showbackground": true,
            "ticks": "",
            "zerolinecolor": "white"
           },
           "yaxis": {
            "backgroundcolor": "#E5ECF6",
            "gridcolor": "white",
            "gridwidth": 2,
            "linecolor": "white",
            "showbackground": true,
            "ticks": "",
            "zerolinecolor": "white"
           },
           "zaxis": {
            "backgroundcolor": "#E5ECF6",
            "gridcolor": "white",
            "gridwidth": 2,
            "linecolor": "white",
            "showbackground": true,
            "ticks": "",
            "zerolinecolor": "white"
           }
          },
          "shapedefaults": {
           "line": {
            "color": "#2a3f5f"
           }
          },
          "ternary": {
           "aaxis": {
            "gridcolor": "white",
            "linecolor": "white",
            "ticks": ""
           },
           "baxis": {
            "gridcolor": "white",
            "linecolor": "white",
            "ticks": ""
           },
           "bgcolor": "#E5ECF6",
           "caxis": {
            "gridcolor": "white",
            "linecolor": "white",
            "ticks": ""
           }
          },
          "title": {
           "x": 0.05
          },
          "xaxis": {
           "automargin": true,
           "gridcolor": "white",
           "linecolor": "white",
           "ticks": "",
           "title": {
            "standoff": 15
           },
           "zerolinecolor": "white",
           "zerolinewidth": 2
          },
          "yaxis": {
           "automargin": true,
           "gridcolor": "white",
           "linecolor": "white",
           "ticks": "",
           "title": {
            "standoff": 15
           },
           "zerolinecolor": "white",
           "zerolinewidth": 2
          }
         }
        }
       }
      },
      "text/html": [
       "<div>\n",
       "        \n",
       "        \n",
       "            <div id=\"00c827f9-82c4-4626-a05a-0ddfd2020cc6\" class=\"plotly-graph-div\" style=\"height:525px; width:100%;\"></div>\n",
       "            <script type=\"text/javascript\">\n",
       "                require([\"plotly\"], function(Plotly) {\n",
       "                    window.PLOTLYENV=window.PLOTLYENV || {};\n",
       "                    \n",
       "                if (document.getElementById(\"00c827f9-82c4-4626-a05a-0ddfd2020cc6\")) {\n",
       "                    Plotly.newPlot(\n",
       "                        '00c827f9-82c4-4626-a05a-0ddfd2020cc6',\n",
       "                        [{\"marker\": {\"color\": [1, 1, 1, 1, 1, 0, 1, 1, 1, 1, 1, 1, 1, 1, 1, 0, 1, 1, 0, 1, 1, 1, 1, 1, 1, 1, 1, 1, 1, 1, 1, 1, 1, 1, 1, 1, 1, 1, 1, 1, 1, 1, 1, 1, 1, 1, 1, 1, 1, 1, 1, 1, 1, 1, 1, 1, 1, 1, 1, 1, 1, 1, 1, 1, 1, 1, 1, 0, 1, 1, 1, 1, 1, 1, 1, 1, 1, 1, 1, 1, 1, 0, 1, 1, 1, 1, 1, 1, 1, 1, 1, 0, 1, 1, 0, 1, 1, 1, 1, 1, 1, 1, 1, 1, 1, 0, 0, 1, 1, 1, 1, 0, 1, 1, 1, 1, 1, 1, 1, 0, 1, 1, 0, 1, 1, 1, 1, 0, 1, 1, 0, 1, 0, 0, 1, 0, 1, 1, 1, 0, 1, 1, 1, 1, 1, 0, 1, 1, 1, 0, 1, 1, 1, 1, 1, 0, 1, 1, 1, 1, 1, 1, 1, 1, 0, 1, 1, 1, 1, 1, 1, 1, 1, 0, 0, 1, 1, 0, 1, 1, 1, 1, 1, 1, 1, 0, 0, 1, 1, 1, 1, 1, 1, 1, 1, 1, 1, 1, 1, 1, 1, 1, 0, 1, 0, 0, 0, 1, 0, 1, 0, 1, 0, 0, 0, 1, 1, 1, 1, 1, 1, 0, 1, 1, 1, 0, 1, 0, 0, 1, 1, 1, 1]}, \"mode\": \"markers\", \"name\": \"Umap HDB Scan clustering\", \"type\": \"scatter3d\", \"x\": [5.509284019470215, 3.217747211456299, 4.876094341278076, 4.9173455238342285, 1.724585771560669, 18.818525314331055, 4.771130561828613, 2.7564425468444824, 5.606255531311035, 3.959073066711426, 2.906980276107788, 2.6822855472564697, 4.271172523498535, 1.8241183757781982, 3.5616977214813232, 18.183500289916992, 4.377379894256592, 3.6160666942596436, 18.696651458740234, 3.348719835281372, 5.4880571365356445, 2.202910900115967, 4.376353740692139, 5.058112144470215, 4.306386470794678, 1.885240077972412, 3.5570321083068848, 3.3574862480163574, 4.853377819061279, 2.617462158203125, 2.631913185119629, 2.546804666519165, 3.7582714557647705, 3.006474733352661, 3.282041311264038, 5.540651798248291, 2.9357287883758545, 3.881094455718994, 3.0884785652160645, 2.686739444732666, 3.7065205574035645, 5.691677570343018, 5.572345733642578, 3.9771852493286133, 4.597485065460205, 2.333268642425537, 4.745242595672607, 3.309255599975586, 3.4695262908935547, 5.581923484802246, 3.5077478885650635, 2.0828428268432617, 1.6555979251861572, 5.41554069519043, 4.585153579711914, 3.331721544265747, 3.03767728805542, 2.5787947177886963, 1.9893195629119873, 4.585326194763184, 3.1147732734680176, 3.4244632720947266, 2.751216411590576, 1.787353277206421, 2.641533374786377, 5.6909356117248535, 2.425644874572754, 18.142162322998047, 2.92240047454834, 4.738858699798584, 5.270033359527588, 4.928916931152344, 4.233753681182861, 1.6476842164993286, 1.6418347358703613, 2.881330728530884, 4.5701117515563965, 1.9853966236114502, 3.3478658199310303, 2.438650369644165, 4.566908359527588, 18.26830291748047, 2.289210319519043, 3.4711999893188477, 4.321630001068115, 2.1078813076019287, 4.123366832733154, 2.9338724613189697, 3.479501485824585, 1.73073148727417, 2.203087091445923, 18.139137268066406, 4.40338659286499, 4.579922676086426, 18.426076889038086, 4.614138603210449, 2.0363152027130127, 4.123585224151611, 2.0263864994049072, 2.94242525100708, 2.467247247695923, 2.704900026321411, 2.889230966567993, 1.9705291986465454, 3.197096347808838, 18.199783325195312, 18.4438419342041, 4.900463581085205, 2.95350980758667, 4.0603179931640625, 1.6030006408691406, 18.56785011291504, 5.686437129974365, 1.6093170642852783, 2.3051133155822754, 4.852440357208252, 2.3322577476501465, 2.619788408279419, 3.4480626583099365, 18.344600677490234, 2.1190412044525146, 1.8609330654144287, 18.495010375976562, 5.186313152313232, 3.241077423095703, 3.4427738189697266, 2.5153133869171143, 18.470956802368164, 5.117709636688232, 3.9998676776885986, 18.238344192504883, 1.9369332790374756, 18.68715476989746, 18.878665924072266, 3.9465014934539795, 18.500286102294922, 3.515566110610962, 2.3384008407592773, 2.5444531440734863, 18.15831184387207, 4.823891639709473, 3.5655479431152344, 4.585859298706055, 5.446432113647461, 2.2936086654663086, 18.506336212158203, 3.0581140518188477, 5.648479461669922, 5.5662946701049805, 18.809720993041992, 4.6388840675354, 3.334357500076294, 4.011489391326904, 3.4902873039245605, 3.969144582748413, 18.44164276123047, 4.804546356201172, 1.9998589754104614, 4.5913472175598145, 5.665745258331299, 4.202455997467041, 5.562565326690674, 1.8749490976333618, 1.707916021347046, 18.23663902282715, 1.9197421073913574, 1.795255422592163, 4.230923175811768, 2.0565528869628906, 2.2927255630493164, 2.1310739517211914, 4.039516925811768, 5.3537163734436035, 18.29054832458496, 18.71196746826172, 2.9539759159088135, 4.552531719207764, 18.83062171936035, 4.972651481628418, 3.9981226921081543, 5.364237308502197, 1.8435763120651245, 4.726276874542236, 3.3020882606506348, 4.6352386474609375, 18.430255889892578, 18.761442184448242, 5.613869667053223, 5.340628623962402, 3.62834095954895, 1.7692906856536865, 2.0271124839782715, 2.618299961090088, 4.87303352355957, 2.5130302906036377, 4.169155120849609, 3.69026255607605, 3.464613914489746, 5.375840663909912, 2.2683794498443604, 4.52961540222168, 3.3660659790039062, 18.84088897705078, 1.808306336402893, 18.84904670715332, 18.64195442199707, 18.60031509399414, 3.852407217025757, 18.600740432739258, 1.8593382835388184, 18.42991065979004, 2.5484697818756104, 18.441757202148438, 18.49310302734375, 18.652502059936523, 1.9928207397460938, 2.4323153495788574, 3.715085506439209, 4.588301181793213, 5.35420036315918, 4.296979904174805, 18.581167221069336, 1.6257104873657227, 5.709840297698975, 3.9087960720062256, 18.646718978881836, 2.7907063961029053, 18.8309383392334, 18.725847244262695, 3.3829996585845947, 4.719947338104248, 4.487523078918457, 4.727450370788574], \"y\": [3.6796176433563232, 6.8934807777404785, 3.7636990547180176, 3.658435821533203, 5.86586332321167, 7.997971534729004, 4.287675380706787, 5.0684814453125, 3.65226149559021, 5.419747352600098, 4.653307914733887, 6.429244518280029, 4.604853630065918, 5.429970741271973, 6.48478364944458, 8.577144622802734, 4.251468181610107, 5.249497890472412, 7.96998405456543, 6.820166110992432, 4.217804431915283, 7.181118488311768, 4.536250114440918, 3.8891801834106445, 4.550923824310303, 6.94690465927124, 5.849525451660156, 5.227238655090332, 4.351163387298584, 5.736382961273193, 5.169003486633301, 5.136683464050293, 5.252324104309082, 4.9241251945495605, 6.979039669036865, 4.414108753204346, 6.1622114181518555, 4.533816814422607, 6.069463729858398, 5.826323986053467, 5.660125255584717, 3.785245656967163, 3.9343526363372803, 4.798449993133545, 3.6366498470306396, 4.988032341003418, 4.580341339111328, 6.620396614074707, 6.82987642288208, 4.064585208892822, 6.590061664581299, 4.891042232513428, 6.456831455230713, 4.540820598602295, 3.45778226852417, 5.569128036499023, 5.298546314239502, 4.851336479187012, 7.2219367027282715, 3.9934606552124023, 6.301442623138428, 5.284480571746826, 5.461749076843262, 7.113149166107178, 5.439670085906982, 3.758136749267578, 5.950089454650879, 8.638010025024414, 5.608270168304443, 4.964662551879883, 4.91389274597168, 4.246205806732178, 4.343634605407715, 6.068951606750488, 6.931088447570801, 4.752720832824707, 3.8616952896118164, 5.798332691192627, 5.628668308258057, 5.217896461486816, 3.5067903995513916, 8.530477523803711, 5.822009086608887, 6.8817291259765625, 4.474018096923828, 6.416457176208496, 4.745197296142578, 6.124497413635254, 4.885203838348389, 6.233836650848389, 5.214175701141357, 8.615473747253418, 4.530186176300049, 4.3303985595703125, 8.400442123413086, 4.110620021820068, 6.457973957061768, 4.738901615142822, 5.244598388671875, 4.98200798034668, 5.251337051391602, 5.0136260986328125, 5.4092183113098145, 5.278783321380615, 6.475688934326172, 8.664718627929688, 8.453255653381348, 4.856210231781006, 5.989461898803711, 4.678557872772217, 5.9662652015686035, 7.750237464904785, 3.7331535816192627, 6.045347690582275, 5.578949451446533, 4.052940845489502, 5.552237033843994, 5.667433738708496, 6.733515739440918, 7.582076549530029, 6.184605598449707, 6.747724533081055, 7.771644592285156, 4.067622184753418, 6.479832172393799, 6.68122673034668, 5.90019416809082, 8.122715950012207, 3.999178647994995, 4.4027509689331055, 8.596284866333008, 6.688329219818115, 8.174994468688965, 8.100249290466309, 4.4403462409973145, 8.32844066619873, 4.631439685821533, 5.884023666381836, 5.751911163330078, 8.554980278015137, 3.7167584896087646, 6.669699192047119, 4.856257438659668, 3.6996729373931885, 5.258258819580078, 8.306683540344238, 6.401947975158691, 4.423829555511475, 4.328586578369141, 8.286943435668945, 3.75661563873291, 4.57800817489624, 4.530772686004639, 4.7555341720581055, 4.216111660003662, 8.40351390838623, 4.341184139251709, 5.773372173309326, 3.6114752292633057, 4.225931644439697, 3.681522846221924, 3.7625186443328857, 7.17880392074585, 5.893222808837891, 8.629060745239258, 7.171618938446045, 7.122793674468994, 4.902284622192383, 4.9805402755737305, 5.186495780944824, 4.932314395904541, 4.419071674346924, 3.6983118057250977, 8.56714153289795, 8.19139575958252, 4.932559967041016, 3.586591958999634, 8.240776062011719, 4.430063724517822, 5.365299224853516, 3.8573951721191406, 6.385178565979004, 4.38476037979126, 5.269876956939697, 3.9062349796295166, 7.644494533538818, 8.232686996459961, 3.650676965713501, 3.877791404724121, 5.3585429191589355, 7.076996803283691, 5.106374740600586, 5.888454914093018, 4.134118556976318, 5.3235859870910645, 4.4178853034973145, 4.999175548553467, 6.79526948928833, 4.4108805656433105, 4.873965740203857, 4.386101722717285, 5.4787821769714355, 8.24162483215332, 6.813754558563232, 8.330314636230469, 7.972079753875732, 8.043083190917969, 5.305336952209473, 8.026856422424316, 6.531186103820801, 8.342737197875977, 5.393038272857666, 7.670233726501465, 7.844155311584473, 8.102453231811523, 5.3642191886901855, 5.337579250335693, 5.516514301300049, 4.503142833709717, 4.660523414611816, 4.720560550689697, 8.031810760498047, 6.085541725158691, 3.854252815246582, 5.10333776473999, 8.205326080322266, 5.819571495056152, 8.282903671264648, 8.139161109924316, 4.876004219055176, 4.204928398132324, 4.735185623168945, 4.886731147766113], \"z\": [6.693358421325684, 5.495175361633301, 5.623931407928467, 6.320228099822998, 5.191894054412842, 4.255329608917236, 5.478533744812012, 5.451900005340576, 6.591864109039307, 5.79218053817749, 5.747908115386963, 5.7663140296936035, 5.477390289306641, 5.447981834411621, 5.394606113433838, 3.5968031883239746, 5.012519359588623, 7.000572681427002, 4.537471294403076, 5.615712642669678, 6.577061653137207, 5.6308488845825195, 5.078937530517578, 5.641301155090332, 5.056304931640625, 5.615458965301514, 5.810391902923584, 5.931004524230957, 6.81550407409668, 5.0072784423828125, 5.3697285652160645, 5.477404594421387, 6.933229923248291, 6.196062088012695, 5.475020885467529, 6.135201930999756, 6.325531482696533, 6.964051246643066, 6.360396862030029, 6.783261775970459, 5.7884626388549805, 6.679511547088623, 6.493975639343262, 6.853818416595459, 5.653374671936035, 5.3601884841918945, 5.713419437408447, 5.671310901641846, 5.45095682144165, 6.528789520263672, 5.762215614318848, 5.548861503601074, 5.462052345275879, 6.450454235076904, 5.762728691101074, 6.754154682159424, 6.091006278991699, 5.669204235076904, 5.588026523590088, 5.379610538482666, 5.648401737213135, 6.242030143737793, 6.927974700927734, 5.73759126663208, 5.524234771728516, 6.466597080230713, 6.650564670562744, 3.728440523147583, 4.766171455383301, 5.868031978607178, 5.888050556182861, 6.713323593139648, 5.107519149780273, 5.298008918762207, 5.513087272644043, 5.177068710327148, 5.414400577545166, 5.007845401763916, 6.499453544616699, 5.053005695343018, 5.736995220184326, 3.5986225605010986, 4.950387001037598, 5.501832962036133, 6.7826313972473145, 5.440852165222168, 5.429081916809082, 6.483175277709961, 7.0550336837768555, 5.596144676208496, 5.232316017150879, 3.800968885421753, 5.539183139801025, 5.141713619232178, 3.8748838901519775, 5.749076843261719, 5.503854751586914, 6.163918495178223, 5.668766498565674, 5.812434673309326, 4.8263983726501465, 5.329870700836182, 6.975553035736084, 5.506951332092285, 5.7421698570251465, 3.667191743850708, 3.813485860824585, 5.812870502471924, 6.633983612060547, 4.942366600036621, 5.2334418296813965, 4.20248556137085, 6.645694255828857, 5.378519535064697, 4.844056606292725, 5.654492378234863, 6.035029888153076, 6.816915035247803, 5.484303951263428, 4.069584846496582, 6.2272844314575195, 5.517577648162842, 4.314971923828125, 6.678094863891602, 5.447062969207764, 5.453298568725586, 6.658778667449951, 4.5868706703186035, 6.629539966583252, 6.8677215576171875, 3.6714882850646973, 5.529109001159668, 4.2971696853637695, 4.314606666564941, 6.950535297393799, 4.012978553771973, 6.860433578491211, 6.21339225769043, 6.766462326049805, 3.555826425552368, 6.18485689163208, 5.2159647941589355, 6.034302234649658, 6.213191032409668, 5.18579626083374, 4.052183628082275, 5.631237506866455, 6.2474517822265625, 6.350409030914307, 4.434475898742676, 5.452121734619141, 6.737717628479004, 6.589332580566406, 6.633232116699219, 6.6226091384887695, 3.890265941619873, 6.237112522125244, 5.04952335357666, 5.659801959991455, 6.404086112976074, 5.706703186035156, 6.716053009033203, 5.747279644012451, 5.166695594787598, 3.6196794509887695, 5.635556221008301, 5.733880519866943, 6.406420707702637, 5.526100158691406, 5.493929862976074, 5.56817626953125, 6.779355525970459, 6.642175197601318, 3.6902048587799072, 4.664897441864014, 5.9240241050720215, 5.6651434898376465, 4.38420295715332, 5.844456195831299, 5.859039306640625, 6.701287269592285, 5.4445037841796875, 5.231668472290039, 6.0435028076171875, 5.407259941101074, 4.1621994972229, 4.63845157623291, 6.436093807220459, 6.698217868804932, 6.937912464141846, 5.733461380004883, 5.428627014160156, 5.00274658203125, 6.5184125900268555, 4.76088809967041, 6.770247936248779, 6.958728313446045, 5.533229827880859, 6.429001331329346, 5.639125347137451, 5.975114345550537, 6.6364359855651855, 4.5210723876953125, 5.555227756500244, 4.59527063369751, 4.5402679443359375, 4.530254364013672, 6.0741119384765625, 4.537343978881836, 5.5437517166137695, 3.8033039569854736, 4.784544467926025, 4.178555011749268, 4.347755432128906, 4.613218784332275, 5.700229167938232, 4.814661979675293, 5.887896537780762, 5.307699203491211, 6.294743061065674, 6.554994583129883, 4.568143844604492, 5.515429496765137, 6.58254861831665, 6.6023125648498535, 4.7140679359436035, 6.728598117828369, 4.462827682495117, 4.53065299987793, 6.802339553833008, 5.555692195892334, 6.332920074462891, 5.92899751663208]}],\n",
       "                        {\"template\": {\"data\": {\"bar\": [{\"error_x\": {\"color\": \"#2a3f5f\"}, \"error_y\": {\"color\": \"#2a3f5f\"}, \"marker\": {\"line\": {\"color\": \"#E5ECF6\", \"width\": 0.5}}, \"type\": \"bar\"}], \"barpolar\": [{\"marker\": {\"line\": {\"color\": \"#E5ECF6\", \"width\": 0.5}}, \"type\": \"barpolar\"}], \"carpet\": [{\"aaxis\": {\"endlinecolor\": \"#2a3f5f\", \"gridcolor\": \"white\", \"linecolor\": \"white\", \"minorgridcolor\": \"white\", \"startlinecolor\": \"#2a3f5f\"}, \"baxis\": {\"endlinecolor\": \"#2a3f5f\", \"gridcolor\": \"white\", \"linecolor\": \"white\", \"minorgridcolor\": \"white\", \"startlinecolor\": \"#2a3f5f\"}, \"type\": \"carpet\"}], \"choropleth\": [{\"colorbar\": {\"outlinewidth\": 0, \"ticks\": \"\"}, \"type\": \"choropleth\"}], \"contour\": [{\"colorbar\": {\"outlinewidth\": 0, \"ticks\": \"\"}, \"colorscale\": [[0.0, \"#0d0887\"], [0.1111111111111111, \"#46039f\"], [0.2222222222222222, \"#7201a8\"], [0.3333333333333333, \"#9c179e\"], [0.4444444444444444, \"#bd3786\"], [0.5555555555555556, \"#d8576b\"], [0.6666666666666666, \"#ed7953\"], [0.7777777777777778, \"#fb9f3a\"], [0.8888888888888888, \"#fdca26\"], [1.0, \"#f0f921\"]], \"type\": \"contour\"}], \"contourcarpet\": [{\"colorbar\": {\"outlinewidth\": 0, \"ticks\": \"\"}, \"type\": \"contourcarpet\"}], \"heatmap\": [{\"colorbar\": {\"outlinewidth\": 0, \"ticks\": \"\"}, \"colorscale\": [[0.0, \"#0d0887\"], [0.1111111111111111, \"#46039f\"], [0.2222222222222222, \"#7201a8\"], [0.3333333333333333, \"#9c179e\"], [0.4444444444444444, \"#bd3786\"], [0.5555555555555556, \"#d8576b\"], [0.6666666666666666, \"#ed7953\"], [0.7777777777777778, \"#fb9f3a\"], [0.8888888888888888, \"#fdca26\"], [1.0, \"#f0f921\"]], \"type\": \"heatmap\"}], \"heatmapgl\": [{\"colorbar\": {\"outlinewidth\": 0, \"ticks\": \"\"}, \"colorscale\": [[0.0, \"#0d0887\"], [0.1111111111111111, \"#46039f\"], [0.2222222222222222, \"#7201a8\"], [0.3333333333333333, \"#9c179e\"], [0.4444444444444444, \"#bd3786\"], [0.5555555555555556, \"#d8576b\"], [0.6666666666666666, \"#ed7953\"], [0.7777777777777778, \"#fb9f3a\"], [0.8888888888888888, \"#fdca26\"], [1.0, \"#f0f921\"]], \"type\": \"heatmapgl\"}], \"histogram\": [{\"marker\": {\"colorbar\": {\"outlinewidth\": 0, \"ticks\": \"\"}}, \"type\": \"histogram\"}], \"histogram2d\": [{\"colorbar\": {\"outlinewidth\": 0, \"ticks\": \"\"}, \"colorscale\": [[0.0, \"#0d0887\"], [0.1111111111111111, \"#46039f\"], [0.2222222222222222, \"#7201a8\"], [0.3333333333333333, \"#9c179e\"], [0.4444444444444444, \"#bd3786\"], [0.5555555555555556, \"#d8576b\"], [0.6666666666666666, \"#ed7953\"], [0.7777777777777778, \"#fb9f3a\"], [0.8888888888888888, \"#fdca26\"], [1.0, \"#f0f921\"]], \"type\": \"histogram2d\"}], \"histogram2dcontour\": [{\"colorbar\": {\"outlinewidth\": 0, \"ticks\": \"\"}, \"colorscale\": [[0.0, \"#0d0887\"], [0.1111111111111111, \"#46039f\"], [0.2222222222222222, \"#7201a8\"], [0.3333333333333333, \"#9c179e\"], [0.4444444444444444, \"#bd3786\"], [0.5555555555555556, \"#d8576b\"], [0.6666666666666666, \"#ed7953\"], [0.7777777777777778, \"#fb9f3a\"], [0.8888888888888888, \"#fdca26\"], [1.0, \"#f0f921\"]], \"type\": \"histogram2dcontour\"}], \"mesh3d\": [{\"colorbar\": {\"outlinewidth\": 0, \"ticks\": \"\"}, \"type\": \"mesh3d\"}], \"parcoords\": [{\"line\": {\"colorbar\": {\"outlinewidth\": 0, \"ticks\": \"\"}}, \"type\": \"parcoords\"}], \"pie\": [{\"automargin\": true, \"type\": \"pie\"}], \"scatter\": [{\"marker\": {\"colorbar\": {\"outlinewidth\": 0, \"ticks\": \"\"}}, \"type\": \"scatter\"}], \"scatter3d\": [{\"line\": {\"colorbar\": {\"outlinewidth\": 0, \"ticks\": \"\"}}, \"marker\": {\"colorbar\": {\"outlinewidth\": 0, \"ticks\": \"\"}}, \"type\": \"scatter3d\"}], \"scattercarpet\": [{\"marker\": {\"colorbar\": {\"outlinewidth\": 0, \"ticks\": \"\"}}, \"type\": \"scattercarpet\"}], \"scattergeo\": [{\"marker\": {\"colorbar\": {\"outlinewidth\": 0, \"ticks\": \"\"}}, \"type\": \"scattergeo\"}], \"scattergl\": [{\"marker\": {\"colorbar\": {\"outlinewidth\": 0, \"ticks\": \"\"}}, \"type\": \"scattergl\"}], \"scattermapbox\": [{\"marker\": {\"colorbar\": {\"outlinewidth\": 0, \"ticks\": \"\"}}, \"type\": \"scattermapbox\"}], \"scatterpolar\": [{\"marker\": {\"colorbar\": {\"outlinewidth\": 0, \"ticks\": \"\"}}, \"type\": \"scatterpolar\"}], \"scatterpolargl\": [{\"marker\": {\"colorbar\": {\"outlinewidth\": 0, \"ticks\": \"\"}}, \"type\": \"scatterpolargl\"}], \"scatterternary\": [{\"marker\": {\"colorbar\": {\"outlinewidth\": 0, \"ticks\": \"\"}}, \"type\": \"scatterternary\"}], \"surface\": [{\"colorbar\": {\"outlinewidth\": 0, \"ticks\": \"\"}, \"colorscale\": [[0.0, \"#0d0887\"], [0.1111111111111111, \"#46039f\"], [0.2222222222222222, \"#7201a8\"], [0.3333333333333333, \"#9c179e\"], [0.4444444444444444, \"#bd3786\"], [0.5555555555555556, \"#d8576b\"], [0.6666666666666666, \"#ed7953\"], [0.7777777777777778, \"#fb9f3a\"], [0.8888888888888888, \"#fdca26\"], [1.0, \"#f0f921\"]], \"type\": \"surface\"}], \"table\": [{\"cells\": {\"fill\": {\"color\": \"#EBF0F8\"}, \"line\": {\"color\": \"white\"}}, \"header\": {\"fill\": {\"color\": \"#C8D4E3\"}, \"line\": {\"color\": \"white\"}}, \"type\": \"table\"}]}, \"layout\": {\"annotationdefaults\": {\"arrowcolor\": \"#2a3f5f\", \"arrowhead\": 0, \"arrowwidth\": 1}, \"coloraxis\": {\"colorbar\": {\"outlinewidth\": 0, \"ticks\": \"\"}}, \"colorscale\": {\"diverging\": [[0, \"#8e0152\"], [0.1, \"#c51b7d\"], [0.2, \"#de77ae\"], [0.3, \"#f1b6da\"], [0.4, \"#fde0ef\"], [0.5, \"#f7f7f7\"], [0.6, \"#e6f5d0\"], [0.7, \"#b8e186\"], [0.8, \"#7fbc41\"], [0.9, \"#4d9221\"], [1, \"#276419\"]], \"sequential\": [[0.0, \"#0d0887\"], [0.1111111111111111, \"#46039f\"], [0.2222222222222222, \"#7201a8\"], [0.3333333333333333, \"#9c179e\"], [0.4444444444444444, \"#bd3786\"], [0.5555555555555556, \"#d8576b\"], [0.6666666666666666, \"#ed7953\"], [0.7777777777777778, \"#fb9f3a\"], [0.8888888888888888, \"#fdca26\"], [1.0, \"#f0f921\"]], \"sequentialminus\": [[0.0, \"#0d0887\"], [0.1111111111111111, \"#46039f\"], [0.2222222222222222, \"#7201a8\"], [0.3333333333333333, \"#9c179e\"], [0.4444444444444444, \"#bd3786\"], [0.5555555555555556, \"#d8576b\"], [0.6666666666666666, \"#ed7953\"], [0.7777777777777778, \"#fb9f3a\"], [0.8888888888888888, \"#fdca26\"], [1.0, \"#f0f921\"]]}, \"colorway\": [\"#636efa\", \"#EF553B\", \"#00cc96\", \"#ab63fa\", \"#FFA15A\", \"#19d3f3\", \"#FF6692\", \"#B6E880\", \"#FF97FF\", \"#FECB52\"], \"font\": {\"color\": \"#2a3f5f\"}, \"geo\": {\"bgcolor\": \"white\", \"lakecolor\": \"white\", \"landcolor\": \"#E5ECF6\", \"showlakes\": true, \"showland\": true, \"subunitcolor\": \"white\"}, \"hoverlabel\": {\"align\": \"left\"}, \"hovermode\": \"closest\", \"mapbox\": {\"style\": \"light\"}, \"paper_bgcolor\": \"white\", \"plot_bgcolor\": \"#E5ECF6\", \"polar\": {\"angularaxis\": {\"gridcolor\": \"white\", \"linecolor\": \"white\", \"ticks\": \"\"}, \"bgcolor\": \"#E5ECF6\", \"radialaxis\": {\"gridcolor\": \"white\", \"linecolor\": \"white\", \"ticks\": \"\"}}, \"scene\": {\"xaxis\": {\"backgroundcolor\": \"#E5ECF6\", \"gridcolor\": \"white\", \"gridwidth\": 2, \"linecolor\": \"white\", \"showbackground\": true, \"ticks\": \"\", \"zerolinecolor\": \"white\"}, \"yaxis\": {\"backgroundcolor\": \"#E5ECF6\", \"gridcolor\": \"white\", \"gridwidth\": 2, \"linecolor\": \"white\", \"showbackground\": true, \"ticks\": \"\", \"zerolinecolor\": \"white\"}, \"zaxis\": {\"backgroundcolor\": \"#E5ECF6\", \"gridcolor\": \"white\", \"gridwidth\": 2, \"linecolor\": \"white\", \"showbackground\": true, \"ticks\": \"\", \"zerolinecolor\": \"white\"}}, \"shapedefaults\": {\"line\": {\"color\": \"#2a3f5f\"}}, \"ternary\": {\"aaxis\": {\"gridcolor\": \"white\", \"linecolor\": \"white\", \"ticks\": \"\"}, \"baxis\": {\"gridcolor\": \"white\", \"linecolor\": \"white\", \"ticks\": \"\"}, \"bgcolor\": \"#E5ECF6\", \"caxis\": {\"gridcolor\": \"white\", \"linecolor\": \"white\", \"ticks\": \"\"}}, \"title\": {\"x\": 0.05}, \"xaxis\": {\"automargin\": true, \"gridcolor\": \"white\", \"linecolor\": \"white\", \"ticks\": \"\", \"title\": {\"standoff\": 15}, \"zerolinecolor\": \"white\", \"zerolinewidth\": 2}, \"yaxis\": {\"automargin\": true, \"gridcolor\": \"white\", \"linecolor\": \"white\", \"ticks\": \"\", \"title\": {\"standoff\": 15}, \"zerolinecolor\": \"white\", \"zerolinewidth\": 2}}}},\n",
       "                        {\"responsive\": true}\n",
       "                    ).then(function(){\n",
       "                            \n",
       "var gd = document.getElementById('00c827f9-82c4-4626-a05a-0ddfd2020cc6');\n",
       "var x = new MutationObserver(function (mutations, observer) {{\n",
       "        var display = window.getComputedStyle(gd).display;\n",
       "        if (!display || display === 'none') {{\n",
       "            console.log([gd, 'removed!']);\n",
       "            Plotly.purge(gd);\n",
       "            observer.disconnect();\n",
       "        }}\n",
       "}});\n",
       "\n",
       "// Listen for the removal of the full notebook cells\n",
       "var notebookContainer = gd.closest('#notebook-container');\n",
       "if (notebookContainer) {{\n",
       "    x.observe(notebookContainer, {childList: true});\n",
       "}}\n",
       "\n",
       "// Listen for the clearing of the current output cell\n",
       "var outputEl = gd.closest('.output');\n",
       "if (outputEl) {{\n",
       "    x.observe(outputEl, {childList: true});\n",
       "}}\n",
       "\n",
       "                        })\n",
       "                };\n",
       "                });\n",
       "            </script>\n",
       "        </div>"
      ]
     },
     "metadata": {},
     "output_type": "display_data"
    }
   ],
   "source": [
    "embedding, labels = umap_clustering(cluster_data, min_cluster_size=10)"
   ]
  },
  {
   "cell_type": "markdown",
   "metadata": {},
   "source": [
    "### Comparing clusters\n",
    "Coloring the resulting points by a desired variable"
   ]
  },
  {
   "cell_type": "code",
   "execution_count": null,
   "metadata": {},
   "outputs": [],
   "source": []
  },
  {
   "cell_type": "markdown",
   "metadata": {},
   "source": [
    "### Extract clusters as new Excel sheets\n",
    "To extract a selected number of clusters write them into the list given as the last argument of the function, this will create new excel sheets containing patients beloning to a cluster.  \n",
    "To select clustering results of different clustering algorithm change the second argument"
   ]
  },
  {
   "cell_type": "code",
   "execution_count": 66,
   "metadata": {},
   "outputs": [],
   "source": [
    "extract_clusters(df_sars, gmm_clusters, selected_clusters=[1,2,3])"
   ]
  },
  {
   "cell_type": "markdown",
   "metadata": {},
   "source": [
    "## Plots  \n",
    "Some exemplary overview plots of different types"
   ]
  },
  {
   "cell_type": "markdown",
   "metadata": {},
   "source": [
    "### Matrix of continous variables grouped by a categorical variable\n",
    "Select contious variables of interest and a single categorical variable to group them by"
   ]
  },
  {
   "cell_type": "code",
   "execution_count": 19,
   "metadata": {},
   "outputs": [
    {
     "data": {
      "text/plain": [
       "<seaborn.axisgrid.PairGrid at 0x204a431e4c8>"
      ]
     },
     "execution_count": 19,
     "metadata": {},
     "output_type": "execute_result"
    },
    {
     "data": {
      "image/png": "[encoded data removed]",
      "text/plain": [
       "<Figure size 1163.85x1080 with 42 Axes>"
      ]
     },
     "metadata": {},
     "output_type": "display_data"
    }
   ],
   "source": [
    "cat_var = \"Geschlecht\"\n",
    "cont_vars = ['VII.1A: OD IgG RBD Peptid rekombinant',\n",
    "             'VII.1B: OD IgG Spike 1 Protein rekombinant',\n",
    "             'VII.1C: OD IgG Nucleocapsid Protein rekombinant',\n",
    "             'VII.2A: OD IgM RBD Peptid rekombinant',\n",
    "             'VII.2B: OD IgM Spike 1 Protein rekombinant',\n",
    "             'VII.2C: OD IgM Nucleocapsid Protein rekombinant',\n",
    "            ]\n",
    "grouped_plot_matrix(df_sars, cont_vars, cat_var)"
   ]
  },
  {
   "cell_type": "markdown",
   "metadata": {},
   "source": [
    "### Matrix of distributions of Continous Variables"
   ]
  },
  {
   "cell_type": "code",
   "execution_count": 49,
   "metadata": {},
   "outputs": [
    {
     "name": "stderr",
     "output_type": "stream",
     "text": [
      "Matplotlib is currently using module://ipykernel.pylab.backend_inline, which is a non-GUI backend, so cannot show the figure.\n"
     ]
    },
    {
     "data": {
      "text/plain": [
       "<Figure size 1440x1440 with 0 Axes>"
      ]
     },
     "metadata": {},
     "output_type": "display_data"
    },
    {
     "data": {
      "image/png": "[encoded data removed]",
      "text/plain": [
       "<Figure size 1440x1440 with 25 Axes>"
      ]
     },
     "metadata": {
      "needs_background": "light"
     },
     "output_type": "display_data"
    }
   ],
   "source": [
    "matrix_variables = ['Alter', 'III.9', 'VII.1A', 'VII.1B', 'VII.1C']\n",
    "create_scatter_matrix(df_sars, selected_cols=matrix_variables)"
   ]
  },
  {
   "cell_type": "markdown",
   "metadata": {},
   "source": [
    "### Boxplots  \n",
    "Boxplots for plotting continous variables grouped by a categorical variable"
   ]
  },
  {
   "cell_type": "code",
   "execution_count": 21,
   "metadata": {},
   "outputs": [
    {
     "data": {
      "application/vnd.plotly.v1+json": {
       "config": {
        "plotlyServerURL": "https://plot.ly"
       },
       "data": [
        {
         "name": "VII.1A",
         "type": "box",
         "x": [
          "Mäßig",
          "Mäßig",
          "Mäßig",
          "Mäßig",
          "Mäßig",
          "Mäßig",
          "Mäßig",
          "Mäßig",
          "Mäßig",
          "Sehr",
          "Sehr",
          "Sehr",
          "Sehr",
          "Sehr",
          "Sehr",
          "Sehr",
          "Sehr",
          "Sehr",
          "Sehr",
          "Sehr",
          "Sehr",
          "Sehr",
          "Sehr",
          "Sehr",
          "Sehr",
          "Sehr",
          "Sehr",
          "Sehr",
          "Sehr",
          "Sehr",
          "Sehr",
          "Sehr",
          "Sehr",
          "Sehr",
          "Sehr",
          "Sehr",
          "Sehr",
          "Sehr",
          "Sehr",
          "Sehr",
          "Sehr",
          "Sehr",
          "Sehr",
          "Sehr",
          "Sehr",
          "Sehr",
          "Sehr",
          "Sehr",
          "Sehr",
          "Sehr",
          "Sehr",
          "Sehr",
          "Sehr",
          "Sehr",
          "Sehr",
          "Sehr",
          "Sehr",
          "Sehr",
          "Sehr",
          "Sehr",
          "Sehr",
          "Sehr",
          "Sehr",
          "Wenig",
          "Wenig",
          "Wenig",
          "Wenig",
          "Wenig",
          "Wenig",
          "Wenig",
          "Wenig",
          "Wenig",
          "Wenig",
          "Wenig",
          "Wenig",
          "Wenig",
          "Wenig",
          "Überhaupt nicht",
          "Überhaupt nicht",
          "Überhaupt nicht",
          "Überhaupt nicht",
          "Überhaupt nicht",
          "Überhaupt nicht",
          "Überhaupt nicht",
          "Überhaupt nicht",
          "Überhaupt nicht",
          "Überhaupt nicht",
          "Überhaupt nicht",
          "Überhaupt nicht",
          "Überhaupt nicht",
          "Überhaupt nicht",
          "Überhaupt nicht",
          "Überhaupt nicht",
          "Überhaupt nicht",
          "Überhaupt nicht",
          "Überhaupt nicht",
          "Überhaupt nicht",
          "Überhaupt nicht",
          "Überhaupt nicht",
          "Überhaupt nicht",
          "Überhaupt nicht",
          "Überhaupt nicht",
          "Überhaupt nicht",
          "Überhaupt nicht",
          "Überhaupt nicht",
          "Überhaupt nicht",
          "Überhaupt nicht",
          "Überhaupt nicht",
          "Überhaupt nicht",
          "Überhaupt nicht",
          "Überhaupt nicht",
          "Überhaupt nicht",
          "Überhaupt nicht",
          "Überhaupt nicht",
          "Überhaupt nicht",
          "Überhaupt nicht",
          "Überhaupt nicht",
          "Überhaupt nicht",
          "Überhaupt nicht",
          "Überhaupt nicht"
         ],
         "y": [
          125,
          310,
          143,
          231,
          44,
          342,
          152,
          127,
          48,
          62,
          115,
          207,
          143,
          69,
          107,
          84,
          127,
          174,
          100,
          84,
          91,
          140,
          154,
          238,
          487,
          154,
          59,
          138,
          188,
          438,
          203,
          86,
          169,
          301,
          130,
          149,
          91,
          92,
          45,
          168,
          58,
          224,
          206,
          308,
          207,
          300,
          208,
          68,
          80,
          534,
          79,
          50,
          306,
          33,
          257,
          91,
          51,
          84,
          219,
          26,
          189,
          235,
          277,
          335,
          129,
          81,
          93,
          268,
          100,
          172,
          134,
          161,
          41,
          154,
          48,
          107,
          320,
          381,
          114,
          61,
          47,
          148,
          189,
          143,
          45,
          98,
          52,
          76,
          673,
          161,
          207,
          337,
          78,
          288,
          185,
          57,
          142,
          89,
          567,
          20,
          190,
          138,
          215,
          246,
          64,
          79,
          173,
          90,
          245,
          53,
          84,
          159,
          182,
          122,
          107,
          70,
          68,
          185,
          65,
          81
         ]
        },
        {
         "name": "VII.2A",
         "type": "box",
         "x": [
          "Mäßig",
          "Mäßig",
          "Mäßig",
          "Mäßig",
          "Mäßig",
          "Mäßig",
          "Mäßig",
          "Mäßig",
          "Mäßig",
          "Sehr",
          "Sehr",
          "Sehr",
          "Sehr",
          "Sehr",
          "Sehr",
          "Sehr",
          "Sehr",
          "Sehr",
          "Sehr",
          "Sehr",
          "Sehr",
          "Sehr",
          "Sehr",
          "Sehr",
          "Sehr",
          "Sehr",
          "Sehr",
          "Sehr",
          "Sehr",
          "Sehr",
          "Sehr",
          "Sehr",
          "Sehr",
          "Sehr",
          "Sehr",
          "Sehr",
          "Sehr",
          "Sehr",
          "Sehr",
          "Sehr",
          "Sehr",
          "Sehr",
          "Sehr",
          "Sehr",
          "Sehr",
          "Sehr",
          "Sehr",
          "Sehr",
          "Sehr",
          "Sehr",
          "Sehr",
          "Sehr",
          "Sehr",
          "Sehr",
          "Sehr",
          "Sehr",
          "Sehr",
          "Sehr",
          "Sehr",
          "Sehr",
          "Sehr",
          "Sehr",
          "Sehr",
          "Wenig",
          "Wenig",
          "Wenig",
          "Wenig",
          "Wenig",
          "Wenig",
          "Wenig",
          "Wenig",
          "Wenig",
          "Wenig",
          "Wenig",
          "Wenig",
          "Wenig",
          "Wenig",
          "Überhaupt nicht",
          "Überhaupt nicht",
          "Überhaupt nicht",
          "Überhaupt nicht",
          "Überhaupt nicht",
          "Überhaupt nicht",
          "Überhaupt nicht",
          "Überhaupt nicht",
          "Überhaupt nicht",
          "Überhaupt nicht",
          "Überhaupt nicht",
          "Überhaupt nicht",
          "Überhaupt nicht",
          "Überhaupt nicht",
          "Überhaupt nicht",
          "Überhaupt nicht",
          "Überhaupt nicht",
          "Überhaupt nicht",
          "Überhaupt nicht",
          "Überhaupt nicht",
          "Überhaupt nicht",
          "Überhaupt nicht",
          "Überhaupt nicht",
          "Überhaupt nicht",
          "Überhaupt nicht",
          "Überhaupt nicht",
          "Überhaupt nicht",
          "Überhaupt nicht",
          "Überhaupt nicht",
          "Überhaupt nicht",
          "Überhaupt nicht",
          "Überhaupt nicht",
          "Überhaupt nicht",
          "Überhaupt nicht",
          "Überhaupt nicht",
          "Überhaupt nicht",
          "Überhaupt nicht",
          "Überhaupt nicht",
          "Überhaupt nicht",
          "Überhaupt nicht",
          "Überhaupt nicht",
          "Überhaupt nicht",
          "Überhaupt nicht"
         ],
         "y": [
          271,
          79,
          27,
          103,
          75,
          89,
          50,
          76,
          53,
          46,
          78,
          104,
          50,
          38,
          107,
          47,
          66,
          61,
          128,
          40,
          50,
          81,
          290,
          184,
          130,
          27,
          28,
          79,
          64,
          135,
          65,
          74,
          133,
          192,
          75,
          94,
          30,
          99,
          36,
          87,
          116,
          121,
          53,
          165,
          96,
          141,
          106,
          46,
          19,
          40,
          29,
          71,
          258,
          78,
          26,
          53,
          129,
          111,
          78,
          47,
          50,
          111,
          113,
          113,
          145,
          47,
          90,
          279,
          92,
          140,
          29,
          95,
          45,
          206,
          23,
          62,
          64,
          143,
          60,
          85,
          206,
          40,
          61,
          82,
          128,
          44,
          66,
          89,
          94,
          70,
          118,
          114,
          146,
          84,
          184,
          11,
          253,
          94,
          23,
          18,
          82,
          192,
          89,
          52,
          48,
          49,
          104,
          82,
          211,
          37,
          24,
          170,
          53,
          120,
          82,
          24,
          208,
          95,
          196,
          92
         ]
        },
        {
         "name": "VII.3A",
         "type": "box",
         "x": [
          "Mäßig",
          "Mäßig",
          "Mäßig",
          "Mäßig",
          "Mäßig",
          "Mäßig",
          "Mäßig",
          "Mäßig",
          "Mäßig",
          "Sehr",
          "Sehr",
          "Sehr",
          "Sehr",
          "Sehr",
          "Sehr",
          "Sehr",
          "Sehr",
          "Sehr",
          "Sehr",
          "Sehr",
          "Sehr",
          "Sehr",
          "Sehr",
          "Sehr",
          "Sehr",
          "Sehr",
          "Sehr",
          "Sehr",
          "Sehr",
          "Sehr",
          "Sehr",
          "Sehr",
          "Sehr",
          "Sehr",
          "Sehr",
          "Sehr",
          "Sehr",
          "Sehr",
          "Sehr",
          "Sehr",
          "Sehr",
          "Sehr",
          "Sehr",
          "Sehr",
          "Sehr",
          "Sehr",
          "Sehr",
          "Sehr",
          "Sehr",
          "Sehr",
          "Sehr",
          "Sehr",
          "Sehr",
          "Sehr",
          "Sehr",
          "Sehr",
          "Sehr",
          "Sehr",
          "Sehr",
          "Sehr",
          "Sehr",
          "Sehr",
          "Sehr",
          "Wenig",
          "Wenig",
          "Wenig",
          "Wenig",
          "Wenig",
          "Wenig",
          "Wenig",
          "Wenig",
          "Wenig",
          "Wenig",
          "Wenig",
          "Wenig",
          "Wenig",
          "Wenig",
          "Überhaupt nicht",
          "Überhaupt nicht",
          "Überhaupt nicht",
          "Überhaupt nicht",
          "Überhaupt nicht",
          "Überhaupt nicht",
          "Überhaupt nicht",
          "Überhaupt nicht",
          "Überhaupt nicht",
          "Überhaupt nicht",
          "Überhaupt nicht",
          "Überhaupt nicht",
          "Überhaupt nicht",
          "Überhaupt nicht",
          "Überhaupt nicht",
          "Überhaupt nicht",
          "Überhaupt nicht",
          "Überhaupt nicht",
          "Überhaupt nicht",
          "Überhaupt nicht",
          "Überhaupt nicht",
          "Überhaupt nicht",
          "Überhaupt nicht",
          "Überhaupt nicht",
          "Überhaupt nicht",
          "Überhaupt nicht",
          "Überhaupt nicht",
          "Überhaupt nicht",
          "Überhaupt nicht",
          "Überhaupt nicht",
          "Überhaupt nicht",
          "Überhaupt nicht",
          "Überhaupt nicht",
          "Überhaupt nicht",
          "Überhaupt nicht",
          "Überhaupt nicht",
          "Überhaupt nicht",
          "Überhaupt nicht",
          "Überhaupt nicht",
          "Überhaupt nicht",
          "Überhaupt nicht",
          "Überhaupt nicht",
          "Überhaupt nicht"
         ],
         "y": [
          87,
          100,
          96,
          184,
          43,
          101,
          157,
          137,
          93,
          105,
          95,
          152,
          113,
          108,
          106,
          75,
          57,
          107,
          86,
          105,
          106,
          85,
          121,
          321,
          96,
          55,
          121,
          97,
          141,
          136,
          127,
          116,
          135,
          71,
          76,
          54,
          91,
          73,
          225,
          124,
          56,
          69,
          256,
          167,
          236,
          195,
          78,
          81,
          70,
          215,
          117,
          129,
          256,
          68,
          119,
          178,
          104,
          70,
          114,
          48,
          142,
          110,
          96,
          90,
          71,
          98,
          105,
          208,
          157,
          80,
          63,
          33,
          40,
          139,
          89,
          87,
          122,
          221,
          242,
          85,
          69,
          167,
          109,
          108,
          59,
          73,
          91,
          75,
          65,
          88,
          97,
          118,
          72,
          289,
          219,
          38,
          81,
          56,
          416,
          59,
          70,
          79,
          110,
          263,
          109,
          80,
          54,
          139,
          114,
          127,
          115,
          143,
          105,
          97,
          164,
          57,
          52,
          170,
          85,
          72
         ]
        }
       ],
       "layout": {
        "boxmode": "group",
        "template": {
         "data": {
          "bar": [
           {
            "error_x": {
             "color": "#2a3f5f"
            },
            "error_y": {
             "color": "#2a3f5f"
            },
            "marker": {
             "line": {
              "color": "#E5ECF6",
              "width": 0.5
             }
            },
            "type": "bar"
           }
          ],
          "barpolar": [
           {
            "marker": {
             "line": {
              "color": "#E5ECF6",
              "width": 0.5
             }
            },
            "type": "barpolar"
           }
          ],
          "carpet": [
           {
            "aaxis": {
             "endlinecolor": "#2a3f5f",
             "gridcolor": "white",
             "linecolor": "white",
             "minorgridcolor": "white",
             "startlinecolor": "#2a3f5f"
            },
            "baxis": {
             "endlinecolor": "#2a3f5f",
             "gridcolor": "white",
             "linecolor": "white",
             "minorgridcolor": "white",
             "startlinecolor": "#2a3f5f"
            },
            "type": "carpet"
           }
          ],
          "choropleth": [
           {
            "colorbar": {
             "outlinewidth": 0,
             "ticks": ""
            },
            "type": "choropleth"
           }
          ],
          "contour": [
           {
            "colorbar": {
             "outlinewidth": 0,
             "ticks": ""
            },
            "colorscale": [
             [
              0,
              "#0d0887"
             ],
             [
              0.1111111111111111,
              "#46039f"
             ],
             [
              0.2222222222222222,
              "#7201a8"
             ],
             [
              0.3333333333333333,
              "#9c179e"
             ],
             [
              0.4444444444444444,
              "#bd3786"
             ],
             [
              0.5555555555555556,
              "#d8576b"
             ],
             [
              0.6666666666666666,
              "#ed7953"
             ],
             [
              0.7777777777777778,
              "#fb9f3a"
             ],
             [
              0.8888888888888888,
              "#fdca26"
             ],
             [
              1,
              "#f0f921"
             ]
            ],
            "type": "contour"
           }
          ],
          "contourcarpet": [
           {
            "colorbar": {
             "outlinewidth": 0,
             "ticks": ""
            },
            "type": "contourcarpet"
           }
          ],
          "heatmap": [
           {
            "colorbar": {
             "outlinewidth": 0,
             "ticks": ""
            },
            "colorscale": [
             [
              0,
              "#0d0887"
             ],
             [
              0.1111111111111111,
              "#46039f"
             ],
             [
              0.2222222222222222,
              "#7201a8"
             ],
             [
              0.3333333333333333,
              "#9c179e"
             ],
             [
              0.4444444444444444,
              "#bd3786"
             ],
             [
              0.5555555555555556,
              "#d8576b"
             ],
             [
              0.6666666666666666,
              "#ed7953"
             ],
             [
              0.7777777777777778,
              "#fb9f3a"
             ],
             [
              0.8888888888888888,
              "#fdca26"
             ],
             [
              1,
              "#f0f921"
             ]
            ],
            "type": "heatmap"
           }
          ],
          "heatmapgl": [
           {
            "colorbar": {
             "outlinewidth": 0,
             "ticks": ""
            },
            "colorscale": [
             [
              0,
              "#0d0887"
             ],
             [
              0.1111111111111111,
              "#46039f"
             ],
             [
              0.2222222222222222,
              "#7201a8"
             ],
             [
              0.3333333333333333,
              "#9c179e"
             ],
             [
              0.4444444444444444,
              "#bd3786"
             ],
             [
              0.5555555555555556,
              "#d8576b"
             ],
             [
              0.6666666666666666,
              "#ed7953"
             ],
             [
              0.7777777777777778,
              "#fb9f3a"
             ],
             [
              0.8888888888888888,
              "#fdca26"
             ],
             [
              1,
              "#f0f921"
             ]
            ],
            "type": "heatmapgl"
           }
          ],
          "histogram": [
           {
            "marker": {
             "colorbar": {
              "outlinewidth": 0,
              "ticks": ""
             }
            },
            "type": "histogram"
           }
          ],
          "histogram2d": [
           {
            "colorbar": {
             "outlinewidth": 0,
             "ticks": ""
            },
            "colorscale": [
             [
              0,
              "#0d0887"
             ],
             [
              0.1111111111111111,
              "#46039f"
             ],
             [
              0.2222222222222222,
              "#7201a8"
             ],
             [
              0.3333333333333333,
              "#9c179e"
             ],
             [
              0.4444444444444444,
              "#bd3786"
             ],
             [
              0.5555555555555556,
              "#d8576b"
             ],
             [
              0.6666666666666666,
              "#ed7953"
             ],
             [
              0.7777777777777778,
              "#fb9f3a"
             ],
             [
              0.8888888888888888,
              "#fdca26"
             ],
             [
              1,
              "#f0f921"
             ]
            ],
            "type": "histogram2d"
           }
          ],
          "histogram2dcontour": [
           {
            "colorbar": {
             "outlinewidth": 0,
             "ticks": ""
            },
            "colorscale": [
             [
              0,
              "#0d0887"
             ],
             [
              0.1111111111111111,
              "#46039f"
             ],
             [
              0.2222222222222222,
              "#7201a8"
             ],
             [
              0.3333333333333333,
              "#9c179e"
             ],
             [
              0.4444444444444444,
              "#bd3786"
             ],
             [
              0.5555555555555556,
              "#d8576b"
             ],
             [
              0.6666666666666666,
              "#ed7953"
             ],
             [
              0.7777777777777778,
              "#fb9f3a"
             ],
             [
              0.8888888888888888,
              "#fdca26"
             ],
             [
              1,
              "#f0f921"
             ]
            ],
            "type": "histogram2dcontour"
           }
          ],
          "mesh3d": [
           {
            "colorbar": {
             "outlinewidth": 0,
             "ticks": ""
            },
            "type": "mesh3d"
           }
          ],
          "parcoords": [
           {
            "line": {
             "colorbar": {
              "outlinewidth": 0,
              "ticks": ""
             }
            },
            "type": "parcoords"
           }
          ],
          "pie": [
           {
            "automargin": true,
            "type": "pie"
           }
          ],
          "scatter": [
           {
            "marker": {
             "colorbar": {
              "outlinewidth": 0,
              "ticks": ""
             }
            },
            "type": "scatter"
           }
          ],
          "scatter3d": [
           {
            "line": {
             "colorbar": {
              "outlinewidth": 0,
              "ticks": ""
             }
            },
            "marker": {
             "colorbar": {
              "outlinewidth": 0,
              "ticks": ""
             }
            },
            "type": "scatter3d"
           }
          ],
          "scattercarpet": [
           {
            "marker": {
             "colorbar": {
              "outlinewidth": 0,
              "ticks": ""
             }
            },
            "type": "scattercarpet"
           }
          ],
          "scattergeo": [
           {
            "marker": {
             "colorbar": {
              "outlinewidth": 0,
              "ticks": ""
             }
            },
            "type": "scattergeo"
           }
          ],
          "scattergl": [
           {
            "marker": {
             "colorbar": {
              "outlinewidth": 0,
              "ticks": ""
             }
            },
            "type": "scattergl"
           }
          ],
          "scattermapbox": [
           {
            "marker": {
             "colorbar": {
              "outlinewidth": 0,
              "ticks": ""
             }
            },
            "type": "scattermapbox"
           }
          ],
          "scatterpolar": [
           {
            "marker": {
             "colorbar": {
              "outlinewidth": 0,
              "ticks": ""
             }
            },
            "type": "scatterpolar"
           }
          ],
          "scatterpolargl": [
           {
            "marker": {
             "colorbar": {
              "outlinewidth": 0,
              "ticks": ""
             }
            },
            "type": "scatterpolargl"
           }
          ],
          "scatterternary": [
           {
            "marker": {
             "colorbar": {
              "outlinewidth": 0,
              "ticks": ""
             }
            },
            "type": "scatterternary"
           }
          ],
          "surface": [
           {
            "colorbar": {
             "outlinewidth": 0,
             "ticks": ""
            },
            "colorscale": [
             [
              0,
              "#0d0887"
             ],
             [
              0.1111111111111111,
              "#46039f"
             ],
             [
              0.2222222222222222,
              "#7201a8"
             ],
             [
              0.3333333333333333,
              "#9c179e"
             ],
             [
              0.4444444444444444,
              "#bd3786"
             ],
             [
              0.5555555555555556,
              "#d8576b"
             ],
             [
              0.6666666666666666,
              "#ed7953"
             ],
             [
              0.7777777777777778,
              "#fb9f3a"
             ],
             [
              0.8888888888888888,
              "#fdca26"
             ],
             [
              1,
              "#f0f921"
             ]
            ],
            "type": "surface"
           }
          ],
          "table": [
           {
            "cells": {
             "fill": {
              "color": "#EBF0F8"
             },
             "line": {
              "color": "white"
             }
            },
            "header": {
             "fill": {
              "color": "#C8D4E3"
             },
             "line": {
              "color": "white"
             }
            },
            "type": "table"
           }
          ]
         },
         "layout": {
          "annotationdefaults": {
           "arrowcolor": "#2a3f5f",
           "arrowhead": 0,
           "arrowwidth": 1
          },
          "coloraxis": {
           "colorbar": {
            "outlinewidth": 0,
            "ticks": ""
           }
          },
          "colorscale": {
           "diverging": [
            [
             0,
             "#8e0152"
            ],
            [
             0.1,
             "#c51b7d"
            ],
            [
             0.2,
             "#de77ae"
            ],
            [
             0.3,
             "#f1b6da"
            ],
            [
             0.4,
             "#fde0ef"
            ],
            [
             0.5,
             "#f7f7f7"
            ],
            [
             0.6,
             "#e6f5d0"
            ],
            [
             0.7,
             "#b8e186"
            ],
            [
             0.8,
             "#7fbc41"
            ],
            [
             0.9,
             "#4d9221"
            ],
            [
             1,
             "#276419"
            ]
           ],
           "sequential": [
            [
             0,
             "#0d0887"
            ],
            [
             0.1111111111111111,
             "#46039f"
            ],
            [
             0.2222222222222222,
             "#7201a8"
            ],
            [
             0.3333333333333333,
             "#9c179e"
            ],
            [
             0.4444444444444444,
             "#bd3786"
            ],
            [
             0.5555555555555556,
             "#d8576b"
            ],
            [
             0.6666666666666666,
             "#ed7953"
            ],
            [
             0.7777777777777778,
             "#fb9f3a"
            ],
            [
             0.8888888888888888,
             "#fdca26"
            ],
            [
             1,
             "#f0f921"
            ]
           ],
           "sequentialminus": [
            [
             0,
             "#0d0887"
            ],
            [
             0.1111111111111111,
             "#46039f"
            ],
            [
             0.2222222222222222,
             "#7201a8"
            ],
            [
             0.3333333333333333,
             "#9c179e"
            ],
            [
             0.4444444444444444,
             "#bd3786"
            ],
            [
             0.5555555555555556,
             "#d8576b"
            ],
            [
             0.6666666666666666,
             "#ed7953"
            ],
            [
             0.7777777777777778,
             "#fb9f3a"
            ],
            [
             0.8888888888888888,
             "#fdca26"
            ],
            [
             1,
             "#f0f921"
            ]
           ]
          },
          "colorway": [
           "#636efa",
           "#EF553B",
           "#00cc96",
           "#ab63fa",
           "#FFA15A",
           "#19d3f3",
           "#FF6692",
           "#B6E880",
           "#FF97FF",
           "#FECB52"
          ],
          "font": {
           "color": "#2a3f5f"
          },
          "geo": {
           "bgcolor": "white",
           "lakecolor": "white",
           "landcolor": "#E5ECF6",
           "showlakes": true,
           "showland": true,
           "subunitcolor": "white"
          },
          "hoverlabel": {
           "align": "left"
          },
          "hovermode": "closest",
          "mapbox": {
           "style": "light"
          },
          "paper_bgcolor": "white",
          "plot_bgcolor": "#E5ECF6",
          "polar": {
           "angularaxis": {
            "gridcolor": "white",
            "linecolor": "white",
            "ticks": ""
           },
           "bgcolor": "#E5ECF6",
           "radialaxis": {
            "gridcolor": "white",
            "linecolor": "white",
            "ticks": ""
           }
          },
          "scene": {
           "xaxis": {
            "backgroundcolor": "#E5ECF6",
            "gridcolor": "white",
            "gridwidth": 2,
            "linecolor": "white",
            "showbackground": true,
            "ticks": "",
            "zerolinecolor": "white"
           },
           "yaxis": {
            "backgroundcolor": "#E5ECF6",
            "gridcolor": "white",
            "gridwidth": 2,
            "linecolor": "white",
            "showbackground": true,
            "ticks": "",
            "zerolinecolor": "white"
           },
           "zaxis": {
            "backgroundcolor": "#E5ECF6",
            "gridcolor": "white",
            "gridwidth": 2,
            "linecolor": "white",
            "showbackground": true,
            "ticks": "",
            "zerolinecolor": "white"
           }
          },
          "shapedefaults": {
           "line": {
            "color": "#2a3f5f"
           }
          },
          "ternary": {
           "aaxis": {
            "gridcolor": "white",
            "linecolor": "white",
            "ticks": ""
           },
           "baxis": {
            "gridcolor": "white",
            "linecolor": "white",
            "ticks": ""
           },
           "bgcolor": "#E5ECF6",
           "caxis": {
            "gridcolor": "white",
            "linecolor": "white",
            "ticks": ""
           }
          },
          "title": {
           "x": 0.05
          },
          "xaxis": {
           "automargin": true,
           "gridcolor": "white",
           "linecolor": "white",
           "ticks": "",
           "title": {
            "standoff": 15
           },
           "zerolinecolor": "white",
           "zerolinewidth": 2
          },
          "yaxis": {
           "automargin": true,
           "gridcolor": "white",
           "linecolor": "white",
           "ticks": "",
           "title": {
            "standoff": 15
           },
           "zerolinecolor": "white",
           "zerolinewidth": 2
          }
         }
        },
        "title": {
         "text": "RBD Peptid Rekombinant for loss of taste/smell",
         "x": 0.5
        },
        "xaxis": {
         "title": {
          "text": "Loss of Taste/Smell"
         }
        },
        "yaxis": {
         "title": {
          "text": "RBD Peptid Rekombinant"
         }
        }
       }
      },
      "text/html": [
       "<div>\n",
       "        \n",
       "        \n",
       "            <div id=\"3aebaba4-2ae3-41e5-8e84-2f5e2e3a8376\" class=\"plotly-graph-div\" style=\"height:525px; width:100%;\"></div>\n",
       "            <script type=\"text/javascript\">\n",
       "                require([\"plotly\"], function(Plotly) {\n",
       "                    window.PLOTLYENV=window.PLOTLYENV || {};\n",
       "                    \n",
       "                if (document.getElementById(\"3aebaba4-2ae3-41e5-8e84-2f5e2e3a8376\")) {\n",
       "                    Plotly.newPlot(\n",
       "                        '3aebaba4-2ae3-41e5-8e84-2f5e2e3a8376',\n",
       "                        [{\"name\": \"VII.1A\", \"type\": \"box\", \"x\": [\"M\\u00e4\\u00dfig\", \"M\\u00e4\\u00dfig\", \"M\\u00e4\\u00dfig\", \"M\\u00e4\\u00dfig\", \"M\\u00e4\\u00dfig\", \"M\\u00e4\\u00dfig\", \"M\\u00e4\\u00dfig\", \"M\\u00e4\\u00dfig\", \"M\\u00e4\\u00dfig\", \"Sehr\", \"Sehr\", \"Sehr\", \"Sehr\", \"Sehr\", \"Sehr\", \"Sehr\", \"Sehr\", \"Sehr\", \"Sehr\", \"Sehr\", \"Sehr\", \"Sehr\", \"Sehr\", \"Sehr\", \"Sehr\", \"Sehr\", \"Sehr\", \"Sehr\", \"Sehr\", \"Sehr\", \"Sehr\", \"Sehr\", \"Sehr\", \"Sehr\", \"Sehr\", \"Sehr\", \"Sehr\", \"Sehr\", \"Sehr\", \"Sehr\", \"Sehr\", \"Sehr\", \"Sehr\", \"Sehr\", \"Sehr\", \"Sehr\", \"Sehr\", \"Sehr\", \"Sehr\", \"Sehr\", \"Sehr\", \"Sehr\", \"Sehr\", \"Sehr\", \"Sehr\", \"Sehr\", \"Sehr\", \"Sehr\", \"Sehr\", \"Sehr\", \"Sehr\", \"Sehr\", \"Sehr\", \"Wenig\", \"Wenig\", \"Wenig\", \"Wenig\", \"Wenig\", \"Wenig\", \"Wenig\", \"Wenig\", \"Wenig\", \"Wenig\", \"Wenig\", \"Wenig\", \"Wenig\", \"Wenig\", \"\\u00dcberhaupt nicht\", \"\\u00dcberhaupt nicht\", \"\\u00dcberhaupt nicht\", \"\\u00dcberhaupt nicht\", \"\\u00dcberhaupt nicht\", \"\\u00dcberhaupt nicht\", \"\\u00dcberhaupt nicht\", \"\\u00dcberhaupt nicht\", \"\\u00dcberhaupt nicht\", \"\\u00dcberhaupt nicht\", \"\\u00dcberhaupt nicht\", \"\\u00dcberhaupt nicht\", \"\\u00dcberhaupt nicht\", \"\\u00dcberhaupt nicht\", \"\\u00dcberhaupt nicht\", \"\\u00dcberhaupt nicht\", \"\\u00dcberhaupt nicht\", \"\\u00dcberhaupt nicht\", \"\\u00dcberhaupt nicht\", \"\\u00dcberhaupt nicht\", \"\\u00dcberhaupt nicht\", \"\\u00dcberhaupt nicht\", \"\\u00dcberhaupt nicht\", \"\\u00dcberhaupt nicht\", \"\\u00dcberhaupt nicht\", \"\\u00dcberhaupt nicht\", \"\\u00dcberhaupt nicht\", \"\\u00dcberhaupt nicht\", \"\\u00dcberhaupt nicht\", \"\\u00dcberhaupt nicht\", \"\\u00dcberhaupt nicht\", \"\\u00dcberhaupt nicht\", \"\\u00dcberhaupt nicht\", \"\\u00dcberhaupt nicht\", \"\\u00dcberhaupt nicht\", \"\\u00dcberhaupt nicht\", \"\\u00dcberhaupt nicht\", \"\\u00dcberhaupt nicht\", \"\\u00dcberhaupt nicht\", \"\\u00dcberhaupt nicht\", \"\\u00dcberhaupt nicht\", \"\\u00dcberhaupt nicht\", \"\\u00dcberhaupt nicht\"], \"y\": [125.0, 310.0, 143.0, 231.0, 44.0, 342.0, 152.0, 127.0, 48.0, 62.0, 115.0, 207.0, 143.0, 69.0, 107.0, 84.0, 127.0, 174.0, 100.0, 84.0, 91.0, 140.0, 154.0, 238.0, 487.0, 154.0, 59.0, 138.0, 188.0, 438.0, 203.0, 86.0, 169.0, 301.0, 130.0, 149.0, 91.0, 92.0, 45.0, 168.0, 58.0, 224.0, 206.0, 308.0, 207.0, 300.0, 208.0, 68.0, 80.0, 534.0, 79.0, 50.0, 306.0, 33.0, 257.0, 91.0, 51.0, 84.0, 219.0, 26.0, 189.0, 235.0, 277.0, 335.0, 129.0, 81.0, 93.0, 268.0, 100.0, 172.0, 134.0, 161.0, 41.0, 154.0, 48.0, 107.0, 320.0, 381.0, 114.0, 61.0, 47.0, 148.0, 189.0, 143.0, 45.0, 98.0, 52.0, 76.0, 673.0, 161.0, 207.0, 337.0, 78.0, 288.0, 185.0, 57.0, 142.0, 89.0, 567.0, 20.0, 190.0, 138.0, 215.0, 246.0, 64.0, 79.0, 173.0, 90.0, 245.0, 53.0, 84.0, 159.0, 182.0, 122.0, 107.0, 70.0, 68.0, 185.0, 65.0, 81.0]}, {\"name\": \"VII.2A\", \"type\": \"box\", \"x\": [\"M\\u00e4\\u00dfig\", \"M\\u00e4\\u00dfig\", \"M\\u00e4\\u00dfig\", \"M\\u00e4\\u00dfig\", \"M\\u00e4\\u00dfig\", \"M\\u00e4\\u00dfig\", \"M\\u00e4\\u00dfig\", \"M\\u00e4\\u00dfig\", \"M\\u00e4\\u00dfig\", \"Sehr\", \"Sehr\", \"Sehr\", \"Sehr\", \"Sehr\", \"Sehr\", \"Sehr\", \"Sehr\", \"Sehr\", \"Sehr\", \"Sehr\", \"Sehr\", \"Sehr\", \"Sehr\", \"Sehr\", \"Sehr\", \"Sehr\", \"Sehr\", \"Sehr\", \"Sehr\", \"Sehr\", \"Sehr\", \"Sehr\", \"Sehr\", \"Sehr\", \"Sehr\", \"Sehr\", \"Sehr\", \"Sehr\", \"Sehr\", \"Sehr\", \"Sehr\", \"Sehr\", \"Sehr\", \"Sehr\", \"Sehr\", \"Sehr\", \"Sehr\", \"Sehr\", \"Sehr\", \"Sehr\", \"Sehr\", \"Sehr\", \"Sehr\", \"Sehr\", \"Sehr\", \"Sehr\", \"Sehr\", \"Sehr\", \"Sehr\", \"Sehr\", \"Sehr\", \"Sehr\", \"Sehr\", \"Wenig\", \"Wenig\", \"Wenig\", \"Wenig\", \"Wenig\", \"Wenig\", \"Wenig\", \"Wenig\", \"Wenig\", \"Wenig\", \"Wenig\", \"Wenig\", \"Wenig\", \"Wenig\", \"\\u00dcberhaupt nicht\", \"\\u00dcberhaupt nicht\", \"\\u00dcberhaupt nicht\", \"\\u00dcberhaupt nicht\", \"\\u00dcberhaupt nicht\", \"\\u00dcberhaupt nicht\", \"\\u00dcberhaupt nicht\", \"\\u00dcberhaupt nicht\", \"\\u00dcberhaupt nicht\", \"\\u00dcberhaupt nicht\", \"\\u00dcberhaupt nicht\", \"\\u00dcberhaupt nicht\", \"\\u00dcberhaupt nicht\", \"\\u00dcberhaupt nicht\", \"\\u00dcberhaupt nicht\", \"\\u00dcberhaupt nicht\", \"\\u00dcberhaupt nicht\", \"\\u00dcberhaupt nicht\", \"\\u00dcberhaupt nicht\", \"\\u00dcberhaupt nicht\", \"\\u00dcberhaupt nicht\", \"\\u00dcberhaupt nicht\", \"\\u00dcberhaupt nicht\", \"\\u00dcberhaupt nicht\", \"\\u00dcberhaupt nicht\", \"\\u00dcberhaupt nicht\", \"\\u00dcberhaupt nicht\", \"\\u00dcberhaupt nicht\", \"\\u00dcberhaupt nicht\", \"\\u00dcberhaupt nicht\", \"\\u00dcberhaupt nicht\", \"\\u00dcberhaupt nicht\", \"\\u00dcberhaupt nicht\", \"\\u00dcberhaupt nicht\", \"\\u00dcberhaupt nicht\", \"\\u00dcberhaupt nicht\", \"\\u00dcberhaupt nicht\", \"\\u00dcberhaupt nicht\", \"\\u00dcberhaupt nicht\", \"\\u00dcberhaupt nicht\", \"\\u00dcberhaupt nicht\", \"\\u00dcberhaupt nicht\", \"\\u00dcberhaupt nicht\"], \"y\": [271.0, 79.0, 27.0, 103.0, 75.0, 89.0, 50.0, 76.0, 53.0, 46.0, 78.0, 104.0, 50.0, 38.0, 107.0, 47.0, 66.0, 61.0, 128.0, 40.0, 50.0, 81.0, 290.0, 184.0, 130.0, 27.0, 28.0, 79.0, 64.0, 135.0, 65.0, 74.0, 133.0, 192.0, 75.0, 94.0, 30.0, 99.0, 36.0, 87.0, 116.0, 121.0, 53.0, 165.0, 96.0, 141.0, 106.0, 46.0, 19.0, 40.0, 29.0, 71.0, 258.0, 78.0, 26.0, 53.0, 129.0, 111.0, 78.0, 47.0, 50.0, 111.0, 113.0, 113.0, 145.0, 47.0, 90.0, 279.0, 92.0, 140.0, 29.0, 95.0, 45.0, 206.0, 23.0, 62.0, 64.0, 143.0, 60.0, 85.0, 206.0, 40.0, 61.0, 82.0, 128.0, 44.0, 66.0, 89.0, 94.0, 70.0, 118.0, 114.0, 146.0, 84.0, 184.0, 11.0, 253.0, 94.0, 23.0, 18.0, 82.0, 192.0, 89.0, 52.0, 48.0, 49.0, 104.0, 82.0, 211.0, 37.0, 24.0, 170.0, 53.0, 120.0, 82.0, 24.0, 208.0, 95.0, 196.0, 92.0]}, {\"name\": \"VII.3A\", \"type\": \"box\", \"x\": [\"M\\u00e4\\u00dfig\", \"M\\u00e4\\u00dfig\", \"M\\u00e4\\u00dfig\", \"M\\u00e4\\u00dfig\", \"M\\u00e4\\u00dfig\", \"M\\u00e4\\u00dfig\", \"M\\u00e4\\u00dfig\", \"M\\u00e4\\u00dfig\", \"M\\u00e4\\u00dfig\", \"Sehr\", \"Sehr\", \"Sehr\", \"Sehr\", \"Sehr\", \"Sehr\", \"Sehr\", \"Sehr\", \"Sehr\", \"Sehr\", \"Sehr\", \"Sehr\", \"Sehr\", \"Sehr\", \"Sehr\", \"Sehr\", \"Sehr\", \"Sehr\", \"Sehr\", \"Sehr\", \"Sehr\", \"Sehr\", \"Sehr\", \"Sehr\", \"Sehr\", \"Sehr\", \"Sehr\", \"Sehr\", \"Sehr\", \"Sehr\", \"Sehr\", \"Sehr\", \"Sehr\", \"Sehr\", \"Sehr\", \"Sehr\", \"Sehr\", \"Sehr\", \"Sehr\", \"Sehr\", \"Sehr\", \"Sehr\", \"Sehr\", \"Sehr\", \"Sehr\", \"Sehr\", \"Sehr\", \"Sehr\", \"Sehr\", \"Sehr\", \"Sehr\", \"Sehr\", \"Sehr\", \"Sehr\", \"Wenig\", \"Wenig\", \"Wenig\", \"Wenig\", \"Wenig\", \"Wenig\", \"Wenig\", \"Wenig\", \"Wenig\", \"Wenig\", \"Wenig\", \"Wenig\", \"Wenig\", \"Wenig\", \"\\u00dcberhaupt nicht\", \"\\u00dcberhaupt nicht\", \"\\u00dcberhaupt nicht\", \"\\u00dcberhaupt nicht\", \"\\u00dcberhaupt nicht\", \"\\u00dcberhaupt nicht\", \"\\u00dcberhaupt nicht\", \"\\u00dcberhaupt nicht\", \"\\u00dcberhaupt nicht\", \"\\u00dcberhaupt nicht\", \"\\u00dcberhaupt nicht\", \"\\u00dcberhaupt nicht\", \"\\u00dcberhaupt nicht\", \"\\u00dcberhaupt nicht\", \"\\u00dcberhaupt nicht\", \"\\u00dcberhaupt nicht\", \"\\u00dcberhaupt nicht\", \"\\u00dcberhaupt nicht\", \"\\u00dcberhaupt nicht\", \"\\u00dcberhaupt nicht\", \"\\u00dcberhaupt nicht\", \"\\u00dcberhaupt nicht\", \"\\u00dcberhaupt nicht\", \"\\u00dcberhaupt nicht\", \"\\u00dcberhaupt nicht\", \"\\u00dcberhaupt nicht\", \"\\u00dcberhaupt nicht\", \"\\u00dcberhaupt nicht\", \"\\u00dcberhaupt nicht\", \"\\u00dcberhaupt nicht\", \"\\u00dcberhaupt nicht\", \"\\u00dcberhaupt nicht\", \"\\u00dcberhaupt nicht\", \"\\u00dcberhaupt nicht\", \"\\u00dcberhaupt nicht\", \"\\u00dcberhaupt nicht\", \"\\u00dcberhaupt nicht\", \"\\u00dcberhaupt nicht\", \"\\u00dcberhaupt nicht\", \"\\u00dcberhaupt nicht\", \"\\u00dcberhaupt nicht\", \"\\u00dcberhaupt nicht\", \"\\u00dcberhaupt nicht\"], \"y\": [87.0, 100.0, 96.0, 184.0, 43.0, 101.0, 157.0, 137.0, 93.0, 105.0, 95.0, 152.0, 113.0, 108.0, 106.0, 75.0, 57.0, 107.0, 86.0, 105.0, 106.0, 85.0, 121.0, 321.0, 96.0, 55.0, 121.0, 97.0, 141.0, 136.0, 127.0, 116.0, 135.0, 71.0, 76.0, 54.0, 91.0, 73.0, 225.0, 124.0, 56.0, 69.0, 256.0, 167.0, 236.0, 195.0, 78.0, 81.0, 70.0, 215.0, 117.0, 129.0, 256.0, 68.0, 119.0, 178.0, 104.0, 70.0, 114.0, 48.0, 142.0, 110.0, 96.0, 90.0, 71.0, 98.0, 105.0, 208.0, 157.0, 80.0, 63.0, 33.0, 40.0, 139.0, 89.0, 87.0, 122.0, 221.0, 242.0, 85.0, 69.0, 167.0, 109.0, 108.0, 59.0, 73.0, 91.0, 75.0, 65.0, 88.0, 97.0, 118.0, 72.0, 289.0, 219.0, 38.0, 81.0, 56.0, 416.0, 59.0, 70.0, 79.0, 110.0, 263.0, 109.0, 80.0, 54.0, 139.0, 114.0, 127.0, 115.0, 143.0, 105.0, 97.0, 164.0, 57.0, 52.0, 170.0, 85.0, 72.0]}],\n",
       "                        {\"boxmode\": \"group\", \"template\": {\"data\": {\"bar\": [{\"error_x\": {\"color\": \"#2a3f5f\"}, \"error_y\": {\"color\": \"#2a3f5f\"}, \"marker\": {\"line\": {\"color\": \"#E5ECF6\", \"width\": 0.5}}, \"type\": \"bar\"}], \"barpolar\": [{\"marker\": {\"line\": {\"color\": \"#E5ECF6\", \"width\": 0.5}}, \"type\": \"barpolar\"}], \"carpet\": [{\"aaxis\": {\"endlinecolor\": \"#2a3f5f\", \"gridcolor\": \"white\", \"linecolor\": \"white\", \"minorgridcolor\": \"white\", \"startlinecolor\": \"#2a3f5f\"}, \"baxis\": {\"endlinecolor\": \"#2a3f5f\", \"gridcolor\": \"white\", \"linecolor\": \"white\", \"minorgridcolor\": \"white\", \"startlinecolor\": \"#2a3f5f\"}, \"type\": \"carpet\"}], \"choropleth\": [{\"colorbar\": {\"outlinewidth\": 0, \"ticks\": \"\"}, \"type\": \"choropleth\"}], \"contour\": [{\"colorbar\": {\"outlinewidth\": 0, \"ticks\": \"\"}, \"colorscale\": [[0.0, \"#0d0887\"], [0.1111111111111111, \"#46039f\"], [0.2222222222222222, \"#7201a8\"], [0.3333333333333333, \"#9c179e\"], [0.4444444444444444, \"#bd3786\"], [0.5555555555555556, \"#d8576b\"], [0.6666666666666666, \"#ed7953\"], [0.7777777777777778, \"#fb9f3a\"], [0.8888888888888888, \"#fdca26\"], [1.0, \"#f0f921\"]], \"type\": \"contour\"}], \"contourcarpet\": [{\"colorbar\": {\"outlinewidth\": 0, \"ticks\": \"\"}, \"type\": \"contourcarpet\"}], \"heatmap\": [{\"colorbar\": {\"outlinewidth\": 0, \"ticks\": \"\"}, \"colorscale\": [[0.0, \"#0d0887\"], [0.1111111111111111, \"#46039f\"], [0.2222222222222222, \"#7201a8\"], [0.3333333333333333, \"#9c179e\"], [0.4444444444444444, \"#bd3786\"], [0.5555555555555556, \"#d8576b\"], [0.6666666666666666, \"#ed7953\"], [0.7777777777777778, \"#fb9f3a\"], [0.8888888888888888, \"#fdca26\"], [1.0, \"#f0f921\"]], \"type\": \"heatmap\"}], \"heatmapgl\": [{\"colorbar\": {\"outlinewidth\": 0, \"ticks\": \"\"}, \"colorscale\": [[0.0, \"#0d0887\"], [0.1111111111111111, \"#46039f\"], [0.2222222222222222, \"#7201a8\"], [0.3333333333333333, \"#9c179e\"], [0.4444444444444444, \"#bd3786\"], [0.5555555555555556, \"#d8576b\"], [0.6666666666666666, \"#ed7953\"], [0.7777777777777778, \"#fb9f3a\"], [0.8888888888888888, \"#fdca26\"], [1.0, \"#f0f921\"]], \"type\": \"heatmapgl\"}], \"histogram\": [{\"marker\": {\"colorbar\": {\"outlinewidth\": 0, \"ticks\": \"\"}}, \"type\": \"histogram\"}], \"histogram2d\": [{\"colorbar\": {\"outlinewidth\": 0, \"ticks\": \"\"}, \"colorscale\": [[0.0, \"#0d0887\"], [0.1111111111111111, \"#46039f\"], [0.2222222222222222, \"#7201a8\"], [0.3333333333333333, \"#9c179e\"], [0.4444444444444444, \"#bd3786\"], [0.5555555555555556, \"#d8576b\"], [0.6666666666666666, \"#ed7953\"], [0.7777777777777778, \"#fb9f3a\"], [0.8888888888888888, \"#fdca26\"], [1.0, \"#f0f921\"]], \"type\": \"histogram2d\"}], \"histogram2dcontour\": [{\"colorbar\": {\"outlinewidth\": 0, \"ticks\": \"\"}, \"colorscale\": [[0.0, \"#0d0887\"], [0.1111111111111111, \"#46039f\"], [0.2222222222222222, \"#7201a8\"], [0.3333333333333333, \"#9c179e\"], [0.4444444444444444, \"#bd3786\"], [0.5555555555555556, \"#d8576b\"], [0.6666666666666666, \"#ed7953\"], [0.7777777777777778, \"#fb9f3a\"], [0.8888888888888888, \"#fdca26\"], [1.0, \"#f0f921\"]], \"type\": \"histogram2dcontour\"}], \"mesh3d\": [{\"colorbar\": {\"outlinewidth\": 0, \"ticks\": \"\"}, \"type\": \"mesh3d\"}], \"parcoords\": [{\"line\": {\"colorbar\": {\"outlinewidth\": 0, \"ticks\": \"\"}}, \"type\": \"parcoords\"}], \"pie\": [{\"automargin\": true, \"type\": \"pie\"}], \"scatter\": [{\"marker\": {\"colorbar\": {\"outlinewidth\": 0, \"ticks\": \"\"}}, \"type\": \"scatter\"}], \"scatter3d\": [{\"line\": {\"colorbar\": {\"outlinewidth\": 0, \"ticks\": \"\"}}, \"marker\": {\"colorbar\": {\"outlinewidth\": 0, \"ticks\": \"\"}}, \"type\": \"scatter3d\"}], \"scattercarpet\": [{\"marker\": {\"colorbar\": {\"outlinewidth\": 0, \"ticks\": \"\"}}, \"type\": \"scattercarpet\"}], \"scattergeo\": [{\"marker\": {\"colorbar\": {\"outlinewidth\": 0, \"ticks\": \"\"}}, \"type\": \"scattergeo\"}], \"scattergl\": [{\"marker\": {\"colorbar\": {\"outlinewidth\": 0, \"ticks\": \"\"}}, \"type\": \"scattergl\"}], \"scattermapbox\": [{\"marker\": {\"colorbar\": {\"outlinewidth\": 0, \"ticks\": \"\"}}, \"type\": \"scattermapbox\"}], \"scatterpolar\": [{\"marker\": {\"colorbar\": {\"outlinewidth\": 0, \"ticks\": \"\"}}, \"type\": \"scatterpolar\"}], \"scatterpolargl\": [{\"marker\": {\"colorbar\": {\"outlinewidth\": 0, \"ticks\": \"\"}}, \"type\": \"scatterpolargl\"}], \"scatterternary\": [{\"marker\": {\"colorbar\": {\"outlinewidth\": 0, \"ticks\": \"\"}}, \"type\": \"scatterternary\"}], \"surface\": [{\"colorbar\": {\"outlinewidth\": 0, \"ticks\": \"\"}, \"colorscale\": [[0.0, \"#0d0887\"], [0.1111111111111111, \"#46039f\"], [0.2222222222222222, \"#7201a8\"], [0.3333333333333333, \"#9c179e\"], [0.4444444444444444, \"#bd3786\"], [0.5555555555555556, \"#d8576b\"], [0.6666666666666666, \"#ed7953\"], [0.7777777777777778, \"#fb9f3a\"], [0.8888888888888888, \"#fdca26\"], [1.0, \"#f0f921\"]], \"type\": \"surface\"}], \"table\": [{\"cells\": {\"fill\": {\"color\": \"#EBF0F8\"}, \"line\": {\"color\": \"white\"}}, \"header\": {\"fill\": {\"color\": \"#C8D4E3\"}, \"line\": {\"color\": \"white\"}}, \"type\": \"table\"}]}, \"layout\": {\"annotationdefaults\": {\"arrowcolor\": \"#2a3f5f\", \"arrowhead\": 0, \"arrowwidth\": 1}, \"coloraxis\": {\"colorbar\": {\"outlinewidth\": 0, \"ticks\": \"\"}}, \"colorscale\": {\"diverging\": [[0, \"#8e0152\"], [0.1, \"#c51b7d\"], [0.2, \"#de77ae\"], [0.3, \"#f1b6da\"], [0.4, \"#fde0ef\"], [0.5, \"#f7f7f7\"], [0.6, \"#e6f5d0\"], [0.7, \"#b8e186\"], [0.8, \"#7fbc41\"], [0.9, \"#4d9221\"], [1, \"#276419\"]], \"sequential\": [[0.0, \"#0d0887\"], [0.1111111111111111, \"#46039f\"], [0.2222222222222222, \"#7201a8\"], [0.3333333333333333, \"#9c179e\"], [0.4444444444444444, \"#bd3786\"], [0.5555555555555556, \"#d8576b\"], [0.6666666666666666, \"#ed7953\"], [0.7777777777777778, \"#fb9f3a\"], [0.8888888888888888, \"#fdca26\"], [1.0, \"#f0f921\"]], \"sequentialminus\": [[0.0, \"#0d0887\"], [0.1111111111111111, \"#46039f\"], [0.2222222222222222, \"#7201a8\"], [0.3333333333333333, \"#9c179e\"], [0.4444444444444444, \"#bd3786\"], [0.5555555555555556, \"#d8576b\"], [0.6666666666666666, \"#ed7953\"], [0.7777777777777778, \"#fb9f3a\"], [0.8888888888888888, \"#fdca26\"], [1.0, \"#f0f921\"]]}, \"colorway\": [\"#636efa\", \"#EF553B\", \"#00cc96\", \"#ab63fa\", \"#FFA15A\", \"#19d3f3\", \"#FF6692\", \"#B6E880\", \"#FF97FF\", \"#FECB52\"], \"font\": {\"color\": \"#2a3f5f\"}, \"geo\": {\"bgcolor\": \"white\", \"lakecolor\": \"white\", \"landcolor\": \"#E5ECF6\", \"showlakes\": true, \"showland\": true, \"subunitcolor\": \"white\"}, \"hoverlabel\": {\"align\": \"left\"}, \"hovermode\": \"closest\", \"mapbox\": {\"style\": \"light\"}, \"paper_bgcolor\": \"white\", \"plot_bgcolor\": \"#E5ECF6\", \"polar\": {\"angularaxis\": {\"gridcolor\": \"white\", \"linecolor\": \"white\", \"ticks\": \"\"}, \"bgcolor\": \"#E5ECF6\", \"radialaxis\": {\"gridcolor\": \"white\", \"linecolor\": \"white\", \"ticks\": \"\"}}, \"scene\": {\"xaxis\": {\"backgroundcolor\": \"#E5ECF6\", \"gridcolor\": \"white\", \"gridwidth\": 2, \"linecolor\": \"white\", \"showbackground\": true, \"ticks\": \"\", \"zerolinecolor\": \"white\"}, \"yaxis\": {\"backgroundcolor\": \"#E5ECF6\", \"gridcolor\": \"white\", \"gridwidth\": 2, \"linecolor\": \"white\", \"showbackground\": true, \"ticks\": \"\", \"zerolinecolor\": \"white\"}, \"zaxis\": {\"backgroundcolor\": \"#E5ECF6\", \"gridcolor\": \"white\", \"gridwidth\": 2, \"linecolor\": \"white\", \"showbackground\": true, \"ticks\": \"\", \"zerolinecolor\": \"white\"}}, \"shapedefaults\": {\"line\": {\"color\": \"#2a3f5f\"}}, \"ternary\": {\"aaxis\": {\"gridcolor\": \"white\", \"linecolor\": \"white\", \"ticks\": \"\"}, \"baxis\": {\"gridcolor\": \"white\", \"linecolor\": \"white\", \"ticks\": \"\"}, \"bgcolor\": \"#E5ECF6\", \"caxis\": {\"gridcolor\": \"white\", \"linecolor\": \"white\", \"ticks\": \"\"}}, \"title\": {\"x\": 0.05}, \"xaxis\": {\"automargin\": true, \"gridcolor\": \"white\", \"linecolor\": \"white\", \"ticks\": \"\", \"title\": {\"standoff\": 15}, \"zerolinecolor\": \"white\", \"zerolinewidth\": 2}, \"yaxis\": {\"automargin\": true, \"gridcolor\": \"white\", \"linecolor\": \"white\", \"ticks\": \"\", \"title\": {\"standoff\": 15}, \"zerolinecolor\": \"white\", \"zerolinewidth\": 2}}}, \"title\": {\"text\": \"RBD Peptid Rekombinant for loss of taste/smell\", \"x\": 0.5}, \"xaxis\": {\"title\": {\"text\": \"Loss of Taste/Smell\"}}, \"yaxis\": {\"title\": {\"text\": \"RBD Peptid Rekombinant\"}}},\n",
       "                        {\"responsive\": true}\n",
       "                    ).then(function(){\n",
       "                            \n",
       "var gd = document.getElementById('3aebaba4-2ae3-41e5-8e84-2f5e2e3a8376');\n",
       "var x = new MutationObserver(function (mutations, observer) {{\n",
       "        var display = window.getComputedStyle(gd).display;\n",
       "        if (!display || display === 'none') {{\n",
       "            console.log([gd, 'removed!']);\n",
       "            Plotly.purge(gd);\n",
       "            observer.disconnect();\n",
       "        }}\n",
       "}});\n",
       "\n",
       "// Listen for the removal of the full notebook cells\n",
       "var notebookContainer = gd.closest('#notebook-container');\n",
       "if (notebookContainer) {{\n",
       "    x.observe(notebookContainer, {childList: true});\n",
       "}}\n",
       "\n",
       "// Listen for the clearing of the current output cell\n",
       "var outputEl = gd.closest('.output');\n",
       "if (outputEl) {{\n",
       "    x.observe(outputEl, {childList: true});\n",
       "}}\n",
       "\n",
       "                        })\n",
       "                };\n",
       "                });\n",
       "            </script>\n",
       "        </div>"
      ]
     },
     "metadata": {},
     "output_type": "display_data"
    }
   ],
   "source": [
    "grouped_box_plot(df_sars, \n",
    "                 \"III.12\", # categorical variable\n",
    "                 [\"VII.1A\", \"VII.2A\", \"VII.3A\"], # list of continuous variables\n",
    "                 y_title=\"RBD Peptid Rekombinant\",\n",
    "                 x_title=\"Loss of Taste/Smell\",\n",
    "                 title=\"RBD Peptid Rekombinant for loss of taste/smell\",\n",
    "                points=False)"
   ]
  },
  {
   "cell_type": "markdown",
   "metadata": {},
   "source": [
    "### Scatter\n",
    "Plot continuous variables as well as their correlation"
   ]
  },
  {
   "cell_type": "code",
   "execution_count": 22,
   "metadata": {},
   "outputs": [
    {
     "name": "stdout",
     "output_type": "stream",
     "text": [
      "0.0000\n"
     ]
    },
    {
     "data": {
      "application/vnd.plotly.v1+json": {
       "config": {
        "plotlyServerURL": "https://plot.ly"
       },
       "data": [
        {
         "marker": {
          "color": [
           0.021860425117456277,
           0.04372085023491255,
           0.07572270968520937,
           0.052059362908581444,
           0.14400836752633567,
           0.025916998850592492,
           0.03921354608698342,
           0.04124183295355153,
           0.021860425117456277,
           0.04281938940532673,
           0.017578486176923605,
           0.03763598963520823,
           0.1336415679860987,
           0.06039787558225033,
           0.0471013283458594,
           0.060172510374853876,
           0.07166613595207315,
           0.036734528805622405,
           0.0507071716642027,
           0.015099468895562582,
           0.016226294932544866,
           0.030198937791125164,
           0.04574913710148066,
           0.036509163598225945,
           0.051833997701184985,
           0.051833997701184985,
           0.06039787558225033,
           0.02298725115443856,
           0.02929747696153934,
           0.04845351959023814,
           0.029522842168935796,
           0.03448087673165784,
           0.10118897812100895,
           0.28012895279379535,
           0.06535591014497237,
           0.03921354608698342,
           0.10051288249881958,
           0.06152470161923261,
           0.19471553919053838,
           0.08834316129941093,
           0.01532483410295904,
           0.15460053227396914,
           0.028846746546746425,
           0.10051288249881958,
           0.1784892442579935,
           0.03628379839082949,
           0.055439841019528285,
           0.08969535254378967,
           0.1313879159121341,
           0.13274010715651285,
           0.17510876614704668,
           0.08023001383313849,
           0.0698632142929015,
           0.03132576382810745,
           0.05296082373816727,
           0.03380478110946847,
           0.03515697235384721,
           0.05453838018994246,
           0.31821567284379654,
           0.020057503458284623,
           0.07301832719645189,
           0.09961142166923376,
           0.11944355992012193,
           0.05386228456775309,
           0.0818075702849137,
           0.014874103688166126,
           0.052059362908581444,
           0.05363691936035664,
           0.03695989401301886,
           0.08068074424793141,
           0.05273545853077081,
           0.07459588364822708,
           0.0626515276562149,
           0.03403014631686493,
           0.14265617628195693,
           0.032903320279882645,
           0.015550199310355495,
           0.06648273618195466,
           0.06129933641183616,
           0.019832138250888167,
           0.1552766278961585,
           0.020733599080473994,
           0.0942026566917188,
           0.04597450230887712,
           0.12868353342337663,
           0.1376981417192349,
           0.04124183295355153,
           0.025015538021006666,
           0.029973572583728708,
           0.06152470161923261,
           0.03853745046479405,
           0.1728551140730821,
           0.085413413603257,
           0.19539163481272775,
           0.08924462212899675,
           0.059496414752664505,
           0.026367729265385404,
           0.051833997701184985,
           0.09352656106952943,
           0.02163505991005982,
           0.05836958871568222,
           0.06287689286361135,
           0.19989893896065689,
           0.04281938940532673,
           0.13183864632692702,
           0.0642290841079901,
           0.03921354608698342,
           0.04619986751627357,
           0.13521912443787387,
           0.12733134217899789,
           0.04236865899053381,
           0.05025644124940979,
           0.012845816821598018,
           0.026142364057988948,
           0.17127755762130692,
           0.0631022580710078,
           0.024564807606213754,
           0.021409694702663365,
           0.03132576382810745,
           0.0890192569216003,
           0.023663346776627927,
           0.011718990784615736,
           0.14220544586716402,
           0.07459588364822708,
           0.026593094472781863,
           0.09194900461775424,
           0.11583771660177862,
           0.032677955072486185,
           0.01960677304349171
          ]
         },
         "mode": "markers",
         "type": "scatter",
         "x": [
          62,
          115,
          207,
          143,
          381,
          69,
          107,
          114,
          61,
          126,
          47,
          84,
          335,
          148,
          127,
          174,
          189,
          100,
          143,
          36,
          45,
          84,
          98,
          91,
          117,
          140,
          154,
          52,
          76,
          129,
          81,
          93,
          268,
          673,
          161,
          100,
          238,
          172,
          487,
          207,
          35,
          337,
          78,
          154,
          288,
          59,
          138,
          125,
          188,
          310,
          438,
          203,
          185,
          57,
          142,
          86,
          89,
          143,
          567,
          20,
          169,
          231,
          301,
          130,
          190,
          44,
          138,
          149,
          91,
          215,
          134,
          135,
          161,
          92,
          419,
          45,
          41,
          168,
          154,
          56,
          246,
          58,
          224,
          48,
          342,
          206,
          107,
          64,
          79,
          173,
          90,
          308,
          207,
          300,
          208,
          152,
          68,
          80,
          245,
          53,
          84,
          159,
          534,
          79,
          320,
          182,
          50,
          122,
          355,
          306,
          107,
          127,
          33,
          70,
          257,
          91,
          68,
          51,
          84,
          219,
          59,
          26,
          189,
          185,
          65,
          235,
          277,
          81,
          48
         ],
         "y": [
          35,
          79,
          129,
          88,
          258,
          46,
          67,
          69,
          36,
          64,
          31,
          83,
          258,
          120,
          82,
          93,
          129,
          63,
          82,
          31,
          27,
          50,
          105,
          71,
          113,
          90,
          114,
          50,
          54,
          86,
          50,
          60,
          181,
          570,
          129,
          74,
          208,
          101,
          377,
          185,
          33,
          349,
          50,
          292,
          504,
          102,
          108,
          273,
          395,
          279,
          339,
          153,
          125,
          82,
          93,
          64,
          67,
          99,
          845,
          69,
          155,
          211,
          229,
          109,
          173,
          22,
          93,
          89,
          73,
          143,
          100,
          196,
          117,
          59,
          214,
          101,
          28,
          127,
          118,
          32,
          443,
          34,
          194,
          156,
          229,
          405,
          76,
          47,
          54,
          100,
          81,
          459,
          172,
          567,
          188,
          112,
          49,
          150,
          170,
          43,
          175,
          120,
          353,
          111,
          265,
          103,
          124,
          83,
          245,
          259,
          81,
          96,
          24,
          46,
          503,
          189,
          41,
          44,
          55,
          176,
          46,
          26,
          442,
          146,
          53,
          173,
          237,
          64,
          39
         ]
        }
       ],
       "layout": {
        "annotations": [
         {
          "align": "center",
          "bgcolor": "#3a6b94",
          "bordercolor": "#13181a",
          "borderpad": 4,
          "borderwidth": 2,
          "font": {
           "color": "#ffffff",
           "family": "Courier New, monospace",
           "size": 16
          },
          "opacity": 0.8,
          "text": "p=0.00",
          "x": 673,
          "xref": "x",
          "y": 845,
          "yref": "y"
         }
        ],
        "template": {
         "data": {
          "bar": [
           {
            "error_x": {
             "color": "#2a3f5f"
            },
            "error_y": {
             "color": "#2a3f5f"
            },
            "marker": {
             "line": {
              "color": "#E5ECF6",
              "width": 0.5
             }
            },
            "type": "bar"
           }
          ],
          "barpolar": [
           {
            "marker": {
             "line": {
              "color": "#E5ECF6",
              "width": 0.5
             }
            },
            "type": "barpolar"
           }
          ],
          "carpet": [
           {
            "aaxis": {
             "endlinecolor": "#2a3f5f",
             "gridcolor": "white",
             "linecolor": "white",
             "minorgridcolor": "white",
             "startlinecolor": "#2a3f5f"
            },
            "baxis": {
             "endlinecolor": "#2a3f5f",
             "gridcolor": "white",
             "linecolor": "white",
             "minorgridcolor": "white",
             "startlinecolor": "#2a3f5f"
            },
            "type": "carpet"
           }
          ],
          "choropleth": [
           {
            "colorbar": {
             "outlinewidth": 0,
             "ticks": ""
            },
            "type": "choropleth"
           }
          ],
          "contour": [
           {
            "colorbar": {
             "outlinewidth": 0,
             "ticks": ""
            },
            "colorscale": [
             [
              0,
              "#0d0887"
             ],
             [
              0.1111111111111111,
              "#46039f"
             ],
             [
              0.2222222222222222,
              "#7201a8"
             ],
             [
              0.3333333333333333,
              "#9c179e"
             ],
             [
              0.4444444444444444,
              "#bd3786"
             ],
             [
              0.5555555555555556,
              "#d8576b"
             ],
             [
              0.6666666666666666,
              "#ed7953"
             ],
             [
              0.7777777777777778,
              "#fb9f3a"
             ],
             [
              0.8888888888888888,
              "#fdca26"
             ],
             [
              1,
              "#f0f921"
             ]
            ],
            "type": "contour"
           }
          ],
          "contourcarpet": [
           {
            "colorbar": {
             "outlinewidth": 0,
             "ticks": ""
            },
            "type": "contourcarpet"
           }
          ],
          "heatmap": [
           {
            "colorbar": {
             "outlinewidth": 0,
             "ticks": ""
            },
            "colorscale": [
             [
              0,
              "#0d0887"
             ],
             [
              0.1111111111111111,
              "#46039f"
             ],
             [
              0.2222222222222222,
              "#7201a8"
             ],
             [
              0.3333333333333333,
              "#9c179e"
             ],
             [
              0.4444444444444444,
              "#bd3786"
             ],
             [
              0.5555555555555556,
              "#d8576b"
             ],
             [
              0.6666666666666666,
              "#ed7953"
             ],
             [
              0.7777777777777778,
              "#fb9f3a"
             ],
             [
              0.8888888888888888,
              "#fdca26"
             ],
             [
              1,
              "#f0f921"
             ]
            ],
            "type": "heatmap"
           }
          ],
          "heatmapgl": [
           {
            "colorbar": {
             "outlinewidth": 0,
             "ticks": ""
            },
            "colorscale": [
             [
              0,
              "#0d0887"
             ],
             [
              0.1111111111111111,
              "#46039f"
             ],
             [
              0.2222222222222222,
              "#7201a8"
             ],
             [
              0.3333333333333333,
              "#9c179e"
             ],
             [
              0.4444444444444444,
              "#bd3786"
             ],
             [
              0.5555555555555556,
              "#d8576b"
             ],
             [
              0.6666666666666666,
              "#ed7953"
             ],
             [
              0.7777777777777778,
              "#fb9f3a"
             ],
             [
              0.8888888888888888,
              "#fdca26"
             ],
             [
              1,
              "#f0f921"
             ]
            ],
            "type": "heatmapgl"
           }
          ],
          "histogram": [
           {
            "marker": {
             "colorbar": {
              "outlinewidth": 0,
              "ticks": ""
             }
            },
            "type": "histogram"
           }
          ],
          "histogram2d": [
           {
            "colorbar": {
             "outlinewidth": 0,
             "ticks": ""
            },
            "colorscale": [
             [
              0,
              "#0d0887"
             ],
             [
              0.1111111111111111,
              "#46039f"
             ],
             [
              0.2222222222222222,
              "#7201a8"
             ],
             [
              0.3333333333333333,
              "#9c179e"
             ],
             [
              0.4444444444444444,
              "#bd3786"
             ],
             [
              0.5555555555555556,
              "#d8576b"
             ],
             [
              0.6666666666666666,
              "#ed7953"
             ],
             [
              0.7777777777777778,
              "#fb9f3a"
             ],
             [
              0.8888888888888888,
              "#fdca26"
             ],
             [
              1,
              "#f0f921"
             ]
            ],
            "type": "histogram2d"
           }
          ],
          "histogram2dcontour": [
           {
            "colorbar": {
             "outlinewidth": 0,
             "ticks": ""
            },
            "colorscale": [
             [
              0,
              "#0d0887"
             ],
             [
              0.1111111111111111,
              "#46039f"
             ],
             [
              0.2222222222222222,
              "#7201a8"
             ],
             [
              0.3333333333333333,
              "#9c179e"
             ],
             [
              0.4444444444444444,
              "#bd3786"
             ],
             [
              0.5555555555555556,
              "#d8576b"
             ],
             [
              0.6666666666666666,
              "#ed7953"
             ],
             [
              0.7777777777777778,
              "#fb9f3a"
             ],
             [
              0.8888888888888888,
              "#fdca26"
             ],
             [
              1,
              "#f0f921"
             ]
            ],
            "type": "histogram2dcontour"
           }
          ],
          "mesh3d": [
           {
            "colorbar": {
             "outlinewidth": 0,
             "ticks": ""
            },
            "type": "mesh3d"
           }
          ],
          "parcoords": [
           {
            "line": {
             "colorbar": {
              "outlinewidth": 0,
              "ticks": ""
             }
            },
            "type": "parcoords"
           }
          ],
          "pie": [
           {
            "automargin": true,
            "type": "pie"
           }
          ],
          "scatter": [
           {
            "marker": {
             "colorbar": {
              "outlinewidth": 0,
              "ticks": ""
             }
            },
            "type": "scatter"
           }
          ],
          "scatter3d": [
           {
            "line": {
             "colorbar": {
              "outlinewidth": 0,
              "ticks": ""
             }
            },
            "marker": {
             "colorbar": {
              "outlinewidth": 0,
              "ticks": ""
             }
            },
            "type": "scatter3d"
           }
          ],
          "scattercarpet": [
           {
            "marker": {
             "colorbar": {
              "outlinewidth": 0,
              "ticks": ""
             }
            },
            "type": "scattercarpet"
           }
          ],
          "scattergeo": [
           {
            "marker": {
             "colorbar": {
              "outlinewidth": 0,
              "ticks": ""
             }
            },
            "type": "scattergeo"
           }
          ],
          "scattergl": [
           {
            "marker": {
             "colorbar": {
              "outlinewidth": 0,
              "ticks": ""
             }
            },
            "type": "scattergl"
           }
          ],
          "scattermapbox": [
           {
            "marker": {
             "colorbar": {
              "outlinewidth": 0,
              "ticks": ""
             }
            },
            "type": "scattermapbox"
           }
          ],
          "scatterpolar": [
           {
            "marker": {
             "colorbar": {
              "outlinewidth": 0,
              "ticks": ""
             }
            },
            "type": "scatterpolar"
           }
          ],
          "scatterpolargl": [
           {
            "marker": {
             "colorbar": {
              "outlinewidth": 0,
              "ticks": ""
             }
            },
            "type": "scatterpolargl"
           }
          ],
          "scatterternary": [
           {
            "marker": {
             "colorbar": {
              "outlinewidth": 0,
              "ticks": ""
             }
            },
            "type": "scatterternary"
           }
          ],
          "surface": [
           {
            "colorbar": {
             "outlinewidth": 0,
             "ticks": ""
            },
            "colorscale": [
             [
              0,
              "#0d0887"
             ],
             [
              0.1111111111111111,
              "#46039f"
             ],
             [
              0.2222222222222222,
              "#7201a8"
             ],
             [
              0.3333333333333333,
              "#9c179e"
             ],
             [
              0.4444444444444444,
              "#bd3786"
             ],
             [
              0.5555555555555556,
              "#d8576b"
             ],
             [
              0.6666666666666666,
              "#ed7953"
             ],
             [
              0.7777777777777778,
              "#fb9f3a"
             ],
             [
              0.8888888888888888,
              "#fdca26"
             ],
             [
              1,
              "#f0f921"
             ]
            ],
            "type": "surface"
           }
          ],
          "table": [
           {
            "cells": {
             "fill": {
              "color": "#EBF0F8"
             },
             "line": {
              "color": "white"
             }
            },
            "header": {
             "fill": {
              "color": "#C8D4E3"
             },
             "line": {
              "color": "white"
             }
            },
            "type": "table"
           }
          ]
         },
         "layout": {
          "annotationdefaults": {
           "arrowcolor": "#2a3f5f",
           "arrowhead": 0,
           "arrowwidth": 1
          },
          "coloraxis": {
           "colorbar": {
            "outlinewidth": 0,
            "ticks": ""
           }
          },
          "colorscale": {
           "diverging": [
            [
             0,
             "#8e0152"
            ],
            [
             0.1,
             "#c51b7d"
            ],
            [
             0.2,
             "#de77ae"
            ],
            [
             0.3,
             "#f1b6da"
            ],
            [
             0.4,
             "#fde0ef"
            ],
            [
             0.5,
             "#f7f7f7"
            ],
            [
             0.6,
             "#e6f5d0"
            ],
            [
             0.7,
             "#b8e186"
            ],
            [
             0.8,
             "#7fbc41"
            ],
            [
             0.9,
             "#4d9221"
            ],
            [
             1,
             "#276419"
            ]
           ],
           "sequential": [
            [
             0,
             "#0d0887"
            ],
            [
             0.1111111111111111,
             "#46039f"
            ],
            [
             0.2222222222222222,
             "#7201a8"
            ],
            [
             0.3333333333333333,
             "#9c179e"
            ],
            [
             0.4444444444444444,
             "#bd3786"
            ],
            [
             0.5555555555555556,
             "#d8576b"
            ],
            [
             0.6666666666666666,
             "#ed7953"
            ],
            [
             0.7777777777777778,
             "#fb9f3a"
            ],
            [
             0.8888888888888888,
             "#fdca26"
            ],
            [
             1,
             "#f0f921"
            ]
           ],
           "sequentialminus": [
            [
             0,
             "#0d0887"
            ],
            [
             0.1111111111111111,
             "#46039f"
            ],
            [
             0.2222222222222222,
             "#7201a8"
            ],
            [
             0.3333333333333333,
             "#9c179e"
            ],
            [
             0.4444444444444444,
             "#bd3786"
            ],
            [
             0.5555555555555556,
             "#d8576b"
            ],
            [
             0.6666666666666666,
             "#ed7953"
            ],
            [
             0.7777777777777778,
             "#fb9f3a"
            ],
            [
             0.8888888888888888,
             "#fdca26"
            ],
            [
             1,
             "#f0f921"
            ]
           ]
          },
          "colorway": [
           "#636efa",
           "#EF553B",
           "#00cc96",
           "#ab63fa",
           "#FFA15A",
           "#19d3f3",
           "#FF6692",
           "#B6E880",
           "#FF97FF",
           "#FECB52"
          ],
          "font": {
           "color": "#2a3f5f"
          },
          "geo": {
           "bgcolor": "white",
           "lakecolor": "white",
           "landcolor": "#E5ECF6",
           "showlakes": true,
           "showland": true,
           "subunitcolor": "white"
          },
          "hoverlabel": {
           "align": "left"
          },
          "hovermode": "closest",
          "mapbox": {
           "style": "light"
          },
          "paper_bgcolor": "white",
          "plot_bgcolor": "#E5ECF6",
          "polar": {
           "angularaxis": {
            "gridcolor": "white",
            "linecolor": "white",
            "ticks": ""
           },
           "bgcolor": "#E5ECF6",
           "radialaxis": {
            "gridcolor": "white",
            "linecolor": "white",
            "ticks": ""
           }
          },
          "scene": {
           "xaxis": {
            "backgroundcolor": "#E5ECF6",
            "gridcolor": "white",
            "gridwidth": 2,
            "linecolor": "white",
            "showbackground": true,
            "ticks": "",
            "zerolinecolor": "white"
           },
           "yaxis": {
            "backgroundcolor": "#E5ECF6",
            "gridcolor": "white",
            "gridwidth": 2,
            "linecolor": "white",
            "showbackground": true,
            "ticks": "",
            "zerolinecolor": "white"
           },
           "zaxis": {
            "backgroundcolor": "#E5ECF6",
            "gridcolor": "white",
            "gridwidth": 2,
            "linecolor": "white",
            "showbackground": true,
            "ticks": "",
            "zerolinecolor": "white"
           }
          },
          "shapedefaults": {
           "line": {
            "color": "#2a3f5f"
           }
          },
          "ternary": {
           "aaxis": {
            "gridcolor": "white",
            "linecolor": "white",
            "ticks": ""
           },
           "baxis": {
            "gridcolor": "white",
            "linecolor": "white",
            "ticks": ""
           },
           "bgcolor": "#E5ECF6",
           "caxis": {
            "gridcolor": "white",
            "linecolor": "white",
            "ticks": ""
           }
          },
          "title": {
           "x": 0.05
          },
          "xaxis": {
           "automargin": true,
           "gridcolor": "white",
           "linecolor": "white",
           "ticks": "",
           "title": {
            "standoff": 15
           },
           "zerolinecolor": "white",
           "zerolinewidth": 2
          },
          "yaxis": {
           "automargin": true,
           "gridcolor": "white",
           "linecolor": "white",
           "ticks": "",
           "title": {
            "standoff": 15
           },
           "zerolinecolor": "white",
           "zerolinewidth": 2
          }
         }
        },
        "title": {
         "text": "VII.1A vs VII.1B",
         "x": 0.5
        },
        "xaxis": {
         "title": {
          "text": "VII.1A"
         }
        },
        "yaxis": {
         "title": {
          "text": "VII.1B"
         }
        }
       }
      },
      "text/html": [
       "<div>\n",
       "        \n",
       "        \n",
       "            <div id=\"072c7a93-9940-4a52-9bf1-958edae372cb\" class=\"plotly-graph-div\" style=\"height:525px; width:100%;\"></div>\n",
       "            <script type=\"text/javascript\">\n",
       "                require([\"plotly\"], function(Plotly) {\n",
       "                    window.PLOTLYENV=window.PLOTLYENV || {};\n",
       "                    \n",
       "                if (document.getElementById(\"072c7a93-9940-4a52-9bf1-958edae372cb\")) {\n",
       "                    Plotly.newPlot(\n",
       "                        '072c7a93-9940-4a52-9bf1-958edae372cb',\n",
       "                        [{\"marker\": {\"color\": [0.021860425117456277, 0.04372085023491255, 0.07572270968520937, 0.052059362908581444, 0.14400836752633567, 0.025916998850592492, 0.03921354608698342, 0.04124183295355153, 0.021860425117456277, 0.04281938940532673, 0.017578486176923605, 0.03763598963520823, 0.1336415679860987, 0.06039787558225033, 0.0471013283458594, 0.060172510374853876, 0.07166613595207315, 0.036734528805622405, 0.0507071716642027, 0.015099468895562582, 0.016226294932544866, 0.030198937791125164, 0.04574913710148066, 0.036509163598225945, 0.051833997701184985, 0.051833997701184985, 0.06039787558225033, 0.02298725115443856, 0.02929747696153934, 0.04845351959023814, 0.029522842168935796, 0.03448087673165784, 0.10118897812100895, 0.28012895279379535, 0.06535591014497237, 0.03921354608698342, 0.10051288249881958, 0.06152470161923261, 0.19471553919053838, 0.08834316129941093, 0.01532483410295904, 0.15460053227396914, 0.028846746546746425, 0.10051288249881958, 0.1784892442579935, 0.03628379839082949, 0.055439841019528285, 0.08969535254378967, 0.1313879159121341, 0.13274010715651285, 0.17510876614704668, 0.08023001383313849, 0.0698632142929015, 0.03132576382810745, 0.05296082373816727, 0.03380478110946847, 0.03515697235384721, 0.05453838018994246, 0.31821567284379654, 0.020057503458284623, 0.07301832719645189, 0.09961142166923376, 0.11944355992012193, 0.05386228456775309, 0.0818075702849137, 0.014874103688166126, 0.052059362908581444, 0.05363691936035664, 0.03695989401301886, 0.08068074424793141, 0.05273545853077081, 0.07459588364822708, 0.0626515276562149, 0.03403014631686493, 0.14265617628195693, 0.032903320279882645, 0.015550199310355495, 0.06648273618195466, 0.06129933641183616, 0.019832138250888167, 0.1552766278961585, 0.020733599080473994, 0.0942026566917188, 0.04597450230887712, 0.12868353342337663, 0.1376981417192349, 0.04124183295355153, 0.025015538021006666, 0.029973572583728708, 0.06152470161923261, 0.03853745046479405, 0.1728551140730821, 0.085413413603257, 0.19539163481272775, 0.08924462212899675, 0.059496414752664505, 0.026367729265385404, 0.051833997701184985, 0.09352656106952943, 0.02163505991005982, 0.05836958871568222, 0.06287689286361135, 0.19989893896065689, 0.04281938940532673, 0.13183864632692702, 0.0642290841079901, 0.03921354608698342, 0.04619986751627357, 0.13521912443787387, 0.12733134217899789, 0.04236865899053381, 0.05025644124940979, 0.012845816821598018, 0.026142364057988948, 0.17127755762130692, 0.0631022580710078, 0.024564807606213754, 0.021409694702663365, 0.03132576382810745, 0.0890192569216003, 0.023663346776627927, 0.011718990784615736, 0.14220544586716402, 0.07459588364822708, 0.026593094472781863, 0.09194900461775424, 0.11583771660177862, 0.032677955072486185, 0.01960677304349171]}, \"mode\": \"markers\", \"type\": \"scatter\", \"x\": [62.0, 115.0, 207.0, 143.0, 381.0, 69.0, 107.0, 114.0, 61.0, 126.0, 47.0, 84.0, 335.0, 148.0, 127.0, 174.0, 189.0, 100.0, 143.0, 36.0, 45.0, 84.0, 98.0, 91.0, 117.0, 140.0, 154.0, 52.0, 76.0, 129.0, 81.0, 93.0, 268.0, 673.0, 161.0, 100.0, 238.0, 172.0, 487.0, 207.0, 35.0, 337.0, 78.0, 154.0, 288.0, 59.0, 138.0, 125.0, 188.0, 310.0, 438.0, 203.0, 185.0, 57.0, 142.0, 86.0, 89.0, 143.0, 567.0, 20.0, 169.0, 231.0, 301.0, 130.0, 190.0, 44.0, 138.0, 149.0, 91.0, 215.0, 134.0, 135.0, 161.0, 92.0, 419.0, 45.0, 41.0, 168.0, 154.0, 56.0, 246.0, 58.0, 224.0, 48.0, 342.0, 206.0, 107.0, 64.0, 79.0, 173.0, 90.0, 308.0, 207.0, 300.0, 208.0, 152.0, 68.0, 80.0, 245.0, 53.0, 84.0, 159.0, 534.0, 79.0, 320.0, 182.0, 50.0, 122.0, 355.0, 306.0, 107.0, 127.0, 33.0, 70.0, 257.0, 91.0, 68.0, 51.0, 84.0, 219.0, 59.0, 26.0, 189.0, 185.0, 65.0, 235.0, 277.0, 81.0, 48.0], \"y\": [35.0, 79.0, 129.0, 88.0, 258.0, 46.0, 67.0, 69.0, 36.0, 64.0, 31.0, 83.0, 258.0, 120.0, 82.0, 93.0, 129.0, 63.0, 82.0, 31.0, 27.0, 50.0, 105.0, 71.0, 113.0, 90.0, 114.0, 50.0, 54.0, 86.0, 50.0, 60.0, 181.0, 570.0, 129.0, 74.0, 208.0, 101.0, 377.0, 185.0, 33.0, 349.0, 50.0, 292.0, 504.0, 102.0, 108.0, 273.0, 395.0, 279.0, 339.0, 153.0, 125.0, 82.0, 93.0, 64.0, 67.0, 99.0, 845.0, 69.0, 155.0, 211.0, 229.0, 109.0, 173.0, 22.0, 93.0, 89.0, 73.0, 143.0, 100.0, 196.0, 117.0, 59.0, 214.0, 101.0, 28.0, 127.0, 118.0, 32.0, 443.0, 34.0, 194.0, 156.0, 229.0, 405.0, 76.0, 47.0, 54.0, 100.0, 81.0, 459.0, 172.0, 567.0, 188.0, 112.0, 49.0, 150.0, 170.0, 43.0, 175.0, 120.0, 353.0, 111.0, 265.0, 103.0, 124.0, 83.0, 245.0, 259.0, 81.0, 96.0, 24.0, 46.0, 503.0, 189.0, 41.0, 44.0, 55.0, 176.0, 46.0, 26.0, 442.0, 146.0, 53.0, 173.0, 237.0, 64.0, 39.0]}],\n",
       "                        {\"annotations\": [{\"align\": \"center\", \"bgcolor\": \"#3a6b94\", \"bordercolor\": \"#13181a\", \"borderpad\": 4, \"borderwidth\": 2, \"font\": {\"color\": \"#ffffff\", \"family\": \"Courier New, monospace\", \"size\": 16}, \"opacity\": 0.8, \"text\": \"p=0.00\", \"x\": 673.0, \"xref\": \"x\", \"y\": 845.0, \"yref\": \"y\"}], \"template\": {\"data\": {\"bar\": [{\"error_x\": {\"color\": \"#2a3f5f\"}, \"error_y\": {\"color\": \"#2a3f5f\"}, \"marker\": {\"line\": {\"color\": \"#E5ECF6\", \"width\": 0.5}}, \"type\": \"bar\"}], \"barpolar\": [{\"marker\": {\"line\": {\"color\": \"#E5ECF6\", \"width\": 0.5}}, \"type\": \"barpolar\"}], \"carpet\": [{\"aaxis\": {\"endlinecolor\": \"#2a3f5f\", \"gridcolor\": \"white\", \"linecolor\": \"white\", \"minorgridcolor\": \"white\", \"startlinecolor\": \"#2a3f5f\"}, \"baxis\": {\"endlinecolor\": \"#2a3f5f\", \"gridcolor\": \"white\", \"linecolor\": \"white\", \"minorgridcolor\": \"white\", \"startlinecolor\": \"#2a3f5f\"}, \"type\": \"carpet\"}], \"choropleth\": [{\"colorbar\": {\"outlinewidth\": 0, \"ticks\": \"\"}, \"type\": \"choropleth\"}], \"contour\": [{\"colorbar\": {\"outlinewidth\": 0, \"ticks\": \"\"}, \"colorscale\": [[0.0, \"#0d0887\"], [0.1111111111111111, \"#46039f\"], [0.2222222222222222, \"#7201a8\"], [0.3333333333333333, \"#9c179e\"], [0.4444444444444444, \"#bd3786\"], [0.5555555555555556, \"#d8576b\"], [0.6666666666666666, \"#ed7953\"], [0.7777777777777778, \"#fb9f3a\"], [0.8888888888888888, \"#fdca26\"], [1.0, \"#f0f921\"]], \"type\": \"contour\"}], \"contourcarpet\": [{\"colorbar\": {\"outlinewidth\": 0, \"ticks\": \"\"}, \"type\": \"contourcarpet\"}], \"heatmap\": [{\"colorbar\": {\"outlinewidth\": 0, \"ticks\": \"\"}, \"colorscale\": [[0.0, \"#0d0887\"], [0.1111111111111111, \"#46039f\"], [0.2222222222222222, \"#7201a8\"], [0.3333333333333333, \"#9c179e\"], [0.4444444444444444, \"#bd3786\"], [0.5555555555555556, \"#d8576b\"], [0.6666666666666666, \"#ed7953\"], [0.7777777777777778, \"#fb9f3a\"], [0.8888888888888888, \"#fdca26\"], [1.0, \"#f0f921\"]], \"type\": \"heatmap\"}], \"heatmapgl\": [{\"colorbar\": {\"outlinewidth\": 0, \"ticks\": \"\"}, \"colorscale\": [[0.0, \"#0d0887\"], [0.1111111111111111, \"#46039f\"], [0.2222222222222222, \"#7201a8\"], [0.3333333333333333, \"#9c179e\"], [0.4444444444444444, \"#bd3786\"], [0.5555555555555556, \"#d8576b\"], [0.6666666666666666, \"#ed7953\"], [0.7777777777777778, \"#fb9f3a\"], [0.8888888888888888, \"#fdca26\"], [1.0, \"#f0f921\"]], \"type\": \"heatmapgl\"}], \"histogram\": [{\"marker\": {\"colorbar\": {\"outlinewidth\": 0, \"ticks\": \"\"}}, \"type\": \"histogram\"}], \"histogram2d\": [{\"colorbar\": {\"outlinewidth\": 0, \"ticks\": \"\"}, \"colorscale\": [[0.0, \"#0d0887\"], [0.1111111111111111, \"#46039f\"], [0.2222222222222222, \"#7201a8\"], [0.3333333333333333, \"#9c179e\"], [0.4444444444444444, \"#bd3786\"], [0.5555555555555556, \"#d8576b\"], [0.6666666666666666, \"#ed7953\"], [0.7777777777777778, \"#fb9f3a\"], [0.8888888888888888, \"#fdca26\"], [1.0, \"#f0f921\"]], \"type\": \"histogram2d\"}], \"histogram2dcontour\": [{\"colorbar\": {\"outlinewidth\": 0, \"ticks\": \"\"}, \"colorscale\": [[0.0, \"#0d0887\"], [0.1111111111111111, \"#46039f\"], [0.2222222222222222, \"#7201a8\"], [0.3333333333333333, \"#9c179e\"], [0.4444444444444444, \"#bd3786\"], [0.5555555555555556, \"#d8576b\"], [0.6666666666666666, \"#ed7953\"], [0.7777777777777778, \"#fb9f3a\"], [0.8888888888888888, \"#fdca26\"], [1.0, \"#f0f921\"]], \"type\": \"histogram2dcontour\"}], \"mesh3d\": [{\"colorbar\": {\"outlinewidth\": 0, \"ticks\": \"\"}, \"type\": \"mesh3d\"}], \"parcoords\": [{\"line\": {\"colorbar\": {\"outlinewidth\": 0, \"ticks\": \"\"}}, \"type\": \"parcoords\"}], \"pie\": [{\"automargin\": true, \"type\": \"pie\"}], \"scatter\": [{\"marker\": {\"colorbar\": {\"outlinewidth\": 0, \"ticks\": \"\"}}, \"type\": \"scatter\"}], \"scatter3d\": [{\"line\": {\"colorbar\": {\"outlinewidth\": 0, \"ticks\": \"\"}}, \"marker\": {\"colorbar\": {\"outlinewidth\": 0, \"ticks\": \"\"}}, \"type\": \"scatter3d\"}], \"scattercarpet\": [{\"marker\": {\"colorbar\": {\"outlinewidth\": 0, \"ticks\": \"\"}}, \"type\": \"scattercarpet\"}], \"scattergeo\": [{\"marker\": {\"colorbar\": {\"outlinewidth\": 0, \"ticks\": \"\"}}, \"type\": \"scattergeo\"}], \"scattergl\": [{\"marker\": {\"colorbar\": {\"outlinewidth\": 0, \"ticks\": \"\"}}, \"type\": \"scattergl\"}], \"scattermapbox\": [{\"marker\": {\"colorbar\": {\"outlinewidth\": 0, \"ticks\": \"\"}}, \"type\": \"scattermapbox\"}], \"scatterpolar\": [{\"marker\": {\"colorbar\": {\"outlinewidth\": 0, \"ticks\": \"\"}}, \"type\": \"scatterpolar\"}], \"scatterpolargl\": [{\"marker\": {\"colorbar\": {\"outlinewidth\": 0, \"ticks\": \"\"}}, \"type\": \"scatterpolargl\"}], \"scatterternary\": [{\"marker\": {\"colorbar\": {\"outlinewidth\": 0, \"ticks\": \"\"}}, \"type\": \"scatterternary\"}], \"surface\": [{\"colorbar\": {\"outlinewidth\": 0, \"ticks\": \"\"}, \"colorscale\": [[0.0, \"#0d0887\"], [0.1111111111111111, \"#46039f\"], [0.2222222222222222, \"#7201a8\"], [0.3333333333333333, \"#9c179e\"], [0.4444444444444444, \"#bd3786\"], [0.5555555555555556, \"#d8576b\"], [0.6666666666666666, \"#ed7953\"], [0.7777777777777778, \"#fb9f3a\"], [0.8888888888888888, \"#fdca26\"], [1.0, \"#f0f921\"]], \"type\": \"surface\"}], \"table\": [{\"cells\": {\"fill\": {\"color\": \"#EBF0F8\"}, \"line\": {\"color\": \"white\"}}, \"header\": {\"fill\": {\"color\": \"#C8D4E3\"}, \"line\": {\"color\": \"white\"}}, \"type\": \"table\"}]}, \"layout\": {\"annotationdefaults\": {\"arrowcolor\": \"#2a3f5f\", \"arrowhead\": 0, \"arrowwidth\": 1}, \"coloraxis\": {\"colorbar\": {\"outlinewidth\": 0, \"ticks\": \"\"}}, \"colorscale\": {\"diverging\": [[0, \"#8e0152\"], [0.1, \"#c51b7d\"], [0.2, \"#de77ae\"], [0.3, \"#f1b6da\"], [0.4, \"#fde0ef\"], [0.5, \"#f7f7f7\"], [0.6, \"#e6f5d0\"], [0.7, \"#b8e186\"], [0.8, \"#7fbc41\"], [0.9, \"#4d9221\"], [1, \"#276419\"]], \"sequential\": [[0.0, \"#0d0887\"], [0.1111111111111111, \"#46039f\"], [0.2222222222222222, \"#7201a8\"], [0.3333333333333333, \"#9c179e\"], [0.4444444444444444, \"#bd3786\"], [0.5555555555555556, \"#d8576b\"], [0.6666666666666666, \"#ed7953\"], [0.7777777777777778, \"#fb9f3a\"], [0.8888888888888888, \"#fdca26\"], [1.0, \"#f0f921\"]], \"sequentialminus\": [[0.0, \"#0d0887\"], [0.1111111111111111, \"#46039f\"], [0.2222222222222222, \"#7201a8\"], [0.3333333333333333, \"#9c179e\"], [0.4444444444444444, \"#bd3786\"], [0.5555555555555556, \"#d8576b\"], [0.6666666666666666, \"#ed7953\"], [0.7777777777777778, \"#fb9f3a\"], [0.8888888888888888, \"#fdca26\"], [1.0, \"#f0f921\"]]}, \"colorway\": [\"#636efa\", \"#EF553B\", \"#00cc96\", \"#ab63fa\", \"#FFA15A\", \"#19d3f3\", \"#FF6692\", \"#B6E880\", \"#FF97FF\", \"#FECB52\"], \"font\": {\"color\": \"#2a3f5f\"}, \"geo\": {\"bgcolor\": \"white\", \"lakecolor\": \"white\", \"landcolor\": \"#E5ECF6\", \"showlakes\": true, \"showland\": true, \"subunitcolor\": \"white\"}, \"hoverlabel\": {\"align\": \"left\"}, \"hovermode\": \"closest\", \"mapbox\": {\"style\": \"light\"}, \"paper_bgcolor\": \"white\", \"plot_bgcolor\": \"#E5ECF6\", \"polar\": {\"angularaxis\": {\"gridcolor\": \"white\", \"linecolor\": \"white\", \"ticks\": \"\"}, \"bgcolor\": \"#E5ECF6\", \"radialaxis\": {\"gridcolor\": \"white\", \"linecolor\": \"white\", \"ticks\": \"\"}}, \"scene\": {\"xaxis\": {\"backgroundcolor\": \"#E5ECF6\", \"gridcolor\": \"white\", \"gridwidth\": 2, \"linecolor\": \"white\", \"showbackground\": true, \"ticks\": \"\", \"zerolinecolor\": \"white\"}, \"yaxis\": {\"backgroundcolor\": \"#E5ECF6\", \"gridcolor\": \"white\", \"gridwidth\": 2, \"linecolor\": \"white\", \"showbackground\": true, \"ticks\": \"\", \"zerolinecolor\": \"white\"}, \"zaxis\": {\"backgroundcolor\": \"#E5ECF6\", \"gridcolor\": \"white\", \"gridwidth\": 2, \"linecolor\": \"white\", \"showbackground\": true, \"ticks\": \"\", \"zerolinecolor\": \"white\"}}, \"shapedefaults\": {\"line\": {\"color\": \"#2a3f5f\"}}, \"ternary\": {\"aaxis\": {\"gridcolor\": \"white\", \"linecolor\": \"white\", \"ticks\": \"\"}, \"baxis\": {\"gridcolor\": \"white\", \"linecolor\": \"white\", \"ticks\": \"\"}, \"bgcolor\": \"#E5ECF6\", \"caxis\": {\"gridcolor\": \"white\", \"linecolor\": \"white\", \"ticks\": \"\"}}, \"title\": {\"x\": 0.05}, \"xaxis\": {\"automargin\": true, \"gridcolor\": \"white\", \"linecolor\": \"white\", \"ticks\": \"\", \"title\": {\"standoff\": 15}, \"zerolinecolor\": \"white\", \"zerolinewidth\": 2}, \"yaxis\": {\"automargin\": true, \"gridcolor\": \"white\", \"linecolor\": \"white\", \"ticks\": \"\", \"title\": {\"standoff\": 15}, \"zerolinecolor\": \"white\", \"zerolinewidth\": 2}}}, \"title\": {\"text\": \"VII.1A vs VII.1B\", \"x\": 0.5}, \"xaxis\": {\"title\": {\"text\": \"VII.1A\"}}, \"yaxis\": {\"title\": {\"text\": \"VII.1B\"}}},\n",
       "                        {\"responsive\": true}\n",
       "                    ).then(function(){\n",
       "                            \n",
       "var gd = document.getElementById('072c7a93-9940-4a52-9bf1-958edae372cb');\n",
       "var x = new MutationObserver(function (mutations, observer) {{\n",
       "        var display = window.getComputedStyle(gd).display;\n",
       "        if (!display || display === 'none') {{\n",
       "            console.log([gd, 'removed!']);\n",
       "            Plotly.purge(gd);\n",
       "            observer.disconnect();\n",
       "        }}\n",
       "}});\n",
       "\n",
       "// Listen for the removal of the full notebook cells\n",
       "var notebookContainer = gd.closest('#notebook-container');\n",
       "if (notebookContainer) {{\n",
       "    x.observe(notebookContainer, {childList: true});\n",
       "}}\n",
       "\n",
       "// Listen for the clearing of the current output cell\n",
       "var outputEl = gd.closest('.output');\n",
       "if (outputEl) {{\n",
       "    x.observe(outputEl, {childList: true});\n",
       "}}\n",
       "\n",
       "                        })\n",
       "                };\n",
       "                });\n",
       "            </script>\n",
       "        </div>"
      ]
     },
     "metadata": {},
     "output_type": "display_data"
    }
   ],
   "source": [
    "scatter_correlation_plot(df_sars, \"VII.1A\", \"VII.1B\")"
   ]
  },
  {
   "cell_type": "code",
   "execution_count": null,
   "metadata": {},
   "outputs": [],
   "source": []
  }
 ],
 "metadata": {
  "kernelspec": {
   "display_name": "Python 3",
   "language": "python",
   "name": "python3"
  },
  "language_info": {
   "codemirror_mode": {
    "name": "ipython",
    "version": 3
   },
   "file_extension": ".py",
   "mimetype": "text/x-python",
   "name": "python",
   "nbconvert_exporter": "python",
   "pygments_lexer": "ipython3",
   "version": "3.7.7"
  },
  "pycharm": {
   "stem_cell": {
    "cell_type": "raw",
    "metadata": {
     "collapsed": false
    },
    "source": []
   }
  }
 },
 "nbformat": 4,
 "nbformat_minor": 4
}
